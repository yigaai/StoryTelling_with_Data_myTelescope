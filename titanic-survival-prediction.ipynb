{
 "cells": [
  {
   "cell_type": "markdown",
   "id": "df4fb366",
   "metadata": {
    "papermill": {
     "duration": 0.022485,
     "end_time": "2025-05-25T14:50:49.880824",
     "exception": false,
     "start_time": "2025-05-25T14:50:49.858339",
     "status": "completed"
    },
    "tags": []
   },
   "source": [
    "   # 🛳️ **Titanic Survival Prediction**  \n",
    "\n",
    "   ### 👩🏻‍🔧 **By Rosy**\n",
    "\n",
    "\n"
   ]
  },
  {
   "cell_type": "markdown",
   "id": "66e3478b",
   "metadata": {
    "papermill": {
     "duration": 0.012633,
     "end_time": "2025-05-25T14:50:49.907515",
     "exception": false,
     "start_time": "2025-05-25T14:50:49.894882",
     "status": "completed"
    },
    "tags": []
   },
   "source": [
    "# ***🎯 Goals & Tasks*** \n",
    "\n",
    " ### 1. Provide Insights by Means of Data. 📊\n",
    "    \n",
    " ### 2. Make a Prediction through Machine Learning. 🤖\n",
    "     "
   ]
  },
  {
   "cell_type": "markdown",
   "id": "89fb9298",
   "metadata": {
    "papermill": {
     "duration": 0.012002,
     "end_time": "2025-05-25T14:50:49.932475",
     "exception": false,
     "start_time": "2025-05-25T14:50:49.920473",
     "status": "completed"
    },
    "tags": []
   },
   "source": [
    "# ***🗂️ Import Libraries*** "
   ]
  },
  {
   "cell_type": "code",
   "execution_count": 1,
   "id": "e8b0fa0a",
   "metadata": {
    "execution": {
     "iopub.execute_input": "2025-05-25T14:50:49.969940Z",
     "iopub.status.busy": "2025-05-25T14:50:49.969298Z",
     "iopub.status.idle": "2025-05-25T14:50:55.305647Z",
     "shell.execute_reply": "2025-05-25T14:50:55.304485Z"
    },
    "papermill": {
     "duration": 5.362189,
     "end_time": "2025-05-25T14:50:55.308013",
     "exception": false,
     "start_time": "2025-05-25T14:50:49.945824",
     "status": "completed"
    },
    "tags": []
   },
   "outputs": [],
   "source": [
    "import os\n",
    "\n",
    "import pandas as pd\n",
    "import numpy as np\n",
    "\n",
    "import scipy.stats as stats \n",
    "\n",
    "import matplotlib.pyplot as plt\n",
    "import seaborn as sns\n",
    "import plotly.express as px\n",
    "sns.set() \n",
    "\n",
    "from scipy.stats import chi2_contingency\n",
    "\n",
    "from sklearn.preprocessing import StandardScaler, LabelEncoder, MinMaxScaler\n",
    "\n",
    "\n",
    "from sklearn.model_selection import train_test_split, GridSearchCV, cross_val_score \n",
    "\n",
    "from sklearn.linear_model import LogisticRegression\n",
    "from sklearn.neighbors import KNeighborsClassifier\n",
    "from sklearn.svm import SVC\n",
    "from sklearn.tree import DecisionTreeClassifier\n",
    "from sklearn.ensemble import RandomForestClassifier, AdaBoostClassifier, GradientBoostingClassifier, RandomForestRegressor\n",
    "from xgboost import XGBClassifier\n",
    "\n",
    "\n",
    "from sklearn.metrics import classification_report\n",
    "from sklearn.metrics import confusion_matrix\n",
    "from sklearn.metrics import accuracy_score, f1_score, precision_score, recall_score\n",
    "\n",
    "\n",
    "import warnings \n",
    "warnings.filterwarnings('ignore') "
   ]
  },
  {
   "cell_type": "markdown",
   "id": "40a6e139",
   "metadata": {
    "papermill": {
     "duration": 0.013343,
     "end_time": "2025-05-25T14:50:55.334569",
     "exception": false,
     "start_time": "2025-05-25T14:50:55.321226",
     "status": "completed"
    },
    "tags": []
   },
   "source": [
    "# ***⏳ Data Loading*** "
   ]
  },
  {
   "cell_type": "code",
   "execution_count": 2,
   "id": "b06f7512",
   "metadata": {
    "execution": {
     "iopub.execute_input": "2025-05-25T14:50:55.360909Z",
     "iopub.status.busy": "2025-05-25T14:50:55.360369Z",
     "iopub.status.idle": "2025-05-25T14:50:55.383386Z",
     "shell.execute_reply": "2025-05-25T14:50:55.382124Z"
    },
    "papermill": {
     "duration": 0.038551,
     "end_time": "2025-05-25T14:50:55.385461",
     "exception": false,
     "start_time": "2025-05-25T14:50:55.346910",
     "status": "completed"
    },
    "tags": []
   },
   "outputs": [],
   "source": [
    "os.listdir('/kaggle/input/titanic-data')  \n",
    "df = pd.read_csv('/kaggle/input/titanic-data/train.csv') "
   ]
  },
  {
   "cell_type": "markdown",
   "id": "7c395bf5",
   "metadata": {
    "papermill": {
     "duration": 0.011676,
     "end_time": "2025-05-25T14:50:55.410126",
     "exception": false,
     "start_time": "2025-05-25T14:50:55.398450",
     "status": "completed"
    },
    "tags": []
   },
   "source": [
    "# ***🔭 Data Exploration (Exploratory Data Analysis)***   "
   ]
  },
  {
   "cell_type": "markdown",
   "id": "8302ea74",
   "metadata": {
    "papermill": {
     "duration": 0.011737,
     "end_time": "2025-05-25T14:50:55.433929",
     "exception": false,
     "start_time": "2025-05-25T14:50:55.422192",
     "status": "completed"
    },
    "tags": []
   },
   "source": [
    "### 1. 🔍 **Take a Glimpse of Data**"
   ]
  },
  {
   "cell_type": "code",
   "execution_count": 3,
   "id": "e31b25d2",
   "metadata": {
    "collapsed": true,
    "execution": {
     "iopub.execute_input": "2025-05-25T14:50:55.459211Z",
     "iopub.status.busy": "2025-05-25T14:50:55.458821Z",
     "iopub.status.idle": "2025-05-25T14:50:55.490341Z",
     "shell.execute_reply": "2025-05-25T14:50:55.489114Z"
    },
    "jupyter": {
     "outputs_hidden": true
    },
    "papermill": {
     "duration": 0.046517,
     "end_time": "2025-05-25T14:50:55.492338",
     "exception": false,
     "start_time": "2025-05-25T14:50:55.445821",
     "status": "completed"
    },
    "tags": []
   },
   "outputs": [
    {
     "data": {
      "text/html": [
       "<div>\n",
       "<style scoped>\n",
       "    .dataframe tbody tr th:only-of-type {\n",
       "        vertical-align: middle;\n",
       "    }\n",
       "\n",
       "    .dataframe tbody tr th {\n",
       "        vertical-align: top;\n",
       "    }\n",
       "\n",
       "    .dataframe thead th {\n",
       "        text-align: right;\n",
       "    }\n",
       "</style>\n",
       "<table border=\"1\" class=\"dataframe\">\n",
       "  <thead>\n",
       "    <tr style=\"text-align: right;\">\n",
       "      <th></th>\n",
       "      <th>PassengerId</th>\n",
       "      <th>Survived</th>\n",
       "      <th>Pclass</th>\n",
       "      <th>Name</th>\n",
       "      <th>Sex</th>\n",
       "      <th>Age</th>\n",
       "      <th>SibSp</th>\n",
       "      <th>Parch</th>\n",
       "      <th>Ticket</th>\n",
       "      <th>Fare</th>\n",
       "      <th>Cabin</th>\n",
       "      <th>Embarked</th>\n",
       "    </tr>\n",
       "  </thead>\n",
       "  <tbody>\n",
       "    <tr>\n",
       "      <th>0</th>\n",
       "      <td>1</td>\n",
       "      <td>0</td>\n",
       "      <td>3</td>\n",
       "      <td>Braund, Mr. Owen Harris</td>\n",
       "      <td>male</td>\n",
       "      <td>22.0</td>\n",
       "      <td>1</td>\n",
       "      <td>0</td>\n",
       "      <td>A/5 21171</td>\n",
       "      <td>7.2500</td>\n",
       "      <td>NaN</td>\n",
       "      <td>S</td>\n",
       "    </tr>\n",
       "    <tr>\n",
       "      <th>1</th>\n",
       "      <td>2</td>\n",
       "      <td>1</td>\n",
       "      <td>1</td>\n",
       "      <td>Cumings, Mrs. John Bradley (Florence Briggs Th...</td>\n",
       "      <td>female</td>\n",
       "      <td>38.0</td>\n",
       "      <td>1</td>\n",
       "      <td>0</td>\n",
       "      <td>PC 17599</td>\n",
       "      <td>71.2833</td>\n",
       "      <td>C85</td>\n",
       "      <td>C</td>\n",
       "    </tr>\n",
       "    <tr>\n",
       "      <th>2</th>\n",
       "      <td>3</td>\n",
       "      <td>1</td>\n",
       "      <td>3</td>\n",
       "      <td>Heikkinen, Miss. Laina</td>\n",
       "      <td>female</td>\n",
       "      <td>26.0</td>\n",
       "      <td>0</td>\n",
       "      <td>0</td>\n",
       "      <td>STON/O2. 3101282</td>\n",
       "      <td>7.9250</td>\n",
       "      <td>NaN</td>\n",
       "      <td>S</td>\n",
       "    </tr>\n",
       "    <tr>\n",
       "      <th>3</th>\n",
       "      <td>4</td>\n",
       "      <td>1</td>\n",
       "      <td>1</td>\n",
       "      <td>Futrelle, Mrs. Jacques Heath (Lily May Peel)</td>\n",
       "      <td>female</td>\n",
       "      <td>35.0</td>\n",
       "      <td>1</td>\n",
       "      <td>0</td>\n",
       "      <td>113803</td>\n",
       "      <td>53.1000</td>\n",
       "      <td>C123</td>\n",
       "      <td>S</td>\n",
       "    </tr>\n",
       "    <tr>\n",
       "      <th>4</th>\n",
       "      <td>5</td>\n",
       "      <td>0</td>\n",
       "      <td>3</td>\n",
       "      <td>Allen, Mr. William Henry</td>\n",
       "      <td>male</td>\n",
       "      <td>35.0</td>\n",
       "      <td>0</td>\n",
       "      <td>0</td>\n",
       "      <td>373450</td>\n",
       "      <td>8.0500</td>\n",
       "      <td>NaN</td>\n",
       "      <td>S</td>\n",
       "    </tr>\n",
       "  </tbody>\n",
       "</table>\n",
       "</div>"
      ],
      "text/plain": [
       "   PassengerId  Survived  Pclass  \\\n",
       "0            1         0       3   \n",
       "1            2         1       1   \n",
       "2            3         1       3   \n",
       "3            4         1       1   \n",
       "4            5         0       3   \n",
       "\n",
       "                                                Name     Sex   Age  SibSp  \\\n",
       "0                            Braund, Mr. Owen Harris    male  22.0      1   \n",
       "1  Cumings, Mrs. John Bradley (Florence Briggs Th...  female  38.0      1   \n",
       "2                             Heikkinen, Miss. Laina  female  26.0      0   \n",
       "3       Futrelle, Mrs. Jacques Heath (Lily May Peel)  female  35.0      1   \n",
       "4                           Allen, Mr. William Henry    male  35.0      0   \n",
       "\n",
       "   Parch            Ticket     Fare Cabin Embarked  \n",
       "0      0         A/5 21171   7.2500   NaN        S  \n",
       "1      0          PC 17599  71.2833   C85        C  \n",
       "2      0  STON/O2. 3101282   7.9250   NaN        S  \n",
       "3      0            113803  53.1000  C123        S  \n",
       "4      0            373450   8.0500   NaN        S  "
      ]
     },
     "execution_count": 3,
     "metadata": {},
     "output_type": "execute_result"
    }
   ],
   "source": [
    "df.head(5) "
   ]
  },
  {
   "cell_type": "markdown",
   "id": "aad2cec3",
   "metadata": {
    "papermill": {
     "duration": 0.013698,
     "end_time": "2025-05-25T14:50:55.520461",
     "exception": false,
     "start_time": "2025-05-25T14:50:55.506763",
     "status": "completed"
    },
    "tags": []
   },
   "source": [
    "### 2. 🔍 **DataType of Each Column**"
   ]
  },
  {
   "cell_type": "code",
   "execution_count": 4,
   "id": "04b247ed",
   "metadata": {
    "collapsed": true,
    "execution": {
     "iopub.execute_input": "2025-05-25T14:50:55.550221Z",
     "iopub.status.busy": "2025-05-25T14:50:55.549808Z",
     "iopub.status.idle": "2025-05-25T14:50:55.580350Z",
     "shell.execute_reply": "2025-05-25T14:50:55.578891Z"
    },
    "jupyter": {
     "outputs_hidden": true
    },
    "papermill": {
     "duration": 0.047605,
     "end_time": "2025-05-25T14:50:55.582259",
     "exception": false,
     "start_time": "2025-05-25T14:50:55.534654",
     "status": "completed"
    },
    "tags": []
   },
   "outputs": [
    {
     "name": "stdout",
     "output_type": "stream",
     "text": [
      "<class 'pandas.core.frame.DataFrame'>\n",
      "RangeIndex: 891 entries, 0 to 890\n",
      "Data columns (total 12 columns):\n",
      " #   Column       Non-Null Count  Dtype  \n",
      "---  ------       --------------  -----  \n",
      " 0   PassengerId  891 non-null    int64  \n",
      " 1   Survived     891 non-null    int64  \n",
      " 2   Pclass       891 non-null    int64  \n",
      " 3   Name         891 non-null    object \n",
      " 4   Sex          891 non-null    object \n",
      " 5   Age          714 non-null    float64\n",
      " 6   SibSp        891 non-null    int64  \n",
      " 7   Parch        891 non-null    int64  \n",
      " 8   Ticket       891 non-null    object \n",
      " 9   Fare         891 non-null    float64\n",
      " 10  Cabin        204 non-null    object \n",
      " 11  Embarked     889 non-null    object \n",
      "dtypes: float64(2), int64(5), object(5)\n",
      "memory usage: 83.7+ KB\n"
     ]
    }
   ],
   "source": [
    "df.info() "
   ]
  },
  {
   "cell_type": "markdown",
   "id": "a186dff3",
   "metadata": {
    "papermill": {
     "duration": 0.012005,
     "end_time": "2025-05-25T14:50:55.606894",
     "exception": false,
     "start_time": "2025-05-25T14:50:55.594889",
     "status": "completed"
    },
    "tags": []
   },
   "source": [
    "### 3. 🔍 **Dimensions of the DataFrame**"
   ]
  },
  {
   "cell_type": "code",
   "execution_count": 5,
   "id": "1c799792",
   "metadata": {
    "execution": {
     "iopub.execute_input": "2025-05-25T14:50:55.634146Z",
     "iopub.status.busy": "2025-05-25T14:50:55.633757Z",
     "iopub.status.idle": "2025-05-25T14:50:55.638731Z",
     "shell.execute_reply": "2025-05-25T14:50:55.637515Z"
    },
    "papermill": {
     "duration": 0.021955,
     "end_time": "2025-05-25T14:50:55.641376",
     "exception": false,
     "start_time": "2025-05-25T14:50:55.619421",
     "status": "completed"
    },
    "tags": []
   },
   "outputs": [
    {
     "name": "stdout",
     "output_type": "stream",
     "text": [
      "Rows: 891\n",
      "Columns: 12\n"
     ]
    }
   ],
   "source": [
    "print(f'Rows: {df.shape[0]}')\n",
    "print(f'Columns: {df.shape[1]}')  "
   ]
  },
  {
   "cell_type": "markdown",
   "id": "a32f3f06",
   "metadata": {
    "papermill": {
     "duration": 0.014128,
     "end_time": "2025-05-25T14:50:55.670880",
     "exception": false,
     "start_time": "2025-05-25T14:50:55.656752",
     "status": "completed"
    },
    "tags": []
   },
   "source": [
    "### 4. 🔍 **Descriptive Statistics for numerical & categorical variables**"
   ]
  },
  {
   "cell_type": "code",
   "execution_count": 6,
   "id": "4362355b",
   "metadata": {
    "collapsed": true,
    "execution": {
     "iopub.execute_input": "2025-05-25T14:50:55.700572Z",
     "iopub.status.busy": "2025-05-25T14:50:55.700204Z",
     "iopub.status.idle": "2025-05-25T14:50:55.728795Z",
     "shell.execute_reply": "2025-05-25T14:50:55.727550Z"
    },
    "jupyter": {
     "outputs_hidden": true
    },
    "papermill": {
     "duration": 0.045475,
     "end_time": "2025-05-25T14:50:55.730683",
     "exception": false,
     "start_time": "2025-05-25T14:50:55.685208",
     "status": "completed"
    },
    "tags": []
   },
   "outputs": [
    {
     "data": {
      "text/html": [
       "<div>\n",
       "<style scoped>\n",
       "    .dataframe tbody tr th:only-of-type {\n",
       "        vertical-align: middle;\n",
       "    }\n",
       "\n",
       "    .dataframe tbody tr th {\n",
       "        vertical-align: top;\n",
       "    }\n",
       "\n",
       "    .dataframe thead th {\n",
       "        text-align: right;\n",
       "    }\n",
       "</style>\n",
       "<table border=\"1\" class=\"dataframe\">\n",
       "  <thead>\n",
       "    <tr style=\"text-align: right;\">\n",
       "      <th></th>\n",
       "      <th>PassengerId</th>\n",
       "      <th>Survived</th>\n",
       "      <th>Pclass</th>\n",
       "      <th>Age</th>\n",
       "      <th>SibSp</th>\n",
       "      <th>Parch</th>\n",
       "      <th>Fare</th>\n",
       "    </tr>\n",
       "  </thead>\n",
       "  <tbody>\n",
       "    <tr>\n",
       "      <th>count</th>\n",
       "      <td>891.000000</td>\n",
       "      <td>891.000000</td>\n",
       "      <td>891.000000</td>\n",
       "      <td>714.000000</td>\n",
       "      <td>891.000000</td>\n",
       "      <td>891.000000</td>\n",
       "      <td>891.000000</td>\n",
       "    </tr>\n",
       "    <tr>\n",
       "      <th>mean</th>\n",
       "      <td>446.000000</td>\n",
       "      <td>0.383838</td>\n",
       "      <td>2.308642</td>\n",
       "      <td>29.699118</td>\n",
       "      <td>0.523008</td>\n",
       "      <td>0.381594</td>\n",
       "      <td>32.204208</td>\n",
       "    </tr>\n",
       "    <tr>\n",
       "      <th>std</th>\n",
       "      <td>257.353842</td>\n",
       "      <td>0.486592</td>\n",
       "      <td>0.836071</td>\n",
       "      <td>14.526497</td>\n",
       "      <td>1.102743</td>\n",
       "      <td>0.806057</td>\n",
       "      <td>49.693429</td>\n",
       "    </tr>\n",
       "    <tr>\n",
       "      <th>min</th>\n",
       "      <td>1.000000</td>\n",
       "      <td>0.000000</td>\n",
       "      <td>1.000000</td>\n",
       "      <td>0.420000</td>\n",
       "      <td>0.000000</td>\n",
       "      <td>0.000000</td>\n",
       "      <td>0.000000</td>\n",
       "    </tr>\n",
       "    <tr>\n",
       "      <th>25%</th>\n",
       "      <td>223.500000</td>\n",
       "      <td>0.000000</td>\n",
       "      <td>2.000000</td>\n",
       "      <td>20.125000</td>\n",
       "      <td>0.000000</td>\n",
       "      <td>0.000000</td>\n",
       "      <td>7.910400</td>\n",
       "    </tr>\n",
       "    <tr>\n",
       "      <th>50%</th>\n",
       "      <td>446.000000</td>\n",
       "      <td>0.000000</td>\n",
       "      <td>3.000000</td>\n",
       "      <td>28.000000</td>\n",
       "      <td>0.000000</td>\n",
       "      <td>0.000000</td>\n",
       "      <td>14.454200</td>\n",
       "    </tr>\n",
       "    <tr>\n",
       "      <th>75%</th>\n",
       "      <td>668.500000</td>\n",
       "      <td>1.000000</td>\n",
       "      <td>3.000000</td>\n",
       "      <td>38.000000</td>\n",
       "      <td>1.000000</td>\n",
       "      <td>0.000000</td>\n",
       "      <td>31.000000</td>\n",
       "    </tr>\n",
       "    <tr>\n",
       "      <th>max</th>\n",
       "      <td>891.000000</td>\n",
       "      <td>1.000000</td>\n",
       "      <td>3.000000</td>\n",
       "      <td>80.000000</td>\n",
       "      <td>8.000000</td>\n",
       "      <td>6.000000</td>\n",
       "      <td>512.329200</td>\n",
       "    </tr>\n",
       "  </tbody>\n",
       "</table>\n",
       "</div>"
      ],
      "text/plain": [
       "       PassengerId    Survived      Pclass         Age       SibSp  \\\n",
       "count   891.000000  891.000000  891.000000  714.000000  891.000000   \n",
       "mean    446.000000    0.383838    2.308642   29.699118    0.523008   \n",
       "std     257.353842    0.486592    0.836071   14.526497    1.102743   \n",
       "min       1.000000    0.000000    1.000000    0.420000    0.000000   \n",
       "25%     223.500000    0.000000    2.000000   20.125000    0.000000   \n",
       "50%     446.000000    0.000000    3.000000   28.000000    0.000000   \n",
       "75%     668.500000    1.000000    3.000000   38.000000    1.000000   \n",
       "max     891.000000    1.000000    3.000000   80.000000    8.000000   \n",
       "\n",
       "            Parch        Fare  \n",
       "count  891.000000  891.000000  \n",
       "mean     0.381594   32.204208  \n",
       "std      0.806057   49.693429  \n",
       "min      0.000000    0.000000  \n",
       "25%      0.000000    7.910400  \n",
       "50%      0.000000   14.454200  \n",
       "75%      0.000000   31.000000  \n",
       "max      6.000000  512.329200  "
      ]
     },
     "execution_count": 6,
     "metadata": {},
     "output_type": "execute_result"
    }
   ],
   "source": [
    "df.describe()  "
   ]
  },
  {
   "cell_type": "code",
   "execution_count": 7,
   "id": "5a19a16c",
   "metadata": {
    "execution": {
     "iopub.execute_input": "2025-05-25T14:50:55.758895Z",
     "iopub.status.busy": "2025-05-25T14:50:55.758480Z",
     "iopub.status.idle": "2025-05-25T14:50:55.780508Z",
     "shell.execute_reply": "2025-05-25T14:50:55.779313Z"
    },
    "papermill": {
     "duration": 0.038277,
     "end_time": "2025-05-25T14:50:55.782235",
     "exception": false,
     "start_time": "2025-05-25T14:50:55.743958",
     "status": "completed"
    },
    "tags": []
   },
   "outputs": [
    {
     "data": {
      "text/html": [
       "<div>\n",
       "<style scoped>\n",
       "    .dataframe tbody tr th:only-of-type {\n",
       "        vertical-align: middle;\n",
       "    }\n",
       "\n",
       "    .dataframe tbody tr th {\n",
       "        vertical-align: top;\n",
       "    }\n",
       "\n",
       "    .dataframe thead th {\n",
       "        text-align: right;\n",
       "    }\n",
       "</style>\n",
       "<table border=\"1\" class=\"dataframe\">\n",
       "  <thead>\n",
       "    <tr style=\"text-align: right;\">\n",
       "      <th></th>\n",
       "      <th>Name</th>\n",
       "      <th>Sex</th>\n",
       "      <th>Ticket</th>\n",
       "      <th>Cabin</th>\n",
       "      <th>Embarked</th>\n",
       "    </tr>\n",
       "  </thead>\n",
       "  <tbody>\n",
       "    <tr>\n",
       "      <th>count</th>\n",
       "      <td>891</td>\n",
       "      <td>891</td>\n",
       "      <td>891</td>\n",
       "      <td>204</td>\n",
       "      <td>889</td>\n",
       "    </tr>\n",
       "    <tr>\n",
       "      <th>unique</th>\n",
       "      <td>891</td>\n",
       "      <td>2</td>\n",
       "      <td>681</td>\n",
       "      <td>147</td>\n",
       "      <td>3</td>\n",
       "    </tr>\n",
       "    <tr>\n",
       "      <th>top</th>\n",
       "      <td>Braund, Mr. Owen Harris</td>\n",
       "      <td>male</td>\n",
       "      <td>347082</td>\n",
       "      <td>B96 B98</td>\n",
       "      <td>S</td>\n",
       "    </tr>\n",
       "    <tr>\n",
       "      <th>freq</th>\n",
       "      <td>1</td>\n",
       "      <td>577</td>\n",
       "      <td>7</td>\n",
       "      <td>4</td>\n",
       "      <td>644</td>\n",
       "    </tr>\n",
       "  </tbody>\n",
       "</table>\n",
       "</div>"
      ],
      "text/plain": [
       "                           Name   Sex  Ticket    Cabin Embarked\n",
       "count                       891   891     891      204      889\n",
       "unique                      891     2     681      147        3\n",
       "top     Braund, Mr. Owen Harris  male  347082  B96 B98        S\n",
       "freq                          1   577       7        4      644"
      ]
     },
     "execution_count": 7,
     "metadata": {},
     "output_type": "execute_result"
    }
   ],
   "source": [
    "categorical_var = df.dtypes[df.dtypes == 'object'].index \n",
    "df[categorical_var].describe()  "
   ]
  },
  {
   "cell_type": "markdown",
   "id": "2acab0c2",
   "metadata": {
    "papermill": {
     "duration": 0.012592,
     "end_time": "2025-05-25T14:50:55.808197",
     "exception": false,
     "start_time": "2025-05-25T14:50:55.795605",
     "status": "completed"
    },
    "tags": []
   },
   "source": [
    "### 5. 🔍 **Missing Values & Outliers**"
   ]
  },
  {
   "cell_type": "code",
   "execution_count": 8,
   "id": "9171c5cc",
   "metadata": {
    "execution": {
     "iopub.execute_input": "2025-05-25T14:50:55.836299Z",
     "iopub.status.busy": "2025-05-25T14:50:55.835896Z",
     "iopub.status.idle": "2025-05-25T14:50:55.844761Z",
     "shell.execute_reply": "2025-05-25T14:50:55.843690Z"
    },
    "papermill": {
     "duration": 0.025296,
     "end_time": "2025-05-25T14:50:55.846590",
     "exception": false,
     "start_time": "2025-05-25T14:50:55.821294",
     "status": "completed"
    },
    "tags": []
   },
   "outputs": [
    {
     "data": {
      "text/plain": [
       "Cabin          687\n",
       "Age            177\n",
       "Embarked         2\n",
       "PassengerId      0\n",
       "Survived         0\n",
       "Pclass           0\n",
       "Name             0\n",
       "Sex              0\n",
       "SibSp            0\n",
       "Parch            0\n",
       "Ticket           0\n",
       "Fare             0\n",
       "dtype: int64"
      ]
     },
     "execution_count": 8,
     "metadata": {},
     "output_type": "execute_result"
    }
   ],
   "source": [
    "df.isnull().sum().sort_values(ascending = False) "
   ]
  },
  {
   "cell_type": "code",
   "execution_count": 9,
   "id": "3c95aea5",
   "metadata": {
    "execution": {
     "iopub.execute_input": "2025-05-25T14:50:55.874835Z",
     "iopub.status.busy": "2025-05-25T14:50:55.874414Z",
     "iopub.status.idle": "2025-05-25T14:50:55.883390Z",
     "shell.execute_reply": "2025-05-25T14:50:55.882438Z"
    },
    "papermill": {
     "duration": 0.025161,
     "end_time": "2025-05-25T14:50:55.885216",
     "exception": false,
     "start_time": "2025-05-25T14:50:55.860055",
     "status": "completed"
    },
    "tags": []
   },
   "outputs": [
    {
     "data": {
      "text/plain": [
       "Cabin          77.104377\n",
       "Age            19.865320\n",
       "Embarked        0.224467\n",
       "PassengerId     0.000000\n",
       "Survived        0.000000\n",
       "Pclass          0.000000\n",
       "Name            0.000000\n",
       "Sex             0.000000\n",
       "SibSp           0.000000\n",
       "Parch           0.000000\n",
       "Ticket          0.000000\n",
       "Fare            0.000000\n",
       "dtype: float64"
      ]
     },
     "execution_count": 9,
     "metadata": {},
     "output_type": "execute_result"
    }
   ],
   "source": [
    "(df.isna().mean()*100).sort_values(ascending=False)   "
   ]
  },
  {
   "cell_type": "code",
   "execution_count": 10,
   "id": "86181e09",
   "metadata": {
    "execution": {
     "iopub.execute_input": "2025-05-25T14:50:55.914142Z",
     "iopub.status.busy": "2025-05-25T14:50:55.913694Z",
     "iopub.status.idle": "2025-05-25T14:50:56.304212Z",
     "shell.execute_reply": "2025-05-25T14:50:56.303086Z"
    },
    "papermill": {
     "duration": 0.407497,
     "end_time": "2025-05-25T14:50:56.306137",
     "exception": false,
     "start_time": "2025-05-25T14:50:55.898640",
     "status": "completed"
    },
    "tags": []
   },
   "outputs": [
    {
     "data": {
      "text/plain": [
       "<Axes: >"
      ]
     },
     "execution_count": 10,
     "metadata": {},
     "output_type": "execute_result"
    },
    {
     "data": {
      "image/png": "[encoded data removed]",
      "text/plain": [
       "<Figure size 640x480 with 1 Axes>"
      ]
     },
     "metadata": {},
     "output_type": "display_data"
    }
   ],
   "source": [
    "sns.heatmap(df.isnull(), yticklabels=False, cbar=False) "
   ]
  },
  {
   "cell_type": "code",
   "execution_count": 11,
   "id": "4ab36cd5",
   "metadata": {
    "execution": {
     "iopub.execute_input": "2025-05-25T14:50:56.334947Z",
     "iopub.status.busy": "2025-05-25T14:50:56.334589Z",
     "iopub.status.idle": "2025-05-25T14:50:58.710815Z",
     "shell.execute_reply": "2025-05-25T14:50:58.709585Z"
    },
    "papermill": {
     "duration": 2.392786,
     "end_time": "2025-05-25T14:50:58.712940",
     "exception": false,
     "start_time": "2025-05-25T14:50:56.320154",
     "status": "completed"
    },
    "tags": []
   },
   "outputs": [
    {
     "data": {
      "text/html": [
       "<html>\n",
       "<head><meta charset=\"utf-8\" /></head>\n",
       "<body>\n",
       "    <div>            <script src=\"https://cdnjs.cloudflare.com/ajax/libs/mathjax/2.7.5/MathJax.js?config=TeX-AMS-MML_SVG\"></script><script type=\"text/javascript\">if (window.MathJax && window.MathJax.Hub && window.MathJax.Hub.Config) {window.MathJax.Hub.Config({SVG: {font: \"STIX-Web\"}});}</script>                <script type=\"text/javascript\">window.PlotlyConfig = {MathJaxConfig: 'local'};</script>\n",
       "        <script charset=\"utf-8\" src=\"https://cdn.plot.ly/plotly-2.35.2.min.js\"></script>                <div id=\"7981ce5c-fb9a-4e6b-89c6-1707726efff2\" class=\"plotly-graph-div\" style=\"height:525px; width:100%;\"></div>            <script type=\"text/javascript\">                                    window.PLOTLYENV=window.PLOTLYENV || {};                                    if (document.getElementById(\"7981ce5c-fb9a-4e6b-89c6-1707726efff2\")) {                    Plotly.newPlot(                        \"7981ce5c-fb9a-4e6b-89c6-1707726efff2\",                        [{\"alignmentgroup\":\"True\",\"hovertemplate\":\"variable=%{x}\\u003cbr\\u003evalue=%{y}\\u003cextra\\u003e\\u003c\\u002fextra\\u003e\",\"legendgroup\":\"\",\"marker\":{\"color\":\"#636efa\"},\"name\":\"\",\"notched\":false,\"offsetgroup\":\"\",\"orientation\":\"v\",\"showlegend\":false,\"x\":[\"Age\",\"Age\",\"Age\",\"Age\",\"Age\",\"Age\",\"Age\",\"Age\",\"Age\",\"Age\",\"Age\",\"Age\",\"Age\",\"Age\",\"Age\",\"Age\",\"Age\",\"Age\",\"Age\",\"Age\",\"Age\",\"Age\",\"Age\",\"Age\",\"Age\",\"Age\",\"Age\",\"Age\",\"Age\",\"Age\",\"Age\",\"Age\",\"Age\",\"Age\",\"Age\",\"Age\",\"Age\",\"Age\",\"Age\",\"Age\",\"Age\",\"Age\",\"Age\",\"Age\",\"Age\",\"Age\",\"Age\",\"Age\",\"Age\",\"Age\",\"Age\",\"Age\",\"Age\",\"Age\",\"Age\",\"Age\",\"Age\",\"Age\",\"Age\",\"Age\",\"Age\",\"Age\",\"Age\",\"Age\",\"Age\",\"Age\",\"Age\",\"Age\",\"Age\",\"Age\",\"Age\",\"Age\",\"Age\",\"Age\",\"Age\",\"Age\",\"Age\",\"Age\",\"Age\",\"Age\",\"Age\",\"Age\",\"Age\",\"Age\",\"Age\",\"Age\",\"Age\",\"Age\",\"Age\",\"Age\",\"Age\",\"Age\",\"Age\",\"Age\",\"Age\",\"Age\",\"Age\",\"Age\",\"Age\",\"Age\",\"Age\",\"Age\",\"Age\",\"Age\",\"Age\",\"Age\",\"Age\",\"Age\",\"Age\",\"Age\",\"Age\",\"Age\",\"Age\",\"Age\",\"Age\",\"Age\",\"Age\",\"Age\",\"Age\",\"Age\",\"Age\",\"Age\",\"Age\",\"Age\",\"Age\",\"Age\",\"Age\",\"Age\",\"Age\",\"Age\",\"Age\",\"Age\",\"Age\",\"Age\",\"Age\",\"Age\",\"Age\",\"Age\",\"Age\",\"Age\",\"Age\",\"Age\",\"Age\",\"Age\",\"Age\",\"Age\",\"Age\",\"Age\",\"Age\",\"Age\",\"Age\",\"Age\",\"Age\",\"Age\",\"Age\",\"Age\",\"Age\",\"Age\",\"Age\",\"Age\",\"Age\",\"Age\",\"Age\",\"Age\",\"Age\",\"Age\",\"Age\",\"Age\",\"Age\",\"Age\",\"Age\",\"Age\",\"Age\",\"Age\",\"Age\",\"Age\",\"Age\",\"Age\",\"Age\",\"Age\",\"Age\",\"Age\",\"Age\",\"Age\",\"Age\",\"Age\",\"Age\",\"Age\",\"Age\",\"Age\",\"Age\",\"Age\",\"Age\",\"Age\",\"Age\",\"Age\",\"Age\",\"Age\",\"Age\",\"Age\",\"Age\",\"Age\",\"Age\",\"Age\",\"Age\",\"Age\",\"Age\",\"Age\",\"Age\",\"Age\",\"Age\",\"Age\",\"Age\",\"Age\",\"Age\",\"Age\",\"Age\",\"Age\",\"Age\",\"Age\",\"Age\",\"Age\",\"Age\",\"Age\",\"Age\",\"Age\",\"Age\",\"Age\",\"Age\",\"Age\",\"Age\",\"Age\",\"Age\",\"Age\",\"Age\",\"Age\",\"Age\",\"Age\",\"Age\",\"Age\",\"Age\",\"Age\",\"Age\",\"Age\",\"Age\",\"Age\",\"Age\",\"Age\",\"Age\",\"Age\",\"Age\",\"Age\",\"Age\",\"Age\",\"Age\",\"Age\",\"Age\",\"Age\",\"Age\",\"Age\",\"Age\",\"Age\",\"Age\",\"Age\",\"Age\",\"Age\",\"Age\",\"Age\",\"Age\",\"Age\",\"Age\",\"Age\",\"Age\",\"Age\",\"Age\",\"Age\",\"Age\",\"Age\",\"Age\",\"Age\",\"Age\",\"Age\",\"Age\",\"Age\",\"Age\",\"Age\",\"Age\",\"Age\",\"Age\",\"Age\",\"Age\",\"Age\",\"Age\",\"Age\",\"Age\",\"Age\",\"Age\",\"Age\",\"Age\",\"Age\",\"Age\",\"Age\",\"Age\",\"Age\",\"Age\",\"Age\",\"Age\",\"Age\",\"Age\",\"Age\",\"Age\",\"Age\",\"Age\",\"Age\",\"Age\",\"Age\",\"Age\",\"Age\",\"Age\",\"Age\",\"Age\",\"Age\",\"Age\",\"Age\",\"Age\",\"Age\",\"Age\",\"Age\",\"Age\",\"Age\",\"Age\",\"Age\",\"Age\",\"Age\",\"Age\",\"Age\",\"Age\",\"Age\",\"Age\",\"Age\",\"Age\",\"Age\",\"Age\",\"Age\",\"Age\",\"Age\",\"Age\",\"Age\",\"Age\",\"Age\",\"Age\",\"Age\",\"Age\",\"Age\",\"Age\",\"Age\",\"Age\",\"Age\",\"Age\",\"Age\",\"Age\",\"Age\",\"Age\",\"Age\",\"Age\",\"Age\",\"Age\",\"Age\",\"Age\",\"Age\",\"Age\",\"Age\",\"Age\",\"Age\",\"Age\",\"Age\",\"Age\",\"Age\",\"Age\",\"Age\",\"Age\",\"Age\",\"Age\",\"Age\",\"Age\",\"Age\",\"Age\",\"Age\",\"Age\",\"Age\",\"Age\",\"Age\",\"Age\",\"Age\",\"Age\",\"Age\",\"Age\",\"Age\",\"Age\",\"Age\",\"Age\",\"Age\",\"Age\",\"Age\",\"Age\",\"Age\",\"Age\",\"Age\",\"Age\",\"Age\",\"Age\",\"Age\",\"Age\",\"Age\",\"Age\",\"Age\",\"Age\",\"Age\",\"Age\",\"Age\",\"Age\",\"Age\",\"Age\",\"Age\",\"Age\",\"Age\",\"Age\",\"Age\",\"Age\",\"Age\",\"Age\",\"Age\",\"Age\",\"Age\",\"Age\",\"Age\",\"Age\",\"Age\",\"Age\",\"Age\",\"Age\",\"Age\",\"Age\",\"Age\",\"Age\",\"Age\",\"Age\",\"Age\",\"Age\",\"Age\",\"Age\",\"Age\",\"Age\",\"Age\",\"Age\",\"Age\",\"Age\",\"Age\",\"Age\",\"Age\",\"Age\",\"Age\",\"Age\",\"Age\",\"Age\",\"Age\",\"Age\",\"Age\",\"Age\",\"Age\",\"Age\",\"Age\",\"Age\",\"Age\",\"Age\",\"Age\",\"Age\",\"Age\",\"Age\",\"Age\",\"Age\",\"Age\",\"Age\",\"Age\",\"Age\",\"Age\",\"Age\",\"Age\",\"Age\",\"Age\",\"Age\",\"Age\",\"Age\",\"Age\",\"Age\",\"Age\",\"Age\",\"Age\",\"Age\",\"Age\",\"Age\",\"Age\",\"Age\",\"Age\",\"Age\",\"Age\",\"Age\",\"Age\",\"Age\",\"Age\",\"Age\",\"Age\",\"Age\",\"Age\",\"Age\",\"Age\",\"Age\",\"Age\",\"Age\",\"Age\",\"Age\",\"Age\",\"Age\",\"Age\",\"Age\",\"Age\",\"Age\",\"Age\",\"Age\",\"Age\",\"Age\",\"Age\",\"Age\",\"Age\",\"Age\",\"Age\",\"Age\",\"Age\",\"Age\",\"Age\",\"Age\",\"Age\",\"Age\",\"Age\",\"Age\",\"Age\",\"Age\",\"Age\",\"Age\",\"Age\",\"Age\",\"Age\",\"Age\",\"Age\",\"Age\",\"Age\",\"Age\",\"Age\",\"Age\",\"Age\",\"Age\",\"Age\",\"Age\",\"Age\",\"Age\",\"Age\",\"Age\",\"Age\",\"Age\",\"Age\",\"Age\",\"Age\",\"Age\",\"Age\",\"Age\",\"Age\",\"Age\",\"Age\",\"Age\",\"Age\",\"Age\",\"Age\",\"Age\",\"Age\",\"Age\",\"Age\",\"Age\",\"Age\",\"Age\",\"Age\",\"Age\",\"Age\",\"Age\",\"Age\",\"Age\",\"Age\",\"Age\",\"Age\",\"Age\",\"Age\",\"Age\",\"Age\",\"Age\",\"Age\",\"Age\",\"Age\",\"Age\",\"Age\",\"Age\",\"Age\",\"Age\",\"Age\",\"Age\",\"Age\",\"Age\",\"Age\",\"Age\",\"Age\",\"Age\",\"Age\",\"Age\",\"Age\",\"Age\",\"Age\",\"Age\",\"Age\",\"Age\",\"Age\",\"Age\",\"Age\",\"Age\",\"Age\",\"Age\",\"Age\",\"Age\",\"Age\",\"Age\",\"Age\",\"Age\",\"Age\",\"Age\",\"Age\",\"Age\",\"Age\",\"Age\",\"Age\",\"Age\",\"Age\",\"Age\",\"Age\",\"Age\",\"Age\",\"Age\",\"Age\",\"Age\",\"Age\",\"Age\",\"Age\",\"Age\",\"Age\",\"Age\",\"Age\",\"Age\",\"Age\",\"Age\",\"Age\",\"Age\",\"Age\",\"Age\",\"Age\",\"Age\",\"Age\",\"Age\",\"Age\",\"Age\",\"Age\",\"Age\",\"Age\",\"Age\",\"Age\",\"Age\",\"Age\",\"Age\",\"Age\",\"Age\",\"Age\",\"Age\",\"Age\",\"Age\",\"Age\",\"Age\",\"Age\",\"Age\",\"Age\",\"Age\",\"Age\",\"Age\",\"Age\",\"Age\",\"Age\",\"Age\",\"Age\",\"Age\",\"Age\",\"Age\",\"Age\",\"Age\",\"Age\",\"Age\",\"Age\",\"Age\",\"Age\",\"Age\",\"Age\",\"Age\",\"Age\",\"Age\",\"Age\",\"Age\",\"Age\",\"Age\",\"Age\",\"Age\",\"Age\",\"Age\",\"Age\",\"Age\",\"Age\",\"Age\",\"Age\",\"Age\",\"Age\",\"Age\",\"Age\",\"Age\",\"Age\",\"Age\",\"Age\",\"Age\",\"Age\",\"Age\",\"Age\",\"Age\",\"Age\",\"Age\",\"Age\",\"Age\",\"Age\",\"Age\",\"Age\",\"Age\",\"Age\",\"Age\",\"Age\",\"Age\",\"Age\",\"Age\",\"Age\",\"Age\",\"Age\",\"Age\",\"Age\",\"Age\",\"Age\",\"Age\",\"Age\",\"Age\",\"Age\",\"Age\",\"Age\",\"Age\",\"Age\",\"Age\",\"Age\",\"Age\",\"Age\",\"Age\",\"Age\",\"Age\",\"Age\",\"Age\",\"Age\",\"Age\",\"Age\",\"Age\",\"Age\",\"Age\",\"Age\",\"Age\",\"Age\",\"Age\",\"Age\",\"Age\",\"Age\",\"Age\",\"Age\",\"Age\",\"Age\",\"Age\",\"Age\",\"Age\",\"Age\",\"Age\",\"Age\",\"Age\",\"Age\",\"Age\",\"Age\",\"Age\",\"Age\",\"Age\",\"Age\",\"Age\",\"Age\",\"Age\",\"Age\",\"Age\",\"Age\",\"Age\",\"Age\",\"Age\",\"Age\",\"Age\",\"Age\",\"Age\",\"Age\",\"Age\",\"Age\",\"Age\",\"Age\",\"Age\",\"Age\",\"Age\",\"Age\",\"Age\",\"Age\",\"Age\",\"Age\",\"Age\",\"Age\",\"Age\",\"Age\",\"Age\",\"Age\",\"Age\",\"Age\",\"Age\",\"Age\",\"Age\",\"Age\",\"Age\",\"Age\",\"Age\",\"Age\",\"Age\",\"Age\",\"Age\",\"Age\",\"Age\",\"Age\",\"Age\",\"Age\",\"Age\",\"Age\",\"Age\",\"Age\",\"Age\",\"Age\",\"Age\",\"Age\",\"Age\",\"Age\",\"Age\",\"Age\",\"Age\",\"Age\",\"Age\",\"Age\",\"Age\",\"Age\",\"Age\",\"Age\",\"Age\",\"Age\",\"Age\",\"Age\",\"Age\",\"Age\",\"Age\",\"Age\",\"Age\",\"Fare\",\"Fare\",\"Fare\",\"Fare\",\"Fare\",\"Fare\",\"Fare\",\"Fare\",\"Fare\",\"Fare\",\"Fare\",\"Fare\",\"Fare\",\"Fare\",\"Fare\",\"Fare\",\"Fare\",\"Fare\",\"Fare\",\"Fare\",\"Fare\",\"Fare\",\"Fare\",\"Fare\",\"Fare\",\"Fare\",\"Fare\",\"Fare\",\"Fare\",\"Fare\",\"Fare\",\"Fare\",\"Fare\",\"Fare\",\"Fare\",\"Fare\",\"Fare\",\"Fare\",\"Fare\",\"Fare\",\"Fare\",\"Fare\",\"Fare\",\"Fare\",\"Fare\",\"Fare\",\"Fare\",\"Fare\",\"Fare\",\"Fare\",\"Fare\",\"Fare\",\"Fare\",\"Fare\",\"Fare\",\"Fare\",\"Fare\",\"Fare\",\"Fare\",\"Fare\",\"Fare\",\"Fare\",\"Fare\",\"Fare\",\"Fare\",\"Fare\",\"Fare\",\"Fare\",\"Fare\",\"Fare\",\"Fare\",\"Fare\",\"Fare\",\"Fare\",\"Fare\",\"Fare\",\"Fare\",\"Fare\",\"Fare\",\"Fare\",\"Fare\",\"Fare\",\"Fare\",\"Fare\",\"Fare\",\"Fare\",\"Fare\",\"Fare\",\"Fare\",\"Fare\",\"Fare\",\"Fare\",\"Fare\",\"Fare\",\"Fare\",\"Fare\",\"Fare\",\"Fare\",\"Fare\",\"Fare\",\"Fare\",\"Fare\",\"Fare\",\"Fare\",\"Fare\",\"Fare\",\"Fare\",\"Fare\",\"Fare\",\"Fare\",\"Fare\",\"Fare\",\"Fare\",\"Fare\",\"Fare\",\"Fare\",\"Fare\",\"Fare\",\"Fare\",\"Fare\",\"Fare\",\"Fare\",\"Fare\",\"Fare\",\"Fare\",\"Fare\",\"Fare\",\"Fare\",\"Fare\",\"Fare\",\"Fare\",\"Fare\",\"Fare\",\"Fare\",\"Fare\",\"Fare\",\"Fare\",\"Fare\",\"Fare\",\"Fare\",\"Fare\",\"Fare\",\"Fare\",\"Fare\",\"Fare\",\"Fare\",\"Fare\",\"Fare\",\"Fare\",\"Fare\",\"Fare\",\"Fare\",\"Fare\",\"Fare\",\"Fare\",\"Fare\",\"Fare\",\"Fare\",\"Fare\",\"Fare\",\"Fare\",\"Fare\",\"Fare\",\"Fare\",\"Fare\",\"Fare\",\"Fare\",\"Fare\",\"Fare\",\"Fare\",\"Fare\",\"Fare\",\"Fare\",\"Fare\",\"Fare\",\"Fare\",\"Fare\",\"Fare\",\"Fare\",\"Fare\",\"Fare\",\"Fare\",\"Fare\",\"Fare\",\"Fare\",\"Fare\",\"Fare\",\"Fare\",\"Fare\",\"Fare\",\"Fare\",\"Fare\",\"Fare\",\"Fare\",\"Fare\",\"Fare\",\"Fare\",\"Fare\",\"Fare\",\"Fare\",\"Fare\",\"Fare\",\"Fare\",\"Fare\",\"Fare\",\"Fare\",\"Fare\",\"Fare\",\"Fare\",\"Fare\",\"Fare\",\"Fare\",\"Fare\",\"Fare\",\"Fare\",\"Fare\",\"Fare\",\"Fare\",\"Fare\",\"Fare\",\"Fare\",\"Fare\",\"Fare\",\"Fare\",\"Fare\",\"Fare\",\"Fare\",\"Fare\",\"Fare\",\"Fare\",\"Fare\",\"Fare\",\"Fare\",\"Fare\",\"Fare\",\"Fare\",\"Fare\",\"Fare\",\"Fare\",\"Fare\",\"Fare\",\"Fare\",\"Fare\",\"Fare\",\"Fare\",\"Fare\",\"Fare\",\"Fare\",\"Fare\",\"Fare\",\"Fare\",\"Fare\",\"Fare\",\"Fare\",\"Fare\",\"Fare\",\"Fare\",\"Fare\",\"Fare\",\"Fare\",\"Fare\",\"Fare\",\"Fare\",\"Fare\",\"Fare\",\"Fare\",\"Fare\",\"Fare\",\"Fare\",\"Fare\",\"Fare\",\"Fare\",\"Fare\",\"Fare\",\"Fare\",\"Fare\",\"Fare\",\"Fare\",\"Fare\",\"Fare\",\"Fare\",\"Fare\",\"Fare\",\"Fare\",\"Fare\",\"Fare\",\"Fare\",\"Fare\",\"Fare\",\"Fare\",\"Fare\",\"Fare\",\"Fare\",\"Fare\",\"Fare\",\"Fare\",\"Fare\",\"Fare\",\"Fare\",\"Fare\",\"Fare\",\"Fare\",\"Fare\",\"Fare\",\"Fare\",\"Fare\",\"Fare\",\"Fare\",\"Fare\",\"Fare\",\"Fare\",\"Fare\",\"Fare\",\"Fare\",\"Fare\",\"Fare\",\"Fare\",\"Fare\",\"Fare\",\"Fare\",\"Fare\",\"Fare\",\"Fare\",\"Fare\",\"Fare\",\"Fare\",\"Fare\",\"Fare\",\"Fare\",\"Fare\",\"Fare\",\"Fare\",\"Fare\",\"Fare\",\"Fare\",\"Fare\",\"Fare\",\"Fare\",\"Fare\",\"Fare\",\"Fare\",\"Fare\",\"Fare\",\"Fare\",\"Fare\",\"Fare\",\"Fare\",\"Fare\",\"Fare\",\"Fare\",\"Fare\",\"Fare\",\"Fare\",\"Fare\",\"Fare\",\"Fare\",\"Fare\",\"Fare\",\"Fare\",\"Fare\",\"Fare\",\"Fare\",\"Fare\",\"Fare\",\"Fare\",\"Fare\",\"Fare\",\"Fare\",\"Fare\",\"Fare\",\"Fare\",\"Fare\",\"Fare\",\"Fare\",\"Fare\",\"Fare\",\"Fare\",\"Fare\",\"Fare\",\"Fare\",\"Fare\",\"Fare\",\"Fare\",\"Fare\",\"Fare\",\"Fare\",\"Fare\",\"Fare\",\"Fare\",\"Fare\",\"Fare\",\"Fare\",\"Fare\",\"Fare\",\"Fare\",\"Fare\",\"Fare\",\"Fare\",\"Fare\",\"Fare\",\"Fare\",\"Fare\",\"Fare\",\"Fare\",\"Fare\",\"Fare\",\"Fare\",\"Fare\",\"Fare\",\"Fare\",\"Fare\",\"Fare\",\"Fare\",\"Fare\",\"Fare\",\"Fare\",\"Fare\",\"Fare\",\"Fare\",\"Fare\",\"Fare\",\"Fare\",\"Fare\",\"Fare\",\"Fare\",\"Fare\",\"Fare\",\"Fare\",\"Fare\",\"Fare\",\"Fare\",\"Fare\",\"Fare\",\"Fare\",\"Fare\",\"Fare\",\"Fare\",\"Fare\",\"Fare\",\"Fare\",\"Fare\",\"Fare\",\"Fare\",\"Fare\",\"Fare\",\"Fare\",\"Fare\",\"Fare\",\"Fare\",\"Fare\",\"Fare\",\"Fare\",\"Fare\",\"Fare\",\"Fare\",\"Fare\",\"Fare\",\"Fare\",\"Fare\",\"Fare\",\"Fare\",\"Fare\",\"Fare\",\"Fare\",\"Fare\",\"Fare\",\"Fare\",\"Fare\",\"Fare\",\"Fare\",\"Fare\",\"Fare\",\"Fare\",\"Fare\",\"Fare\",\"Fare\",\"Fare\",\"Fare\",\"Fare\",\"Fare\",\"Fare\",\"Fare\",\"Fare\",\"Fare\",\"Fare\",\"Fare\",\"Fare\",\"Fare\",\"Fare\",\"Fare\",\"Fare\",\"Fare\",\"Fare\",\"Fare\",\"Fare\",\"Fare\",\"Fare\",\"Fare\",\"Fare\",\"Fare\",\"Fare\",\"Fare\",\"Fare\",\"Fare\",\"Fare\",\"Fare\",\"Fare\",\"Fare\",\"Fare\",\"Fare\",\"Fare\",\"Fare\",\"Fare\",\"Fare\",\"Fare\",\"Fare\",\"Fare\",\"Fare\",\"Fare\",\"Fare\",\"Fare\",\"Fare\",\"Fare\",\"Fare\",\"Fare\",\"Fare\",\"Fare\",\"Fare\",\"Fare\",\"Fare\",\"Fare\",\"Fare\",\"Fare\",\"Fare\",\"Fare\",\"Fare\",\"Fare\",\"Fare\",\"Fare\",\"Fare\",\"Fare\",\"Fare\",\"Fare\",\"Fare\",\"Fare\",\"Fare\",\"Fare\",\"Fare\",\"Fare\",\"Fare\",\"Fare\",\"Fare\",\"Fare\",\"Fare\",\"Fare\",\"Fare\",\"Fare\",\"Fare\",\"Fare\",\"Fare\",\"Fare\",\"Fare\",\"Fare\",\"Fare\",\"Fare\",\"Fare\",\"Fare\",\"Fare\",\"Fare\",\"Fare\",\"Fare\",\"Fare\",\"Fare\",\"Fare\",\"Fare\",\"Fare\",\"Fare\",\"Fare\",\"Fare\",\"Fare\",\"Fare\",\"Fare\",\"Fare\",\"Fare\",\"Fare\",\"Fare\",\"Fare\",\"Fare\",\"Fare\",\"Fare\",\"Fare\",\"Fare\",\"Fare\",\"Fare\",\"Fare\",\"Fare\",\"Fare\",\"Fare\",\"Fare\",\"Fare\",\"Fare\",\"Fare\",\"Fare\",\"Fare\",\"Fare\",\"Fare\",\"Fare\",\"Fare\",\"Fare\",\"Fare\",\"Fare\",\"Fare\",\"Fare\",\"Fare\",\"Fare\",\"Fare\",\"Fare\",\"Fare\",\"Fare\",\"Fare\",\"Fare\",\"Fare\",\"Fare\",\"Fare\",\"Fare\",\"Fare\",\"Fare\",\"Fare\",\"Fare\",\"Fare\",\"Fare\",\"Fare\",\"Fare\",\"Fare\",\"Fare\",\"Fare\",\"Fare\",\"Fare\",\"Fare\",\"Fare\",\"Fare\",\"Fare\",\"Fare\",\"Fare\",\"Fare\",\"Fare\",\"Fare\",\"Fare\",\"Fare\",\"Fare\",\"Fare\",\"Fare\",\"Fare\",\"Fare\",\"Fare\",\"Fare\",\"Fare\",\"Fare\",\"Fare\",\"Fare\",\"Fare\",\"Fare\",\"Fare\",\"Fare\",\"Fare\",\"Fare\",\"Fare\",\"Fare\",\"Fare\",\"Fare\",\"Fare\",\"Fare\",\"Fare\",\"Fare\",\"Fare\",\"Fare\",\"Fare\",\"Fare\",\"Fare\",\"Fare\",\"Fare\",\"Fare\",\"Fare\",\"Fare\",\"Fare\",\"Fare\",\"Fare\",\"Fare\",\"Fare\",\"Fare\",\"Fare\",\"Fare\",\"Fare\",\"Fare\",\"Fare\",\"Fare\",\"Fare\",\"Fare\",\"Fare\",\"Fare\",\"Fare\",\"Fare\",\"Fare\",\"Fare\",\"Fare\",\"Fare\",\"Fare\",\"Fare\",\"Fare\",\"Fare\",\"Fare\",\"Fare\",\"Fare\",\"Fare\",\"Fare\",\"Fare\",\"Fare\",\"Fare\",\"Fare\",\"Fare\",\"Fare\",\"Fare\",\"Fare\",\"Fare\",\"Fare\",\"Fare\",\"Fare\",\"Fare\",\"Fare\",\"Fare\",\"Fare\",\"Fare\",\"Fare\",\"Fare\",\"Fare\",\"Fare\",\"Fare\",\"Fare\",\"Fare\",\"Fare\",\"Fare\",\"Fare\",\"Fare\",\"Fare\",\"Fare\",\"Fare\",\"Fare\",\"Fare\",\"Fare\",\"Fare\",\"Fare\",\"Fare\",\"Fare\",\"Fare\",\"Fare\",\"Fare\",\"Fare\",\"Fare\",\"Fare\",\"Fare\",\"Fare\",\"Fare\",\"Fare\",\"Fare\",\"Fare\",\"Fare\",\"Fare\",\"Fare\",\"Fare\",\"Fare\",\"Fare\",\"Fare\",\"Fare\",\"Fare\",\"Fare\",\"Fare\",\"Fare\",\"Fare\",\"Fare\",\"Fare\",\"Fare\",\"Fare\",\"Fare\",\"Fare\",\"Fare\",\"Fare\",\"Fare\",\"Fare\",\"Fare\",\"Fare\",\"Fare\",\"Fare\",\"Fare\",\"Fare\",\"Fare\",\"Fare\",\"Fare\",\"Fare\",\"Fare\",\"Fare\",\"Fare\",\"Fare\",\"Fare\",\"Fare\",\"Fare\",\"Fare\",\"Fare\",\"Fare\",\"Fare\",\"Fare\",\"Fare\",\"Fare\",\"Fare\",\"Fare\",\"Fare\",\"Fare\",\"Fare\",\"Fare\",\"Fare\",\"Fare\",\"Fare\",\"Fare\",\"Fare\",\"Fare\",\"Fare\",\"Fare\",\"Fare\",\"Fare\",\"Fare\",\"Fare\",\"Fare\",\"Fare\",\"Fare\",\"Fare\",\"Fare\",\"Fare\",\"Fare\",\"Fare\",\"Fare\",\"Fare\",\"Fare\",\"Fare\",\"Fare\",\"Fare\",\"Fare\",\"Fare\",\"Fare\",\"Fare\",\"Fare\",\"Fare\",\"Fare\",\"Fare\",\"Fare\",\"Fare\",\"Fare\",\"Fare\",\"Fare\",\"Fare\",\"Fare\",\"Fare\",\"Fare\",\"Fare\",\"Fare\",\"Fare\",\"Fare\",\"Fare\",\"Fare\",\"Fare\",\"Fare\",\"Fare\",\"Fare\",\"Fare\",\"Fare\",\"Fare\",\"Fare\",\"Fare\",\"Fare\",\"Fare\",\"Fare\",\"Fare\",\"Fare\",\"Fare\",\"Fare\",\"Fare\",\"Fare\",\"Fare\",\"Fare\",\"Fare\",\"Fare\",\"Fare\",\"Fare\"],\"x0\":\" \",\"xaxis\":\"x\",\"y\":[22.0,38.0,26.0,35.0,35.0,null,54.0,2.0,27.0,14.0,4.0,58.0,20.0,39.0,14.0,55.0,2.0,null,31.0,null,35.0,34.0,15.0,28.0,8.0,38.0,null,19.0,null,null,40.0,null,null,66.0,28.0,42.0,null,21.0,18.0,14.0,40.0,27.0,null,3.0,19.0,null,null,null,null,18.0,7.0,21.0,49.0,29.0,65.0,null,21.0,28.5,5.0,11.0,22.0,38.0,45.0,4.0,null,null,29.0,19.0,17.0,26.0,32.0,16.0,21.0,26.0,32.0,25.0,null,null,0.83,30.0,22.0,29.0,null,28.0,17.0,33.0,16.0,null,23.0,24.0,29.0,20.0,46.0,26.0,59.0,null,71.0,23.0,34.0,34.0,28.0,null,21.0,33.0,37.0,28.0,21.0,null,38.0,null,47.0,14.5,22.0,20.0,17.0,21.0,70.5,29.0,24.0,2.0,21.0,null,32.5,32.5,54.0,12.0,null,24.0,null,45.0,33.0,20.0,47.0,29.0,25.0,23.0,19.0,37.0,16.0,24.0,null,22.0,24.0,19.0,18.0,19.0,27.0,9.0,36.5,42.0,51.0,22.0,55.5,40.5,null,51.0,16.0,30.0,null,null,44.0,40.0,26.0,17.0,1.0,9.0,null,45.0,null,28.0,61.0,4.0,1.0,21.0,56.0,18.0,null,50.0,30.0,36.0,null,null,9.0,1.0,4.0,null,null,45.0,40.0,36.0,32.0,19.0,19.0,3.0,44.0,58.0,null,42.0,null,24.0,28.0,null,34.0,45.5,18.0,2.0,32.0,26.0,16.0,40.0,24.0,35.0,22.0,30.0,null,31.0,27.0,42.0,32.0,30.0,16.0,27.0,51.0,null,38.0,22.0,19.0,20.5,18.0,null,35.0,29.0,59.0,5.0,24.0,null,44.0,8.0,19.0,33.0,null,null,29.0,22.0,30.0,44.0,25.0,24.0,37.0,54.0,null,29.0,62.0,30.0,41.0,29.0,null,30.0,35.0,50.0,null,3.0,52.0,40.0,null,36.0,16.0,25.0,58.0,35.0,null,25.0,41.0,37.0,null,63.0,45.0,null,7.0,35.0,65.0,28.0,16.0,19.0,null,33.0,30.0,22.0,42.0,22.0,26.0,19.0,36.0,24.0,24.0,null,23.5,2.0,null,50.0,null,null,19.0,null,null,0.92,null,17.0,30.0,30.0,24.0,18.0,26.0,28.0,43.0,26.0,24.0,54.0,31.0,40.0,22.0,27.0,30.0,22.0,null,36.0,61.0,36.0,31.0,16.0,null,45.5,38.0,16.0,null,null,29.0,41.0,45.0,45.0,2.0,24.0,28.0,25.0,36.0,24.0,40.0,null,3.0,42.0,23.0,null,15.0,25.0,null,28.0,22.0,38.0,null,null,40.0,29.0,45.0,35.0,null,30.0,60.0,null,null,24.0,25.0,18.0,19.0,22.0,3.0,null,22.0,27.0,20.0,19.0,42.0,1.0,32.0,35.0,null,18.0,1.0,36.0,null,17.0,36.0,21.0,28.0,23.0,24.0,22.0,31.0,46.0,23.0,28.0,39.0,26.0,21.0,28.0,20.0,34.0,51.0,3.0,21.0,null,null,null,33.0,null,44.0,null,34.0,18.0,30.0,10.0,null,21.0,29.0,28.0,18.0,null,28.0,19.0,null,32.0,28.0,null,42.0,17.0,50.0,14.0,21.0,24.0,64.0,31.0,45.0,20.0,25.0,28.0,null,4.0,13.0,34.0,5.0,52.0,36.0,null,30.0,49.0,null,29.0,65.0,null,50.0,null,48.0,34.0,47.0,48.0,null,38.0,null,56.0,null,0.75,null,38.0,33.0,23.0,22.0,null,34.0,29.0,22.0,2.0,9.0,null,50.0,63.0,25.0,null,35.0,58.0,30.0,9.0,null,21.0,55.0,71.0,21.0,null,54.0,null,25.0,24.0,17.0,21.0,null,37.0,16.0,18.0,33.0,null,28.0,26.0,29.0,null,36.0,54.0,24.0,47.0,34.0,null,36.0,32.0,30.0,22.0,null,44.0,null,40.5,50.0,null,39.0,23.0,2.0,null,17.0,null,30.0,7.0,45.0,30.0,null,22.0,36.0,9.0,11.0,32.0,50.0,64.0,19.0,null,33.0,8.0,17.0,27.0,null,22.0,22.0,62.0,48.0,null,39.0,36.0,null,40.0,28.0,null,null,24.0,19.0,29.0,null,32.0,62.0,53.0,36.0,null,16.0,19.0,34.0,39.0,null,32.0,25.0,39.0,54.0,36.0,null,18.0,47.0,60.0,22.0,null,35.0,52.0,47.0,null,37.0,36.0,null,49.0,null,49.0,24.0,null,null,44.0,35.0,36.0,30.0,27.0,22.0,40.0,39.0,null,null,null,35.0,24.0,34.0,26.0,4.0,26.0,27.0,42.0,20.0,21.0,21.0,61.0,57.0,21.0,26.0,null,80.0,51.0,32.0,null,9.0,28.0,32.0,31.0,41.0,null,20.0,24.0,2.0,null,0.75,48.0,19.0,56.0,null,23.0,null,18.0,21.0,null,18.0,24.0,null,32.0,23.0,58.0,50.0,40.0,47.0,36.0,20.0,32.0,25.0,null,43.0,null,40.0,31.0,70.0,31.0,null,18.0,24.5,18.0,43.0,36.0,null,27.0,20.0,14.0,60.0,25.0,14.0,19.0,18.0,15.0,31.0,4.0,null,25.0,60.0,52.0,44.0,null,49.0,42.0,18.0,35.0,18.0,25.0,26.0,39.0,45.0,42.0,22.0,null,24.0,null,48.0,29.0,52.0,19.0,38.0,27.0,null,33.0,6.0,17.0,34.0,50.0,27.0,20.0,30.0,null,25.0,25.0,29.0,11.0,null,23.0,23.0,28.5,48.0,35.0,null,null,null,36.0,21.0,24.0,31.0,70.0,16.0,30.0,19.0,31.0,4.0,6.0,33.0,23.0,48.0,0.67,28.0,18.0,34.0,33.0,null,41.0,20.0,36.0,16.0,51.0,null,30.5,null,32.0,24.0,48.0,57.0,null,54.0,18.0,null,5.0,null,43.0,13.0,17.0,29.0,null,25.0,25.0,18.0,8.0,1.0,46.0,null,16.0,null,null,25.0,39.0,49.0,31.0,30.0,30.0,34.0,31.0,11.0,0.42,27.0,31.0,39.0,18.0,39.0,33.0,26.0,39.0,35.0,6.0,30.5,null,23.0,31.0,43.0,10.0,52.0,27.0,38.0,27.0,2.0,null,null,1.0,null,62.0,15.0,0.83,null,23.0,18.0,39.0,21.0,null,32.0,null,20.0,16.0,30.0,34.5,17.0,42.0,null,35.0,28.0,null,4.0,74.0,9.0,16.0,44.0,18.0,45.0,51.0,24.0,null,41.0,21.0,48.0,null,24.0,42.0,27.0,31.0,null,4.0,26.0,47.0,33.0,47.0,28.0,15.0,20.0,19.0,null,56.0,25.0,33.0,22.0,28.0,25.0,39.0,27.0,19.0,null,26.0,32.0,7.25,71.2833,7.925,53.1,8.05,8.4583,51.8625,21.075,11.1333,30.0708,16.7,26.55,8.05,31.275,7.8542,16.0,29.125,13.0,18.0,7.225,26.0,13.0,8.0292,35.5,21.075,31.3875,7.225,263.0,7.8792,7.8958,27.7208,146.5208,7.75,10.5,82.1708,52.0,7.2292,8.05,18.0,11.2417,9.475,21.0,7.8958,41.5792,7.8792,8.05,15.5,7.75,21.6792,17.8,39.6875,7.8,76.7292,26.0,61.9792,35.5,10.5,7.2292,27.75,46.9,7.2292,80.0,83.475,27.9,27.7208,15.2458,10.5,8.1583,7.925,8.6625,10.5,46.9,73.5,14.4542,56.4958,7.65,7.8958,8.05,29.0,12.475,9.0,9.5,7.7875,47.1,10.5,15.85,34.375,8.05,263.0,8.05,8.05,7.8542,61.175,20.575,7.25,8.05,34.6542,63.3583,23.0,26.0,7.8958,7.8958,77.2875,8.6542,7.925,7.8958,7.65,7.775,7.8958,24.15,52.0,14.4542,8.05,9.825,14.4583,7.925,7.75,21.0,247.5208,31.275,73.5,8.05,30.0708,13.0,77.2875,11.2417,7.75,7.1417,22.3583,6.975,7.8958,7.05,14.5,26.0,13.0,15.0458,26.2833,53.1,9.2167,79.2,15.2458,7.75,15.85,6.75,11.5,36.75,7.7958,34.375,26.0,13.0,12.525,66.6,8.05,14.5,7.3125,61.3792,7.7333,8.05,8.6625,69.55,16.1,15.75,7.775,8.6625,39.6875,20.525,55.0,27.9,25.925,56.4958,33.5,29.125,11.1333,7.925,30.6958,7.8542,25.4667,28.7125,13.0,0.0,69.55,15.05,31.3875,39.0,22.025,50.0,15.5,26.55,15.5,7.8958,13.0,13.0,7.8542,26.0,27.7208,146.5208,7.75,8.4042,7.75,13.0,9.5,69.55,6.4958,7.225,8.05,10.4625,15.85,18.7875,7.75,31.0,7.05,21.0,7.25,13.0,7.75,113.275,7.925,27.0,76.2917,10.5,8.05,13.0,8.05,7.8958,90.0,9.35,10.5,7.25,13.0,25.4667,83.475,7.775,13.5,31.3875,10.5,7.55,26.0,26.25,10.5,12.275,14.4542,15.5,10.5,7.125,7.225,90.0,7.775,14.5,52.5542,26.0,7.25,10.4625,26.55,16.1,20.2125,15.2458,79.2,86.5,512.3292,26.0,7.75,31.3875,79.65,0.0,7.75,10.5,39.6875,7.775,153.4625,135.6333,31.0,0.0,19.5,29.7,7.75,77.9583,7.75,0.0,29.125,20.25,7.75,7.8542,9.5,8.05,26.0,8.6625,9.5,7.8958,13.0,7.75,78.85,91.0792,12.875,8.85,7.8958,27.7208,7.2292,151.55,30.5,247.5208,7.75,23.25,0.0,12.35,8.05,151.55,110.8833,108.9,24.0,56.9292,83.1583,262.375,26.0,7.8958,26.25,7.8542,26.0,14.0,164.8667,134.5,7.25,7.8958,12.35,29.0,69.55,135.6333,6.2375,13.0,20.525,57.9792,23.25,28.5,153.4625,18.0,133.65,7.8958,66.6,134.5,8.05,35.5,26.0,263.0,13.0,13.0,13.0,13.0,13.0,16.1,15.9,8.6625,9.225,35.0,7.2292,17.8,7.225,9.5,55.0,13.0,7.8792,7.8792,27.9,27.7208,14.4542,7.05,15.5,7.25,75.25,7.2292,7.75,69.3,55.4417,6.4958,8.05,135.6333,21.075,82.1708,7.25,211.5,4.0125,7.775,227.525,15.7417,7.925,52.0,7.8958,73.5,46.9,13.0,7.7292,12.0,120.0,7.7958,7.925,113.275,16.7,7.7958,7.8542,26.0,10.5,12.65,7.925,8.05,9.825,15.85,8.6625,21.0,7.75,18.75,7.775,25.4667,7.8958,6.8583,90.0,0.0,7.925,8.05,32.5,13.0,13.0,24.15,7.8958,7.7333,7.875,14.4,20.2125,7.25,26.0,26.0,7.75,8.05,26.55,16.1,26.0,7.125,55.9,120.0,34.375,18.75,263.0,10.5,26.25,9.5,7.775,13.0,8.1125,81.8583,19.5,26.55,19.2583,30.5,27.75,19.9667,27.75,89.1042,8.05,7.8958,26.55,51.8625,10.5,7.75,26.55,8.05,38.5,13.0,8.05,7.05,0.0,26.55,7.725,19.2583,7.25,8.6625,27.75,13.7917,9.8375,52.0,21.0,7.0458,7.5208,12.2875,46.9,0.0,8.05,9.5875,91.0792,25.4667,90.0,29.7,8.05,15.9,19.9667,7.25,30.5,49.5042,8.05,14.4583,78.2667,15.1,151.55,7.7958,8.6625,7.75,7.6292,9.5875,86.5,108.9,26.0,26.55,22.525,56.4958,7.75,8.05,26.2875,59.4,7.4958,34.0208,10.5,24.15,26.0,7.8958,93.5,7.8958,7.225,57.9792,7.2292,7.75,10.5,221.7792,7.925,11.5,26.0,7.2292,7.2292,22.3583,8.6625,26.25,26.55,106.425,14.5,49.5,71.0,31.275,31.275,26.0,106.425,26.0,26.0,13.8625,20.525,36.75,110.8833,26.0,7.8292,7.225,7.775,26.55,39.6,227.525,79.65,17.4,7.75,7.8958,13.5,8.05,8.05,24.15,7.8958,21.075,7.2292,7.8542,10.5,51.4792,26.3875,7.75,8.05,14.5,13.0,55.9,14.4583,7.925,30.0,110.8833,26.0,40.125,8.7125,79.65,15.0,79.2,8.05,8.05,7.125,78.2667,7.25,7.75,26.0,24.15,33.0,0.0,7.225,56.9292,27.0,7.8958,42.4,8.05,26.55,15.55,7.8958,30.5,41.5792,153.4625,31.275,7.05,15.5,7.75,8.05,65.0,14.4,16.1,39.0,10.5,14.4542,52.5542,15.7417,7.8542,16.1,32.3208,12.35,77.9583,7.8958,7.7333,30.0,7.0542,30.5,0.0,27.9,13.0,7.925,26.25,39.6875,16.1,7.8542,69.3,27.9,56.4958,19.2583,76.7292,7.8958,35.5,7.55,7.55,7.8958,23.0,8.4333,7.8292,6.75,73.5,7.8958,15.5,13.0,113.275,133.65,7.225,25.5875,7.4958,7.925,73.5,13.0,7.775,8.05,52.0,39.0,52.0,10.5,13.0,0.0,7.775,8.05,9.8417,46.9,512.3292,8.1375,76.7292,9.225,46.9,39.0,41.5792,39.6875,10.1708,7.7958,211.3375,57.0,13.4167,56.4958,7.225,26.55,13.5,8.05,7.7333,110.8833,7.65,227.525,26.2875,14.4542,7.7417,7.8542,26.0,13.5,26.2875,151.55,15.2458,49.5042,26.55,52.0,9.4833,13.0,7.65,227.525,10.5,15.5,7.775,33.0,7.0542,13.0,13.0,53.1,8.6625,21.0,7.7375,26.0,7.925,211.3375,18.7875,0.0,13.0,13.0,16.1,34.375,512.3292,7.8958,7.8958,30.0,78.85,262.375,16.1,7.925,71.0,20.25,13.0,53.1,7.75,23.0,12.475,9.5,7.8958,65.0,14.5,7.7958,11.5,8.05,86.5,14.5,7.125,7.2292,120.0,7.775,77.9583,39.6,7.75,24.15,8.3625,9.5,7.8542,10.5,7.225,23.0,7.75,7.75,12.475,7.7375,211.3375,7.2292,57.0,30.0,23.45,7.05,7.25,7.4958,29.125,20.575,79.2,7.75,26.0,69.55,30.6958,7.8958,13.0,25.9292,8.6833,7.2292,24.15,13.0,26.25,120.0,8.5167,6.975,7.775,0.0,7.775,13.0,53.1,7.8875,24.15,10.5,31.275,8.05,0.0,7.925,37.0042,6.45,27.9,93.5,8.6625,0.0,12.475,39.6875,6.95,56.4958,37.0042,7.75,80.0,14.4542,18.75,7.2292,7.8542,8.3,83.1583,8.6625,8.05,56.4958,29.7,7.925,10.5,31.0,6.4375,8.6625,7.55,69.55,7.8958,33.0,89.1042,31.275,7.775,15.2458,39.4,26.0,9.35,164.8667,26.55,19.2583,7.2292,14.1083,11.5,25.9292,69.55,13.0,13.0,13.8583,50.4958,9.5,11.1333,7.8958,52.5542,5.0,9.0,24.0,7.225,9.8458,7.8958,7.8958,83.1583,26.0,7.8958,10.5167,10.5,7.05,29.125,13.0,30.0,23.45,30.0,7.75],\"y0\":\" \",\"yaxis\":\"y\",\"type\":\"box\"}],                        {\"template\":{\"data\":{\"barpolar\":[{\"marker\":{\"line\":{\"color\":\"rgb(17,17,17)\",\"width\":0.5},\"pattern\":{\"fillmode\":\"overlay\",\"size\":10,\"solidity\":0.2}},\"type\":\"barpolar\"}],\"bar\":[{\"error_x\":{\"color\":\"#f2f5fa\"},\"error_y\":{\"color\":\"#f2f5fa\"},\"marker\":{\"line\":{\"color\":\"rgb(17,17,17)\",\"width\":0.5},\"pattern\":{\"fillmode\":\"overlay\",\"size\":10,\"solidity\":0.2}},\"type\":\"bar\"}],\"carpet\":[{\"aaxis\":{\"endlinecolor\":\"#A2B1C6\",\"gridcolor\":\"#506784\",\"linecolor\":\"#506784\",\"minorgridcolor\":\"#506784\",\"startlinecolor\":\"#A2B1C6\"},\"baxis\":{\"endlinecolor\":\"#A2B1C6\",\"gridcolor\":\"#506784\",\"linecolor\":\"#506784\",\"minorgridcolor\":\"#506784\",\"startlinecolor\":\"#A2B1C6\"},\"type\":\"carpet\"}],\"choropleth\":[{\"colorbar\":{\"outlinewidth\":0,\"ticks\":\"\"},\"type\":\"choropleth\"}],\"contourcarpet\":[{\"colorbar\":{\"outlinewidth\":0,\"ticks\":\"\"},\"type\":\"contourcarpet\"}],\"contour\":[{\"colorbar\":{\"outlinewidth\":0,\"ticks\":\"\"},\"colorscale\":[[0.0,\"#0d0887\"],[0.1111111111111111,\"#46039f\"],[0.2222222222222222,\"#7201a8\"],[0.3333333333333333,\"#9c179e\"],[0.4444444444444444,\"#bd3786\"],[0.5555555555555556,\"#d8576b\"],[0.6666666666666666,\"#ed7953\"],[0.7777777777777778,\"#fb9f3a\"],[0.8888888888888888,\"#fdca26\"],[1.0,\"#f0f921\"]],\"type\":\"contour\"}],\"heatmapgl\":[{\"colorbar\":{\"outlinewidth\":0,\"ticks\":\"\"},\"colorscale\":[[0.0,\"#0d0887\"],[0.1111111111111111,\"#46039f\"],[0.2222222222222222,\"#7201a8\"],[0.3333333333333333,\"#9c179e\"],[0.4444444444444444,\"#bd3786\"],[0.5555555555555556,\"#d8576b\"],[0.6666666666666666,\"#ed7953\"],[0.7777777777777778,\"#fb9f3a\"],[0.8888888888888888,\"#fdca26\"],[1.0,\"#f0f921\"]],\"type\":\"heatmapgl\"}],\"heatmap\":[{\"colorbar\":{\"outlinewidth\":0,\"ticks\":\"\"},\"colorscale\":[[0.0,\"#0d0887\"],[0.1111111111111111,\"#46039f\"],[0.2222222222222222,\"#7201a8\"],[0.3333333333333333,\"#9c179e\"],[0.4444444444444444,\"#bd3786\"],[0.5555555555555556,\"#d8576b\"],[0.6666666666666666,\"#ed7953\"],[0.7777777777777778,\"#fb9f3a\"],[0.8888888888888888,\"#fdca26\"],[1.0,\"#f0f921\"]],\"type\":\"heatmap\"}],\"histogram2dcontour\":[{\"colorbar\":{\"outlinewidth\":0,\"ticks\":\"\"},\"colorscale\":[[0.0,\"#0d0887\"],[0.1111111111111111,\"#46039f\"],[0.2222222222222222,\"#7201a8\"],[0.3333333333333333,\"#9c179e\"],[0.4444444444444444,\"#bd3786\"],[0.5555555555555556,\"#d8576b\"],[0.6666666666666666,\"#ed7953\"],[0.7777777777777778,\"#fb9f3a\"],[0.8888888888888888,\"#fdca26\"],[1.0,\"#f0f921\"]],\"type\":\"histogram2dcontour\"}],\"histogram2d\":[{\"colorbar\":{\"outlinewidth\":0,\"ticks\":\"\"},\"colorscale\":[[0.0,\"#0d0887\"],[0.1111111111111111,\"#46039f\"],[0.2222222222222222,\"#7201a8\"],[0.3333333333333333,\"#9c179e\"],[0.4444444444444444,\"#bd3786\"],[0.5555555555555556,\"#d8576b\"],[0.6666666666666666,\"#ed7953\"],[0.7777777777777778,\"#fb9f3a\"],[0.8888888888888888,\"#fdca26\"],[1.0,\"#f0f921\"]],\"type\":\"histogram2d\"}],\"histogram\":[{\"marker\":{\"pattern\":{\"fillmode\":\"overlay\",\"size\":10,\"solidity\":0.2}},\"type\":\"histogram\"}],\"mesh3d\":[{\"colorbar\":{\"outlinewidth\":0,\"ticks\":\"\"},\"type\":\"mesh3d\"}],\"parcoords\":[{\"line\":{\"colorbar\":{\"outlinewidth\":0,\"ticks\":\"\"}},\"type\":\"parcoords\"}],\"pie\":[{\"automargin\":true,\"type\":\"pie\"}],\"scatter3d\":[{\"line\":{\"colorbar\":{\"outlinewidth\":0,\"ticks\":\"\"}},\"marker\":{\"colorbar\":{\"outlinewidth\":0,\"ticks\":\"\"}},\"type\":\"scatter3d\"}],\"scattercarpet\":[{\"marker\":{\"colorbar\":{\"outlinewidth\":0,\"ticks\":\"\"}},\"type\":\"scattercarpet\"}],\"scattergeo\":[{\"marker\":{\"colorbar\":{\"outlinewidth\":0,\"ticks\":\"\"}},\"type\":\"scattergeo\"}],\"scattergl\":[{\"marker\":{\"line\":{\"color\":\"#283442\"}},\"type\":\"scattergl\"}],\"scattermapbox\":[{\"marker\":{\"colorbar\":{\"outlinewidth\":0,\"ticks\":\"\"}},\"type\":\"scattermapbox\"}],\"scatterpolargl\":[{\"marker\":{\"colorbar\":{\"outlinewidth\":0,\"ticks\":\"\"}},\"type\":\"scatterpolargl\"}],\"scatterpolar\":[{\"marker\":{\"colorbar\":{\"outlinewidth\":0,\"ticks\":\"\"}},\"type\":\"scatterpolar\"}],\"scatter\":[{\"marker\":{\"line\":{\"color\":\"#283442\"}},\"type\":\"scatter\"}],\"scatterternary\":[{\"marker\":{\"colorbar\":{\"outlinewidth\":0,\"ticks\":\"\"}},\"type\":\"scatterternary\"}],\"surface\":[{\"colorbar\":{\"outlinewidth\":0,\"ticks\":\"\"},\"colorscale\":[[0.0,\"#0d0887\"],[0.1111111111111111,\"#46039f\"],[0.2222222222222222,\"#7201a8\"],[0.3333333333333333,\"#9c179e\"],[0.4444444444444444,\"#bd3786\"],[0.5555555555555556,\"#d8576b\"],[0.6666666666666666,\"#ed7953\"],[0.7777777777777778,\"#fb9f3a\"],[0.8888888888888888,\"#fdca26\"],[1.0,\"#f0f921\"]],\"type\":\"surface\"}],\"table\":[{\"cells\":{\"fill\":{\"color\":\"#506784\"},\"line\":{\"color\":\"rgb(17,17,17)\"}},\"header\":{\"fill\":{\"color\":\"#2a3f5f\"},\"line\":{\"color\":\"rgb(17,17,17)\"}},\"type\":\"table\"}]},\"layout\":{\"annotationdefaults\":{\"arrowcolor\":\"#f2f5fa\",\"arrowhead\":0,\"arrowwidth\":1},\"autotypenumbers\":\"strict\",\"coloraxis\":{\"colorbar\":{\"outlinewidth\":0,\"ticks\":\"\"}},\"colorscale\":{\"diverging\":[[0,\"#8e0152\"],[0.1,\"#c51b7d\"],[0.2,\"#de77ae\"],[0.3,\"#f1b6da\"],[0.4,\"#fde0ef\"],[0.5,\"#f7f7f7\"],[0.6,\"#e6f5d0\"],[0.7,\"#b8e186\"],[0.8,\"#7fbc41\"],[0.9,\"#4d9221\"],[1,\"#276419\"]],\"sequential\":[[0.0,\"#0d0887\"],[0.1111111111111111,\"#46039f\"],[0.2222222222222222,\"#7201a8\"],[0.3333333333333333,\"#9c179e\"],[0.4444444444444444,\"#bd3786\"],[0.5555555555555556,\"#d8576b\"],[0.6666666666666666,\"#ed7953\"],[0.7777777777777778,\"#fb9f3a\"],[0.8888888888888888,\"#fdca26\"],[1.0,\"#f0f921\"]],\"sequentialminus\":[[0.0,\"#0d0887\"],[0.1111111111111111,\"#46039f\"],[0.2222222222222222,\"#7201a8\"],[0.3333333333333333,\"#9c179e\"],[0.4444444444444444,\"#bd3786\"],[0.5555555555555556,\"#d8576b\"],[0.6666666666666666,\"#ed7953\"],[0.7777777777777778,\"#fb9f3a\"],[0.8888888888888888,\"#fdca26\"],[1.0,\"#f0f921\"]]},\"colorway\":[\"#636efa\",\"#EF553B\",\"#00cc96\",\"#ab63fa\",\"#FFA15A\",\"#19d3f3\",\"#FF6692\",\"#B6E880\",\"#FF97FF\",\"#FECB52\"],\"font\":{\"color\":\"#f2f5fa\"},\"geo\":{\"bgcolor\":\"rgb(17,17,17)\",\"lakecolor\":\"rgb(17,17,17)\",\"landcolor\":\"rgb(17,17,17)\",\"showlakes\":true,\"showland\":true,\"subunitcolor\":\"#506784\"},\"hoverlabel\":{\"align\":\"left\"},\"hovermode\":\"closest\",\"mapbox\":{\"style\":\"dark\"},\"paper_bgcolor\":\"rgb(17,17,17)\",\"plot_bgcolor\":\"rgb(17,17,17)\",\"polar\":{\"angularaxis\":{\"gridcolor\":\"#506784\",\"linecolor\":\"#506784\",\"ticks\":\"\"},\"bgcolor\":\"rgb(17,17,17)\",\"radialaxis\":{\"gridcolor\":\"#506784\",\"linecolor\":\"#506784\",\"ticks\":\"\"}},\"scene\":{\"xaxis\":{\"backgroundcolor\":\"rgb(17,17,17)\",\"gridcolor\":\"#506784\",\"gridwidth\":2,\"linecolor\":\"#506784\",\"showbackground\":true,\"ticks\":\"\",\"zerolinecolor\":\"#C8D4E3\"},\"yaxis\":{\"backgroundcolor\":\"rgb(17,17,17)\",\"gridcolor\":\"#506784\",\"gridwidth\":2,\"linecolor\":\"#506784\",\"showbackground\":true,\"ticks\":\"\",\"zerolinecolor\":\"#C8D4E3\"},\"zaxis\":{\"backgroundcolor\":\"rgb(17,17,17)\",\"gridcolor\":\"#506784\",\"gridwidth\":2,\"linecolor\":\"#506784\",\"showbackground\":true,\"ticks\":\"\",\"zerolinecolor\":\"#C8D4E3\"}},\"shapedefaults\":{\"line\":{\"color\":\"#f2f5fa\"}},\"sliderdefaults\":{\"bgcolor\":\"#C8D4E3\",\"bordercolor\":\"rgb(17,17,17)\",\"borderwidth\":1,\"tickwidth\":0},\"ternary\":{\"aaxis\":{\"gridcolor\":\"#506784\",\"linecolor\":\"#506784\",\"ticks\":\"\"},\"baxis\":{\"gridcolor\":\"#506784\",\"linecolor\":\"#506784\",\"ticks\":\"\"},\"bgcolor\":\"rgb(17,17,17)\",\"caxis\":{\"gridcolor\":\"#506784\",\"linecolor\":\"#506784\",\"ticks\":\"\"}},\"title\":{\"x\":0.05},\"updatemenudefaults\":{\"bgcolor\":\"#506784\",\"borderwidth\":0},\"xaxis\":{\"automargin\":true,\"gridcolor\":\"#283442\",\"linecolor\":\"#506784\",\"ticks\":\"\",\"title\":{\"standoff\":15},\"zerolinecolor\":\"#283442\",\"zerolinewidth\":2},\"yaxis\":{\"automargin\":true,\"gridcolor\":\"#283442\",\"linecolor\":\"#506784\",\"ticks\":\"\",\"title\":{\"standoff\":15},\"zerolinecolor\":\"#283442\",\"zerolinewidth\":2}}},\"xaxis\":{\"anchor\":\"y\",\"domain\":[0.0,1.0],\"title\":{\"text\":\"variable\"}},\"yaxis\":{\"anchor\":\"x\",\"domain\":[0.0,1.0],\"title\":{\"text\":\"value\"}},\"legend\":{\"tracegroupgap\":0},\"title\":{\"text\":\"Outlier Detection in Columns Age & Fare\"},\"boxmode\":\"group\"},                        {\"responsive\": true}                    ).then(function(){\n",
       "                            \n",
       "var gd = document.getElementById('7981ce5c-fb9a-4e6b-89c6-1707726efff2');\n",
       "var x = new MutationObserver(function (mutations, observer) {{\n",
       "        var display = window.getComputedStyle(gd).display;\n",
       "        if (!display || display === 'none') {{\n",
       "            console.log([gd, 'removed!']);\n",
       "            Plotly.purge(gd);\n",
       "            observer.disconnect();\n",
       "        }}\n",
       "}});\n",
       "\n",
       "// Listen for the removal of the full notebook cells\n",
       "var notebookContainer = gd.closest('#notebook-container');\n",
       "if (notebookContainer) {{\n",
       "    x.observe(notebookContainer, {childList: true});\n",
       "}}\n",
       "\n",
       "// Listen for the clearing of the current output cell\n",
       "var outputEl = gd.closest('.output');\n",
       "if (outputEl) {{\n",
       "    x.observe(outputEl, {childList: true});\n",
       "}}\n",
       "\n",
       "                        })                };                            </script>        </div>\n",
       "</body>\n",
       "</html>"
      ]
     },
     "metadata": {},
     "output_type": "display_data"
    }
   ],
   "source": [
    "cols = ['Age', 'Fare'] \n",
    "\n",
    "\n",
    "fig = px.box(df,\n",
    "             y = cols, \n",
    "             template = 'plotly_dark',\n",
    "             title = 'Outlier Detection in Columns Age & Fare')   \n",
    "\n",
    "fig.show() "
   ]
  },
  {
   "cell_type": "markdown",
   "id": "f09a066c",
   "metadata": {
    "papermill": {
     "duration": 0.014761,
     "end_time": "2025-05-25T14:50:58.742491",
     "exception": false,
     "start_time": "2025-05-25T14:50:58.727730",
     "status": "completed"
    },
    "tags": []
   },
   "source": [
    "###  📝 ***Conclusions from Data Exploration***"
   ]
  },
  {
   "cell_type": "markdown",
   "id": "b870ea49",
   "metadata": {
    "papermill": {
     "duration": 0.015222,
     "end_time": "2025-05-25T14:50:58.772659",
     "exception": false,
     "start_time": "2025-05-25T14:50:58.757437",
     "status": "completed"
    },
    "tags": []
   },
   "source": [
    "1. The columns have float datatypes are 2, integer datatype are 5, object datatype are 5. \n",
    "\n",
    "2. There are 891 rows and 12 columns in the DataFrame.\n",
    "\n",
    "3. Column Cabin has 687 missing values, Column Age has 177 and Column Embarked has 2 missing values.\n",
    "\n",
    "4. For Column Age, the maximum age is 80, and the minimum is 0.42 years old.\n",
    "\n",
    "5. The maximum fare is 512.329.  "
   ]
  },
  {
   "cell_type": "markdown",
   "id": "7881e569",
   "metadata": {
    "papermill": {
     "duration": 0.014141,
     "end_time": "2025-05-25T14:50:58.801153",
     "exception": false,
     "start_time": "2025-05-25T14:50:58.787012",
     "status": "completed"
    },
    "tags": []
   },
   "source": [
    "# 🔨  ***Data Cleaning & Preprocessing***  "
   ]
  },
  {
   "cell_type": "markdown",
   "id": "596f2645",
   "metadata": {
    "papermill": {
     "duration": 0.014466,
     "end_time": "2025-05-25T14:50:58.830052",
     "exception": false,
     "start_time": "2025-05-25T14:50:58.815586",
     "status": "completed"
    },
    "tags": []
   },
   "source": [
    "### 1. 🔍 **Col: PassengerId**\n",
    "\n",
    "*  \"PassengerId\" is an arbitrary identifier assigned to each passenger."
   ]
  },
  {
   "cell_type": "code",
   "execution_count": 12,
   "id": "bcc1205c",
   "metadata": {
    "execution": {
     "iopub.execute_input": "2025-05-25T14:50:58.861018Z",
     "iopub.status.busy": "2025-05-25T14:50:58.860639Z",
     "iopub.status.idle": "2025-05-25T14:50:58.866771Z",
     "shell.execute_reply": "2025-05-25T14:50:58.865596Z"
    },
    "papermill": {
     "duration": 0.023761,
     "end_time": "2025-05-25T14:50:58.868785",
     "exception": false,
     "start_time": "2025-05-25T14:50:58.845024",
     "status": "completed"
    },
    "tags": []
   },
   "outputs": [],
   "source": [
    "df.drop(['PassengerId'], axis=1, inplace=True)  "
   ]
  },
  {
   "cell_type": "markdown",
   "id": "930ca073",
   "metadata": {
    "papermill": {
     "duration": 0.014382,
     "end_time": "2025-05-25T14:50:58.897904",
     "exception": false,
     "start_time": "2025-05-25T14:50:58.883522",
     "status": "completed"
    },
    "tags": []
   },
   "source": [
    "### 2. 🔍 **Col: Sex**\n",
    "\n",
    "* Convert to numerical features which would be better for prediction. "
   ]
  },
  {
   "cell_type": "code",
   "execution_count": 13,
   "id": "f0332ab0",
   "metadata": {
    "execution": {
     "iopub.execute_input": "2025-05-25T14:50:58.928800Z",
     "iopub.status.busy": "2025-05-25T14:50:58.928366Z",
     "iopub.status.idle": "2025-05-25T14:50:58.935384Z",
     "shell.execute_reply": "2025-05-25T14:50:58.933894Z"
    },
    "papermill": {
     "duration": 0.024677,
     "end_time": "2025-05-25T14:50:58.937358",
     "exception": false,
     "start_time": "2025-05-25T14:50:58.912681",
     "status": "completed"
    },
    "tags": []
   },
   "outputs": [],
   "source": [
    "df['Sex'] = df['Sex'].map({'male': 0, \n",
    "                           'female':1})    "
   ]
  },
  {
   "cell_type": "markdown",
   "id": "14364e79",
   "metadata": {
    "papermill": {
     "duration": 0.014382,
     "end_time": "2025-05-25T14:50:58.966224",
     "exception": false,
     "start_time": "2025-05-25T14:50:58.951842",
     "status": "completed"
    },
    "tags": []
   },
   "source": [
    "### 3. 🔍 **Col: Age** "
   ]
  },
  {
   "cell_type": "code",
   "execution_count": 14,
   "id": "699322e6",
   "metadata": {
    "execution": {
     "iopub.execute_input": "2025-05-25T14:50:58.997048Z",
     "iopub.status.busy": "2025-05-25T14:50:58.996626Z",
     "iopub.status.idle": "2025-05-25T14:50:59.008161Z",
     "shell.execute_reply": "2025-05-25T14:50:59.006629Z"
    },
    "papermill": {
     "duration": 0.029385,
     "end_time": "2025-05-25T14:50:59.010264",
     "exception": false,
     "start_time": "2025-05-25T14:50:58.980879",
     "status": "completed"
    },
    "tags": []
   },
   "outputs": [
    {
     "data": {
      "text/plain": [
       "count    714.000000\n",
       "mean      29.699118\n",
       "std       14.526497\n",
       "min        0.420000\n",
       "25%       20.125000\n",
       "50%       28.000000\n",
       "75%       38.000000\n",
       "max       80.000000\n",
       "Name: Age, dtype: float64"
      ]
     },
     "execution_count": 14,
     "metadata": {},
     "output_type": "execute_result"
    }
   ],
   "source": [
    "df['Age'].describe() "
   ]
  },
  {
   "cell_type": "code",
   "execution_count": 15,
   "id": "cbb237ef",
   "metadata": {
    "execution": {
     "iopub.execute_input": "2025-05-25T14:50:59.041392Z",
     "iopub.status.busy": "2025-05-25T14:50:59.041026Z",
     "iopub.status.idle": "2025-05-25T14:50:59.430452Z",
     "shell.execute_reply": "2025-05-25T14:50:59.429204Z"
    },
    "papermill": {
     "duration": 0.407478,
     "end_time": "2025-05-25T14:50:59.432422",
     "exception": false,
     "start_time": "2025-05-25T14:50:59.024944",
     "status": "completed"
    },
    "tags": []
   },
   "outputs": [
    {
     "data": {
      "image/png": "[encoded data removed]",
      "text/plain": [
       "<Figure size 640x480 with 1 Axes>"
      ]
     },
     "metadata": {},
     "output_type": "display_data"
    }
   ],
   "source": [
    "sns.set_style('whitegrid')  \n",
    "sns.histplot(data=df,\n",
    "             x=df['Age'].dropna(), \n",
    "             bins=30,\n",
    "             kde=True)\n",
    "\n",
    "plt.title('Distribution of Age') \n",
    "plt.ylabel('')\n",
    "plt.show() "
   ]
  },
  {
   "cell_type": "markdown",
   "id": "eef05678",
   "metadata": {
    "papermill": {
     "duration": 0.016996,
     "end_time": "2025-05-25T14:50:59.470777",
     "exception": false,
     "start_time": "2025-05-25T14:50:59.453781",
     "status": "completed"
    },
    "tags": []
   },
   "source": [
    "### 📝 ***Conclusion*** :  \n",
    "\n",
    "*  A skewness towards younger passengers between 20-30 years old. "
   ]
  },
  {
   "cell_type": "code",
   "execution_count": 16,
   "id": "a0bff9ec",
   "metadata": {
    "execution": {
     "iopub.execute_input": "2025-05-25T14:50:59.506981Z",
     "iopub.status.busy": "2025-05-25T14:50:59.506583Z",
     "iopub.status.idle": "2025-05-25T14:50:59.564692Z",
     "shell.execute_reply": "2025-05-25T14:50:59.563404Z"
    },
    "papermill": {
     "duration": 0.078488,
     "end_time": "2025-05-25T14:50:59.566726",
     "exception": false,
     "start_time": "2025-05-25T14:50:59.488238",
     "status": "completed"
    },
    "tags": []
   },
   "outputs": [
    {
     "data": {
      "text/html": [
       "<html>\n",
       "<head><meta charset=\"utf-8\" /></head>\n",
       "<body>\n",
       "    <div>            <script src=\"https://cdnjs.cloudflare.com/ajax/libs/mathjax/2.7.5/MathJax.js?config=TeX-AMS-MML_SVG\"></script><script type=\"text/javascript\">if (window.MathJax && window.MathJax.Hub && window.MathJax.Hub.Config) {window.MathJax.Hub.Config({SVG: {font: \"STIX-Web\"}});}</script>                <script type=\"text/javascript\">window.PlotlyConfig = {MathJaxConfig: 'local'};</script>\n",
       "        <script charset=\"utf-8\" src=\"https://cdn.plot.ly/plotly-2.35.2.min.js\"></script>                <div id=\"61b148ef-dba7-459a-aa6f-eb0618d61e3d\" class=\"plotly-graph-div\" style=\"height:525px; width:100%;\"></div>            <script type=\"text/javascript\">                                    window.PLOTLYENV=window.PLOTLYENV || {};                                    if (document.getElementById(\"61b148ef-dba7-459a-aa6f-eb0618d61e3d\")) {                    Plotly.newPlot(                        \"61b148ef-dba7-459a-aa6f-eb0618d61e3d\",                        [{\"alignmentgroup\":\"True\",\"hovertemplate\":\"Pclass=%{x}\\u003cbr\\u003eAge=%{y}\\u003cextra\\u003e\\u003c\\u002fextra\\u003e\",\"legendgroup\":\"\",\"marker\":{\"color\":\"#636efa\"},\"name\":\"\",\"notched\":false,\"offsetgroup\":\"\",\"orientation\":\"v\",\"showlegend\":false,\"x\":[3,1,3,1,3,3,1,3,3,2,3,1,3,3,3,2,3,2,3,3,2,2,3,1,3,3,3,1,3,3,1,1,3,2,1,1,3,3,3,3,3,2,3,2,3,3,3,3,3,3,3,3,1,2,1,1,2,3,2,3,3,1,1,3,1,3,2,3,3,3,2,3,2,3,3,3,3,3,2,3,3,3,3,1,2,3,3,3,1,3,3,3,1,3,3,3,1,1,2,2,3,3,1,3,3,3,3,3,3,3,1,3,3,3,3,3,3,2,1,3,2,3,2,2,1,3,3,3,3,3,3,3,3,2,2,2,1,1,3,1,3,3,3,3,2,2,3,3,2,2,2,1,3,3,3,1,3,3,3,3,3,2,3,3,3,3,1,3,1,3,1,3,3,3,1,3,3,1,2,3,3,2,3,2,3,1,3,1,3,3,2,2,3,2,1,1,3,3,3,2,3,3,3,3,3,3,3,3,3,1,3,2,3,2,3,1,3,2,1,2,3,2,3,3,1,3,2,3,2,3,1,3,2,3,2,3,2,2,2,2,3,3,2,3,3,1,3,2,1,2,3,3,1,3,3,3,1,1,1,2,3,3,1,1,3,2,3,3,1,1,1,3,2,1,3,1,3,2,3,3,3,3,3,3,1,3,3,3,2,3,1,1,2,3,3,1,3,1,1,1,3,3,3,2,3,1,1,1,2,1,1,1,2,3,2,3,2,2,1,1,3,3,2,2,3,1,3,2,3,1,3,1,1,3,1,3,1,1,3,1,2,1,2,2,2,2,2,3,3,3,3,1,3,3,3,3,1,2,3,3,3,2,3,3,3,3,1,3,3,1,1,3,3,1,3,1,3,1,3,3,1,3,3,1,3,2,3,2,3,2,1,3,3,1,3,3,3,2,2,2,3,3,3,3,3,2,3,2,3,3,3,3,1,2,3,3,2,2,2,3,3,3,3,3,3,3,2,2,3,3,1,3,2,3,1,1,3,2,1,2,2,3,3,2,3,1,2,1,3,1,2,3,1,1,3,3,1,1,2,3,1,3,1,2,3,3,2,1,3,3,3,3,2,2,3,1,2,3,3,3,3,2,3,3,1,3,1,1,3,3,3,3,1,1,3,3,1,3,1,3,3,3,3,3,1,1,2,1,3,3,3,3,1,1,3,1,2,3,2,3,1,3,3,1,3,3,2,1,3,2,2,3,3,3,3,2,1,1,3,1,1,3,3,2,1,1,2,2,3,2,1,2,3,3,3,1,1,1,1,3,3,3,2,3,3,3,3,3,3,3,2,1,1,3,3,3,2,1,3,3,2,1,2,1,3,1,2,1,3,3,3,1,3,3,2,3,2,3,3,1,2,3,1,3,1,3,3,1,2,1,3,3,3,3,3,2,3,3,2,2,3,1,3,3,3,1,2,1,3,3,1,3,1,1,3,2,3,2,3,3,3,1,3,3,3,1,3,1,3,3,3,2,3,3,3,2,3,3,2,1,1,3,1,3,3,2,2,3,3,1,2,1,2,2,2,3,3,3,3,1,3,1,3,3,2,2,3,3,3,1,1,3,3,3,1,2,3,3,1,3,1,1,3,3,3,2,2,1,1,3,1,1,1,3,2,3,1,2,3,3,2,3,2,2,1,3,2,3,2,3,1,3,2,2,2,3,3,1,3,3,1,1,1,3,3,1,3,2,1,3,2,3,3,3,2,2,3,2,3,1,3,3,3,1,3,1,1,3,3,3,3,3,2,3,2,3,3,3,3,1,3,1,1,3,3,3,3,3,3,1,3,2,3,1,3,2,1,3,3,3,2,2,1,3,3,3,1,3,2,1,3,3,2,3,3,1,3,2,3,3,1,3,1,3,3,3,3,2,3,1,3,2,3,3,3,1,3,3,3,1,3,2,1,3,3,3,3,3,2,1,3,3,3,1,2,3,1,1,3,3,3,2,1,3,2,2,2,1,3,3,3,1,1,3,2,3,3,3,3,1,2,3,3,2,3,3,2,1,3,1,3],\"x0\":\" \",\"xaxis\":\"x\",\"y\":[22.0,38.0,26.0,35.0,35.0,null,54.0,2.0,27.0,14.0,4.0,58.0,20.0,39.0,14.0,55.0,2.0,null,31.0,null,35.0,34.0,15.0,28.0,8.0,38.0,null,19.0,null,null,40.0,null,null,66.0,28.0,42.0,null,21.0,18.0,14.0,40.0,27.0,null,3.0,19.0,null,null,null,null,18.0,7.0,21.0,49.0,29.0,65.0,null,21.0,28.5,5.0,11.0,22.0,38.0,45.0,4.0,null,null,29.0,19.0,17.0,26.0,32.0,16.0,21.0,26.0,32.0,25.0,null,null,0.83,30.0,22.0,29.0,null,28.0,17.0,33.0,16.0,null,23.0,24.0,29.0,20.0,46.0,26.0,59.0,null,71.0,23.0,34.0,34.0,28.0,null,21.0,33.0,37.0,28.0,21.0,null,38.0,null,47.0,14.5,22.0,20.0,17.0,21.0,70.5,29.0,24.0,2.0,21.0,null,32.5,32.5,54.0,12.0,null,24.0,null,45.0,33.0,20.0,47.0,29.0,25.0,23.0,19.0,37.0,16.0,24.0,null,22.0,24.0,19.0,18.0,19.0,27.0,9.0,36.5,42.0,51.0,22.0,55.5,40.5,null,51.0,16.0,30.0,null,null,44.0,40.0,26.0,17.0,1.0,9.0,null,45.0,null,28.0,61.0,4.0,1.0,21.0,56.0,18.0,null,50.0,30.0,36.0,null,null,9.0,1.0,4.0,null,null,45.0,40.0,36.0,32.0,19.0,19.0,3.0,44.0,58.0,null,42.0,null,24.0,28.0,null,34.0,45.5,18.0,2.0,32.0,26.0,16.0,40.0,24.0,35.0,22.0,30.0,null,31.0,27.0,42.0,32.0,30.0,16.0,27.0,51.0,null,38.0,22.0,19.0,20.5,18.0,null,35.0,29.0,59.0,5.0,24.0,null,44.0,8.0,19.0,33.0,null,null,29.0,22.0,30.0,44.0,25.0,24.0,37.0,54.0,null,29.0,62.0,30.0,41.0,29.0,null,30.0,35.0,50.0,null,3.0,52.0,40.0,null,36.0,16.0,25.0,58.0,35.0,null,25.0,41.0,37.0,null,63.0,45.0,null,7.0,35.0,65.0,28.0,16.0,19.0,null,33.0,30.0,22.0,42.0,22.0,26.0,19.0,36.0,24.0,24.0,null,23.5,2.0,null,50.0,null,null,19.0,null,null,0.92,null,17.0,30.0,30.0,24.0,18.0,26.0,28.0,43.0,26.0,24.0,54.0,31.0,40.0,22.0,27.0,30.0,22.0,null,36.0,61.0,36.0,31.0,16.0,null,45.5,38.0,16.0,null,null,29.0,41.0,45.0,45.0,2.0,24.0,28.0,25.0,36.0,24.0,40.0,null,3.0,42.0,23.0,null,15.0,25.0,null,28.0,22.0,38.0,null,null,40.0,29.0,45.0,35.0,null,30.0,60.0,null,null,24.0,25.0,18.0,19.0,22.0,3.0,null,22.0,27.0,20.0,19.0,42.0,1.0,32.0,35.0,null,18.0,1.0,36.0,null,17.0,36.0,21.0,28.0,23.0,24.0,22.0,31.0,46.0,23.0,28.0,39.0,26.0,21.0,28.0,20.0,34.0,51.0,3.0,21.0,null,null,null,33.0,null,44.0,null,34.0,18.0,30.0,10.0,null,21.0,29.0,28.0,18.0,null,28.0,19.0,null,32.0,28.0,null,42.0,17.0,50.0,14.0,21.0,24.0,64.0,31.0,45.0,20.0,25.0,28.0,null,4.0,13.0,34.0,5.0,52.0,36.0,null,30.0,49.0,null,29.0,65.0,null,50.0,null,48.0,34.0,47.0,48.0,null,38.0,null,56.0,null,0.75,null,38.0,33.0,23.0,22.0,null,34.0,29.0,22.0,2.0,9.0,null,50.0,63.0,25.0,null,35.0,58.0,30.0,9.0,null,21.0,55.0,71.0,21.0,null,54.0,null,25.0,24.0,17.0,21.0,null,37.0,16.0,18.0,33.0,null,28.0,26.0,29.0,null,36.0,54.0,24.0,47.0,34.0,null,36.0,32.0,30.0,22.0,null,44.0,null,40.5,50.0,null,39.0,23.0,2.0,null,17.0,null,30.0,7.0,45.0,30.0,null,22.0,36.0,9.0,11.0,32.0,50.0,64.0,19.0,null,33.0,8.0,17.0,27.0,null,22.0,22.0,62.0,48.0,null,39.0,36.0,null,40.0,28.0,null,null,24.0,19.0,29.0,null,32.0,62.0,53.0,36.0,null,16.0,19.0,34.0,39.0,null,32.0,25.0,39.0,54.0,36.0,null,18.0,47.0,60.0,22.0,null,35.0,52.0,47.0,null,37.0,36.0,null,49.0,null,49.0,24.0,null,null,44.0,35.0,36.0,30.0,27.0,22.0,40.0,39.0,null,null,null,35.0,24.0,34.0,26.0,4.0,26.0,27.0,42.0,20.0,21.0,21.0,61.0,57.0,21.0,26.0,null,80.0,51.0,32.0,null,9.0,28.0,32.0,31.0,41.0,null,20.0,24.0,2.0,null,0.75,48.0,19.0,56.0,null,23.0,null,18.0,21.0,null,18.0,24.0,null,32.0,23.0,58.0,50.0,40.0,47.0,36.0,20.0,32.0,25.0,null,43.0,null,40.0,31.0,70.0,31.0,null,18.0,24.5,18.0,43.0,36.0,null,27.0,20.0,14.0,60.0,25.0,14.0,19.0,18.0,15.0,31.0,4.0,null,25.0,60.0,52.0,44.0,null,49.0,42.0,18.0,35.0,18.0,25.0,26.0,39.0,45.0,42.0,22.0,null,24.0,null,48.0,29.0,52.0,19.0,38.0,27.0,null,33.0,6.0,17.0,34.0,50.0,27.0,20.0,30.0,null,25.0,25.0,29.0,11.0,null,23.0,23.0,28.5,48.0,35.0,null,null,null,36.0,21.0,24.0,31.0,70.0,16.0,30.0,19.0,31.0,4.0,6.0,33.0,23.0,48.0,0.67,28.0,18.0,34.0,33.0,null,41.0,20.0,36.0,16.0,51.0,null,30.5,null,32.0,24.0,48.0,57.0,null,54.0,18.0,null,5.0,null,43.0,13.0,17.0,29.0,null,25.0,25.0,18.0,8.0,1.0,46.0,null,16.0,null,null,25.0,39.0,49.0,31.0,30.0,30.0,34.0,31.0,11.0,0.42,27.0,31.0,39.0,18.0,39.0,33.0,26.0,39.0,35.0,6.0,30.5,null,23.0,31.0,43.0,10.0,52.0,27.0,38.0,27.0,2.0,null,null,1.0,null,62.0,15.0,0.83,null,23.0,18.0,39.0,21.0,null,32.0,null,20.0,16.0,30.0,34.5,17.0,42.0,null,35.0,28.0,null,4.0,74.0,9.0,16.0,44.0,18.0,45.0,51.0,24.0,null,41.0,21.0,48.0,null,24.0,42.0,27.0,31.0,null,4.0,26.0,47.0,33.0,47.0,28.0,15.0,20.0,19.0,null,56.0,25.0,33.0,22.0,28.0,25.0,39.0,27.0,19.0,null,26.0,32.0],\"y0\":\" \",\"yaxis\":\"y\",\"type\":\"box\"}],                        {\"template\":{\"data\":{\"barpolar\":[{\"marker\":{\"line\":{\"color\":\"rgb(17,17,17)\",\"width\":0.5},\"pattern\":{\"fillmode\":\"overlay\",\"size\":10,\"solidity\":0.2}},\"type\":\"barpolar\"}],\"bar\":[{\"error_x\":{\"color\":\"#f2f5fa\"},\"error_y\":{\"color\":\"#f2f5fa\"},\"marker\":{\"line\":{\"color\":\"rgb(17,17,17)\",\"width\":0.5},\"pattern\":{\"fillmode\":\"overlay\",\"size\":10,\"solidity\":0.2}},\"type\":\"bar\"}],\"carpet\":[{\"aaxis\":{\"endlinecolor\":\"#A2B1C6\",\"gridcolor\":\"#506784\",\"linecolor\":\"#506784\",\"minorgridcolor\":\"#506784\",\"startlinecolor\":\"#A2B1C6\"},\"baxis\":{\"endlinecolor\":\"#A2B1C6\",\"gridcolor\":\"#506784\",\"linecolor\":\"#506784\",\"minorgridcolor\":\"#506784\",\"startlinecolor\":\"#A2B1C6\"},\"type\":\"carpet\"}],\"choropleth\":[{\"colorbar\":{\"outlinewidth\":0,\"ticks\":\"\"},\"type\":\"choropleth\"}],\"contourcarpet\":[{\"colorbar\":{\"outlinewidth\":0,\"ticks\":\"\"},\"type\":\"contourcarpet\"}],\"contour\":[{\"colorbar\":{\"outlinewidth\":0,\"ticks\":\"\"},\"colorscale\":[[0.0,\"#0d0887\"],[0.1111111111111111,\"#46039f\"],[0.2222222222222222,\"#7201a8\"],[0.3333333333333333,\"#9c179e\"],[0.4444444444444444,\"#bd3786\"],[0.5555555555555556,\"#d8576b\"],[0.6666666666666666,\"#ed7953\"],[0.7777777777777778,\"#fb9f3a\"],[0.8888888888888888,\"#fdca26\"],[1.0,\"#f0f921\"]],\"type\":\"contour\"}],\"heatmapgl\":[{\"colorbar\":{\"outlinewidth\":0,\"ticks\":\"\"},\"colorscale\":[[0.0,\"#0d0887\"],[0.1111111111111111,\"#46039f\"],[0.2222222222222222,\"#7201a8\"],[0.3333333333333333,\"#9c179e\"],[0.4444444444444444,\"#bd3786\"],[0.5555555555555556,\"#d8576b\"],[0.6666666666666666,\"#ed7953\"],[0.7777777777777778,\"#fb9f3a\"],[0.8888888888888888,\"#fdca26\"],[1.0,\"#f0f921\"]],\"type\":\"heatmapgl\"}],\"heatmap\":[{\"colorbar\":{\"outlinewidth\":0,\"ticks\":\"\"},\"colorscale\":[[0.0,\"#0d0887\"],[0.1111111111111111,\"#46039f\"],[0.2222222222222222,\"#7201a8\"],[0.3333333333333333,\"#9c179e\"],[0.4444444444444444,\"#bd3786\"],[0.5555555555555556,\"#d8576b\"],[0.6666666666666666,\"#ed7953\"],[0.7777777777777778,\"#fb9f3a\"],[0.8888888888888888,\"#fdca26\"],[1.0,\"#f0f921\"]],\"type\":\"heatmap\"}],\"histogram2dcontour\":[{\"colorbar\":{\"outlinewidth\":0,\"ticks\":\"\"},\"colorscale\":[[0.0,\"#0d0887\"],[0.1111111111111111,\"#46039f\"],[0.2222222222222222,\"#7201a8\"],[0.3333333333333333,\"#9c179e\"],[0.4444444444444444,\"#bd3786\"],[0.5555555555555556,\"#d8576b\"],[0.6666666666666666,\"#ed7953\"],[0.7777777777777778,\"#fb9f3a\"],[0.8888888888888888,\"#fdca26\"],[1.0,\"#f0f921\"]],\"type\":\"histogram2dcontour\"}],\"histogram2d\":[{\"colorbar\":{\"outlinewidth\":0,\"ticks\":\"\"},\"colorscale\":[[0.0,\"#0d0887\"],[0.1111111111111111,\"#46039f\"],[0.2222222222222222,\"#7201a8\"],[0.3333333333333333,\"#9c179e\"],[0.4444444444444444,\"#bd3786\"],[0.5555555555555556,\"#d8576b\"],[0.6666666666666666,\"#ed7953\"],[0.7777777777777778,\"#fb9f3a\"],[0.8888888888888888,\"#fdca26\"],[1.0,\"#f0f921\"]],\"type\":\"histogram2d\"}],\"histogram\":[{\"marker\":{\"pattern\":{\"fillmode\":\"overlay\",\"size\":10,\"solidity\":0.2}},\"type\":\"histogram\"}],\"mesh3d\":[{\"colorbar\":{\"outlinewidth\":0,\"ticks\":\"\"},\"type\":\"mesh3d\"}],\"parcoords\":[{\"line\":{\"colorbar\":{\"outlinewidth\":0,\"ticks\":\"\"}},\"type\":\"parcoords\"}],\"pie\":[{\"automargin\":true,\"type\":\"pie\"}],\"scatter3d\":[{\"line\":{\"colorbar\":{\"outlinewidth\":0,\"ticks\":\"\"}},\"marker\":{\"colorbar\":{\"outlinewidth\":0,\"ticks\":\"\"}},\"type\":\"scatter3d\"}],\"scattercarpet\":[{\"marker\":{\"colorbar\":{\"outlinewidth\":0,\"ticks\":\"\"}},\"type\":\"scattercarpet\"}],\"scattergeo\":[{\"marker\":{\"colorbar\":{\"outlinewidth\":0,\"ticks\":\"\"}},\"type\":\"scattergeo\"}],\"scattergl\":[{\"marker\":{\"line\":{\"color\":\"#283442\"}},\"type\":\"scattergl\"}],\"scattermapbox\":[{\"marker\":{\"colorbar\":{\"outlinewidth\":0,\"ticks\":\"\"}},\"type\":\"scattermapbox\"}],\"scatterpolargl\":[{\"marker\":{\"colorbar\":{\"outlinewidth\":0,\"ticks\":\"\"}},\"type\":\"scatterpolargl\"}],\"scatterpolar\":[{\"marker\":{\"colorbar\":{\"outlinewidth\":0,\"ticks\":\"\"}},\"type\":\"scatterpolar\"}],\"scatter\":[{\"marker\":{\"line\":{\"color\":\"#283442\"}},\"type\":\"scatter\"}],\"scatterternary\":[{\"marker\":{\"colorbar\":{\"outlinewidth\":0,\"ticks\":\"\"}},\"type\":\"scatterternary\"}],\"surface\":[{\"colorbar\":{\"outlinewidth\":0,\"ticks\":\"\"},\"colorscale\":[[0.0,\"#0d0887\"],[0.1111111111111111,\"#46039f\"],[0.2222222222222222,\"#7201a8\"],[0.3333333333333333,\"#9c179e\"],[0.4444444444444444,\"#bd3786\"],[0.5555555555555556,\"#d8576b\"],[0.6666666666666666,\"#ed7953\"],[0.7777777777777778,\"#fb9f3a\"],[0.8888888888888888,\"#fdca26\"],[1.0,\"#f0f921\"]],\"type\":\"surface\"}],\"table\":[{\"cells\":{\"fill\":{\"color\":\"#506784\"},\"line\":{\"color\":\"rgb(17,17,17)\"}},\"header\":{\"fill\":{\"color\":\"#2a3f5f\"},\"line\":{\"color\":\"rgb(17,17,17)\"}},\"type\":\"table\"}]},\"layout\":{\"annotationdefaults\":{\"arrowcolor\":\"#f2f5fa\",\"arrowhead\":0,\"arrowwidth\":1},\"autotypenumbers\":\"strict\",\"coloraxis\":{\"colorbar\":{\"outlinewidth\":0,\"ticks\":\"\"}},\"colorscale\":{\"diverging\":[[0,\"#8e0152\"],[0.1,\"#c51b7d\"],[0.2,\"#de77ae\"],[0.3,\"#f1b6da\"],[0.4,\"#fde0ef\"],[0.5,\"#f7f7f7\"],[0.6,\"#e6f5d0\"],[0.7,\"#b8e186\"],[0.8,\"#7fbc41\"],[0.9,\"#4d9221\"],[1,\"#276419\"]],\"sequential\":[[0.0,\"#0d0887\"],[0.1111111111111111,\"#46039f\"],[0.2222222222222222,\"#7201a8\"],[0.3333333333333333,\"#9c179e\"],[0.4444444444444444,\"#bd3786\"],[0.5555555555555556,\"#d8576b\"],[0.6666666666666666,\"#ed7953\"],[0.7777777777777778,\"#fb9f3a\"],[0.8888888888888888,\"#fdca26\"],[1.0,\"#f0f921\"]],\"sequentialminus\":[[0.0,\"#0d0887\"],[0.1111111111111111,\"#46039f\"],[0.2222222222222222,\"#7201a8\"],[0.3333333333333333,\"#9c179e\"],[0.4444444444444444,\"#bd3786\"],[0.5555555555555556,\"#d8576b\"],[0.6666666666666666,\"#ed7953\"],[0.7777777777777778,\"#fb9f3a\"],[0.8888888888888888,\"#fdca26\"],[1.0,\"#f0f921\"]]},\"colorway\":[\"#636efa\",\"#EF553B\",\"#00cc96\",\"#ab63fa\",\"#FFA15A\",\"#19d3f3\",\"#FF6692\",\"#B6E880\",\"#FF97FF\",\"#FECB52\"],\"font\":{\"color\":\"#f2f5fa\"},\"geo\":{\"bgcolor\":\"rgb(17,17,17)\",\"lakecolor\":\"rgb(17,17,17)\",\"landcolor\":\"rgb(17,17,17)\",\"showlakes\":true,\"showland\":true,\"subunitcolor\":\"#506784\"},\"hoverlabel\":{\"align\":\"left\"},\"hovermode\":\"closest\",\"mapbox\":{\"style\":\"dark\"},\"paper_bgcolor\":\"rgb(17,17,17)\",\"plot_bgcolor\":\"rgb(17,17,17)\",\"polar\":{\"angularaxis\":{\"gridcolor\":\"#506784\",\"linecolor\":\"#506784\",\"ticks\":\"\"},\"bgcolor\":\"rgb(17,17,17)\",\"radialaxis\":{\"gridcolor\":\"#506784\",\"linecolor\":\"#506784\",\"ticks\":\"\"}},\"scene\":{\"xaxis\":{\"backgroundcolor\":\"rgb(17,17,17)\",\"gridcolor\":\"#506784\",\"gridwidth\":2,\"linecolor\":\"#506784\",\"showbackground\":true,\"ticks\":\"\",\"zerolinecolor\":\"#C8D4E3\"},\"yaxis\":{\"backgroundcolor\":\"rgb(17,17,17)\",\"gridcolor\":\"#506784\",\"gridwidth\":2,\"linecolor\":\"#506784\",\"showbackground\":true,\"ticks\":\"\",\"zerolinecolor\":\"#C8D4E3\"},\"zaxis\":{\"backgroundcolor\":\"rgb(17,17,17)\",\"gridcolor\":\"#506784\",\"gridwidth\":2,\"linecolor\":\"#506784\",\"showbackground\":true,\"ticks\":\"\",\"zerolinecolor\":\"#C8D4E3\"}},\"shapedefaults\":{\"line\":{\"color\":\"#f2f5fa\"}},\"sliderdefaults\":{\"bgcolor\":\"#C8D4E3\",\"bordercolor\":\"rgb(17,17,17)\",\"borderwidth\":1,\"tickwidth\":0},\"ternary\":{\"aaxis\":{\"gridcolor\":\"#506784\",\"linecolor\":\"#506784\",\"ticks\":\"\"},\"baxis\":{\"gridcolor\":\"#506784\",\"linecolor\":\"#506784\",\"ticks\":\"\"},\"bgcolor\":\"rgb(17,17,17)\",\"caxis\":{\"gridcolor\":\"#506784\",\"linecolor\":\"#506784\",\"ticks\":\"\"}},\"title\":{\"x\":0.05},\"updatemenudefaults\":{\"bgcolor\":\"#506784\",\"borderwidth\":0},\"xaxis\":{\"automargin\":true,\"gridcolor\":\"#283442\",\"linecolor\":\"#506784\",\"ticks\":\"\",\"title\":{\"standoff\":15},\"zerolinecolor\":\"#283442\",\"zerolinewidth\":2},\"yaxis\":{\"automargin\":true,\"gridcolor\":\"#283442\",\"linecolor\":\"#506784\",\"ticks\":\"\",\"title\":{\"standoff\":15},\"zerolinecolor\":\"#283442\",\"zerolinewidth\":2}}},\"xaxis\":{\"anchor\":\"y\",\"domain\":[0.0,1.0],\"title\":{\"text\":\"Pclass\"}},\"yaxis\":{\"anchor\":\"x\",\"domain\":[0.0,1.0],\"title\":{\"text\":\"Age\"}},\"legend\":{\"tracegroupgap\":0},\"title\":{\"text\":\"Age Distribution in Three Classes\"},\"boxmode\":\"group\"},                        {\"responsive\": true}                    ).then(function(){\n",
       "                            \n",
       "var gd = document.getElementById('61b148ef-dba7-459a-aa6f-eb0618d61e3d');\n",
       "var x = new MutationObserver(function (mutations, observer) {{\n",
       "        var display = window.getComputedStyle(gd).display;\n",
       "        if (!display || display === 'none') {{\n",
       "            console.log([gd, 'removed!']);\n",
       "            Plotly.purge(gd);\n",
       "            observer.disconnect();\n",
       "        }}\n",
       "}});\n",
       "\n",
       "// Listen for the removal of the full notebook cells\n",
       "var notebookContainer = gd.closest('#notebook-container');\n",
       "if (notebookContainer) {{\n",
       "    x.observe(notebookContainer, {childList: true});\n",
       "}}\n",
       "\n",
       "// Listen for the clearing of the current output cell\n",
       "var outputEl = gd.closest('.output');\n",
       "if (outputEl) {{\n",
       "    x.observe(outputEl, {childList: true});\n",
       "}}\n",
       "\n",
       "                        })                };                            </script>        </div>\n",
       "</body>\n",
       "</html>"
      ]
     },
     "metadata": {},
     "output_type": "display_data"
    }
   ],
   "source": [
    "fig = px.box(data_frame=df,\n",
    "              x='Pclass', \n",
    "              y='Age',\n",
    "              template='plotly_dark',\n",
    "              title = 'Age Distribution in Three Classes')  \n",
    "\n",
    "fig.show()  "
   ]
  },
  {
   "cell_type": "markdown",
   "id": "f95f668b",
   "metadata": {
    "papermill": {
     "duration": 0.020581,
     "end_time": "2025-05-25T14:50:59.604477",
     "exception": false,
     "start_time": "2025-05-25T14:50:59.583896",
     "status": "completed"
    },
    "tags": []
   },
   "source": [
    "### 📝 ***Conclusion*** :  \n",
    "\n",
    "* The median age of the First Class is higher than that of the Second Class and Third Class. "
   ]
  },
  {
   "cell_type": "code",
   "execution_count": 17,
   "id": "d1643e36",
   "metadata": {
    "execution": {
     "iopub.execute_input": "2025-05-25T14:50:59.642185Z",
     "iopub.status.busy": "2025-05-25T14:50:59.641773Z",
     "iopub.status.idle": "2025-05-25T14:50:59.796265Z",
     "shell.execute_reply": "2025-05-25T14:50:59.795069Z"
    },
    "papermill": {
     "duration": 0.175084,
     "end_time": "2025-05-25T14:50:59.799058",
     "exception": false,
     "start_time": "2025-05-25T14:50:59.623974",
     "status": "completed"
    },
    "tags": []
   },
   "outputs": [
    {
     "data": {
      "text/html": [
       "<html>\n",
       "<head><meta charset=\"utf-8\" /></head>\n",
       "<body>\n",
       "    <div>            <script src=\"https://cdnjs.cloudflare.com/ajax/libs/mathjax/2.7.5/MathJax.js?config=TeX-AMS-MML_SVG\"></script><script type=\"text/javascript\">if (window.MathJax && window.MathJax.Hub && window.MathJax.Hub.Config) {window.MathJax.Hub.Config({SVG: {font: \"STIX-Web\"}});}</script>                <script type=\"text/javascript\">window.PlotlyConfig = {MathJaxConfig: 'local'};</script>\n",
       "        <script charset=\"utf-8\" src=\"https://cdn.plot.ly/plotly-2.35.2.min.js\"></script>                <div id=\"fdabc219-453e-4a49-888f-3a62bd0848b6\" class=\"plotly-graph-div\" style=\"height:525px; width:100%;\"></div>            <script type=\"text/javascript\">                                    window.PLOTLYENV=window.PLOTLYENV || {};                                    if (document.getElementById(\"fdabc219-453e-4a49-888f-3a62bd0848b6\")) {                    Plotly.newPlot(                        \"fdabc219-453e-4a49-888f-3a62bd0848b6\",                        [{\"alignmentgroup\":\"True\",\"hovertemplate\":\"Pclass=%{x}\\u003cbr\\u003eAge=%{y}\\u003cbr\\u003eSex=%{marker.color}\\u003cextra\\u003e\\u003c\\u002fextra\\u003e\",\"legendgroup\":\"\",\"marker\":{\"color\":[0,1,0,1,0,1],\"coloraxis\":\"coloraxis\",\"pattern\":{\"shape\":\"\"}},\"name\":\"\",\"offsetgroup\":\"\",\"orientation\":\"v\",\"showlegend\":false,\"textposition\":\"auto\",\"x\":[1,1,2,2,3,3],\"xaxis\":\"x\",\"y\":[40.0,35.0,30.0,28.0,25.0,21.5],\"yaxis\":\"y\",\"type\":\"bar\"}],                        {\"template\":{\"data\":{\"histogram2dcontour\":[{\"type\":\"histogram2dcontour\",\"colorbar\":{\"outlinewidth\":0,\"ticks\":\"\"},\"colorscale\":[[0.0,\"#0d0887\"],[0.1111111111111111,\"#46039f\"],[0.2222222222222222,\"#7201a8\"],[0.3333333333333333,\"#9c179e\"],[0.4444444444444444,\"#bd3786\"],[0.5555555555555556,\"#d8576b\"],[0.6666666666666666,\"#ed7953\"],[0.7777777777777778,\"#fb9f3a\"],[0.8888888888888888,\"#fdca26\"],[1.0,\"#f0f921\"]]}],\"choropleth\":[{\"type\":\"choropleth\",\"colorbar\":{\"outlinewidth\":0,\"ticks\":\"\"}}],\"histogram2d\":[{\"type\":\"histogram2d\",\"colorbar\":{\"outlinewidth\":0,\"ticks\":\"\"},\"colorscale\":[[0.0,\"#0d0887\"],[0.1111111111111111,\"#46039f\"],[0.2222222222222222,\"#7201a8\"],[0.3333333333333333,\"#9c179e\"],[0.4444444444444444,\"#bd3786\"],[0.5555555555555556,\"#d8576b\"],[0.6666666666666666,\"#ed7953\"],[0.7777777777777778,\"#fb9f3a\"],[0.8888888888888888,\"#fdca26\"],[1.0,\"#f0f921\"]]}],\"heatmap\":[{\"type\":\"heatmap\",\"colorbar\":{\"outlinewidth\":0,\"ticks\":\"\"},\"colorscale\":[[0.0,\"#0d0887\"],[0.1111111111111111,\"#46039f\"],[0.2222222222222222,\"#7201a8\"],[0.3333333333333333,\"#9c179e\"],[0.4444444444444444,\"#bd3786\"],[0.5555555555555556,\"#d8576b\"],[0.6666666666666666,\"#ed7953\"],[0.7777777777777778,\"#fb9f3a\"],[0.8888888888888888,\"#fdca26\"],[1.0,\"#f0f921\"]]}],\"heatmapgl\":[{\"type\":\"heatmapgl\",\"colorbar\":{\"outlinewidth\":0,\"ticks\":\"\"},\"colorscale\":[[0.0,\"#0d0887\"],[0.1111111111111111,\"#46039f\"],[0.2222222222222222,\"#7201a8\"],[0.3333333333333333,\"#9c179e\"],[0.4444444444444444,\"#bd3786\"],[0.5555555555555556,\"#d8576b\"],[0.6666666666666666,\"#ed7953\"],[0.7777777777777778,\"#fb9f3a\"],[0.8888888888888888,\"#fdca26\"],[1.0,\"#f0f921\"]]}],\"contourcarpet\":[{\"type\":\"contourcarpet\",\"colorbar\":{\"outlinewidth\":0,\"ticks\":\"\"}}],\"contour\":[{\"type\":\"contour\",\"colorbar\":{\"outlinewidth\":0,\"ticks\":\"\"},\"colorscale\":[[0.0,\"#0d0887\"],[0.1111111111111111,\"#46039f\"],[0.2222222222222222,\"#7201a8\"],[0.3333333333333333,\"#9c179e\"],[0.4444444444444444,\"#bd3786\"],[0.5555555555555556,\"#d8576b\"],[0.6666666666666666,\"#ed7953\"],[0.7777777777777778,\"#fb9f3a\"],[0.8888888888888888,\"#fdca26\"],[1.0,\"#f0f921\"]]}],\"surface\":[{\"type\":\"surface\",\"colorbar\":{\"outlinewidth\":0,\"ticks\":\"\"},\"colorscale\":[[0.0,\"#0d0887\"],[0.1111111111111111,\"#46039f\"],[0.2222222222222222,\"#7201a8\"],[0.3333333333333333,\"#9c179e\"],[0.4444444444444444,\"#bd3786\"],[0.5555555555555556,\"#d8576b\"],[0.6666666666666666,\"#ed7953\"],[0.7777777777777778,\"#fb9f3a\"],[0.8888888888888888,\"#fdca26\"],[1.0,\"#f0f921\"]]}],\"mesh3d\":[{\"type\":\"mesh3d\",\"colorbar\":{\"outlinewidth\":0,\"ticks\":\"\"}}],\"scatter\":[{\"fillpattern\":{\"fillmode\":\"overlay\",\"size\":10,\"solidity\":0.2},\"type\":\"scatter\"}],\"parcoords\":[{\"type\":\"parcoords\",\"line\":{\"colorbar\":{\"outlinewidth\":0,\"ticks\":\"\"}}}],\"scatterpolargl\":[{\"type\":\"scatterpolargl\",\"marker\":{\"colorbar\":{\"outlinewidth\":0,\"ticks\":\"\"}}}],\"bar\":[{\"error_x\":{\"color\":\"#2a3f5f\"},\"error_y\":{\"color\":\"#2a3f5f\"},\"marker\":{\"line\":{\"color\":\"#E5ECF6\",\"width\":0.5},\"pattern\":{\"fillmode\":\"overlay\",\"size\":10,\"solidity\":0.2}},\"type\":\"bar\"}],\"scattergeo\":[{\"type\":\"scattergeo\",\"marker\":{\"colorbar\":{\"outlinewidth\":0,\"ticks\":\"\"}}}],\"scatterpolar\":[{\"type\":\"scatterpolar\",\"marker\":{\"colorbar\":{\"outlinewidth\":0,\"ticks\":\"\"}}}],\"histogram\":[{\"marker\":{\"pattern\":{\"fillmode\":\"overlay\",\"size\":10,\"solidity\":0.2}},\"type\":\"histogram\"}],\"scattergl\":[{\"type\":\"scattergl\",\"marker\":{\"colorbar\":{\"outlinewidth\":0,\"ticks\":\"\"}}}],\"scatter3d\":[{\"type\":\"scatter3d\",\"line\":{\"colorbar\":{\"outlinewidth\":0,\"ticks\":\"\"}},\"marker\":{\"colorbar\":{\"outlinewidth\":0,\"ticks\":\"\"}}}],\"scattermapbox\":[{\"type\":\"scattermapbox\",\"marker\":{\"colorbar\":{\"outlinewidth\":0,\"ticks\":\"\"}}}],\"scatterternary\":[{\"type\":\"scatterternary\",\"marker\":{\"colorbar\":{\"outlinewidth\":0,\"ticks\":\"\"}}}],\"scattercarpet\":[{\"type\":\"scattercarpet\",\"marker\":{\"colorbar\":{\"outlinewidth\":0,\"ticks\":\"\"}}}],\"carpet\":[{\"aaxis\":{\"endlinecolor\":\"#2a3f5f\",\"gridcolor\":\"white\",\"linecolor\":\"white\",\"minorgridcolor\":\"white\",\"startlinecolor\":\"#2a3f5f\"},\"baxis\":{\"endlinecolor\":\"#2a3f5f\",\"gridcolor\":\"white\",\"linecolor\":\"white\",\"minorgridcolor\":\"white\",\"startlinecolor\":\"#2a3f5f\"},\"type\":\"carpet\"}],\"table\":[{\"cells\":{\"fill\":{\"color\":\"#EBF0F8\"},\"line\":{\"color\":\"white\"}},\"header\":{\"fill\":{\"color\":\"#C8D4E3\"},\"line\":{\"color\":\"white\"}},\"type\":\"table\"}],\"barpolar\":[{\"marker\":{\"line\":{\"color\":\"#E5ECF6\",\"width\":0.5},\"pattern\":{\"fillmode\":\"overlay\",\"size\":10,\"solidity\":0.2}},\"type\":\"barpolar\"}],\"pie\":[{\"automargin\":true,\"type\":\"pie\"}]},\"layout\":{\"autotypenumbers\":\"strict\",\"colorway\":[\"#636efa\",\"#EF553B\",\"#00cc96\",\"#ab63fa\",\"#FFA15A\",\"#19d3f3\",\"#FF6692\",\"#B6E880\",\"#FF97FF\",\"#FECB52\"],\"font\":{\"color\":\"#2a3f5f\"},\"hovermode\":\"closest\",\"hoverlabel\":{\"align\":\"left\"},\"paper_bgcolor\":\"white\",\"plot_bgcolor\":\"#E5ECF6\",\"polar\":{\"bgcolor\":\"#E5ECF6\",\"angularaxis\":{\"gridcolor\":\"white\",\"linecolor\":\"white\",\"ticks\":\"\"},\"radialaxis\":{\"gridcolor\":\"white\",\"linecolor\":\"white\",\"ticks\":\"\"}},\"ternary\":{\"bgcolor\":\"#E5ECF6\",\"aaxis\":{\"gridcolor\":\"white\",\"linecolor\":\"white\",\"ticks\":\"\"},\"baxis\":{\"gridcolor\":\"white\",\"linecolor\":\"white\",\"ticks\":\"\"},\"caxis\":{\"gridcolor\":\"white\",\"linecolor\":\"white\",\"ticks\":\"\"}},\"coloraxis\":{\"colorbar\":{\"outlinewidth\":0,\"ticks\":\"\"}},\"colorscale\":{\"sequential\":[[0.0,\"#0d0887\"],[0.1111111111111111,\"#46039f\"],[0.2222222222222222,\"#7201a8\"],[0.3333333333333333,\"#9c179e\"],[0.4444444444444444,\"#bd3786\"],[0.5555555555555556,\"#d8576b\"],[0.6666666666666666,\"#ed7953\"],[0.7777777777777778,\"#fb9f3a\"],[0.8888888888888888,\"#fdca26\"],[1.0,\"#f0f921\"]],\"sequentialminus\":[[0.0,\"#0d0887\"],[0.1111111111111111,\"#46039f\"],[0.2222222222222222,\"#7201a8\"],[0.3333333333333333,\"#9c179e\"],[0.4444444444444444,\"#bd3786\"],[0.5555555555555556,\"#d8576b\"],[0.6666666666666666,\"#ed7953\"],[0.7777777777777778,\"#fb9f3a\"],[0.8888888888888888,\"#fdca26\"],[1.0,\"#f0f921\"]],\"diverging\":[[0,\"#8e0152\"],[0.1,\"#c51b7d\"],[0.2,\"#de77ae\"],[0.3,\"#f1b6da\"],[0.4,\"#fde0ef\"],[0.5,\"#f7f7f7\"],[0.6,\"#e6f5d0\"],[0.7,\"#b8e186\"],[0.8,\"#7fbc41\"],[0.9,\"#4d9221\"],[1,\"#276419\"]]},\"xaxis\":{\"gridcolor\":\"white\",\"linecolor\":\"white\",\"ticks\":\"\",\"title\":{\"standoff\":15},\"zerolinecolor\":\"white\",\"automargin\":true,\"zerolinewidth\":2},\"yaxis\":{\"gridcolor\":\"white\",\"linecolor\":\"white\",\"ticks\":\"\",\"title\":{\"standoff\":15},\"zerolinecolor\":\"white\",\"automargin\":true,\"zerolinewidth\":2},\"scene\":{\"xaxis\":{\"backgroundcolor\":\"#E5ECF6\",\"gridcolor\":\"white\",\"linecolor\":\"white\",\"showbackground\":true,\"ticks\":\"\",\"zerolinecolor\":\"white\",\"gridwidth\":2},\"yaxis\":{\"backgroundcolor\":\"#E5ECF6\",\"gridcolor\":\"white\",\"linecolor\":\"white\",\"showbackground\":true,\"ticks\":\"\",\"zerolinecolor\":\"white\",\"gridwidth\":2},\"zaxis\":{\"backgroundcolor\":\"#E5ECF6\",\"gridcolor\":\"white\",\"linecolor\":\"white\",\"showbackground\":true,\"ticks\":\"\",\"zerolinecolor\":\"white\",\"gridwidth\":2}},\"shapedefaults\":{\"line\":{\"color\":\"#2a3f5f\"}},\"annotationdefaults\":{\"arrowcolor\":\"#2a3f5f\",\"arrowhead\":0,\"arrowwidth\":1},\"geo\":{\"bgcolor\":\"white\",\"landcolor\":\"#E5ECF6\",\"subunitcolor\":\"white\",\"showland\":true,\"showlakes\":true,\"lakecolor\":\"white\"},\"title\":{\"x\":0.05},\"mapbox\":{\"style\":\"light\"}}},\"xaxis\":{\"anchor\":\"y\",\"domain\":[0.0,1.0],\"title\":{\"text\":\"Pclass\"}},\"yaxis\":{\"anchor\":\"x\",\"domain\":[0.0,1.0],\"title\":{\"text\":\"Age\"}},\"coloraxis\":{\"colorbar\":{\"title\":{\"text\":\"Sex\"}},\"colorscale\":[[0.0,\"#0d0887\"],[0.1111111111111111,\"#46039f\"],[0.2222222222222222,\"#7201a8\"],[0.3333333333333333,\"#9c179e\"],[0.4444444444444444,\"#bd3786\"],[0.5555555555555556,\"#d8576b\"],[0.6666666666666666,\"#ed7953\"],[0.7777777777777778,\"#fb9f3a\"],[0.8888888888888888,\"#fdca26\"],[1.0,\"#f0f921\"]]},\"legend\":{\"tracegroupgap\":0},\"title\":{\"text\":\"Median of Age by Sex in Three Classes\"},\"barmode\":\"group\"},                        {\"responsive\": true}                    ).then(function(){\n",
       "                            \n",
       "var gd = document.getElementById('fdabc219-453e-4a49-888f-3a62bd0848b6');\n",
       "var x = new MutationObserver(function (mutations, observer) {{\n",
       "        var display = window.getComputedStyle(gd).display;\n",
       "        if (!display || display === 'none') {{\n",
       "            console.log([gd, 'removed!']);\n",
       "            Plotly.purge(gd);\n",
       "            observer.disconnect();\n",
       "        }}\n",
       "}});\n",
       "\n",
       "// Listen for the removal of the full notebook cells\n",
       "var notebookContainer = gd.closest('#notebook-container');\n",
       "if (notebookContainer) {{\n",
       "    x.observe(notebookContainer, {childList: true});\n",
       "}}\n",
       "\n",
       "// Listen for the clearing of the current output cell\n",
       "var outputEl = gd.closest('.output');\n",
       "if (outputEl) {{\n",
       "    x.observe(outputEl, {childList: true});\n",
       "}}\n",
       "\n",
       "                        })                };                            </script>        </div>\n",
       "</body>\n",
       "</html>"
      ]
     },
     "metadata": {},
     "output_type": "display_data"
    }
   ],
   "source": [
    "group = df.groupby(['Pclass', 'Sex'], as_index=False)['Age'].median()  \n",
    "\n",
    "fig = px.bar(data_frame=group, \n",
    "             x = 'Pclass', \n",
    "             y = 'Age', \n",
    "             color ='Sex',\n",
    "             barmode = 'group',\n",
    "             title = 'Median of Age by Sex in Three Classes', \n",
    "             )  \n",
    "\n",
    "\n",
    "fig.show() "
   ]
  },
  {
   "cell_type": "code",
   "execution_count": 18,
   "id": "c08c2be9",
   "metadata": {
    "execution": {
     "iopub.execute_input": "2025-05-25T14:50:59.852215Z",
     "iopub.status.busy": "2025-05-25T14:50:59.851626Z",
     "iopub.status.idle": "2025-05-25T14:50:59.866195Z",
     "shell.execute_reply": "2025-05-25T14:50:59.865166Z"
    },
    "papermill": {
     "duration": 0.038574,
     "end_time": "2025-05-25T14:50:59.868759",
     "exception": false,
     "start_time": "2025-05-25T14:50:59.830185",
     "status": "completed"
    },
    "tags": []
   },
   "outputs": [],
   "source": [
    "df['Age'] = df.groupby(['Pclass', 'Sex'])['Age'].transform(lambda x: x.fillna(x.median()))"
   ]
  },
  {
   "cell_type": "code",
   "execution_count": 19,
   "id": "7b8e3bf6",
   "metadata": {
    "execution": {
     "iopub.execute_input": "2025-05-25T14:50:59.903788Z",
     "iopub.status.busy": "2025-05-25T14:50:59.903186Z",
     "iopub.status.idle": "2025-05-25T14:50:59.915458Z",
     "shell.execute_reply": "2025-05-25T14:50:59.913882Z"
    },
    "papermill": {
     "duration": 0.031405,
     "end_time": "2025-05-25T14:50:59.917599",
     "exception": false,
     "start_time": "2025-05-25T14:50:59.886194",
     "status": "completed"
    },
    "tags": []
   },
   "outputs": [
    {
     "name": "stdout",
     "output_type": "stream",
     "text": [
      "=== Point-Biserial Correlation Results ===\n",
      "Correlation Coefficient: -0.060\n",
      "P_value:  0.0755\n"
     ]
    }
   ],
   "source": [
    "# Point-Biserial Correlation between Ages and Survival Status:\n",
    "\n",
    "ages = df['Age']\n",
    "survival = df['Survived'] \n",
    "\n",
    "r_pb, P_value = stats.pointbiserialr(ages, survival) \n",
    "\n",
    "print('=== Point-Biserial Correlation Results ===') \n",
    "print(f'Correlation Coefficient: {r_pb:.3f}') \n",
    "print(f'P_value: {P_value: .4f}') "
   ]
  },
  {
   "cell_type": "markdown",
   "id": "f4e30769",
   "metadata": {
    "papermill": {
     "duration": 0.034901,
     "end_time": "2025-05-25T14:50:59.973584",
     "exception": false,
     "start_time": "2025-05-25T14:50:59.938683",
     "status": "completed"
    },
    "tags": []
   },
   "source": [
    "### 4. 🔍 **Col: Ticket**\n"
   ]
  },
  {
   "cell_type": "code",
   "execution_count": 20,
   "id": "99e953cf",
   "metadata": {
    "execution": {
     "iopub.execute_input": "2025-05-25T14:51:00.020941Z",
     "iopub.status.busy": "2025-05-25T14:51:00.020546Z",
     "iopub.status.idle": "2025-05-25T14:51:00.029540Z",
     "shell.execute_reply": "2025-05-25T14:51:00.027760Z"
    },
    "papermill": {
     "duration": 0.028683,
     "end_time": "2025-05-25T14:51:00.031665",
     "exception": false,
     "start_time": "2025-05-25T14:51:00.002982",
     "status": "completed"
    },
    "tags": []
   },
   "outputs": [
    {
     "data": {
      "text/plain": [
       "0           A/5 21171\n",
       "1            PC 17599\n",
       "2    STON/O2. 3101282\n",
       "3              113803\n",
       "4              373450\n",
       "5              330877\n",
       "6               17463\n",
       "7              349909\n",
       "8              347742\n",
       "9              237736\n",
       "Name: Ticket, dtype: object"
      ]
     },
     "execution_count": 20,
     "metadata": {},
     "output_type": "execute_result"
    }
   ],
   "source": [
    "df['Ticket'][0:10] "
   ]
  },
  {
   "cell_type": "code",
   "execution_count": 21,
   "id": "d856f134",
   "metadata": {
    "execution": {
     "iopub.execute_input": "2025-05-25T14:51:00.067501Z",
     "iopub.status.busy": "2025-05-25T14:51:00.067155Z",
     "iopub.status.idle": "2025-05-25T14:51:00.076821Z",
     "shell.execute_reply": "2025-05-25T14:51:00.075625Z"
    },
    "papermill": {
     "duration": 0.030194,
     "end_time": "2025-05-25T14:51:00.079067",
     "exception": false,
     "start_time": "2025-05-25T14:51:00.048873",
     "status": "completed"
    },
    "tags": []
   },
   "outputs": [
    {
     "data": {
      "text/plain": [
       "count        891\n",
       "unique       681\n",
       "top       347082\n",
       "freq           7\n",
       "Name: Ticket, dtype: object"
      ]
     },
     "execution_count": 21,
     "metadata": {},
     "output_type": "execute_result"
    }
   ],
   "source": [
    "df['Ticket'].describe() "
   ]
  },
  {
   "cell_type": "markdown",
   "id": "26f73f3f",
   "metadata": {
    "papermill": {
     "duration": 0.016979,
     "end_time": "2025-05-25T14:51:00.113260",
     "exception": false,
     "start_time": "2025-05-25T14:51:00.096281",
     "status": "completed"
    },
    "tags": []
   },
   "source": [
    "### 📝 ***Conclusion*** : \n",
    "\n",
    "1. Ticket is a categorical variable that has **681 unique** values.\n",
    "   \n",
    "2. Categorical variables with nearly as many levels as records are often not useful for prediction."
   ]
  },
  {
   "cell_type": "markdown",
   "id": "adfb1422",
   "metadata": {
    "papermill": {
     "duration": 0.016713,
     "end_time": "2025-05-25T14:51:00.212838",
     "exception": false,
     "start_time": "2025-05-25T14:51:00.196125",
     "status": "completed"
    },
    "tags": []
   },
   "source": [
    "### 🛠️ ***Feature Engineering of Ticket*** :\n",
    "        1. Extract prefix from tickets containing letters. \n",
    "        \n",
    "        2. Create a new column that transforms prefixes to numeric values according to the mean of 'Survived' group by Passenger Class and Ticket_Prefix. \n",
    "        \n",
    "        3. Create a boolean column indicating if the ticket is purely numeric.\n",
    "        \n",
    "        4. Count the frequency of each ticket.  "
   ]
  },
  {
   "cell_type": "code",
   "execution_count": 22,
   "id": "f2fe7f5a",
   "metadata": {
    "execution": {
     "iopub.execute_input": "2025-05-25T14:51:00.249288Z",
     "iopub.status.busy": "2025-05-25T14:51:00.248867Z",
     "iopub.status.idle": "2025-05-25T14:51:00.265132Z",
     "shell.execute_reply": "2025-05-25T14:51:00.263722Z"
    },
    "papermill": {
     "duration": 0.035822,
     "end_time": "2025-05-25T14:51:00.267207",
     "exception": false,
     "start_time": "2025-05-25T14:51:00.231385",
     "status": "completed"
    },
    "tags": []
   },
   "outputs": [],
   "source": [
    "def extract_prefix(ticket):\n",
    "    parts = ticket.replace('.', '').replace('/', '').split() \n",
    "    prefix = [p for p in parts if not p.isdigit()] \n",
    "    return prefix[0] if prefix else 'None' \n",
    "\n",
    "df['Ticket_Prefix'] = df['Ticket'].apply(extract_prefix) \n",
    "\n",
    "df['Pclass_Prefix_Survival_Rate']= df.groupby(['Pclass', 'Ticket_Prefix'])['Survived'].transform('mean')\n",
    "df['Ticket_IsNumeric'] = df['Ticket'].apply(lambda x: x.isdigit()).astype(int)\n",
    "ticket_counts = df['Ticket'].value_counts() \n",
    "df['Ticket_Frequency'] = df['Ticket'].map(ticket_counts)   "
   ]
  },
  {
   "cell_type": "markdown",
   "id": "d2898dac",
   "metadata": {
    "papermill": {
     "duration": 0.017583,
     "end_time": "2025-05-25T14:51:00.301902",
     "exception": false,
     "start_time": "2025-05-25T14:51:00.284319",
     "status": "completed"
    },
    "tags": []
   },
   "source": [
    "### 5. 🔍 **Col: Cabin**  "
   ]
  },
  {
   "cell_type": "code",
   "execution_count": 23,
   "id": "1d969432",
   "metadata": {
    "execution": {
     "iopub.execute_input": "2025-05-25T14:51:00.355863Z",
     "iopub.status.busy": "2025-05-25T14:51:00.355451Z",
     "iopub.status.idle": "2025-05-25T14:51:00.364628Z",
     "shell.execute_reply": "2025-05-25T14:51:00.363478Z"
    },
    "papermill": {
     "duration": 0.046818,
     "end_time": "2025-05-25T14:51:00.368188",
     "exception": false,
     "start_time": "2025-05-25T14:51:00.321370",
     "status": "completed"
    },
    "tags": []
   },
   "outputs": [
    {
     "data": {
      "text/plain": [
       "0     NaN\n",
       "1     C85\n",
       "2     NaN\n",
       "3    C123\n",
       "4     NaN\n",
       "5     NaN\n",
       "6     E46\n",
       "7     NaN\n",
       "8     NaN\n",
       "9     NaN\n",
       "Name: Cabin, dtype: object"
      ]
     },
     "execution_count": 23,
     "metadata": {},
     "output_type": "execute_result"
    }
   ],
   "source": [
    "df['Cabin'][0:10]"
   ]
  },
  {
   "cell_type": "code",
   "execution_count": 24,
   "id": "126543c2",
   "metadata": {
    "execution": {
     "iopub.execute_input": "2025-05-25T14:51:00.431485Z",
     "iopub.status.busy": "2025-05-25T14:51:00.431127Z",
     "iopub.status.idle": "2025-05-25T14:51:00.440396Z",
     "shell.execute_reply": "2025-05-25T14:51:00.439133Z"
    },
    "papermill": {
     "duration": 0.043956,
     "end_time": "2025-05-25T14:51:00.443394",
     "exception": false,
     "start_time": "2025-05-25T14:51:00.399438",
     "status": "completed"
    },
    "tags": []
   },
   "outputs": [
    {
     "data": {
      "text/plain": [
       "count         204\n",
       "unique        147\n",
       "top       B96 B98\n",
       "freq            4\n",
       "Name: Cabin, dtype: object"
      ]
     },
     "execution_count": 24,
     "metadata": {},
     "output_type": "execute_result"
    }
   ],
   "source": [
    "df['Cabin'].describe() "
   ]
  },
  {
   "cell_type": "markdown",
   "id": "0842d7aa",
   "metadata": {
    "papermill": {
     "duration": 0.026875,
     "end_time": "2025-05-25T14:51:00.490154",
     "exception": false,
     "start_time": "2025-05-25T14:51:00.463279",
     "status": "completed"
    },
    "tags": []
   },
   "source": [
    "1. Column Cabin has 147 unique values, which may not be particularly useful for prediction.\n",
    "\n",
    "2. Create a boolean column that indicates if the cabin is missing. "
   ]
  },
  {
   "cell_type": "code",
   "execution_count": 25,
   "id": "1398853b",
   "metadata": {
    "execution": {
     "iopub.execute_input": "2025-05-25T14:51:00.537352Z",
     "iopub.status.busy": "2025-05-25T14:51:00.536886Z",
     "iopub.status.idle": "2025-05-25T14:51:00.545088Z",
     "shell.execute_reply": "2025-05-25T14:51:00.543216Z"
    },
    "papermill": {
     "duration": 0.03703,
     "end_time": "2025-05-25T14:51:00.547641",
     "exception": false,
     "start_time": "2025-05-25T14:51:00.510611",
     "status": "completed"
    },
    "tags": []
   },
   "outputs": [],
   "source": [
    " df['Has_Cabin'] = df['Cabin'].notna().astype(int)    "
   ]
  },
  {
   "cell_type": "code",
   "execution_count": 26,
   "id": "162e1b52",
   "metadata": {
    "execution": {
     "iopub.execute_input": "2025-05-25T14:51:00.583810Z",
     "iopub.status.busy": "2025-05-25T14:51:00.583328Z",
     "iopub.status.idle": "2025-05-25T14:51:00.591292Z",
     "shell.execute_reply": "2025-05-25T14:51:00.589658Z"
    },
    "papermill": {
     "duration": 0.028851,
     "end_time": "2025-05-25T14:51:00.593282",
     "exception": false,
     "start_time": "2025-05-25T14:51:00.564431",
     "status": "completed"
    },
    "tags": []
   },
   "outputs": [],
   "source": [
    "df.drop(['Cabin'], axis=1, inplace=True)  "
   ]
  },
  {
   "cell_type": "code",
   "execution_count": 27,
   "id": "05ad58cc",
   "metadata": {
    "execution": {
     "iopub.execute_input": "2025-05-25T14:51:00.631665Z",
     "iopub.status.busy": "2025-05-25T14:51:00.630965Z",
     "iopub.status.idle": "2025-05-25T14:51:00.975399Z",
     "shell.execute_reply": "2025-05-25T14:51:00.973402Z"
    },
    "papermill": {
     "duration": 0.366045,
     "end_time": "2025-05-25T14:51:00.978121",
     "exception": false,
     "start_time": "2025-05-25T14:51:00.612076",
     "status": "completed"
    },
    "tags": []
   },
   "outputs": [
    {
     "name": "stdout",
     "output_type": "stream",
     "text": [
      "\n",
      " === Contingency Table === \n",
      "\n",
      "Survived     0    1\n",
      "Has_Cabin          \n",
      "0          481  206\n",
      "1           68  136 \n",
      "\n"
     ]
    },
    {
     "data": {
      "image/png": "[encoded data removed]",
      "text/plain": [
       "<Figure size 700x500 with 2 Axes>"
      ]
     },
     "metadata": {},
     "output_type": "display_data"
    },
    {
     "name": "stdout",
     "output_type": "stream",
     "text": [
      "- Chi-square statistics:  87.9415\n",
      "- P_value: 0.0000\n",
      "- Degrees of freedom: 1\n",
      "- Expected frequency: \n",
      " [[423.3030303 263.6969697]\n",
      " [125.6969697  78.3030303]]\n"
     ]
    }
   ],
   "source": [
    "contingency_table = pd.crosstab(df['Has_Cabin'], df['Survived']) \n",
    "print('\\n === Contingency Table === \\n') \n",
    "print(contingency_table, '\\n')\n",
    "\n",
    "\n",
    "plt.figure(figsize=(7,5))  \n",
    "\n",
    "sns.heatmap(contingency_table, annot=True, fmt='d', cmap='Blues') \n",
    "\n",
    "plt.xlabel('Survived')\n",
    "plt.ylabel('Has_Cabin') \n",
    "plt.title('Has_Cabin vs. Survived') \n",
    "\n",
    "plt.show() \n",
    "\n",
    "chi2, p, dof, expected = chi2_contingency(contingency_table)\n",
    "print(f'- Chi-square statistics: {chi2: .4f}') \n",
    "print(f'- P_value: {p:.4f}') \n",
    "print(f'- Degrees of freedom: {dof}') \n",
    "print(f'- Expected frequency: \\n {expected}') "
   ]
  },
  {
   "cell_type": "markdown",
   "id": "25c7bb71",
   "metadata": {
    "papermill": {
     "duration": 0.01854,
     "end_time": "2025-05-25T14:51:01.014878",
     "exception": false,
     "start_time": "2025-05-25T14:51:00.996338",
     "status": "completed"
    },
    "tags": []
   },
   "source": [
    "### 6. 🔍 **Embarked**  "
   ]
  },
  {
   "cell_type": "code",
   "execution_count": 28,
   "id": "d2f2fe34",
   "metadata": {
    "execution": {
     "iopub.execute_input": "2025-05-25T14:51:01.053596Z",
     "iopub.status.busy": "2025-05-25T14:51:01.053111Z",
     "iopub.status.idle": "2025-05-25T14:51:01.062917Z",
     "shell.execute_reply": "2025-05-25T14:51:01.061555Z"
    },
    "papermill": {
     "duration": 0.031063,
     "end_time": "2025-05-25T14:51:01.065289",
     "exception": false,
     "start_time": "2025-05-25T14:51:01.034226",
     "status": "completed"
    },
    "tags": []
   },
   "outputs": [],
   "source": [
    "embark = pd.get_dummies(df['Embarked'], drop_first=True, dtype=int)\n",
    "df = pd.concat([df, embark], axis=1)    "
   ]
  },
  {
   "cell_type": "markdown",
   "id": "49c00dc8",
   "metadata": {
    "papermill": {
     "duration": 0.020504,
     "end_time": "2025-05-25T14:51:01.105560",
     "exception": false,
     "start_time": "2025-05-25T14:51:01.085056",
     "status": "completed"
    },
    "tags": []
   },
   "source": [
    "### 7. 🔍 **Combine Col SibSp with Col Parch to Create a New Variable: Family**  "
   ]
  },
  {
   "cell_type": "code",
   "execution_count": 29,
   "id": "0bb4acf2",
   "metadata": {
    "execution": {
     "iopub.execute_input": "2025-05-25T14:51:01.147272Z",
     "iopub.status.busy": "2025-05-25T14:51:01.146745Z",
     "iopub.status.idle": "2025-05-25T14:51:01.172974Z",
     "shell.execute_reply": "2025-05-25T14:51:01.170911Z"
    },
    "papermill": {
     "duration": 0.049828,
     "end_time": "2025-05-25T14:51:01.175631",
     "exception": false,
     "start_time": "2025-05-25T14:51:01.125803",
     "status": "completed"
    },
    "tags": []
   },
   "outputs": [
    {
     "data": {
      "text/html": [
       "<div>\n",
       "<style scoped>\n",
       "    .dataframe tbody tr th:only-of-type {\n",
       "        vertical-align: middle;\n",
       "    }\n",
       "\n",
       "    .dataframe tbody tr th {\n",
       "        vertical-align: top;\n",
       "    }\n",
       "\n",
       "    .dataframe thead th {\n",
       "        text-align: right;\n",
       "    }\n",
       "</style>\n",
       "<table border=\"1\" class=\"dataframe\">\n",
       "  <thead>\n",
       "    <tr style=\"text-align: right;\">\n",
       "      <th></th>\n",
       "      <th>Name</th>\n",
       "      <th>Ticket_Prefix</th>\n",
       "      <th>Pclass</th>\n",
       "      <th>Family</th>\n",
       "      <th>Survived</th>\n",
       "    </tr>\n",
       "  </thead>\n",
       "  <tbody>\n",
       "    <tr>\n",
       "      <th>159</th>\n",
       "      <td>Sage, Master. Thomas Henry</td>\n",
       "      <td>CA</td>\n",
       "      <td>3</td>\n",
       "      <td>11</td>\n",
       "      <td>0</td>\n",
       "    </tr>\n",
       "    <tr>\n",
       "      <th>180</th>\n",
       "      <td>Sage, Miss. Constance Gladys</td>\n",
       "      <td>CA</td>\n",
       "      <td>3</td>\n",
       "      <td>11</td>\n",
       "      <td>0</td>\n",
       "    </tr>\n",
       "    <tr>\n",
       "      <th>201</th>\n",
       "      <td>Sage, Mr. Frederick</td>\n",
       "      <td>CA</td>\n",
       "      <td>3</td>\n",
       "      <td>11</td>\n",
       "      <td>0</td>\n",
       "    </tr>\n",
       "    <tr>\n",
       "      <th>324</th>\n",
       "      <td>Sage, Mr. George John Jr</td>\n",
       "      <td>CA</td>\n",
       "      <td>3</td>\n",
       "      <td>11</td>\n",
       "      <td>0</td>\n",
       "    </tr>\n",
       "    <tr>\n",
       "      <th>792</th>\n",
       "      <td>Sage, Miss. Stella Anna</td>\n",
       "      <td>CA</td>\n",
       "      <td>3</td>\n",
       "      <td>11</td>\n",
       "      <td>0</td>\n",
       "    </tr>\n",
       "    <tr>\n",
       "      <th>846</th>\n",
       "      <td>Sage, Mr. Douglas Bullen</td>\n",
       "      <td>CA</td>\n",
       "      <td>3</td>\n",
       "      <td>11</td>\n",
       "      <td>0</td>\n",
       "    </tr>\n",
       "    <tr>\n",
       "      <th>863</th>\n",
       "      <td>Sage, Miss. Dorothy Edith \"Dolly\"</td>\n",
       "      <td>CA</td>\n",
       "      <td>3</td>\n",
       "      <td>11</td>\n",
       "      <td>0</td>\n",
       "    </tr>\n",
       "  </tbody>\n",
       "</table>\n",
       "</div>"
      ],
      "text/plain": [
       "                                  Name Ticket_Prefix  Pclass  Family  Survived\n",
       "159         Sage, Master. Thomas Henry            CA       3      11         0\n",
       "180       Sage, Miss. Constance Gladys            CA       3      11         0\n",
       "201                Sage, Mr. Frederick            CA       3      11         0\n",
       "324           Sage, Mr. George John Jr            CA       3      11         0\n",
       "792            Sage, Miss. Stella Anna            CA       3      11         0\n",
       "846           Sage, Mr. Douglas Bullen            CA       3      11         0\n",
       "863  Sage, Miss. Dorothy Edith \"Dolly\"            CA       3      11         0"
      ]
     },
     "execution_count": 29,
     "metadata": {},
     "output_type": "execute_result"
    }
   ],
   "source": [
    "df['Family'] = df['SibSp'] + df['Parch'] + 1 \n",
    "\n",
    "most_family = np.where(df['Family'] == max(df['Family'])) \n",
    "df[['Name', 'Ticket_Prefix', 'Pclass', 'Family', 'Survived']].loc[most_family]    "
   ]
  },
  {
   "cell_type": "code",
   "execution_count": 30,
   "id": "64d238dc",
   "metadata": {
    "execution": {
     "iopub.execute_input": "2025-05-25T14:51:01.227083Z",
     "iopub.status.busy": "2025-05-25T14:51:01.226542Z",
     "iopub.status.idle": "2025-05-25T14:51:01.234910Z",
     "shell.execute_reply": "2025-05-25T14:51:01.233437Z"
    },
    "papermill": {
     "duration": 0.033625,
     "end_time": "2025-05-25T14:51:01.238036",
     "exception": false,
     "start_time": "2025-05-25T14:51:01.204411",
     "status": "completed"
    },
    "tags": []
   },
   "outputs": [],
   "source": [
    "df.drop(['Ticket_Prefix','Name', 'Ticket', 'SibSp', 'Parch'], axis=1, inplace=True)  "
   ]
  },
  {
   "cell_type": "markdown",
   "id": "9a088542",
   "metadata": {
    "papermill": {
     "duration": 0.018342,
     "end_time": "2025-05-25T14:51:01.277112",
     "exception": false,
     "start_time": "2025-05-25T14:51:01.258770",
     "status": "completed"
    },
    "tags": []
   },
   "source": [
    "# 🎥   ***Data Visualization***   "
   ]
  },
  {
   "cell_type": "markdown",
   "id": "8c091610",
   "metadata": {
    "papermill": {
     "duration": 0.018507,
     "end_time": "2025-05-25T14:51:01.315122",
     "exception": false,
     "start_time": "2025-05-25T14:51:01.296615",
     "status": "completed"
    },
    "tags": []
   },
   "source": [
    "### 1. 🔍 **Survivial Rate Distribution**"
   ]
  },
  {
   "cell_type": "code",
   "execution_count": 31,
   "id": "ca16e03c",
   "metadata": {
    "execution": {
     "iopub.execute_input": "2025-05-25T14:51:01.352785Z",
     "iopub.status.busy": "2025-05-25T14:51:01.352269Z",
     "iopub.status.idle": "2025-05-25T14:51:01.542665Z",
     "shell.execute_reply": "2025-05-25T14:51:01.540606Z"
    },
    "papermill": {
     "duration": 0.211638,
     "end_time": "2025-05-25T14:51:01.544977",
     "exception": false,
     "start_time": "2025-05-25T14:51:01.333339",
     "status": "completed"
    },
    "tags": []
   },
   "outputs": [
    {
     "data": {
      "image/png": "[encoded data removed]",
      "text/plain": [
       "<Figure size 640x480 with 1 Axes>"
      ]
     },
     "metadata": {},
     "output_type": "display_data"
    }
   ],
   "source": [
    "df['Survived'].value_counts().plot(kind='pie',\n",
    "                                   startangle= 90, \n",
    "                                   autopct = '%1.1f%%') \n",
    "\n",
    "plt.ylabel('')\n",
    "plt.title('Distribution of Survival Rates')\n",
    "plt.show()    "
   ]
  },
  {
   "cell_type": "markdown",
   "id": "5cb6a3c4",
   "metadata": {
    "papermill": {
     "duration": 0.018305,
     "end_time": "2025-05-25T14:51:01.582779",
     "exception": false,
     "start_time": "2025-05-25T14:51:01.564474",
     "status": "completed"
    },
    "tags": []
   },
   "source": [
    "### 2. 🔍 **Create Subplots that Display the Count of Survivors Categorized by Port of embarkation & Pclass**"
   ]
  },
  {
   "cell_type": "code",
   "execution_count": 32,
   "id": "27c3926c",
   "metadata": {
    "execution": {
     "iopub.execute_input": "2025-05-25T14:51:01.622204Z",
     "iopub.status.busy": "2025-05-25T14:51:01.621685Z",
     "iopub.status.idle": "2025-05-25T14:51:01.627557Z",
     "shell.execute_reply": "2025-05-25T14:51:01.626196Z"
    },
    "papermill": {
     "duration": 0.027784,
     "end_time": "2025-05-25T14:51:01.629648",
     "exception": false,
     "start_time": "2025-05-25T14:51:01.601864",
     "status": "completed"
    },
    "tags": []
   },
   "outputs": [],
   "source": [
    "cate_cols = ['Embarked', 'Pclass'] \n",
    "target = 'Survived'   "
   ]
  },
  {
   "cell_type": "code",
   "execution_count": 33,
   "id": "42111152",
   "metadata": {
    "execution": {
     "iopub.execute_input": "2025-05-25T14:51:01.671420Z",
     "iopub.status.busy": "2025-05-25T14:51:01.670901Z",
     "iopub.status.idle": "2025-05-25T14:51:01.698403Z",
     "shell.execute_reply": "2025-05-25T14:51:01.697216Z"
    },
    "papermill": {
     "duration": 0.051575,
     "end_time": "2025-05-25T14:51:01.700192",
     "exception": false,
     "start_time": "2025-05-25T14:51:01.648617",
     "status": "completed"
    },
    "tags": []
   },
   "outputs": [
    {
     "data": {
      "text/plain": [
       "<Figure size 2500x1200 with 0 Axes>"
      ]
     },
     "metadata": {},
     "output_type": "display_data"
    }
   ],
   "source": [
    "fig = plt.figure(figsize = (25, len(cate_cols)*6))  "
   ]
  },
  {
   "cell_type": "code",
   "execution_count": 34,
   "id": "045d2aab",
   "metadata": {
    "execution": {
     "iopub.execute_input": "2025-05-25T14:51:01.740314Z",
     "iopub.status.busy": "2025-05-25T14:51:01.739818Z",
     "iopub.status.idle": "2025-05-25T14:51:02.288615Z",
     "shell.execute_reply": "2025-05-25T14:51:02.287040Z"
    },
    "papermill": {
     "duration": 0.571745,
     "end_time": "2025-05-25T14:51:02.291095",
     "exception": false,
     "start_time": "2025-05-25T14:51:01.719350",
     "status": "completed"
    },
    "tags": []
   },
   "outputs": [
    {
     "data": {
      "image/png": "[encoded data removed]",
      "text/plain": [
       "<Figure size 640x480 with 2 Axes>"
      ]
     },
     "metadata": {},
     "output_type": "display_data"
    }
   ],
   "source": [
    "for i, col in enumerate(cate_cols):\n",
    "    plt.subplot(len(cate_cols)//2 + len(cate_cols)%2, 2, i+1) \n",
    "    sns.countplot(data=df,\n",
    "                  x=col,\n",
    "                  hue=target)  \n",
    "    plt.title(f'Victims & Survivors Categorized by {col}', fontsize=8) \n",
    "    plt.ylim(0, df[col].value_counts().max()+10) \n",
    "    plt.ylabel('')\n",
    "\n",
    "\n",
    "plt.tight_layout() \n",
    "plt.show() \n"
   ]
  },
  {
   "cell_type": "markdown",
   "id": "073735e4",
   "metadata": {
    "papermill": {
     "duration": 0.021316,
     "end_time": "2025-05-25T14:51:02.332774",
     "exception": false,
     "start_time": "2025-05-25T14:51:02.311458",
     "status": "completed"
    },
    "tags": []
   },
   "source": [
    "### 3. 🔍 **Create a Barplot that Displays Survived Distribution Categorized by Sex in Three Passenger classes** "
   ]
  },
  {
   "cell_type": "code",
   "execution_count": 35,
   "id": "34153aab",
   "metadata": {
    "execution": {
     "iopub.execute_input": "2025-05-25T14:51:02.377305Z",
     "iopub.status.busy": "2025-05-25T14:51:02.376901Z",
     "iopub.status.idle": "2025-05-25T14:51:02.738290Z",
     "shell.execute_reply": "2025-05-25T14:51:02.737140Z"
    },
    "papermill": {
     "duration": 0.385703,
     "end_time": "2025-05-25T14:51:02.740337",
     "exception": false,
     "start_time": "2025-05-25T14:51:02.354634",
     "status": "completed"
    },
    "tags": []
   },
   "outputs": [
    {
     "data": {
      "image/png": "[encoded data removed]",
      "text/plain": [
       "<Figure size 640x480 with 1 Axes>"
      ]
     },
     "metadata": {},
     "output_type": "display_data"
    }
   ],
   "source": [
    "sns.barplot(data=df, \n",
    "            x='Pclass',\n",
    "            y = 'Survived', \n",
    "            hue = 'Sex') \n",
    "\n",
    "plt.title('Survived Distribution by Sex in Three Pclasses') \n",
    "plt.show() "
   ]
  },
  {
   "cell_type": "markdown",
   "id": "f56da7b2",
   "metadata": {
    "papermill": {
     "duration": 0.02116,
     "end_time": "2025-05-25T14:51:02.783013",
     "exception": false,
     "start_time": "2025-05-25T14:51:02.761853",
     "status": "completed"
    },
    "tags": []
   },
   "source": [
    "### 4. 🔍 **Create a Boxplot to illustrate the age distribution categorized by survival status**"
   ]
  },
  {
   "cell_type": "code",
   "execution_count": 36,
   "id": "00cb98de",
   "metadata": {
    "execution": {
     "iopub.execute_input": "2025-05-25T14:51:02.828978Z",
     "iopub.status.busy": "2025-05-25T14:51:02.828629Z",
     "iopub.status.idle": "2025-05-25T14:51:02.880649Z",
     "shell.execute_reply": "2025-05-25T14:51:02.879462Z"
    },
    "papermill": {
     "duration": 0.077865,
     "end_time": "2025-05-25T14:51:02.882682",
     "exception": false,
     "start_time": "2025-05-25T14:51:02.804817",
     "status": "completed"
    },
    "tags": []
   },
   "outputs": [
    {
     "data": {
      "text/html": [
       "<html>\n",
       "<head><meta charset=\"utf-8\" /></head>\n",
       "<body>\n",
       "    <div>            <script src=\"https://cdnjs.cloudflare.com/ajax/libs/mathjax/2.7.5/MathJax.js?config=TeX-AMS-MML_SVG\"></script><script type=\"text/javascript\">if (window.MathJax && window.MathJax.Hub && window.MathJax.Hub.Config) {window.MathJax.Hub.Config({SVG: {font: \"STIX-Web\"}});}</script>                <script type=\"text/javascript\">window.PlotlyConfig = {MathJaxConfig: 'local'};</script>\n",
       "        <script charset=\"utf-8\" src=\"https://cdn.plot.ly/plotly-2.35.2.min.js\"></script>                <div id=\"63c10324-5bb0-4cf3-b60c-ce507162817a\" class=\"plotly-graph-div\" style=\"height:525px; width:100%;\"></div>            <script type=\"text/javascript\">                                    window.PLOTLYENV=window.PLOTLYENV || {};                                    if (document.getElementById(\"63c10324-5bb0-4cf3-b60c-ce507162817a\")) {                    Plotly.newPlot(                        \"63c10324-5bb0-4cf3-b60c-ce507162817a\",                        [{\"alignmentgroup\":\"True\",\"hovertemplate\":\"Survived=%{x}\\u003cbr\\u003eAge=%{y}\\u003cextra\\u003e\\u003c\\u002fextra\\u003e\",\"legendgroup\":\"\",\"marker\":{\"color\":\"#636efa\"},\"name\":\"\",\"notched\":false,\"offsetgroup\":\"\",\"orientation\":\"v\",\"showlegend\":false,\"x\":[0,1,1,1,0,0,0,0,1,1,1,1,0,0,0,1,0,1,0,1,0,1,1,1,0,1,0,0,1,0,0,1,1,0,0,0,1,0,0,1,0,0,0,1,1,0,0,1,0,0,0,0,1,1,0,1,1,0,1,0,0,1,0,0,0,1,1,0,1,0,0,0,0,0,1,0,0,0,1,1,0,1,1,0,1,1,0,0,1,0,0,0,0,0,0,0,0,1,1,0,0,0,0,0,0,0,1,1,0,1,0,0,0,0,0,0,0,0,0,0,0,0,0,1,0,1,0,1,1,0,0,0,0,1,0,0,1,0,0,0,0,1,1,0,0,0,1,0,0,0,0,1,0,0,0,0,1,0,0,0,0,1,0,0,0,1,1,0,0,0,0,0,1,0,0,0,0,0,0,0,0,0,0,1,1,0,1,1,0,0,1,0,1,1,1,1,0,0,1,0,0,0,0,0,1,0,0,1,1,1,0,1,0,0,0,1,1,0,1,0,1,0,0,0,1,0,1,0,0,0,1,0,0,1,0,0,0,1,0,0,0,1,0,0,0,0,0,1,1,0,0,0,0,0,0,1,1,1,1,1,0,1,0,0,0,0,0,1,1,1,0,1,1,0,1,1,0,0,0,1,0,0,0,1,0,0,1,0,1,1,1,1,0,0,0,0,0,0,1,1,1,1,0,1,0,1,1,1,0,1,1,1,0,0,0,1,1,0,1,1,0,0,1,1,0,1,0,1,1,1,1,0,0,0,1,0,0,1,1,0,1,1,0,0,0,1,1,1,1,0,0,0,0,0,0,0,1,0,1,1,0,0,0,0,0,0,1,1,1,1,1,0,0,0,0,1,1,0,0,0,1,1,0,1,0,0,0,1,0,1,1,1,0,1,1,0,0,0,0,1,1,0,0,0,0,0,0,1,0,0,0,0,1,0,1,0,1,1,0,0,0,0,0,0,0,0,1,1,0,1,1,1,1,0,0,1,0,1,0,0,1,0,0,1,1,1,1,1,1,1,0,0,0,1,0,1,0,1,1,0,1,0,0,0,0,0,0,0,0,1,0,0,1,1,0,0,0,0,0,1,0,0,0,1,1,0,1,0,0,1,0,0,0,0,0,0,1,0,0,0,0,0,0,0,1,0,1,1,0,1,1,0,1,1,0,0,1,0,1,0,1,0,0,1,0,0,1,0,0,0,1,0,0,1,0,1,0,1,0,1,1,0,0,1,0,0,1,1,0,1,1,0,0,1,1,0,1,0,1,1,0,0,0,0,0,0,0,0,0,1,1,1,1,1,0,0,1,1,0,1,1,1,0,0,0,1,0,1,0,0,0,1,0,0,0,0,1,0,0,1,1,0,0,0,1,0,0,1,1,1,0,0,1,0,0,1,0,0,1,0,0,1,1,0,0,0,0,1,0,0,1,0,1,0,0,1,0,0,0,0,0,1,0,1,1,1,0,1,0,1,0,1,0,1,0,0,0,0,0,0,1,0,0,0,1,0,0,0,0,1,1,0,0,1,0,0,0,1,0,1,0,1,0,0,0,0,0,0,0,1,1,1,1,0,0,0,0,1,0,0,1,1,0,0,0,0,1,1,1,1,1,0,1,0,0,0,1,1,0,0,1,0,0,0,1,0,1,1,0,0,1,0,0,0,0,0,0,1,0,0,1,0,1,0,1,0,0,1,0,0,1,1,0,0,1,1,0,0,0,1,0,0,1,1,0,1,0,0,0,0,0,0,0,0,1,0,0,1,0,1,1,1,0,0,0,0,1,0,1,0,0,0,0,0,0,0,1,1,0,0,0,1,1,1,1,0,0,0,0,1,0,0,0,0,0,0,0,0,0,0,1,1,0,1,0,0,0,1,1,1,1,1,0,0,0,1,0,0,1,1,0,0,1,0,0,0,0,0,0,1,0,0,0,1,0,1,1,1,1,0,0,0,1,0,0,1,1,0,0,1,0,1,0,0,1,1,0,0,0,1,1,0,0,0,0,0,0,1,0,1,0],\"x0\":\" \",\"xaxis\":\"x\",\"y\":[22.0,38.0,26.0,35.0,35.0,25.0,54.0,2.0,27.0,14.0,4.0,58.0,20.0,39.0,14.0,55.0,2.0,30.0,31.0,21.5,35.0,34.0,15.0,28.0,8.0,38.0,25.0,19.0,21.5,25.0,40.0,35.0,21.5,66.0,28.0,42.0,25.0,21.0,18.0,14.0,40.0,27.0,25.0,3.0,19.0,25.0,25.0,21.5,25.0,18.0,7.0,21.0,49.0,29.0,65.0,40.0,21.0,28.5,5.0,11.0,22.0,38.0,45.0,4.0,40.0,25.0,29.0,19.0,17.0,26.0,32.0,16.0,21.0,26.0,32.0,25.0,25.0,25.0,0.83,30.0,22.0,29.0,21.5,28.0,17.0,33.0,16.0,25.0,23.0,24.0,29.0,20.0,46.0,26.0,59.0,25.0,71.0,23.0,34.0,34.0,28.0,25.0,21.0,33.0,37.0,28.0,21.0,25.0,38.0,21.5,47.0,14.5,22.0,20.0,17.0,21.0,70.5,29.0,24.0,2.0,21.0,25.0,32.5,32.5,54.0,12.0,25.0,24.0,21.5,45.0,33.0,20.0,47.0,29.0,25.0,23.0,19.0,37.0,16.0,24.0,21.5,22.0,24.0,19.0,18.0,19.0,27.0,9.0,36.5,42.0,51.0,22.0,55.5,40.5,25.0,51.0,16.0,30.0,25.0,25.0,44.0,40.0,26.0,17.0,1.0,9.0,35.0,45.0,40.0,28.0,61.0,4.0,1.0,21.0,56.0,18.0,25.0,50.0,30.0,36.0,21.5,30.0,9.0,1.0,4.0,40.0,21.5,45.0,40.0,36.0,32.0,19.0,19.0,3.0,44.0,58.0,25.0,42.0,21.5,24.0,28.0,25.0,34.0,45.5,18.0,2.0,32.0,26.0,16.0,40.0,24.0,35.0,22.0,30.0,25.0,31.0,27.0,42.0,32.0,30.0,16.0,27.0,51.0,25.0,38.0,22.0,19.0,20.5,18.0,21.5,35.0,29.0,59.0,5.0,24.0,21.5,44.0,8.0,19.0,33.0,21.5,21.5,29.0,22.0,30.0,44.0,25.0,24.0,37.0,54.0,25.0,29.0,62.0,30.0,41.0,29.0,35.0,30.0,35.0,50.0,25.0,3.0,52.0,40.0,21.5,36.0,16.0,25.0,58.0,35.0,40.0,25.0,41.0,37.0,21.5,63.0,45.0,30.0,7.0,35.0,65.0,28.0,16.0,19.0,40.0,33.0,30.0,22.0,42.0,22.0,26.0,19.0,36.0,24.0,24.0,40.0,23.5,2.0,40.0,50.0,21.5,25.0,19.0,28.0,25.0,0.92,35.0,17.0,30.0,30.0,24.0,18.0,26.0,28.0,43.0,26.0,24.0,54.0,31.0,40.0,22.0,27.0,30.0,22.0,25.0,36.0,61.0,36.0,31.0,16.0,21.5,45.5,38.0,16.0,35.0,25.0,29.0,41.0,45.0,45.0,2.0,24.0,28.0,25.0,36.0,24.0,40.0,21.5,3.0,42.0,23.0,40.0,15.0,25.0,25.0,28.0,22.0,38.0,21.5,21.5,40.0,29.0,45.0,35.0,25.0,30.0,60.0,21.5,21.5,24.0,25.0,18.0,19.0,22.0,3.0,35.0,22.0,27.0,20.0,19.0,42.0,1.0,32.0,35.0,25.0,18.0,1.0,36.0,25.0,17.0,36.0,21.0,28.0,23.0,24.0,22.0,31.0,46.0,23.0,28.0,39.0,26.0,21.0,28.0,20.0,34.0,51.0,3.0,21.0,21.5,25.0,25.0,33.0,30.0,44.0,21.5,34.0,18.0,30.0,10.0,25.0,21.0,29.0,28.0,18.0,25.0,28.0,19.0,25.0,32.0,28.0,21.5,42.0,17.0,50.0,14.0,21.0,24.0,64.0,31.0,45.0,20.0,25.0,28.0,25.0,4.0,13.0,34.0,5.0,52.0,36.0,25.0,30.0,49.0,25.0,29.0,65.0,35.0,50.0,25.0,48.0,34.0,47.0,48.0,25.0,38.0,30.0,56.0,25.0,0.75,25.0,38.0,33.0,23.0,22.0,40.0,34.0,29.0,22.0,2.0,9.0,30.0,50.0,63.0,25.0,21.5,35.0,58.0,30.0,9.0,25.0,21.0,55.0,71.0,21.0,25.0,54.0,25.0,25.0,24.0,17.0,21.0,21.5,37.0,16.0,18.0,33.0,40.0,28.0,26.0,29.0,25.0,36.0,54.0,24.0,47.0,34.0,25.0,36.0,32.0,30.0,22.0,25.0,44.0,25.0,40.5,50.0,40.0,39.0,23.0,2.0,25.0,17.0,21.5,30.0,7.0,45.0,30.0,25.0,22.0,36.0,9.0,11.0,32.0,50.0,64.0,19.0,30.0,33.0,8.0,17.0,27.0,25.0,22.0,22.0,62.0,48.0,40.0,39.0,36.0,25.0,40.0,28.0,25.0,21.5,24.0,19.0,29.0,25.0,32.0,62.0,53.0,36.0,21.5,16.0,19.0,34.0,39.0,21.5,32.0,25.0,39.0,54.0,36.0,25.0,18.0,47.0,60.0,22.0,25.0,35.0,52.0,47.0,21.5,37.0,36.0,28.0,49.0,25.0,49.0,24.0,25.0,40.0,44.0,35.0,36.0,30.0,27.0,22.0,40.0,39.0,25.0,21.5,25.0,35.0,24.0,34.0,26.0,4.0,26.0,27.0,42.0,20.0,21.0,21.0,61.0,57.0,21.0,26.0,25.0,80.0,51.0,32.0,40.0,9.0,28.0,32.0,31.0,41.0,25.0,20.0,24.0,2.0,25.0,0.75,48.0,19.0,56.0,25.0,23.0,25.0,18.0,21.0,21.5,18.0,24.0,25.0,32.0,23.0,58.0,50.0,40.0,47.0,36.0,20.0,32.0,25.0,25.0,43.0,35.0,40.0,31.0,70.0,31.0,30.0,18.0,24.5,18.0,43.0,36.0,21.5,27.0,20.0,14.0,60.0,25.0,14.0,19.0,18.0,15.0,31.0,4.0,25.0,25.0,60.0,52.0,44.0,21.5,49.0,42.0,18.0,35.0,18.0,25.0,26.0,39.0,45.0,42.0,22.0,25.0,24.0,40.0,48.0,29.0,52.0,19.0,38.0,27.0,25.0,33.0,6.0,17.0,34.0,50.0,27.0,20.0,30.0,21.5,25.0,25.0,29.0,11.0,30.0,23.0,23.0,28.5,48.0,35.0,25.0,25.0,40.0,36.0,21.0,24.0,31.0,70.0,16.0,30.0,19.0,31.0,4.0,6.0,33.0,23.0,48.0,0.67,28.0,18.0,34.0,33.0,25.0,41.0,20.0,36.0,16.0,51.0,40.0,30.5,25.0,32.0,24.0,48.0,57.0,25.0,54.0,18.0,25.0,5.0,25.0,43.0,13.0,17.0,29.0,25.0,25.0,25.0,18.0,8.0,1.0,46.0,25.0,16.0,21.5,40.0,25.0,39.0,49.0,31.0,30.0,30.0,34.0,31.0,11.0,0.42,27.0,31.0,39.0,18.0,39.0,33.0,26.0,39.0,35.0,6.0,30.5,40.0,23.0,31.0,43.0,10.0,52.0,27.0,38.0,27.0,2.0,25.0,25.0,1.0,25.0,62.0,15.0,0.83,25.0,23.0,18.0,39.0,21.0,25.0,32.0,40.0,20.0,16.0,30.0,34.5,17.0,42.0,25.0,35.0,28.0,35.0,4.0,74.0,9.0,16.0,44.0,18.0,45.0,51.0,24.0,25.0,41.0,21.0,48.0,21.5,24.0,42.0,27.0,31.0,25.0,4.0,26.0,47.0,33.0,47.0,28.0,15.0,20.0,19.0,25.0,56.0,25.0,33.0,22.0,28.0,25.0,39.0,27.0,19.0,21.5,26.0,32.0],\"y0\":\" \",\"yaxis\":\"y\",\"type\":\"box\"}],                        {\"template\":{\"data\":{\"barpolar\":[{\"marker\":{\"line\":{\"color\":\"rgb(17,17,17)\",\"width\":0.5},\"pattern\":{\"fillmode\":\"overlay\",\"size\":10,\"solidity\":0.2}},\"type\":\"barpolar\"}],\"bar\":[{\"error_x\":{\"color\":\"#f2f5fa\"},\"error_y\":{\"color\":\"#f2f5fa\"},\"marker\":{\"line\":{\"color\":\"rgb(17,17,17)\",\"width\":0.5},\"pattern\":{\"fillmode\":\"overlay\",\"size\":10,\"solidity\":0.2}},\"type\":\"bar\"}],\"carpet\":[{\"aaxis\":{\"endlinecolor\":\"#A2B1C6\",\"gridcolor\":\"#506784\",\"linecolor\":\"#506784\",\"minorgridcolor\":\"#506784\",\"startlinecolor\":\"#A2B1C6\"},\"baxis\":{\"endlinecolor\":\"#A2B1C6\",\"gridcolor\":\"#506784\",\"linecolor\":\"#506784\",\"minorgridcolor\":\"#506784\",\"startlinecolor\":\"#A2B1C6\"},\"type\":\"carpet\"}],\"choropleth\":[{\"colorbar\":{\"outlinewidth\":0,\"ticks\":\"\"},\"type\":\"choropleth\"}],\"contourcarpet\":[{\"colorbar\":{\"outlinewidth\":0,\"ticks\":\"\"},\"type\":\"contourcarpet\"}],\"contour\":[{\"colorbar\":{\"outlinewidth\":0,\"ticks\":\"\"},\"colorscale\":[[0.0,\"#0d0887\"],[0.1111111111111111,\"#46039f\"],[0.2222222222222222,\"#7201a8\"],[0.3333333333333333,\"#9c179e\"],[0.4444444444444444,\"#bd3786\"],[0.5555555555555556,\"#d8576b\"],[0.6666666666666666,\"#ed7953\"],[0.7777777777777778,\"#fb9f3a\"],[0.8888888888888888,\"#fdca26\"],[1.0,\"#f0f921\"]],\"type\":\"contour\"}],\"heatmapgl\":[{\"colorbar\":{\"outlinewidth\":0,\"ticks\":\"\"},\"colorscale\":[[0.0,\"#0d0887\"],[0.1111111111111111,\"#46039f\"],[0.2222222222222222,\"#7201a8\"],[0.3333333333333333,\"#9c179e\"],[0.4444444444444444,\"#bd3786\"],[0.5555555555555556,\"#d8576b\"],[0.6666666666666666,\"#ed7953\"],[0.7777777777777778,\"#fb9f3a\"],[0.8888888888888888,\"#fdca26\"],[1.0,\"#f0f921\"]],\"type\":\"heatmapgl\"}],\"heatmap\":[{\"colorbar\":{\"outlinewidth\":0,\"ticks\":\"\"},\"colorscale\":[[0.0,\"#0d0887\"],[0.1111111111111111,\"#46039f\"],[0.2222222222222222,\"#7201a8\"],[0.3333333333333333,\"#9c179e\"],[0.4444444444444444,\"#bd3786\"],[0.5555555555555556,\"#d8576b\"],[0.6666666666666666,\"#ed7953\"],[0.7777777777777778,\"#fb9f3a\"],[0.8888888888888888,\"#fdca26\"],[1.0,\"#f0f921\"]],\"type\":\"heatmap\"}],\"histogram2dcontour\":[{\"colorbar\":{\"outlinewidth\":0,\"ticks\":\"\"},\"colorscale\":[[0.0,\"#0d0887\"],[0.1111111111111111,\"#46039f\"],[0.2222222222222222,\"#7201a8\"],[0.3333333333333333,\"#9c179e\"],[0.4444444444444444,\"#bd3786\"],[0.5555555555555556,\"#d8576b\"],[0.6666666666666666,\"#ed7953\"],[0.7777777777777778,\"#fb9f3a\"],[0.8888888888888888,\"#fdca26\"],[1.0,\"#f0f921\"]],\"type\":\"histogram2dcontour\"}],\"histogram2d\":[{\"colorbar\":{\"outlinewidth\":0,\"ticks\":\"\"},\"colorscale\":[[0.0,\"#0d0887\"],[0.1111111111111111,\"#46039f\"],[0.2222222222222222,\"#7201a8\"],[0.3333333333333333,\"#9c179e\"],[0.4444444444444444,\"#bd3786\"],[0.5555555555555556,\"#d8576b\"],[0.6666666666666666,\"#ed7953\"],[0.7777777777777778,\"#fb9f3a\"],[0.8888888888888888,\"#fdca26\"],[1.0,\"#f0f921\"]],\"type\":\"histogram2d\"}],\"histogram\":[{\"marker\":{\"pattern\":{\"fillmode\":\"overlay\",\"size\":10,\"solidity\":0.2}},\"type\":\"histogram\"}],\"mesh3d\":[{\"colorbar\":{\"outlinewidth\":0,\"ticks\":\"\"},\"type\":\"mesh3d\"}],\"parcoords\":[{\"line\":{\"colorbar\":{\"outlinewidth\":0,\"ticks\":\"\"}},\"type\":\"parcoords\"}],\"pie\":[{\"automargin\":true,\"type\":\"pie\"}],\"scatter3d\":[{\"line\":{\"colorbar\":{\"outlinewidth\":0,\"ticks\":\"\"}},\"marker\":{\"colorbar\":{\"outlinewidth\":0,\"ticks\":\"\"}},\"type\":\"scatter3d\"}],\"scattercarpet\":[{\"marker\":{\"colorbar\":{\"outlinewidth\":0,\"ticks\":\"\"}},\"type\":\"scattercarpet\"}],\"scattergeo\":[{\"marker\":{\"colorbar\":{\"outlinewidth\":0,\"ticks\":\"\"}},\"type\":\"scattergeo\"}],\"scattergl\":[{\"marker\":{\"line\":{\"color\":\"#283442\"}},\"type\":\"scattergl\"}],\"scattermapbox\":[{\"marker\":{\"colorbar\":{\"outlinewidth\":0,\"ticks\":\"\"}},\"type\":\"scattermapbox\"}],\"scatterpolargl\":[{\"marker\":{\"colorbar\":{\"outlinewidth\":0,\"ticks\":\"\"}},\"type\":\"scatterpolargl\"}],\"scatterpolar\":[{\"marker\":{\"colorbar\":{\"outlinewidth\":0,\"ticks\":\"\"}},\"type\":\"scatterpolar\"}],\"scatter\":[{\"marker\":{\"line\":{\"color\":\"#283442\"}},\"type\":\"scatter\"}],\"scatterternary\":[{\"marker\":{\"colorbar\":{\"outlinewidth\":0,\"ticks\":\"\"}},\"type\":\"scatterternary\"}],\"surface\":[{\"colorbar\":{\"outlinewidth\":0,\"ticks\":\"\"},\"colorscale\":[[0.0,\"#0d0887\"],[0.1111111111111111,\"#46039f\"],[0.2222222222222222,\"#7201a8\"],[0.3333333333333333,\"#9c179e\"],[0.4444444444444444,\"#bd3786\"],[0.5555555555555556,\"#d8576b\"],[0.6666666666666666,\"#ed7953\"],[0.7777777777777778,\"#fb9f3a\"],[0.8888888888888888,\"#fdca26\"],[1.0,\"#f0f921\"]],\"type\":\"surface\"}],\"table\":[{\"cells\":{\"fill\":{\"color\":\"#506784\"},\"line\":{\"color\":\"rgb(17,17,17)\"}},\"header\":{\"fill\":{\"color\":\"#2a3f5f\"},\"line\":{\"color\":\"rgb(17,17,17)\"}},\"type\":\"table\"}]},\"layout\":{\"annotationdefaults\":{\"arrowcolor\":\"#f2f5fa\",\"arrowhead\":0,\"arrowwidth\":1},\"autotypenumbers\":\"strict\",\"coloraxis\":{\"colorbar\":{\"outlinewidth\":0,\"ticks\":\"\"}},\"colorscale\":{\"diverging\":[[0,\"#8e0152\"],[0.1,\"#c51b7d\"],[0.2,\"#de77ae\"],[0.3,\"#f1b6da\"],[0.4,\"#fde0ef\"],[0.5,\"#f7f7f7\"],[0.6,\"#e6f5d0\"],[0.7,\"#b8e186\"],[0.8,\"#7fbc41\"],[0.9,\"#4d9221\"],[1,\"#276419\"]],\"sequential\":[[0.0,\"#0d0887\"],[0.1111111111111111,\"#46039f\"],[0.2222222222222222,\"#7201a8\"],[0.3333333333333333,\"#9c179e\"],[0.4444444444444444,\"#bd3786\"],[0.5555555555555556,\"#d8576b\"],[0.6666666666666666,\"#ed7953\"],[0.7777777777777778,\"#fb9f3a\"],[0.8888888888888888,\"#fdca26\"],[1.0,\"#f0f921\"]],\"sequentialminus\":[[0.0,\"#0d0887\"],[0.1111111111111111,\"#46039f\"],[0.2222222222222222,\"#7201a8\"],[0.3333333333333333,\"#9c179e\"],[0.4444444444444444,\"#bd3786\"],[0.5555555555555556,\"#d8576b\"],[0.6666666666666666,\"#ed7953\"],[0.7777777777777778,\"#fb9f3a\"],[0.8888888888888888,\"#fdca26\"],[1.0,\"#f0f921\"]]},\"colorway\":[\"#636efa\",\"#EF553B\",\"#00cc96\",\"#ab63fa\",\"#FFA15A\",\"#19d3f3\",\"#FF6692\",\"#B6E880\",\"#FF97FF\",\"#FECB52\"],\"font\":{\"color\":\"#f2f5fa\"},\"geo\":{\"bgcolor\":\"rgb(17,17,17)\",\"lakecolor\":\"rgb(17,17,17)\",\"landcolor\":\"rgb(17,17,17)\",\"showlakes\":true,\"showland\":true,\"subunitcolor\":\"#506784\"},\"hoverlabel\":{\"align\":\"left\"},\"hovermode\":\"closest\",\"mapbox\":{\"style\":\"dark\"},\"paper_bgcolor\":\"rgb(17,17,17)\",\"plot_bgcolor\":\"rgb(17,17,17)\",\"polar\":{\"angularaxis\":{\"gridcolor\":\"#506784\",\"linecolor\":\"#506784\",\"ticks\":\"\"},\"bgcolor\":\"rgb(17,17,17)\",\"radialaxis\":{\"gridcolor\":\"#506784\",\"linecolor\":\"#506784\",\"ticks\":\"\"}},\"scene\":{\"xaxis\":{\"backgroundcolor\":\"rgb(17,17,17)\",\"gridcolor\":\"#506784\",\"gridwidth\":2,\"linecolor\":\"#506784\",\"showbackground\":true,\"ticks\":\"\",\"zerolinecolor\":\"#C8D4E3\"},\"yaxis\":{\"backgroundcolor\":\"rgb(17,17,17)\",\"gridcolor\":\"#506784\",\"gridwidth\":2,\"linecolor\":\"#506784\",\"showbackground\":true,\"ticks\":\"\",\"zerolinecolor\":\"#C8D4E3\"},\"zaxis\":{\"backgroundcolor\":\"rgb(17,17,17)\",\"gridcolor\":\"#506784\",\"gridwidth\":2,\"linecolor\":\"#506784\",\"showbackground\":true,\"ticks\":\"\",\"zerolinecolor\":\"#C8D4E3\"}},\"shapedefaults\":{\"line\":{\"color\":\"#f2f5fa\"}},\"sliderdefaults\":{\"bgcolor\":\"#C8D4E3\",\"bordercolor\":\"rgb(17,17,17)\",\"borderwidth\":1,\"tickwidth\":0},\"ternary\":{\"aaxis\":{\"gridcolor\":\"#506784\",\"linecolor\":\"#506784\",\"ticks\":\"\"},\"baxis\":{\"gridcolor\":\"#506784\",\"linecolor\":\"#506784\",\"ticks\":\"\"},\"bgcolor\":\"rgb(17,17,17)\",\"caxis\":{\"gridcolor\":\"#506784\",\"linecolor\":\"#506784\",\"ticks\":\"\"}},\"title\":{\"x\":0.05},\"updatemenudefaults\":{\"bgcolor\":\"#506784\",\"borderwidth\":0},\"xaxis\":{\"automargin\":true,\"gridcolor\":\"#283442\",\"linecolor\":\"#506784\",\"ticks\":\"\",\"title\":{\"standoff\":15},\"zerolinecolor\":\"#283442\",\"zerolinewidth\":2},\"yaxis\":{\"automargin\":true,\"gridcolor\":\"#283442\",\"linecolor\":\"#506784\",\"ticks\":\"\",\"title\":{\"standoff\":15},\"zerolinecolor\":\"#283442\",\"zerolinewidth\":2}}},\"xaxis\":{\"anchor\":\"y\",\"domain\":[0.0,1.0],\"title\":{\"text\":\"Survived\"}},\"yaxis\":{\"anchor\":\"x\",\"domain\":[0.0,1.0],\"title\":{\"text\":\"Age\"}},\"legend\":{\"tracegroupgap\":0},\"title\":{\"text\":\"Age Distribution Categorized by Survival Status\"},\"boxmode\":\"group\"},                        {\"responsive\": true}                    ).then(function(){\n",
       "                            \n",
       "var gd = document.getElementById('63c10324-5bb0-4cf3-b60c-ce507162817a');\n",
       "var x = new MutationObserver(function (mutations, observer) {{\n",
       "        var display = window.getComputedStyle(gd).display;\n",
       "        if (!display || display === 'none') {{\n",
       "            console.log([gd, 'removed!']);\n",
       "            Plotly.purge(gd);\n",
       "            observer.disconnect();\n",
       "        }}\n",
       "}});\n",
       "\n",
       "// Listen for the removal of the full notebook cells\n",
       "var notebookContainer = gd.closest('#notebook-container');\n",
       "if (notebookContainer) {{\n",
       "    x.observe(notebookContainer, {childList: true});\n",
       "}}\n",
       "\n",
       "// Listen for the clearing of the current output cell\n",
       "var outputEl = gd.closest('.output');\n",
       "if (outputEl) {{\n",
       "    x.observe(outputEl, {childList: true});\n",
       "}}\n",
       "\n",
       "                        })                };                            </script>        </div>\n",
       "</body>\n",
       "</html>"
      ]
     },
     "metadata": {},
     "output_type": "display_data"
    }
   ],
   "source": [
    "fig = px.box(data_frame = df, \n",
    "             x = 'Survived', \n",
    "             y = 'Age',\n",
    "             template = 'plotly_dark', \n",
    "             title = 'Age Distribution Categorized by Survival Status')  \n",
    "\n",
    "fig.show() \n"
   ]
  },
  {
   "cell_type": "code",
   "execution_count": 37,
   "id": "2e56d1ba",
   "metadata": {
    "execution": {
     "iopub.execute_input": "2025-05-25T14:51:02.929414Z",
     "iopub.status.busy": "2025-05-25T14:51:02.928853Z",
     "iopub.status.idle": "2025-05-25T14:51:02.935204Z",
     "shell.execute_reply": "2025-05-25T14:51:02.934027Z"
    },
    "papermill": {
     "duration": 0.031683,
     "end_time": "2025-05-25T14:51:02.936982",
     "exception": false,
     "start_time": "2025-05-25T14:51:02.905299",
     "status": "completed"
    },
    "tags": []
   },
   "outputs": [],
   "source": [
    "df.drop('Embarked', axis=1, inplace=True) "
   ]
  },
  {
   "cell_type": "markdown",
   "id": "2604cbb5",
   "metadata": {
    "papermill": {
     "duration": 0.021598,
     "end_time": "2025-05-25T14:51:02.980749",
     "exception": false,
     "start_time": "2025-05-25T14:51:02.959151",
     "status": "completed"
    },
    "tags": []
   },
   "source": [
    "# 🤖   ***Machine Learning***   "
   ]
  },
  {
   "cell_type": "code",
   "execution_count": 38,
   "id": "2ca8ac5a",
   "metadata": {
    "execution": {
     "iopub.execute_input": "2025-05-25T14:51:03.027459Z",
     "iopub.status.busy": "2025-05-25T14:51:03.027064Z",
     "iopub.status.idle": "2025-05-25T14:51:03.038969Z",
     "shell.execute_reply": "2025-05-25T14:51:03.037474Z"
    },
    "papermill": {
     "duration": 0.037708,
     "end_time": "2025-05-25T14:51:03.041154",
     "exception": false,
     "start_time": "2025-05-25T14:51:03.003446",
     "status": "completed"
    },
    "tags": []
   },
   "outputs": [
    {
     "name": "stdout",
     "output_type": "stream",
     "text": [
      "<class 'pandas.core.frame.DataFrame'>\n",
      "RangeIndex: 891 entries, 0 to 890\n",
      "Data columns (total 12 columns):\n",
      " #   Column                       Non-Null Count  Dtype  \n",
      "---  ------                       --------------  -----  \n",
      " 0   Survived                     891 non-null    int64  \n",
      " 1   Pclass                       891 non-null    int64  \n",
      " 2   Sex                          891 non-null    int64  \n",
      " 3   Age                          891 non-null    float64\n",
      " 4   Fare                         891 non-null    float64\n",
      " 5   Pclass_Prefix_Survival_Rate  891 non-null    float64\n",
      " 6   Ticket_IsNumeric             891 non-null    int64  \n",
      " 7   Ticket_Frequency             891 non-null    int64  \n",
      " 8   Has_Cabin                    891 non-null    int64  \n",
      " 9   Q                            891 non-null    int64  \n",
      " 10  S                            891 non-null    int64  \n",
      " 11  Family                       891 non-null    int64  \n",
      "dtypes: float64(3), int64(9)\n",
      "memory usage: 83.7 KB\n"
     ]
    }
   ],
   "source": [
    "df.info() "
   ]
  },
  {
   "cell_type": "code",
   "execution_count": 39,
   "id": "1a0e235d",
   "metadata": {
    "execution": {
     "iopub.execute_input": "2025-05-25T14:51:03.086122Z",
     "iopub.status.busy": "2025-05-25T14:51:03.085692Z",
     "iopub.status.idle": "2025-05-25T14:51:03.092354Z",
     "shell.execute_reply": "2025-05-25T14:51:03.091154Z"
    },
    "papermill": {
     "duration": 0.031293,
     "end_time": "2025-05-25T14:51:03.094125",
     "exception": false,
     "start_time": "2025-05-25T14:51:03.062832",
     "status": "completed"
    },
    "tags": []
   },
   "outputs": [
    {
     "data": {
      "text/plain": [
       "Index(['Survived', 'Pclass', 'Sex', 'Age', 'Fare',\n",
       "       'Pclass_Prefix_Survival_Rate', 'Ticket_IsNumeric', 'Ticket_Frequency',\n",
       "       'Has_Cabin', 'Q', 'S', 'Family'],\n",
       "      dtype='object')"
      ]
     },
     "execution_count": 39,
     "metadata": {},
     "output_type": "execute_result"
    }
   ],
   "source": [
    "df.columns"
   ]
  },
  {
   "cell_type": "markdown",
   "id": "a0999b25",
   "metadata": {
    "papermill": {
     "duration": 0.023752,
     "end_time": "2025-05-25T14:51:03.139724",
     "exception": false,
     "start_time": "2025-05-25T14:51:03.115972",
     "status": "completed"
    },
    "tags": []
   },
   "source": [
    "### 1. 🔍 **Modeling** "
   ]
  },
  {
   "cell_type": "code",
   "execution_count": 40,
   "id": "c2d6f600",
   "metadata": {
    "execution": {
     "iopub.execute_input": "2025-05-25T14:51:03.184562Z",
     "iopub.status.busy": "2025-05-25T14:51:03.184191Z",
     "iopub.status.idle": "2025-05-25T14:51:03.190738Z",
     "shell.execute_reply": "2025-05-25T14:51:03.189407Z"
    },
    "papermill": {
     "duration": 0.031312,
     "end_time": "2025-05-25T14:51:03.192813",
     "exception": false,
     "start_time": "2025-05-25T14:51:03.161501",
     "status": "completed"
    },
    "tags": []
   },
   "outputs": [],
   "source": [
    "X = df.drop('Survived', axis=1)\n",
    "y = df['Survived']"
   ]
  },
  {
   "cell_type": "code",
   "execution_count": 41,
   "id": "0912fce9",
   "metadata": {
    "execution": {
     "iopub.execute_input": "2025-05-25T14:51:03.240968Z",
     "iopub.status.busy": "2025-05-25T14:51:03.240609Z",
     "iopub.status.idle": "2025-05-25T14:51:03.248120Z",
     "shell.execute_reply": "2025-05-25T14:51:03.246836Z"
    },
    "papermill": {
     "duration": 0.0336,
     "end_time": "2025-05-25T14:51:03.250408",
     "exception": false,
     "start_time": "2025-05-25T14:51:03.216808",
     "status": "completed"
    },
    "tags": []
   },
   "outputs": [],
   "source": [
    "X_train, X_test, y_train, y_test = train_test_split( X, y, test_size=0.3, random_state=42)"
   ]
  },
  {
   "cell_type": "code",
   "execution_count": 42,
   "id": "9594b28a",
   "metadata": {
    "execution": {
     "iopub.execute_input": "2025-05-25T14:51:03.296525Z",
     "iopub.status.busy": "2025-05-25T14:51:03.296161Z",
     "iopub.status.idle": "2025-05-25T14:51:03.301125Z",
     "shell.execute_reply": "2025-05-25T14:51:03.299758Z"
    },
    "papermill": {
     "duration": 0.030661,
     "end_time": "2025-05-25T14:51:03.303216",
     "exception": false,
     "start_time": "2025-05-25T14:51:03.272555",
     "status": "completed"
    },
    "tags": []
   },
   "outputs": [],
   "source": [
    "log_model = LogisticRegression () \n",
    "rfc = RandomForestClassifier(n_estimators=200) "
   ]
  },
  {
   "cell_type": "code",
   "execution_count": 43,
   "id": "6c1778c1",
   "metadata": {
    "execution": {
     "iopub.execute_input": "2025-05-25T14:51:03.351948Z",
     "iopub.status.busy": "2025-05-25T14:51:03.351567Z",
     "iopub.status.idle": "2025-05-25T14:51:03.786836Z",
     "shell.execute_reply": "2025-05-25T14:51:03.785120Z"
    },
    "papermill": {
     "duration": 0.462956,
     "end_time": "2025-05-25T14:51:03.789513",
     "exception": false,
     "start_time": "2025-05-25T14:51:03.326557",
     "status": "completed"
    },
    "tags": []
   },
   "outputs": [
    {
     "data": {
      "text/html": [
       "<style>#sk-container-id-1 {color: black;background-color: white;}#sk-container-id-1 pre{padding: 0;}#sk-container-id-1 div.sk-toggleable {background-color: white;}#sk-container-id-1 label.sk-toggleable__label {cursor: pointer;display: block;width: 100%;margin-bottom: 0;padding: 0.3em;box-sizing: border-box;text-align: center;}#sk-container-id-1 label.sk-toggleable__label-arrow:before {content: \"▸\";float: left;margin-right: 0.25em;color: #696969;}#sk-container-id-1 label.sk-toggleable__label-arrow:hover:before {color: black;}#sk-container-id-1 div.sk-estimator:hover label.sk-toggleable__label-arrow:before {color: black;}#sk-container-id-1 div.sk-toggleable__content {max-height: 0;max-width: 0;overflow: hidden;text-align: left;background-color: #f0f8ff;}#sk-container-id-1 div.sk-toggleable__content pre {margin: 0.2em;color: black;border-radius: 0.25em;background-color: #f0f8ff;}#sk-container-id-1 input.sk-toggleable__control:checked~div.sk-toggleable__content {max-height: 200px;max-width: 100%;overflow: auto;}#sk-container-id-1 input.sk-toggleable__control:checked~label.sk-toggleable__label-arrow:before {content: \"▾\";}#sk-container-id-1 div.sk-estimator input.sk-toggleable__control:checked~label.sk-toggleable__label {background-color: #d4ebff;}#sk-container-id-1 div.sk-label input.sk-toggleable__control:checked~label.sk-toggleable__label {background-color: #d4ebff;}#sk-container-id-1 input.sk-hidden--visually {border: 0;clip: rect(1px 1px 1px 1px);clip: rect(1px, 1px, 1px, 1px);height: 1px;margin: -1px;overflow: hidden;padding: 0;position: absolute;width: 1px;}#sk-container-id-1 div.sk-estimator {font-family: monospace;background-color: #f0f8ff;border: 1px dotted black;border-radius: 0.25em;box-sizing: border-box;margin-bottom: 0.5em;}#sk-container-id-1 div.sk-estimator:hover {background-color: #d4ebff;}#sk-container-id-1 div.sk-parallel-item::after {content: \"\";width: 100%;border-bottom: 1px solid gray;flex-grow: 1;}#sk-container-id-1 div.sk-label:hover label.sk-toggleable__label {background-color: #d4ebff;}#sk-container-id-1 div.sk-serial::before {content: \"\";position: absolute;border-left: 1px solid gray;box-sizing: border-box;top: 0;bottom: 0;left: 50%;z-index: 0;}#sk-container-id-1 div.sk-serial {display: flex;flex-direction: column;align-items: center;background-color: white;padding-right: 0.2em;padding-left: 0.2em;position: relative;}#sk-container-id-1 div.sk-item {position: relative;z-index: 1;}#sk-container-id-1 div.sk-parallel {display: flex;align-items: stretch;justify-content: center;background-color: white;position: relative;}#sk-container-id-1 div.sk-item::before, #sk-container-id-1 div.sk-parallel-item::before {content: \"\";position: absolute;border-left: 1px solid gray;box-sizing: border-box;top: 0;bottom: 0;left: 50%;z-index: -1;}#sk-container-id-1 div.sk-parallel-item {display: flex;flex-direction: column;z-index: 1;position: relative;background-color: white;}#sk-container-id-1 div.sk-parallel-item:first-child::after {align-self: flex-end;width: 50%;}#sk-container-id-1 div.sk-parallel-item:last-child::after {align-self: flex-start;width: 50%;}#sk-container-id-1 div.sk-parallel-item:only-child::after {width: 0;}#sk-container-id-1 div.sk-dashed-wrapped {border: 1px dashed gray;margin: 0 0.4em 0.5em 0.4em;box-sizing: border-box;padding-bottom: 0.4em;background-color: white;}#sk-container-id-1 div.sk-label label {font-family: monospace;font-weight: bold;display: inline-block;line-height: 1.2em;}#sk-container-id-1 div.sk-label-container {text-align: center;}#sk-container-id-1 div.sk-container {/* jupyter's `normalize.less` sets `[hidden] { display: none; }` but bootstrap.min.css set `[hidden] { display: none !important; }` so we also need the `!important` here to be able to override the default hidden behavior on the sphinx rendered scikit-learn.org. See: https://github.com/scikit-learn/scikit-learn/issues/21755 */display: inline-block !important;position: relative;}#sk-container-id-1 div.sk-text-repr-fallback {display: none;}</style><div id=\"sk-container-id-1\" class=\"sk-top-container\"><div class=\"sk-text-repr-fallback\"><pre>RandomForestClassifier(n_estimators=200)</pre><b>In a Jupyter environment, please rerun this cell to show the HTML representation or trust the notebook. <br />On GitHub, the HTML representation is unable to render, please try loading this page with nbviewer.org.</b></div><div class=\"sk-container\" hidden><div class=\"sk-item\"><div class=\"sk-estimator sk-toggleable\"><input class=\"sk-toggleable__control sk-hidden--visually\" id=\"sk-estimator-id-1\" type=\"checkbox\" checked><label for=\"sk-estimator-id-1\" class=\"sk-toggleable__label sk-toggleable__label-arrow\">RandomForestClassifier</label><div class=\"sk-toggleable__content\"><pre>RandomForestClassifier(n_estimators=200)</pre></div></div></div></div></div>"
      ],
      "text/plain": [
       "RandomForestClassifier(n_estimators=200)"
      ]
     },
     "execution_count": 43,
     "metadata": {},
     "output_type": "execute_result"
    }
   ],
   "source": [
    "log_model.fit(X_train, y_train) \n",
    "rfc.fit(X_train, y_train) "
   ]
  },
  {
   "cell_type": "markdown",
   "id": "6f11cea4",
   "metadata": {
    "papermill": {
     "duration": 0.023157,
     "end_time": "2025-05-25T14:51:03.838084",
     "exception": false,
     "start_time": "2025-05-25T14:51:03.814927",
     "status": "completed"
    },
    "tags": []
   },
   "source": [
    "### 2. 🔍 **Prediction**"
   ]
  },
  {
   "cell_type": "code",
   "execution_count": 44,
   "id": "62ac9bcc",
   "metadata": {
    "execution": {
     "iopub.execute_input": "2025-05-25T14:51:03.883222Z",
     "iopub.status.busy": "2025-05-25T14:51:03.882842Z",
     "iopub.status.idle": "2025-05-25T14:51:03.909042Z",
     "shell.execute_reply": "2025-05-25T14:51:03.907949Z"
    },
    "papermill": {
     "duration": 0.050999,
     "end_time": "2025-05-25T14:51:03.910957",
     "exception": false,
     "start_time": "2025-05-25T14:51:03.859958",
     "status": "completed"
    },
    "tags": []
   },
   "outputs": [],
   "source": [
    "predictions = log_model.predict(X_test) \n",
    "rfc_predictions=rfc.predict(X_test) "
   ]
  },
  {
   "cell_type": "markdown",
   "id": "1062e0f0",
   "metadata": {
    "papermill": {
     "duration": 0.022478,
     "end_time": "2025-05-25T14:51:03.955893",
     "exception": false,
     "start_time": "2025-05-25T14:51:03.933415",
     "status": "completed"
    },
    "tags": []
   },
   "source": [
    "### 3. 🔍 **Evaluation**"
   ]
  },
  {
   "cell_type": "code",
   "execution_count": 45,
   "id": "af5705bb",
   "metadata": {
    "execution": {
     "iopub.execute_input": "2025-05-25T14:51:04.002197Z",
     "iopub.status.busy": "2025-05-25T14:51:04.001800Z",
     "iopub.status.idle": "2025-05-25T14:51:04.029446Z",
     "shell.execute_reply": "2025-05-25T14:51:04.027723Z"
    },
    "papermill": {
     "duration": 0.053416,
     "end_time": "2025-05-25T14:51:04.031607",
     "exception": false,
     "start_time": "2025-05-25T14:51:03.978191",
     "status": "completed"
    },
    "tags": []
   },
   "outputs": [
    {
     "name": "stdout",
     "output_type": "stream",
     "text": [
      "\n",
      "Logistic Regression Report:\n",
      " [[137  20]\n",
      " [ 26  85]] \n",
      "               precision    recall  f1-score   support\n",
      "\n",
      "           0       0.84      0.87      0.86       157\n",
      "           1       0.81      0.77      0.79       111\n",
      "\n",
      "    accuracy                           0.83       268\n",
      "   macro avg       0.83      0.82      0.82       268\n",
      "weighted avg       0.83      0.83      0.83       268\n",
      "\n",
      "\n",
      "Random Forest Report:\n",
      " [[134  23]\n",
      " [ 32  79]] \n",
      "               precision    recall  f1-score   support\n",
      "\n",
      "           0       0.81      0.85      0.83       157\n",
      "           1       0.77      0.71      0.74       111\n",
      "\n",
      "    accuracy                           0.79       268\n",
      "   macro avg       0.79      0.78      0.79       268\n",
      "weighted avg       0.79      0.79      0.79       268\n",
      "\n"
     ]
    }
   ],
   "source": [
    "print(\"\\nLogistic Regression Report:\\n\", confusion_matrix(y_test, predictions), '\\n', classification_report(y_test, predictions))\n",
    "print(\"\\nRandom Forest Report:\\n\", confusion_matrix(y_test, rfc_predictions),'\\n',  classification_report(y_test, rfc_predictions))"
   ]
  }
 ],
 "metadata": {
  "kaggle": {
   "accelerator": "none",
   "dataSources": [
    {
     "datasetId": 7093056,
     "sourceId": 11338283,
     "sourceType": "datasetVersion"
    }
   ],
   "dockerImageVersionId": 30918,
   "isGpuEnabled": false,
   "isInternetEnabled": true,
   "language": "python",
   "sourceType": "notebook"
  },
  "kernelspec": {
   "display_name": "Python 3",
   "language": "python",
   "name": "python3"
  },
  "language_info": {
   "codemirror_mode": {
    "name": "ipython",
    "version": 3
   },
   "file_extension": ".py",
   "mimetype": "text/x-python",
   "name": "python",
   "nbconvert_exporter": "python",
   "pygments_lexer": "ipython3",
   "version": "3.10.12"
  },
  "papermill": {
   "default_parameters": {},
   "duration": 18.908617,
   "end_time": "2025-05-25T14:51:04.977733",
   "environment_variables": {},
   "exception": null,
   "input_path": "__notebook__.ipynb",
   "output_path": "__notebook__.ipynb",
   "parameters": {},
   "start_time": "2025-05-25T14:50:46.069116",
   "version": "2.6.0"
  }
 },
 "nbformat": 4,
 "nbformat_minor": 5
}
