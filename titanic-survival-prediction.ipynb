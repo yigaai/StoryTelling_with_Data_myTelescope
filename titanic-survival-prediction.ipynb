{
 "cells": [
  {
   "cell_type": "markdown",
   "id": "0d4b116e",
   "metadata": {
    "papermill": {
     "duration": 0.020421,
     "end_time": "2025-06-19T10:43:35.579247",
     "exception": false,
     "start_time": "2025-06-19T10:43:35.558826",
     "status": "completed"
    },
    "tags": []
   },
   "source": [
    "   # 🛳️ **Titanic Survival Prediction**  \n",
    "\n",
    "   ### 👩🏻‍🔧 **By Rosy**\n",
    "\n",
    "\n"
   ]
  },
  {
   "cell_type": "markdown",
   "id": "002db6d0",
   "metadata": {
    "papermill": {
     "duration": 0.016941,
     "end_time": "2025-06-19T10:43:35.615809",
     "exception": false,
     "start_time": "2025-06-19T10:43:35.598868",
     "status": "completed"
    },
    "tags": []
   },
   "source": [
    "# ***🎯 Goals & Tasks*** \n",
    "\n",
    " ### 1. Provide Insights by Storytelling with Data. 📊 \n",
    "    \n",
    " ### 2. Make a Prediction through Machine Learning. 🤖\n",
    "     "
   ]
  },
  {
   "cell_type": "markdown",
   "id": "fc006dd3",
   "metadata": {
    "papermill": {
     "duration": 0.014897,
     "end_time": "2025-06-19T10:43:35.646711",
     "exception": false,
     "start_time": "2025-06-19T10:43:35.631814",
     "status": "completed"
    },
    "tags": []
   },
   "source": [
    "# ***🗂️ Import Libraries*** "
   ]
  },
  {
   "cell_type": "code",
   "execution_count": 1,
   "id": "61a30ac0",
   "metadata": {
    "execution": {
     "iopub.execute_input": "2025-06-19T10:43:35.680848Z",
     "iopub.status.busy": "2025-06-19T10:43:35.680367Z",
     "iopub.status.idle": "2025-06-19T10:43:41.074692Z",
     "shell.execute_reply": "2025-06-19T10:43:41.073730Z"
    },
    "papermill": {
     "duration": 5.415012,
     "end_time": "2025-06-19T10:43:41.076617",
     "exception": false,
     "start_time": "2025-06-19T10:43:35.661605",
     "status": "completed"
    },
    "tags": []
   },
   "outputs": [],
   "source": [
    "import os\n",
    "\n",
    "import pandas as pd\n",
    "import numpy as np\n",
    "\n",
    "import scipy.stats as stats \n",
    "\n",
    "import matplotlib.pyplot as plt\n",
    "import seaborn as sns\n",
    "import plotly.express as px\n",
    "import plotly.subplots as sp \n",
    "import missingno as msno \n",
    "sns.set() \n",
    "\n",
    "from scipy.stats import chi2_contingency\n",
    "\n",
    "from sklearn.preprocessing import StandardScaler, LabelEncoder, MinMaxScaler\n",
    "\n",
    "\n",
    "from sklearn.model_selection import train_test_split, GridSearchCV, cross_val_score\n",
    "\n",
    "from sklearn.linear_model import LogisticRegression\n",
    "from sklearn.neighbors import KNeighborsClassifier\n",
    "from sklearn.svm import SVC\n",
    "from sklearn.tree import DecisionTreeClassifier\n",
    "from sklearn.ensemble import RandomForestClassifier, AdaBoostClassifier, GradientBoostingClassifier, RandomForestRegressor\n",
    "from xgboost import XGBClassifier\n",
    "\n",
    "from sklearn.metrics import classification_report\n",
    "from sklearn.metrics import confusion_matrix\n",
    "from sklearn.metrics import accuracy_score, f1_score, precision_score, recall_score \n",
    "\n",
    "import warnings  \n",
    "warnings.filterwarnings('ignore')     "
   ]
  },
  {
   "cell_type": "markdown",
   "id": "d7894de9",
   "metadata": {
    "papermill": {
     "duration": 0.014787,
     "end_time": "2025-06-19T10:43:41.106510",
     "exception": false,
     "start_time": "2025-06-19T10:43:41.091723",
     "status": "completed"
    },
    "tags": []
   },
   "source": [
    "# ***⏳ Data Loading*** "
   ]
  },
  {
   "cell_type": "code",
   "execution_count": 2,
   "id": "f5d86931",
   "metadata": {
    "execution": {
     "iopub.execute_input": "2025-06-19T10:43:41.138119Z",
     "iopub.status.busy": "2025-06-19T10:43:41.137550Z",
     "iopub.status.idle": "2025-06-19T10:43:41.172726Z",
     "shell.execute_reply": "2025-06-19T10:43:41.171248Z"
    },
    "papermill": {
     "duration": 0.053497,
     "end_time": "2025-06-19T10:43:41.174799",
     "exception": false,
     "start_time": "2025-06-19T10:43:41.121302",
     "status": "completed"
    },
    "tags": []
   },
   "outputs": [],
   "source": [
    "os.listdir('/kaggle/input/titanic-data')  \n",
    "df = pd.read_csv('/kaggle/input/titanic-data/train.csv')    "
   ]
  },
  {
   "cell_type": "markdown",
   "id": "18b6b9ce",
   "metadata": {
    "papermill": {
     "duration": 0.014155,
     "end_time": "2025-06-19T10:43:41.203579",
     "exception": false,
     "start_time": "2025-06-19T10:43:41.189424",
     "status": "completed"
    },
    "tags": []
   },
   "source": [
    "# ***🔭 Data Overview***   "
   ]
  },
  {
   "cell_type": "markdown",
   "id": "be1d6e98",
   "metadata": {
    "papermill": {
     "duration": 0.014966,
     "end_time": "2025-06-19T10:43:41.232808",
     "exception": false,
     "start_time": "2025-06-19T10:43:41.217842",
     "status": "completed"
    },
    "tags": []
   },
   "source": [
    "### 1. 🔍 **Take a Glimpse of Data**"
   ]
  },
  {
   "cell_type": "code",
   "execution_count": 3,
   "id": "558061e2",
   "metadata": {
    "execution": {
     "iopub.execute_input": "2025-06-19T10:43:41.264427Z",
     "iopub.status.busy": "2025-06-19T10:43:41.264033Z",
     "iopub.status.idle": "2025-06-19T10:43:41.293785Z",
     "shell.execute_reply": "2025-06-19T10:43:41.292810Z"
    },
    "papermill": {
     "duration": 0.046777,
     "end_time": "2025-06-19T10:43:41.295439",
     "exception": false,
     "start_time": "2025-06-19T10:43:41.248662",
     "status": "completed"
    },
    "tags": []
   },
   "outputs": [
    {
     "data": {
      "text/html": [
       "<div>\n",
       "<style scoped>\n",
       "    .dataframe tbody tr th:only-of-type {\n",
       "        vertical-align: middle;\n",
       "    }\n",
       "\n",
       "    .dataframe tbody tr th {\n",
       "        vertical-align: top;\n",
       "    }\n",
       "\n",
       "    .dataframe thead th {\n",
       "        text-align: right;\n",
       "    }\n",
       "</style>\n",
       "<table border=\"1\" class=\"dataframe\">\n",
       "  <thead>\n",
       "    <tr style=\"text-align: right;\">\n",
       "      <th></th>\n",
       "      <th>PassengerId</th>\n",
       "      <th>Survived</th>\n",
       "      <th>Pclass</th>\n",
       "      <th>Name</th>\n",
       "      <th>Sex</th>\n",
       "      <th>Age</th>\n",
       "      <th>SibSp</th>\n",
       "      <th>Parch</th>\n",
       "      <th>Ticket</th>\n",
       "      <th>Fare</th>\n",
       "      <th>Cabin</th>\n",
       "      <th>Embarked</th>\n",
       "    </tr>\n",
       "  </thead>\n",
       "  <tbody>\n",
       "    <tr>\n",
       "      <th>0</th>\n",
       "      <td>1</td>\n",
       "      <td>0</td>\n",
       "      <td>3</td>\n",
       "      <td>Braund, Mr. Owen Harris</td>\n",
       "      <td>male</td>\n",
       "      <td>22.0</td>\n",
       "      <td>1</td>\n",
       "      <td>0</td>\n",
       "      <td>A/5 21171</td>\n",
       "      <td>7.2500</td>\n",
       "      <td>NaN</td>\n",
       "      <td>S</td>\n",
       "    </tr>\n",
       "    <tr>\n",
       "      <th>1</th>\n",
       "      <td>2</td>\n",
       "      <td>1</td>\n",
       "      <td>1</td>\n",
       "      <td>Cumings, Mrs. John Bradley (Florence Briggs Th...</td>\n",
       "      <td>female</td>\n",
       "      <td>38.0</td>\n",
       "      <td>1</td>\n",
       "      <td>0</td>\n",
       "      <td>PC 17599</td>\n",
       "      <td>71.2833</td>\n",
       "      <td>C85</td>\n",
       "      <td>C</td>\n",
       "    </tr>\n",
       "    <tr>\n",
       "      <th>2</th>\n",
       "      <td>3</td>\n",
       "      <td>1</td>\n",
       "      <td>3</td>\n",
       "      <td>Heikkinen, Miss. Laina</td>\n",
       "      <td>female</td>\n",
       "      <td>26.0</td>\n",
       "      <td>0</td>\n",
       "      <td>0</td>\n",
       "      <td>STON/O2. 3101282</td>\n",
       "      <td>7.9250</td>\n",
       "      <td>NaN</td>\n",
       "      <td>S</td>\n",
       "    </tr>\n",
       "    <tr>\n",
       "      <th>3</th>\n",
       "      <td>4</td>\n",
       "      <td>1</td>\n",
       "      <td>1</td>\n",
       "      <td>Futrelle, Mrs. Jacques Heath (Lily May Peel)</td>\n",
       "      <td>female</td>\n",
       "      <td>35.0</td>\n",
       "      <td>1</td>\n",
       "      <td>0</td>\n",
       "      <td>113803</td>\n",
       "      <td>53.1000</td>\n",
       "      <td>C123</td>\n",
       "      <td>S</td>\n",
       "    </tr>\n",
       "    <tr>\n",
       "      <th>4</th>\n",
       "      <td>5</td>\n",
       "      <td>0</td>\n",
       "      <td>3</td>\n",
       "      <td>Allen, Mr. William Henry</td>\n",
       "      <td>male</td>\n",
       "      <td>35.0</td>\n",
       "      <td>0</td>\n",
       "      <td>0</td>\n",
       "      <td>373450</td>\n",
       "      <td>8.0500</td>\n",
       "      <td>NaN</td>\n",
       "      <td>S</td>\n",
       "    </tr>\n",
       "  </tbody>\n",
       "</table>\n",
       "</div>"
      ],
      "text/plain": [
       "   PassengerId  Survived  Pclass  \\\n",
       "0            1         0       3   \n",
       "1            2         1       1   \n",
       "2            3         1       3   \n",
       "3            4         1       1   \n",
       "4            5         0       3   \n",
       "\n",
       "                                                Name     Sex   Age  SibSp  \\\n",
       "0                            Braund, Mr. Owen Harris    male  22.0      1   \n",
       "1  Cumings, Mrs. John Bradley (Florence Briggs Th...  female  38.0      1   \n",
       "2                             Heikkinen, Miss. Laina  female  26.0      0   \n",
       "3       Futrelle, Mrs. Jacques Heath (Lily May Peel)  female  35.0      1   \n",
       "4                           Allen, Mr. William Henry    male  35.0      0   \n",
       "\n",
       "   Parch            Ticket     Fare Cabin Embarked  \n",
       "0      0         A/5 21171   7.2500   NaN        S  \n",
       "1      0          PC 17599  71.2833   C85        C  \n",
       "2      0  STON/O2. 3101282   7.9250   NaN        S  \n",
       "3      0            113803  53.1000  C123        S  \n",
       "4      0            373450   8.0500   NaN        S  "
      ]
     },
     "execution_count": 3,
     "metadata": {},
     "output_type": "execute_result"
    }
   ],
   "source": [
    "df.head(5)"
   ]
  },
  {
   "cell_type": "markdown",
   "id": "40bbbe1b",
   "metadata": {
    "papermill": {
     "duration": 0.014301,
     "end_time": "2025-06-19T10:43:41.324741",
     "exception": false,
     "start_time": "2025-06-19T10:43:41.310440",
     "status": "completed"
    },
    "tags": []
   },
   "source": [
    "### 2. 🔍 **DataType of Each Column**"
   ]
  },
  {
   "cell_type": "code",
   "execution_count": 4,
   "id": "d71602a6",
   "metadata": {
    "execution": {
     "iopub.execute_input": "2025-06-19T10:43:41.355639Z",
     "iopub.status.busy": "2025-06-19T10:43:41.355252Z",
     "iopub.status.idle": "2025-06-19T10:43:41.386362Z",
     "shell.execute_reply": "2025-06-19T10:43:41.385074Z"
    },
    "papermill": {
     "duration": 0.049253,
     "end_time": "2025-06-19T10:43:41.388630",
     "exception": false,
     "start_time": "2025-06-19T10:43:41.339377",
     "status": "completed"
    },
    "tags": []
   },
   "outputs": [
    {
     "name": "stdout",
     "output_type": "stream",
     "text": [
      "<class 'pandas.core.frame.DataFrame'>\n",
      "RangeIndex: 891 entries, 0 to 890\n",
      "Data columns (total 12 columns):\n",
      " #   Column       Non-Null Count  Dtype  \n",
      "---  ------       --------------  -----  \n",
      " 0   PassengerId  891 non-null    int64  \n",
      " 1   Survived     891 non-null    int64  \n",
      " 2   Pclass       891 non-null    int64  \n",
      " 3   Name         891 non-null    object \n",
      " 4   Sex          891 non-null    object \n",
      " 5   Age          714 non-null    float64\n",
      " 6   SibSp        891 non-null    int64  \n",
      " 7   Parch        891 non-null    int64  \n",
      " 8   Ticket       891 non-null    object \n",
      " 9   Fare         891 non-null    float64\n",
      " 10  Cabin        204 non-null    object \n",
      " 11  Embarked     889 non-null    object \n",
      "dtypes: float64(2), int64(5), object(5)\n",
      "memory usage: 83.7+ KB\n"
     ]
    }
   ],
   "source": [
    "df.info() "
   ]
  },
  {
   "cell_type": "markdown",
   "id": "dd8a487b",
   "metadata": {
    "papermill": {
     "duration": 0.01455,
     "end_time": "2025-06-19T10:43:41.418753",
     "exception": false,
     "start_time": "2025-06-19T10:43:41.404203",
     "status": "completed"
    },
    "tags": []
   },
   "source": [
    "### 3. 🔍 **Dimensions of the DataFrame**"
   ]
  },
  {
   "cell_type": "code",
   "execution_count": 5,
   "id": "5201f108",
   "metadata": {
    "execution": {
     "iopub.execute_input": "2025-06-19T10:43:41.450989Z",
     "iopub.status.busy": "2025-06-19T10:43:41.450623Z",
     "iopub.status.idle": "2025-06-19T10:43:41.455945Z",
     "shell.execute_reply": "2025-06-19T10:43:41.454777Z"
    },
    "papermill": {
     "duration": 0.022954,
     "end_time": "2025-06-19T10:43:41.457524",
     "exception": false,
     "start_time": "2025-06-19T10:43:41.434570",
     "status": "completed"
    },
    "tags": []
   },
   "outputs": [
    {
     "name": "stdout",
     "output_type": "stream",
     "text": [
      "Rows: 891\n",
      "Columns: 12\n"
     ]
    }
   ],
   "source": [
    "print(f'Rows: {df.shape[0]}')\n",
    "print(f'Columns: {df.shape[1]}')  "
   ]
  },
  {
   "cell_type": "markdown",
   "id": "6169bdf9",
   "metadata": {
    "papermill": {
     "duration": 0.015979,
     "end_time": "2025-06-19T10:43:41.488922",
     "exception": false,
     "start_time": "2025-06-19T10:43:41.472943",
     "status": "completed"
    },
    "tags": []
   },
   "source": [
    "### 4. 🔍 **Descriptive Statistics for numerical & categorical variables**"
   ]
  },
  {
   "cell_type": "code",
   "execution_count": 6,
   "id": "908a750f",
   "metadata": {
    "execution": {
     "iopub.execute_input": "2025-06-19T10:43:41.520961Z",
     "iopub.status.busy": "2025-06-19T10:43:41.520575Z",
     "iopub.status.idle": "2025-06-19T10:43:41.551882Z",
     "shell.execute_reply": "2025-06-19T10:43:41.550828Z"
    },
    "papermill": {
     "duration": 0.049934,
     "end_time": "2025-06-19T10:43:41.553958",
     "exception": false,
     "start_time": "2025-06-19T10:43:41.504024",
     "status": "completed"
    },
    "tags": []
   },
   "outputs": [
    {
     "data": {
      "text/html": [
       "<div>\n",
       "<style scoped>\n",
       "    .dataframe tbody tr th:only-of-type {\n",
       "        vertical-align: middle;\n",
       "    }\n",
       "\n",
       "    .dataframe tbody tr th {\n",
       "        vertical-align: top;\n",
       "    }\n",
       "\n",
       "    .dataframe thead th {\n",
       "        text-align: right;\n",
       "    }\n",
       "</style>\n",
       "<table border=\"1\" class=\"dataframe\">\n",
       "  <thead>\n",
       "    <tr style=\"text-align: right;\">\n",
       "      <th></th>\n",
       "      <th>PassengerId</th>\n",
       "      <th>Survived</th>\n",
       "      <th>Pclass</th>\n",
       "      <th>Age</th>\n",
       "      <th>SibSp</th>\n",
       "      <th>Parch</th>\n",
       "      <th>Fare</th>\n",
       "    </tr>\n",
       "  </thead>\n",
       "  <tbody>\n",
       "    <tr>\n",
       "      <th>count</th>\n",
       "      <td>891.000</td>\n",
       "      <td>891.000</td>\n",
       "      <td>891.000</td>\n",
       "      <td>714.000</td>\n",
       "      <td>891.000</td>\n",
       "      <td>891.000</td>\n",
       "      <td>891.000</td>\n",
       "    </tr>\n",
       "    <tr>\n",
       "      <th>mean</th>\n",
       "      <td>446.000</td>\n",
       "      <td>0.384</td>\n",
       "      <td>2.309</td>\n",
       "      <td>29.699</td>\n",
       "      <td>0.523</td>\n",
       "      <td>0.382</td>\n",
       "      <td>32.204</td>\n",
       "    </tr>\n",
       "    <tr>\n",
       "      <th>std</th>\n",
       "      <td>257.354</td>\n",
       "      <td>0.487</td>\n",
       "      <td>0.836</td>\n",
       "      <td>14.526</td>\n",
       "      <td>1.103</td>\n",
       "      <td>0.806</td>\n",
       "      <td>49.693</td>\n",
       "    </tr>\n",
       "    <tr>\n",
       "      <th>min</th>\n",
       "      <td>1.000</td>\n",
       "      <td>0.000</td>\n",
       "      <td>1.000</td>\n",
       "      <td>0.420</td>\n",
       "      <td>0.000</td>\n",
       "      <td>0.000</td>\n",
       "      <td>0.000</td>\n",
       "    </tr>\n",
       "    <tr>\n",
       "      <th>25%</th>\n",
       "      <td>223.500</td>\n",
       "      <td>0.000</td>\n",
       "      <td>2.000</td>\n",
       "      <td>20.125</td>\n",
       "      <td>0.000</td>\n",
       "      <td>0.000</td>\n",
       "      <td>7.910</td>\n",
       "    </tr>\n",
       "    <tr>\n",
       "      <th>50%</th>\n",
       "      <td>446.000</td>\n",
       "      <td>0.000</td>\n",
       "      <td>3.000</td>\n",
       "      <td>28.000</td>\n",
       "      <td>0.000</td>\n",
       "      <td>0.000</td>\n",
       "      <td>14.454</td>\n",
       "    </tr>\n",
       "    <tr>\n",
       "      <th>75%</th>\n",
       "      <td>668.500</td>\n",
       "      <td>1.000</td>\n",
       "      <td>3.000</td>\n",
       "      <td>38.000</td>\n",
       "      <td>1.000</td>\n",
       "      <td>0.000</td>\n",
       "      <td>31.000</td>\n",
       "    </tr>\n",
       "    <tr>\n",
       "      <th>max</th>\n",
       "      <td>891.000</td>\n",
       "      <td>1.000</td>\n",
       "      <td>3.000</td>\n",
       "      <td>80.000</td>\n",
       "      <td>8.000</td>\n",
       "      <td>6.000</td>\n",
       "      <td>512.329</td>\n",
       "    </tr>\n",
       "  </tbody>\n",
       "</table>\n",
       "</div>"
      ],
      "text/plain": [
       "       PassengerId  Survived   Pclass      Age    SibSp    Parch     Fare\n",
       "count      891.000   891.000  891.000  714.000  891.000  891.000  891.000\n",
       "mean       446.000     0.384    2.309   29.699    0.523    0.382   32.204\n",
       "std        257.354     0.487    0.836   14.526    1.103    0.806   49.693\n",
       "min          1.000     0.000    1.000    0.420    0.000    0.000    0.000\n",
       "25%        223.500     0.000    2.000   20.125    0.000    0.000    7.910\n",
       "50%        446.000     0.000    3.000   28.000    0.000    0.000   14.454\n",
       "75%        668.500     1.000    3.000   38.000    1.000    0.000   31.000\n",
       "max        891.000     1.000    3.000   80.000    8.000    6.000  512.329"
      ]
     },
     "execution_count": 6,
     "metadata": {},
     "output_type": "execute_result"
    }
   ],
   "source": [
    "round(df.describe(), 3)   "
   ]
  },
  {
   "cell_type": "code",
   "execution_count": 7,
   "id": "057bf327",
   "metadata": {
    "execution": {
     "iopub.execute_input": "2025-06-19T10:43:41.588295Z",
     "iopub.status.busy": "2025-06-19T10:43:41.587783Z",
     "iopub.status.idle": "2025-06-19T10:43:41.611422Z",
     "shell.execute_reply": "2025-06-19T10:43:41.610294Z"
    },
    "papermill": {
     "duration": 0.043433,
     "end_time": "2025-06-19T10:43:41.613096",
     "exception": false,
     "start_time": "2025-06-19T10:43:41.569663",
     "status": "completed"
    },
    "tags": []
   },
   "outputs": [
    {
     "data": {
      "text/html": [
       "<div>\n",
       "<style scoped>\n",
       "    .dataframe tbody tr th:only-of-type {\n",
       "        vertical-align: middle;\n",
       "    }\n",
       "\n",
       "    .dataframe tbody tr th {\n",
       "        vertical-align: top;\n",
       "    }\n",
       "\n",
       "    .dataframe thead th {\n",
       "        text-align: right;\n",
       "    }\n",
       "</style>\n",
       "<table border=\"1\" class=\"dataframe\">\n",
       "  <thead>\n",
       "    <tr style=\"text-align: right;\">\n",
       "      <th></th>\n",
       "      <th>Name</th>\n",
       "      <th>Sex</th>\n",
       "      <th>Ticket</th>\n",
       "      <th>Cabin</th>\n",
       "      <th>Embarked</th>\n",
       "    </tr>\n",
       "  </thead>\n",
       "  <tbody>\n",
       "    <tr>\n",
       "      <th>count</th>\n",
       "      <td>891</td>\n",
       "      <td>891</td>\n",
       "      <td>891</td>\n",
       "      <td>204</td>\n",
       "      <td>889</td>\n",
       "    </tr>\n",
       "    <tr>\n",
       "      <th>unique</th>\n",
       "      <td>891</td>\n",
       "      <td>2</td>\n",
       "      <td>681</td>\n",
       "      <td>147</td>\n",
       "      <td>3</td>\n",
       "    </tr>\n",
       "    <tr>\n",
       "      <th>top</th>\n",
       "      <td>Braund, Mr. Owen Harris</td>\n",
       "      <td>male</td>\n",
       "      <td>347082</td>\n",
       "      <td>B96 B98</td>\n",
       "      <td>S</td>\n",
       "    </tr>\n",
       "    <tr>\n",
       "      <th>freq</th>\n",
       "      <td>1</td>\n",
       "      <td>577</td>\n",
       "      <td>7</td>\n",
       "      <td>4</td>\n",
       "      <td>644</td>\n",
       "    </tr>\n",
       "  </tbody>\n",
       "</table>\n",
       "</div>"
      ],
      "text/plain": [
       "                           Name   Sex  Ticket    Cabin Embarked\n",
       "count                       891   891     891      204      889\n",
       "unique                      891     2     681      147        3\n",
       "top     Braund, Mr. Owen Harris  male  347082  B96 B98        S\n",
       "freq                          1   577       7        4      644"
      ]
     },
     "execution_count": 7,
     "metadata": {},
     "output_type": "execute_result"
    }
   ],
   "source": [
    "categorical_var = df.dtypes[df.dtypes=='object'].index \n",
    "df[categorical_var].describe() "
   ]
  },
  {
   "cell_type": "markdown",
   "id": "af25a00b",
   "metadata": {
    "papermill": {
     "duration": 0.015222,
     "end_time": "2025-06-19T10:43:41.644570",
     "exception": false,
     "start_time": "2025-06-19T10:43:41.629348",
     "status": "completed"
    },
    "tags": []
   },
   "source": [
    "### 5. 🔍 **Missing & Duplicated Values**"
   ]
  },
  {
   "cell_type": "code",
   "execution_count": 8,
   "id": "74cb5f2c",
   "metadata": {
    "execution": {
     "iopub.execute_input": "2025-06-19T10:43:41.731557Z",
     "iopub.status.busy": "2025-06-19T10:43:41.731134Z",
     "iopub.status.idle": "2025-06-19T10:43:41.877081Z",
     "shell.execute_reply": "2025-06-19T10:43:41.875748Z"
    },
    "papermill": {
     "duration": 0.219156,
     "end_time": "2025-06-19T10:43:41.879315",
     "exception": false,
     "start_time": "2025-06-19T10:43:41.660159",
     "status": "completed"
    },
    "tags": []
   },
   "outputs": [
    {
     "data": {
      "text/html": [
       "<style type=\"text/css\">\n",
       "#T_c23cf_row0_col0, #T_c23cf_row0_col1 {\n",
       "  background-color: #fcfdbf;\n",
       "  color: #000000;\n",
       "}\n",
       "#T_c23cf_row1_col0, #T_c23cf_row1_col1 {\n",
       "  background-color: #52137c;\n",
       "  color: #f1f1f1;\n",
       "}\n",
       "#T_c23cf_row2_col0, #T_c23cf_row2_col1, #T_c23cf_row3_col0, #T_c23cf_row3_col1, #T_c23cf_row4_col0, #T_c23cf_row4_col1, #T_c23cf_row5_col0, #T_c23cf_row5_col1, #T_c23cf_row6_col0, #T_c23cf_row6_col1, #T_c23cf_row7_col0, #T_c23cf_row7_col1, #T_c23cf_row8_col0, #T_c23cf_row8_col1, #T_c23cf_row9_col0, #T_c23cf_row9_col1, #T_c23cf_row10_col0, #T_c23cf_row10_col1, #T_c23cf_row11_col0, #T_c23cf_row11_col1 {\n",
       "  background-color: #000004;\n",
       "  color: #f1f1f1;\n",
       "}\n",
       "</style>\n",
       "<table id=\"T_c23cf\">\n",
       "  <thead>\n",
       "    <tr>\n",
       "      <th class=\"blank level0\" >&nbsp;</th>\n",
       "      <th id=\"T_c23cf_level0_col0\" class=\"col_heading level0 col0\" >No. of Missing Values</th>\n",
       "      <th id=\"T_c23cf_level0_col1\" class=\"col_heading level0 col1\" >% of Missing Values</th>\n",
       "    </tr>\n",
       "  </thead>\n",
       "  <tbody>\n",
       "    <tr>\n",
       "      <th id=\"T_c23cf_level0_row0\" class=\"row_heading level0 row0\" >Cabin</th>\n",
       "      <td id=\"T_c23cf_row0_col0\" class=\"data row0 col0\" >687</td>\n",
       "      <td id=\"T_c23cf_row0_col1\" class=\"data row0 col1\" >77.104000</td>\n",
       "    </tr>\n",
       "    <tr>\n",
       "      <th id=\"T_c23cf_level0_row1\" class=\"row_heading level0 row1\" >Age</th>\n",
       "      <td id=\"T_c23cf_row1_col0\" class=\"data row1 col0\" >177</td>\n",
       "      <td id=\"T_c23cf_row1_col1\" class=\"data row1 col1\" >19.865000</td>\n",
       "    </tr>\n",
       "    <tr>\n",
       "      <th id=\"T_c23cf_level0_row2\" class=\"row_heading level0 row2\" >Embarked</th>\n",
       "      <td id=\"T_c23cf_row2_col0\" class=\"data row2 col0\" >2</td>\n",
       "      <td id=\"T_c23cf_row2_col1\" class=\"data row2 col1\" >0.224000</td>\n",
       "    </tr>\n",
       "    <tr>\n",
       "      <th id=\"T_c23cf_level0_row3\" class=\"row_heading level0 row3\" >PassengerId</th>\n",
       "      <td id=\"T_c23cf_row3_col0\" class=\"data row3 col0\" >0</td>\n",
       "      <td id=\"T_c23cf_row3_col1\" class=\"data row3 col1\" >0.000000</td>\n",
       "    </tr>\n",
       "    <tr>\n",
       "      <th id=\"T_c23cf_level0_row4\" class=\"row_heading level0 row4\" >Survived</th>\n",
       "      <td id=\"T_c23cf_row4_col0\" class=\"data row4 col0\" >0</td>\n",
       "      <td id=\"T_c23cf_row4_col1\" class=\"data row4 col1\" >0.000000</td>\n",
       "    </tr>\n",
       "    <tr>\n",
       "      <th id=\"T_c23cf_level0_row5\" class=\"row_heading level0 row5\" >Pclass</th>\n",
       "      <td id=\"T_c23cf_row5_col0\" class=\"data row5 col0\" >0</td>\n",
       "      <td id=\"T_c23cf_row5_col1\" class=\"data row5 col1\" >0.000000</td>\n",
       "    </tr>\n",
       "    <tr>\n",
       "      <th id=\"T_c23cf_level0_row6\" class=\"row_heading level0 row6\" >Name</th>\n",
       "      <td id=\"T_c23cf_row6_col0\" class=\"data row6 col0\" >0</td>\n",
       "      <td id=\"T_c23cf_row6_col1\" class=\"data row6 col1\" >0.000000</td>\n",
       "    </tr>\n",
       "    <tr>\n",
       "      <th id=\"T_c23cf_level0_row7\" class=\"row_heading level0 row7\" >Sex</th>\n",
       "      <td id=\"T_c23cf_row7_col0\" class=\"data row7 col0\" >0</td>\n",
       "      <td id=\"T_c23cf_row7_col1\" class=\"data row7 col1\" >0.000000</td>\n",
       "    </tr>\n",
       "    <tr>\n",
       "      <th id=\"T_c23cf_level0_row8\" class=\"row_heading level0 row8\" >SibSp</th>\n",
       "      <td id=\"T_c23cf_row8_col0\" class=\"data row8 col0\" >0</td>\n",
       "      <td id=\"T_c23cf_row8_col1\" class=\"data row8 col1\" >0.000000</td>\n",
       "    </tr>\n",
       "    <tr>\n",
       "      <th id=\"T_c23cf_level0_row9\" class=\"row_heading level0 row9\" >Parch</th>\n",
       "      <td id=\"T_c23cf_row9_col0\" class=\"data row9 col0\" >0</td>\n",
       "      <td id=\"T_c23cf_row9_col1\" class=\"data row9 col1\" >0.000000</td>\n",
       "    </tr>\n",
       "    <tr>\n",
       "      <th id=\"T_c23cf_level0_row10\" class=\"row_heading level0 row10\" >Ticket</th>\n",
       "      <td id=\"T_c23cf_row10_col0\" class=\"data row10 col0\" >0</td>\n",
       "      <td id=\"T_c23cf_row10_col1\" class=\"data row10 col1\" >0.000000</td>\n",
       "    </tr>\n",
       "    <tr>\n",
       "      <th id=\"T_c23cf_level0_row11\" class=\"row_heading level0 row11\" >Fare</th>\n",
       "      <td id=\"T_c23cf_row11_col0\" class=\"data row11 col0\" >0</td>\n",
       "      <td id=\"T_c23cf_row11_col1\" class=\"data row11 col1\" >0.000000</td>\n",
       "    </tr>\n",
       "  </tbody>\n",
       "</table>\n"
      ],
      "text/plain": [
       "<pandas.io.formats.style.Styler at 0x7beac6e5f4c0>"
      ]
     },
     "execution_count": 8,
     "metadata": {},
     "output_type": "execute_result"
    }
   ],
   "source": [
    "missing_counts = df.isnull().sum().sort_values(ascending=False) \n",
    "\n",
    "missing_df = pd.DataFrame({\n",
    "    'No. of Missing Values': missing_counts,\n",
    "    '% of Missing Values': round(missing_counts/len(df)*100, 3)  \n",
    "}) \n",
    "\n",
    "missing_df.style.background_gradient('magma')  "
   ]
  },
  {
   "cell_type": "code",
   "execution_count": 9,
   "id": "cc8ce44e",
   "metadata": {
    "execution": {
     "iopub.execute_input": "2025-06-19T10:43:41.912669Z",
     "iopub.status.busy": "2025-06-19T10:43:41.912033Z",
     "iopub.status.idle": "2025-06-19T10:43:42.297844Z",
     "shell.execute_reply": "2025-06-19T10:43:42.296634Z"
    },
    "papermill": {
     "duration": 0.40416,
     "end_time": "2025-06-19T10:43:42.299671",
     "exception": false,
     "start_time": "2025-06-19T10:43:41.895511",
     "status": "completed"
    },
    "tags": []
   },
   "outputs": [
    {
     "data": {
      "text/plain": [
       "<Axes: >"
      ]
     },
     "execution_count": 9,
     "metadata": {},
     "output_type": "execute_result"
    },
    {
     "data": {
      "image/png": "[encoded data removed]",
      "text/plain": [
       "<Figure size 640x480 with 1 Axes>"
      ]
     },
     "metadata": {},
     "output_type": "display_data"
    }
   ],
   "source": [
    "sns.heatmap(df.isnull(), yticklabels=False, cbar=False)   "
   ]
  },
  {
   "cell_type": "code",
   "execution_count": 10,
   "id": "6720657e",
   "metadata": {
    "execution": {
     "iopub.execute_input": "2025-06-19T10:43:42.334057Z",
     "iopub.status.busy": "2025-06-19T10:43:42.333658Z",
     "iopub.status.idle": "2025-06-19T10:43:42.343008Z",
     "shell.execute_reply": "2025-06-19T10:43:42.341734Z"
    },
    "papermill": {
     "duration": 0.028864,
     "end_time": "2025-06-19T10:43:42.344953",
     "exception": false,
     "start_time": "2025-06-19T10:43:42.316089",
     "status": "completed"
    },
    "tags": []
   },
   "outputs": [
    {
     "data": {
      "text/plain": [
       "0"
      ]
     },
     "execution_count": 10,
     "metadata": {},
     "output_type": "execute_result"
    }
   ],
   "source": [
    "df.duplicated().sum() "
   ]
  },
  {
   "cell_type": "markdown",
   "id": "02ef0ad2",
   "metadata": {
    "papermill": {
     "duration": 0.017,
     "end_time": "2025-06-19T10:43:42.378337",
     "exception": false,
     "start_time": "2025-06-19T10:43:42.361337",
     "status": "completed"
    },
    "tags": []
   },
   "source": [
    "###  📝 ***Conclusions from Data Exploration***"
   ]
  },
  {
   "cell_type": "markdown",
   "id": "d87e33aa",
   "metadata": {
    "papermill": {
     "duration": 0.016798,
     "end_time": "2025-06-19T10:43:42.411483",
     "exception": false,
     "start_time": "2025-06-19T10:43:42.394685",
     "status": "completed"
    },
    "tags": []
   },
   "source": [
    "1. The columns have float datatypes are 2, integer datatype are 5, object datatype are 5. \n",
    "\n",
    "2. There are 891 rows and 12 columns in the DataFrame.\n",
    "\n",
    "3. Column Cabin has 687 missing values, Column Age has 177 and Column Embarked has 2 missing values.\n",
    "\n",
    "4. For Column Age, the maximum age is 80, and the minimum is 0.42 years old.\n",
    "\n",
    "5. The maximum fare is 512.329.  "
   ]
  },
  {
   "cell_type": "markdown",
   "id": "769d3709",
   "metadata": {
    "papermill": {
     "duration": 0.016352,
     "end_time": "2025-06-19T10:43:42.444874",
     "exception": false,
     "start_time": "2025-06-19T10:43:42.428522",
     "status": "completed"
    },
    "tags": []
   },
   "source": [
    "# 🔨  ***EDA with Visualization & Data Cleaning***  "
   ]
  },
  {
   "cell_type": "markdown",
   "id": "d59cfb60",
   "metadata": {
    "papermill": {
     "duration": 0.016449,
     "end_time": "2025-06-19T10:43:42.477840",
     "exception": false,
     "start_time": "2025-06-19T10:43:42.461391",
     "status": "completed"
    },
    "tags": []
   },
   "source": [
    "### 1.1 🔍 **Col: PassengerId**\n",
    "\n",
    "*  \"PassengerId\" is an arbitrary identifier assigned to each passenger, so I decide to delete it."
   ]
  },
  {
   "cell_type": "code",
   "execution_count": 11,
   "id": "c5034f22",
   "metadata": {
    "execution": {
     "iopub.execute_input": "2025-06-19T10:43:42.512705Z",
     "iopub.status.busy": "2025-06-19T10:43:42.512270Z",
     "iopub.status.idle": "2025-06-19T10:43:42.518169Z",
     "shell.execute_reply": "2025-06-19T10:43:42.516990Z"
    },
    "papermill": {
     "duration": 0.025684,
     "end_time": "2025-06-19T10:43:42.520130",
     "exception": false,
     "start_time": "2025-06-19T10:43:42.494446",
     "status": "completed"
    },
    "tags": []
   },
   "outputs": [],
   "source": [
    "df.drop(['PassengerId'], axis=1, inplace=True)        "
   ]
  },
  {
   "cell_type": "markdown",
   "id": "6cc8c539",
   "metadata": {
    "papermill": {
     "duration": 0.016302,
     "end_time": "2025-06-19T10:43:42.552967",
     "exception": false,
     "start_time": "2025-06-19T10:43:42.536665",
     "status": "completed"
    },
    "tags": []
   },
   "source": [
    "###  **1.2 Survivial Distribution for Passengers**"
   ]
  },
  {
   "cell_type": "code",
   "execution_count": 12,
   "id": "f1c8683f",
   "metadata": {
    "execution": {
     "iopub.execute_input": "2025-06-19T10:43:42.588693Z",
     "iopub.status.busy": "2025-06-19T10:43:42.588317Z",
     "iopub.status.idle": "2025-06-19T10:43:42.593556Z",
     "shell.execute_reply": "2025-06-19T10:43:42.592193Z"
    },
    "papermill": {
     "duration": 0.026174,
     "end_time": "2025-06-19T10:43:42.595490",
     "exception": false,
     "start_time": "2025-06-19T10:43:42.569316",
     "status": "completed"
    },
    "tags": []
   },
   "outputs": [],
   "source": [
    "sns.set_palette('Dark2')  "
   ]
  },
  {
   "cell_type": "code",
   "execution_count": 13,
   "id": "b1f62e56",
   "metadata": {
    "execution": {
     "iopub.execute_input": "2025-06-19T10:43:42.631963Z",
     "iopub.status.busy": "2025-06-19T10:43:42.631554Z",
     "iopub.status.idle": "2025-06-19T10:43:43.196473Z",
     "shell.execute_reply": "2025-06-19T10:43:43.194874Z"
    },
    "papermill": {
     "duration": 0.585812,
     "end_time": "2025-06-19T10:43:43.198508",
     "exception": false,
     "start_time": "2025-06-19T10:43:42.612696",
     "status": "completed"
    },
    "tags": []
   },
   "outputs": [
    {
     "data": {
      "text/plain": [
       "Text(0.5, 1.0, 'Countplot of Survival Status')"
      ]
     },
     "execution_count": 13,
     "metadata": {},
     "output_type": "execute_result"
    },
    {
     "data": {
      "image/png": "[encoded data removed]",
      "text/plain": [
       "<Figure size 1200x500 with 2 Axes>"
      ]
     },
     "metadata": {},
     "output_type": "display_data"
    }
   ],
   "source": [
    "fig, axes = plt.subplots(1,2,figsize=(12,5)) \n",
    "\n",
    "df['Survived'].value_counts().plot(kind='pie',\n",
    "                                   startangle= 90, \n",
    "                                   autopct = '%1.1f%%',\n",
    "                                   explode = [0.1,0],\n",
    "                                   shadow=True,\n",
    "                                   ax=axes[0])  \n",
    "\n",
    "axes[0].set(ylabel='') \n",
    "axes[0].set_title('Survival Rate', fontweight='bold') \n",
    "legend_map = {0:'0: Perished',\n",
    "             1: '1: Survived'} \n",
    "axes[0].legend(labels=[legend_map[0],legend_map[1]])\n",
    "plt.tight_layout() \n",
    "\n",
    "sns.countplot(data=df,\n",
    "              x='Survived', \n",
    "              ax=axes[1]) \n",
    "\n",
    "axes[1].set(ylabel='',\n",
    "            xlabel='Survival Status')    \n",
    "axes[1].set_title('Countplot of Survival Status',\n",
    "                 fontweight='bold')"
   ]
  },
  {
   "cell_type": "markdown",
   "id": "5138464b",
   "metadata": {
    "papermill": {
     "duration": 0.018644,
     "end_time": "2025-06-19T10:43:43.236773",
     "exception": false,
     "start_time": "2025-06-19T10:43:43.218129",
     "status": "completed"
    },
    "tags": []
   },
   "source": [
    "### 📝 ***Note*** :  \n",
    "\n",
    "* **The dataset is imbalanced with 38.4% survivors and 61.6% non-survivors.** "
   ]
  },
  {
   "cell_type": "markdown",
   "id": "ab00bc9a",
   "metadata": {
    "papermill": {
     "duration": 0.019208,
     "end_time": "2025-06-19T10:43:43.274491",
     "exception": false,
     "start_time": "2025-06-19T10:43:43.255283",
     "status": "completed"
    },
    "tags": []
   },
   "source": [
    "### 2.1 🔍  **Col: Sex (Categorical Variables)**"
   ]
  },
  {
   "cell_type": "code",
   "execution_count": 14,
   "id": "c4c4f605",
   "metadata": {
    "execution": {
     "iopub.execute_input": "2025-06-19T10:43:43.312959Z",
     "iopub.status.busy": "2025-06-19T10:43:43.312560Z",
     "iopub.status.idle": "2025-06-19T10:43:43.934827Z",
     "shell.execute_reply": "2025-06-19T10:43:43.933641Z"
    },
    "papermill": {
     "duration": 0.643269,
     "end_time": "2025-06-19T10:43:43.936767",
     "exception": false,
     "start_time": "2025-06-19T10:43:43.293498",
     "status": "completed"
    },
    "tags": []
   },
   "outputs": [
    {
     "data": {
      "text/plain": [
       "Text(0.5, 1.0, 'Countplot of Survival Status by Sex')"
      ]
     },
     "execution_count": 14,
     "metadata": {},
     "output_type": "execute_result"
    },
    {
     "data": {
      "image/png": "[encoded data removed]",
      "text/plain": [
       "<Figure size 1500x500 with 3 Axes>"
      ]
     },
     "metadata": {},
     "output_type": "display_data"
    }
   ],
   "source": [
    "fig, axes = plt.subplots(1,3, figsize=(15,5)) \n",
    "\n",
    "df['Sex'].value_counts().plot(kind='pie',\n",
    "                              autopct='%1.1f%%',\n",
    "                              startangle=90,\n",
    "                              explode=[0.1,0],\n",
    "                              shadow=True,\n",
    "                               ax=axes[0])\n",
    "\n",
    "axes[0].set(ylabel='')\n",
    "axes[0].set_title('Distribution of Sex', fontweight='bold', fontfamily='monospace')\n",
    "\n",
    "\n",
    "\n",
    "df.groupby('Sex')['Survived'].mean().plot(kind='bar',\n",
    "                                          width=0.7,\n",
    "                                          color=['#1b9e77', '#d95f02'],\n",
    "                                          ax=axes[1]) \n",
    "axes[1].set_title('Survival Rates by Sex', fontweight='bold', fontfamily='monospace' )\n",
    "\n",
    "\n",
    "\n",
    "sns.countplot(data=df, \n",
    "              x='Survived', \n",
    "              hue='Sex',\n",
    "              ax=axes[2]) \n",
    "axes[2].set(ylabel='')  \n",
    "axes[2].set_title('Countplot of Survival Status by Sex', fontweight='bold', fontfamily='monospace' )"
   ]
  },
  {
   "cell_type": "markdown",
   "id": "09f489fb",
   "metadata": {
    "papermill": {
     "duration": 0.018898,
     "end_time": "2025-06-19T10:43:43.975631",
     "exception": false,
     "start_time": "2025-06-19T10:43:43.956733",
     "status": "completed"
    },
    "tags": []
   },
   "source": [
    "### 📝 ***Note*** :  \n",
    "\n",
    "* **The pie chart reveals a notable gender disparity among Passengers, with males comprising a substantial majority(64.8%) compared to females(35.2%).**\n",
    "\n",
    "* **However, male passengers exhibited a drastically lower survival rate which was below 20%(over 450 perished), while females demonstrated a higher survival patteren at nearly 75%.**  "
   ]
  },
  {
   "cell_type": "markdown",
   "id": "c5372925",
   "metadata": {
    "papermill": {
     "duration": 0.019435,
     "end_time": "2025-06-19T10:43:44.013924",
     "exception": false,
     "start_time": "2025-06-19T10:43:43.994489",
     "status": "completed"
    },
    "tags": []
   },
   "source": [
    "### **2.2 Binary Encoding for Sex**"
   ]
  },
  {
   "cell_type": "code",
   "execution_count": 15,
   "id": "6786b95d",
   "metadata": {
    "execution": {
     "iopub.execute_input": "2025-06-19T10:43:44.056090Z",
     "iopub.status.busy": "2025-06-19T10:43:44.055675Z",
     "iopub.status.idle": "2025-06-19T10:43:44.063794Z",
     "shell.execute_reply": "2025-06-19T10:43:44.061961Z"
    },
    "papermill": {
     "duration": 0.031997,
     "end_time": "2025-06-19T10:43:44.066426",
     "exception": false,
     "start_time": "2025-06-19T10:43:44.034429",
     "status": "completed"
    },
    "tags": []
   },
   "outputs": [],
   "source": [
    "df['Sex'] = df['Sex'].map({'male':0,\n",
    "                           'female':1})     "
   ]
  },
  {
   "cell_type": "markdown",
   "id": "b437c870",
   "metadata": {
    "papermill": {
     "duration": 0.019004,
     "end_time": "2025-06-19T10:43:44.104610",
     "exception": false,
     "start_time": "2025-06-19T10:43:44.085606",
     "status": "completed"
    },
    "tags": []
   },
   "source": [
    "### 3.1 🔍 **Col: Age (Continuous Variables)** "
   ]
  },
  {
   "cell_type": "code",
   "execution_count": 16,
   "id": "98e3f2e6",
   "metadata": {
    "execution": {
     "iopub.execute_input": "2025-06-19T10:43:44.144170Z",
     "iopub.status.busy": "2025-06-19T10:43:44.143788Z",
     "iopub.status.idle": "2025-06-19T10:43:44.154733Z",
     "shell.execute_reply": "2025-06-19T10:43:44.153363Z"
    },
    "papermill": {
     "duration": 0.032873,
     "end_time": "2025-06-19T10:43:44.156616",
     "exception": false,
     "start_time": "2025-06-19T10:43:44.123743",
     "status": "completed"
    },
    "tags": []
   },
   "outputs": [
    {
     "data": {
      "text/plain": [
       "count    714.000000\n",
       "mean      29.699118\n",
       "std       14.526497\n",
       "min        0.420000\n",
       "25%       20.125000\n",
       "50%       28.000000\n",
       "75%       38.000000\n",
       "max       80.000000\n",
       "Name: Age, dtype: float64"
      ]
     },
     "execution_count": 16,
     "metadata": {},
     "output_type": "execute_result"
    }
   ],
   "source": [
    "df['Age'].describe()  "
   ]
  },
  {
   "cell_type": "code",
   "execution_count": 17,
   "id": "555fc00f",
   "metadata": {
    "execution": {
     "iopub.execute_input": "2025-06-19T10:43:44.196723Z",
     "iopub.status.busy": "2025-06-19T10:43:44.196332Z",
     "iopub.status.idle": "2025-06-19T10:43:44.573455Z",
     "shell.execute_reply": "2025-06-19T10:43:44.572325Z"
    },
    "papermill": {
     "duration": 0.399674,
     "end_time": "2025-06-19T10:43:44.575587",
     "exception": false,
     "start_time": "2025-06-19T10:43:44.175913",
     "status": "completed"
    },
    "tags": []
   },
   "outputs": [
    {
     "data": {
      "image/png": "[encoded data removed]",
      "text/plain": [
       "<Figure size 640x480 with 1 Axes>"
      ]
     },
     "metadata": {},
     "output_type": "display_data"
    }
   ],
   "source": [
    "sns.histplot(data=df, \n",
    "            x=df['Age'].dropna(),\n",
    "            bins=30, \n",
    "            kde=True) \n",
    "\n",
    "plt.ylabel('')\n",
    "plt.title('Distribution of Age without Missing Values')\n",
    "plt.show() "
   ]
  },
  {
   "cell_type": "markdown",
   "id": "dc273995",
   "metadata": {
    "papermill": {
     "duration": 0.019626,
     "end_time": "2025-06-19T10:43:44.617765",
     "exception": false,
     "start_time": "2025-06-19T10:43:44.598139",
     "status": "completed"
    },
    "tags": []
   },
   "source": [
    "### **3.2 Predictive Mean Matching for Imputing Ages:**"
   ]
  },
  {
   "cell_type": "code",
   "execution_count": 18,
   "id": "3d689fc0",
   "metadata": {
    "execution": {
     "iopub.execute_input": "2025-06-19T10:43:44.658586Z",
     "iopub.status.busy": "2025-06-19T10:43:44.658174Z",
     "iopub.status.idle": "2025-06-19T10:43:44.672342Z",
     "shell.execute_reply": "2025-06-19T10:43:44.671044Z"
    },
    "papermill": {
     "duration": 0.036835,
     "end_time": "2025-06-19T10:43:44.674199",
     "exception": false,
     "start_time": "2025-06-19T10:43:44.637364",
     "status": "completed"
    },
    "tags": []
   },
   "outputs": [
    {
     "data": {
      "text/html": [
       "<div>\n",
       "<style scoped>\n",
       "    .dataframe tbody tr th:only-of-type {\n",
       "        vertical-align: middle;\n",
       "    }\n",
       "\n",
       "    .dataframe tbody tr th {\n",
       "        vertical-align: top;\n",
       "    }\n",
       "\n",
       "    .dataframe thead th {\n",
       "        text-align: right;\n",
       "    }\n",
       "</style>\n",
       "<table border=\"1\" class=\"dataframe\">\n",
       "  <thead>\n",
       "    <tr style=\"text-align: right;\">\n",
       "      <th></th>\n",
       "      <th>Pclass</th>\n",
       "      <th>Sex</th>\n",
       "      <th>Age</th>\n",
       "    </tr>\n",
       "  </thead>\n",
       "  <tbody>\n",
       "    <tr>\n",
       "      <th>0</th>\n",
       "      <td>1</td>\n",
       "      <td>0</td>\n",
       "      <td>21</td>\n",
       "    </tr>\n",
       "    <tr>\n",
       "      <th>1</th>\n",
       "      <td>1</td>\n",
       "      <td>1</td>\n",
       "      <td>9</td>\n",
       "    </tr>\n",
       "    <tr>\n",
       "      <th>2</th>\n",
       "      <td>2</td>\n",
       "      <td>0</td>\n",
       "      <td>9</td>\n",
       "    </tr>\n",
       "    <tr>\n",
       "      <th>3</th>\n",
       "      <td>2</td>\n",
       "      <td>1</td>\n",
       "      <td>2</td>\n",
       "    </tr>\n",
       "    <tr>\n",
       "      <th>4</th>\n",
       "      <td>3</td>\n",
       "      <td>0</td>\n",
       "      <td>94</td>\n",
       "    </tr>\n",
       "    <tr>\n",
       "      <th>5</th>\n",
       "      <td>3</td>\n",
       "      <td>1</td>\n",
       "      <td>42</td>\n",
       "    </tr>\n",
       "  </tbody>\n",
       "</table>\n",
       "</div>"
      ],
      "text/plain": [
       "   Pclass  Sex  Age\n",
       "0       1    0   21\n",
       "1       1    1    9\n",
       "2       2    0    9\n",
       "3       2    1    2\n",
       "4       3    0   94\n",
       "5       3    1   42"
      ]
     },
     "execution_count": 18,
     "metadata": {},
     "output_type": "execute_result"
    }
   ],
   "source": [
    "# Figure out the missing pattern of age: \n",
    "\n",
    "missing_age = df.groupby(['Pclass','Sex'], as_index=False)['Age'].apply(lambda x: x.isnull().sum())\n",
    " \n",
    "missing_age "
   ]
  },
  {
   "cell_type": "markdown",
   "id": "b74c969a",
   "metadata": {
    "papermill": {
     "duration": 0.019945,
     "end_time": "2025-06-19T10:43:44.714444",
     "exception": false,
     "start_time": "2025-06-19T10:43:44.694499",
     "status": "completed"
    },
    "tags": []
   },
   "source": [
    "### 📝 ***Note*** :  \n",
    "\n",
    "*  **Ages are numerical features, which is suitable for Predictive Mean Matching(PMM).**\n",
    "   \n",
    "*  **It's not normally distributed, a skewness towards younger passengers between 20-30 years old. --> PMM will preserve the original distribution of observed data.**\n",
    "\n",
    "   \n",
    "*  **I identified a patteren where missing ages are related to Passenger Class (the total count of missing ages in Class 3 is 136/177), and particularly higher among males among three classes. --> This suggests the data is not Missing Completely At Random(MCAR), but rather Missing At Random(MAR).** "
   ]
  },
  {
   "cell_type": "code",
   "execution_count": 19,
   "id": "dc6bd17c",
   "metadata": {
    "execution": {
     "iopub.execute_input": "2025-06-19T10:43:44.756191Z",
     "iopub.status.busy": "2025-06-19T10:43:44.755798Z",
     "iopub.status.idle": "2025-06-19T10:43:48.995212Z",
     "shell.execute_reply": "2025-06-19T10:43:48.994119Z"
    },
    "papermill": {
     "duration": 4.262234,
     "end_time": "2025-06-19T10:43:48.997153",
     "exception": false,
     "start_time": "2025-06-19T10:43:44.734919",
     "status": "completed"
    },
    "tags": []
   },
   "outputs": [],
   "source": [
    "# Apply Predictive Mean Matching to Impute Ages:  \n",
    "\n",
    "from sklearn.experimental import enable_iterative_imputer\n",
    "from sklearn.impute import IterativeImputer\n",
    "from sklearn.ensemble import RandomForestRegressor \n",
    "\n",
    "\n",
    "features = ['Pclass', 'Sex']   \n",
    "df_pmm = df[features+['Age']].copy()  \n",
    "\n",
    "imputer = IterativeImputer(estimator=RandomForestRegressor(min_samples_leaf=10), \n",
    "                           initial_strategy='mean', \n",
    "                           imputation_order='random',\n",
    "                           random_state=42)    \n",
    " \n",
    "df_pm_imputed = imputer.fit_transform(df_pmm)   \n",
    "df['Age_pmm'] = df_pm_imputed[:, -1]      "
   ]
  },
  {
   "cell_type": "code",
   "execution_count": 20,
   "id": "68af7e2a",
   "metadata": {
    "execution": {
     "iopub.execute_input": "2025-06-19T10:43:49.040087Z",
     "iopub.status.busy": "2025-06-19T10:43:49.039709Z",
     "iopub.status.idle": "2025-06-19T10:43:49.396631Z",
     "shell.execute_reply": "2025-06-19T10:43:49.395456Z"
    },
    "papermill": {
     "duration": 0.380807,
     "end_time": "2025-06-19T10:43:49.398683",
     "exception": false,
     "start_time": "2025-06-19T10:43:49.017876",
     "status": "completed"
    },
    "tags": []
   },
   "outputs": [
    {
     "data": {
      "image/png": "[encoded data removed]",
      "text/plain": [
       "<Figure size 640x480 with 1 Axes>"
      ]
     },
     "metadata": {},
     "output_type": "display_data"
    }
   ],
   "source": [
    "# check distribution after PMM: \n",
    "\n",
    "sns.histplot(data=df, \n",
    "            x='Age_pmm',\n",
    "            bins=30, \n",
    "            kde=True) \n",
    "\n",
    "\n",
    "plt.ylabel('')\n",
    "plt.title('Distribution of Age after Predictive Mean Matching')\n",
    "plt.show()   "
   ]
  },
  {
   "cell_type": "markdown",
   "id": "ba700b57",
   "metadata": {
    "papermill": {
     "duration": 0.022187,
     "end_time": "2025-06-19T10:43:49.442706",
     "exception": false,
     "start_time": "2025-06-19T10:43:49.420519",
     "status": "completed"
    },
    "tags": []
   },
   "source": [
    "### 4. 🔍 **Col: Ticket**\n"
   ]
  },
  {
   "cell_type": "code",
   "execution_count": 21,
   "id": "ca7e362f",
   "metadata": {
    "execution": {
     "iopub.execute_input": "2025-06-19T10:43:49.490482Z",
     "iopub.status.busy": "2025-06-19T10:43:49.489999Z",
     "iopub.status.idle": "2025-06-19T10:43:49.497423Z",
     "shell.execute_reply": "2025-06-19T10:43:49.496268Z"
    },
    "papermill": {
     "duration": 0.033938,
     "end_time": "2025-06-19T10:43:49.499355",
     "exception": false,
     "start_time": "2025-06-19T10:43:49.465417",
     "status": "completed"
    },
    "tags": []
   },
   "outputs": [
    {
     "data": {
      "text/plain": [
       "0           A/5 21171\n",
       "1            PC 17599\n",
       "2    STON/O2. 3101282\n",
       "3              113803\n",
       "4              373450\n",
       "5              330877\n",
       "6               17463\n",
       "7              349909\n",
       "8              347742\n",
       "9              237736\n",
       "Name: Ticket, dtype: object"
      ]
     },
     "execution_count": 21,
     "metadata": {},
     "output_type": "execute_result"
    }
   ],
   "source": [
    "df['Ticket'][0:10] "
   ]
  },
  {
   "cell_type": "code",
   "execution_count": 22,
   "id": "955881ee",
   "metadata": {
    "execution": {
     "iopub.execute_input": "2025-06-19T10:43:49.547421Z",
     "iopub.status.busy": "2025-06-19T10:43:49.546761Z",
     "iopub.status.idle": "2025-06-19T10:43:49.556984Z",
     "shell.execute_reply": "2025-06-19T10:43:49.556065Z"
    },
    "papermill": {
     "duration": 0.036985,
     "end_time": "2025-06-19T10:43:49.558919",
     "exception": false,
     "start_time": "2025-06-19T10:43:49.521934",
     "status": "completed"
    },
    "tags": []
   },
   "outputs": [
    {
     "data": {
      "text/plain": [
       "count        891\n",
       "unique       681\n",
       "top       347082\n",
       "freq           7\n",
       "Name: Ticket, dtype: object"
      ]
     },
     "execution_count": 22,
     "metadata": {},
     "output_type": "execute_result"
    }
   ],
   "source": [
    "df['Ticket'].describe()  "
   ]
  },
  {
   "cell_type": "markdown",
   "id": "996ab660",
   "metadata": {
    "papermill": {
     "duration": 0.025077,
     "end_time": "2025-06-19T10:43:49.608331",
     "exception": false,
     "start_time": "2025-06-19T10:43:49.583254",
     "status": "completed"
    },
    "tags": []
   },
   "source": [
    "### 📝 ***Note*** : \n",
    "\n",
    "* **Ticket is a categorical variable that has **681 unique** values**.\n",
    "   \n",
    "* **Categorical variables with nearly as many levels as records are often not useful for prediction**."
   ]
  },
  {
   "cell_type": "markdown",
   "id": "38375239",
   "metadata": {
    "papermill": {
     "duration": 0.022198,
     "end_time": "2025-06-19T10:43:49.653363",
     "exception": false,
     "start_time": "2025-06-19T10:43:49.631165",
     "status": "completed"
    },
    "tags": []
   },
   "source": [
    "### 5. 🔍 **Col: Cabin**  "
   ]
  },
  {
   "cell_type": "code",
   "execution_count": 23,
   "id": "518b2c99",
   "metadata": {
    "execution": {
     "iopub.execute_input": "2025-06-19T10:43:49.700529Z",
     "iopub.status.busy": "2025-06-19T10:43:49.700119Z",
     "iopub.status.idle": "2025-06-19T10:43:49.707555Z",
     "shell.execute_reply": "2025-06-19T10:43:49.706213Z"
    },
    "papermill": {
     "duration": 0.032693,
     "end_time": "2025-06-19T10:43:49.709375",
     "exception": false,
     "start_time": "2025-06-19T10:43:49.676682",
     "status": "completed"
    },
    "tags": []
   },
   "outputs": [
    {
     "data": {
      "text/plain": [
       "0     NaN\n",
       "1     C85\n",
       "2     NaN\n",
       "3    C123\n",
       "4     NaN\n",
       "5     NaN\n",
       "6     E46\n",
       "7     NaN\n",
       "8     NaN\n",
       "9     NaN\n",
       "Name: Cabin, dtype: object"
      ]
     },
     "execution_count": 23,
     "metadata": {},
     "output_type": "execute_result"
    }
   ],
   "source": [
    "df['Cabin'][0:10] "
   ]
  },
  {
   "cell_type": "code",
   "execution_count": 24,
   "id": "5cbbbbce",
   "metadata": {
    "execution": {
     "iopub.execute_input": "2025-06-19T10:43:49.756481Z",
     "iopub.status.busy": "2025-06-19T10:43:49.756095Z",
     "iopub.status.idle": "2025-06-19T10:43:49.764343Z",
     "shell.execute_reply": "2025-06-19T10:43:49.763342Z"
    },
    "papermill": {
     "duration": 0.034252,
     "end_time": "2025-06-19T10:43:49.766125",
     "exception": false,
     "start_time": "2025-06-19T10:43:49.731873",
     "status": "completed"
    },
    "tags": []
   },
   "outputs": [
    {
     "data": {
      "text/plain": [
       "count         204\n",
       "unique        147\n",
       "top       B96 B98\n",
       "freq            4\n",
       "Name: Cabin, dtype: object"
      ]
     },
     "execution_count": 24,
     "metadata": {},
     "output_type": "execute_result"
    }
   ],
   "source": [
    "df['Cabin'].describe()  "
   ]
  },
  {
   "cell_type": "markdown",
   "id": "0a3b134e",
   "metadata": {
    "papermill": {
     "duration": 0.022673,
     "end_time": "2025-06-19T10:43:49.811971",
     "exception": false,
     "start_time": "2025-06-19T10:43:49.789298",
     "status": "completed"
    },
    "tags": []
   },
   "source": [
    "### 📝 ***Note*** : \n",
    "\n",
    "* **Column Cabin has 147 unique values, which may not be particularly useful for prediction.**\n",
    "\n",
    "* **Create a boolean column that indicates if the cabin is missing.**"
   ]
  },
  {
   "cell_type": "markdown",
   "id": "9cfc63e3",
   "metadata": {
    "papermill": {
     "duration": 0.022513,
     "end_time": "2025-06-19T10:43:49.857323",
     "exception": false,
     "start_time": "2025-06-19T10:43:49.834810",
     "status": "completed"
    },
    "tags": []
   },
   "source": [
    "### 6. 🔍 **Passenger Class (Pclass)**  "
   ]
  },
  {
   "cell_type": "code",
   "execution_count": 25,
   "id": "2c67f775",
   "metadata": {
    "execution": {
     "iopub.execute_input": "2025-06-19T10:43:49.904050Z",
     "iopub.status.busy": "2025-06-19T10:43:49.903701Z",
     "iopub.status.idle": "2025-06-19T10:43:50.667184Z",
     "shell.execute_reply": "2025-06-19T10:43:50.665983Z"
    },
    "papermill": {
     "duration": 0.789232,
     "end_time": "2025-06-19T10:43:50.669214",
     "exception": false,
     "start_time": "2025-06-19T10:43:49.879982",
     "status": "completed"
    },
    "tags": []
   },
   "outputs": [
    {
     "data": {
      "text/plain": [
       "Text(0.5, 1.0, 'Count of Survival Status in Three Classes')"
      ]
     },
     "execution_count": 25,
     "metadata": {},
     "output_type": "execute_result"
    },
    {
     "data": {
      "image/png": "[encoded data removed]",
      "text/plain": [
       "<Figure size 1600x500 with 3 Axes>"
      ]
     },
     "metadata": {},
     "output_type": "display_data"
    }
   ],
   "source": [
    "fig, axes = plt.subplots(1,3, figsize=(16,5)) \n",
    "\n",
    "df['Pclass'].value_counts().plot(kind='pie',\n",
    "                                 autopct='%1.1f%%',\n",
    "                                 startangle=90,\n",
    "                                 explode=[0.1,0,0],\n",
    "                                 shadow=True,\n",
    "                                 ax=axes[0])\n",
    "axes[0].set_ylabel('')\n",
    "axes[0].set_title('Distribution of Passengers in Three Classes',\n",
    "                  fontweight='bold')  \n",
    "\n",
    "\n",
    "df.groupby('Pclass')['Survived'].mean().plot(kind='bar',\n",
    "                                             width=0.7,\n",
    "                                             ax=axes[1]) \n",
    "\n",
    "axes[1].set_title('Survival Rates in Three Classes',\n",
    "                  fontweight='bold')\n",
    "\n",
    "\n",
    "sns.countplot(data=df,\n",
    "             x='Pclass', \n",
    "             hue='Survived',\n",
    "             ax=axes[2])\n",
    "axes[2].set_title('Count of Survival Status in Three Classes',\n",
    "                  fontweight='bold')  "
   ]
  },
  {
   "cell_type": "markdown",
   "id": "1c9c24ca",
   "metadata": {
    "papermill": {
     "duration": 0.024632,
     "end_time": "2025-06-19T10:43:50.719418",
     "exception": false,
     "start_time": "2025-06-19T10:43:50.694786",
     "status": "completed"
    },
    "tags": []
   },
   "source": [
    "### 📝 ***Note*** :  \n",
    "\n",
    "**Social Psychology Theory: The \"just-world hypothesis\" (Lerner, 1980)**"
   ]
  },
  {
   "cell_type": "markdown",
   "id": "27f33737",
   "metadata": {
    "papermill": {
     "duration": 0.025483,
     "end_time": "2025-06-19T10:43:50.769367",
     "exception": false,
     "start_time": "2025-06-19T10:43:50.743884",
     "status": "completed"
    },
    "tags": []
   },
   "source": [
    "### 7.1 🔍 **Embarked**  "
   ]
  },
  {
   "cell_type": "code",
   "execution_count": 26,
   "id": "7f2bda54",
   "metadata": {
    "execution": {
     "iopub.execute_input": "2025-06-19T10:43:50.819726Z",
     "iopub.status.busy": "2025-06-19T10:43:50.819358Z",
     "iopub.status.idle": "2025-06-19T10:43:51.480627Z",
     "shell.execute_reply": "2025-06-19T10:43:51.479473Z"
    },
    "papermill": {
     "duration": 0.688525,
     "end_time": "2025-06-19T10:43:51.482347",
     "exception": false,
     "start_time": "2025-06-19T10:43:50.793822",
     "status": "completed"
    },
    "tags": []
   },
   "outputs": [
    {
     "data": {
      "text/plain": [
       "Text(0.5, 1.0, 'Embarked vs. Pclass')"
      ]
     },
     "execution_count": 26,
     "metadata": {},
     "output_type": "execute_result"
    },
    {
     "data": {
      "image/png": "[encoded data removed]",
      "text/plain": [
       "<Figure size 1700x500 with 3 Axes>"
      ]
     },
     "metadata": {},
     "output_type": "display_data"
    }
   ],
   "source": [
    "fig, axes = plt.subplots(1,3, figsize=(17,5)) \n",
    "\n",
    "df['Embarked'].value_counts().plot(kind='pie',\n",
    "                                   startangle=90,\n",
    "                                   autopct='%1.1f%%',\n",
    "                                   explode=[0.1,0,0],\n",
    "                                   shadow=True,\n",
    "                                   ax=axes[0]) \n",
    "axes[0].set_ylabel('')\n",
    "axes[0].set_title('Distribution of Passengers at Three Embarkation Points',\n",
    "                    fontweight='bold') \n",
    "\n",
    "\n",
    "\n",
    "df.groupby('Embarked')['Survived'].mean().plot(kind='bar',\n",
    "                                               ax=axes[1]) \n",
    "axes[1].set_ylabel('Survival Rates')\n",
    "axes[1].set_title('Survival Rates at Three Boarding Locations',\n",
    "                    fontweight='bold')   \n",
    "\n",
    "\n",
    "\n",
    "\n",
    "sns.countplot(data=df,\n",
    "             x='Embarked',\n",
    "             hue='Pclass',\n",
    "             ax=axes[2]) \n",
    "axes[2].set_title('Embarked vs. Pclass',\n",
    "                  fontweight='bold') "
   ]
  },
  {
   "cell_type": "markdown",
   "id": "85c05fa7",
   "metadata": {
    "papermill": {
     "duration": 0.027286,
     "end_time": "2025-06-19T10:43:51.538135",
     "exception": false,
     "start_time": "2025-06-19T10:43:51.510849",
     "status": "completed"
    },
    "tags": []
   },
   "source": [
    "### **7.2 One-Hot Coding for Embarked**"
   ]
  },
  {
   "cell_type": "code",
   "execution_count": 27,
   "id": "54ddcf67",
   "metadata": {
    "execution": {
     "iopub.execute_input": "2025-06-19T10:43:51.593690Z",
     "iopub.status.busy": "2025-06-19T10:43:51.593320Z",
     "iopub.status.idle": "2025-06-19T10:43:51.600946Z",
     "shell.execute_reply": "2025-06-19T10:43:51.599894Z"
    },
    "papermill": {
     "duration": 0.037597,
     "end_time": "2025-06-19T10:43:51.603321",
     "exception": false,
     "start_time": "2025-06-19T10:43:51.565724",
     "status": "completed"
    },
    "tags": []
   },
   "outputs": [],
   "source": [
    "embark = pd.get_dummies(df['Embarked'], drop_first=True, dtype=int) \n",
    "df = pd.concat([df, embark], axis=1)   "
   ]
  },
  {
   "cell_type": "markdown",
   "id": "41afb77a",
   "metadata": {
    "papermill": {
     "duration": 0.026663,
     "end_time": "2025-06-19T10:43:51.658289",
     "exception": false,
     "start_time": "2025-06-19T10:43:51.631626",
     "status": "completed"
    },
    "tags": []
   },
   "source": [
    "### 8.1 🔍 **Col: Fare**  "
   ]
  },
  {
   "cell_type": "code",
   "execution_count": 28,
   "id": "664c93b8",
   "metadata": {
    "execution": {
     "iopub.execute_input": "2025-06-19T10:43:51.713635Z",
     "iopub.status.busy": "2025-06-19T10:43:51.713216Z",
     "iopub.status.idle": "2025-06-19T10:43:52.922546Z",
     "shell.execute_reply": "2025-06-19T10:43:52.921376Z"
    },
    "papermill": {
     "duration": 1.239505,
     "end_time": "2025-06-19T10:43:52.924455",
     "exception": false,
     "start_time": "2025-06-19T10:43:51.684950",
     "status": "completed"
    },
    "tags": []
   },
   "outputs": [
    {
     "data": {
      "text/plain": [
       "Text(0.5, 1.0, 'Distribution of Fares in Third Class')"
      ]
     },
     "execution_count": 28,
     "metadata": {},
     "output_type": "execute_result"
    },
    {
     "data": {
      "image/png": "[encoded data removed]",
      "text/plain": [
       "<Figure size 2000x700 with 3 Axes>"
      ]
     },
     "metadata": {},
     "output_type": "display_data"
    }
   ],
   "source": [
    "fig, axes = plt.subplots(1,3, figsize=(20,7))\n",
    "\n",
    "sns.histplot(data = df[df['Pclass']==1]['Fare'],  \n",
    "             bins=50,\n",
    "             kde=True,\n",
    "             ax=axes[0])\n",
    "axes[0].set_title('Distribution of Fares in First Class',\n",
    "                  fontweight='bold') \n",
    "\n",
    "\n",
    "\n",
    "sns.histplot(data = df[df['Pclass']==2]['Fare'], \n",
    "             bins=30,\n",
    "             kde=True,\n",
    "             ax=axes[1])\n",
    "axes[1].set_title('Distribution of Fares in Second Class',\n",
    "                  fontweight='bold') \n",
    "\n",
    "\n",
    "\n",
    "sns.histplot(data = df[df['Pclass']==3]['Fare'], \n",
    "             bins=30,\n",
    "             kde=True,\n",
    "             ax=axes[2])\n",
    "axes[2].set_title('Distribution of Fares in Third Class',\n",
    "                  fontweight='bold')  "
   ]
  },
  {
   "cell_type": "markdown",
   "id": "ebd4d2a3",
   "metadata": {
    "papermill": {
     "duration": 0.02926,
     "end_time": "2025-06-19T10:43:52.983191",
     "exception": false,
     "start_time": "2025-06-19T10:43:52.953931",
     "status": "completed"
    },
    "tags": []
   },
   "source": [
    "### **8.2 Detect the Outliers in Fare**    "
   ]
  },
  {
   "cell_type": "code",
   "execution_count": 29,
   "id": "c5861add",
   "metadata": {
    "execution": {
     "iopub.execute_input": "2025-06-19T10:43:53.042984Z",
     "iopub.status.busy": "2025-06-19T10:43:53.042639Z",
     "iopub.status.idle": "2025-06-19T10:43:55.445490Z",
     "shell.execute_reply": "2025-06-19T10:43:55.444262Z"
    },
    "papermill": {
     "duration": 2.434213,
     "end_time": "2025-06-19T10:43:55.447192",
     "exception": false,
     "start_time": "2025-06-19T10:43:53.012979",
     "status": "completed"
    },
    "tags": []
   },
   "outputs": [
    {
     "data": {
      "text/html": [
       "<html>\n",
       "<head><meta charset=\"utf-8\" /></head>\n",
       "<body>\n",
       "    <div>            <script src=\"https://cdnjs.cloudflare.com/ajax/libs/mathjax/2.7.5/MathJax.js?config=TeX-AMS-MML_SVG\"></script><script type=\"text/javascript\">if (window.MathJax && window.MathJax.Hub && window.MathJax.Hub.Config) {window.MathJax.Hub.Config({SVG: {font: \"STIX-Web\"}});}</script>                <script type=\"text/javascript\">window.PlotlyConfig = {MathJaxConfig: 'local'};</script>\n",
       "        <script charset=\"utf-8\" src=\"https://cdn.plot.ly/plotly-2.35.2.min.js\"></script>                <div id=\"cc77488d-b266-456f-b0d9-b821871ea669\" class=\"plotly-graph-div\" style=\"height:400px; width:700px;\"></div>            <script type=\"text/javascript\">                                    window.PLOTLYENV=window.PLOTLYENV || {};                                    if (document.getElementById(\"cc77488d-b266-456f-b0d9-b821871ea669\")) {                    Plotly.newPlot(                        \"cc77488d-b266-456f-b0d9-b821871ea669\",                        [{\"alignmentgroup\":\"True\",\"hovertemplate\":\"Pclass=3\\u003cbr\\u003eFare=%{y}\\u003cextra\\u003e\\u003c\\u002fextra\\u003e\",\"legendgroup\":\"3\",\"marker\":{\"color\":\"#636efa\"},\"name\":\"3\",\"notched\":false,\"offsetgroup\":\"3\",\"orientation\":\"v\",\"showlegend\":true,\"x0\":\" \",\"xaxis\":\"x\",\"y\":[7.25,7.925,8.05,8.4583,21.075,11.1333,16.7,8.05,31.275,7.8542,29.125,18.0,7.225,8.0292,21.075,31.3875,7.225,7.8792,7.8958,7.75,7.2292,8.05,18.0,11.2417,9.475,7.8958,7.8792,8.05,15.5,7.75,21.6792,17.8,39.6875,7.8,7.2292,46.9,7.2292,27.9,15.2458,8.1583,7.925,8.6625,46.9,14.4542,56.4958,7.65,7.8958,8.05,12.475,9.0,9.5,7.7875,15.85,34.375,8.05,8.05,8.05,7.8542,20.575,7.25,8.05,7.8958,7.8958,8.6542,7.925,7.8958,7.65,7.775,7.8958,24.15,14.4542,8.05,9.825,14.4583,7.925,7.75,31.275,8.05,11.2417,7.75,7.1417,22.3583,6.975,7.8958,7.05,14.5,9.2167,15.2458,7.75,15.85,6.75,7.7958,34.375,8.05,14.5,7.3125,7.7333,8.05,8.6625,69.55,16.1,7.775,8.6625,39.6875,20.525,27.9,56.4958,29.125,11.1333,7.925,7.8542,25.4667,0.0,69.55,31.3875,22.025,15.5,15.5,7.8958,7.8542,7.75,8.4042,7.75,9.5,69.55,6.4958,7.225,8.05,10.4625,15.85,18.7875,7.75,7.05,7.25,7.75,7.925,8.05,8.05,7.8958,9.35,7.25,25.4667,7.775,31.3875,7.55,14.4542,15.5,7.125,7.225,7.775,7.25,10.4625,16.1,20.2125,15.2458,7.75,31.3875,7.75,39.6875,7.775,0.0,7.75,7.75,29.125,20.25,7.75,7.8542,9.5,8.05,8.6625,9.5,7.8958,7.75,8.85,7.8958,7.2292,7.75,23.25,0.0,8.05,7.8958,7.8542,7.25,7.8958,69.55,6.2375,20.525,23.25,18.0,7.8958,8.05,16.1,15.9,8.6625,9.225,7.2292,17.8,7.225,9.5,7.8792,7.8792,27.9,14.4542,7.05,15.5,7.25,7.2292,7.75,6.4958,8.05,21.075,7.25,4.0125,7.775,15.7417,7.925,7.8958,46.9,7.7292,7.7958,7.925,16.7,7.7958,7.8542,7.925,8.05,9.825,15.85,8.6625,7.75,7.775,25.4667,7.8958,6.8583,7.925,8.05,24.15,7.8958,7.7333,7.875,14.4,20.2125,7.25,7.75,8.05,16.1,7.125,34.375,9.5,7.775,8.1125,19.2583,19.9667,8.05,7.8958,7.75,8.05,8.05,7.05,7.725,19.2583,7.25,8.6625,9.8375,7.0458,7.5208,12.2875,46.9,8.05,9.5875,25.4667,8.05,15.9,19.9667,7.25,8.05,14.4583,15.1,7.7958,8.6625,7.75,7.6292,9.5875,22.525,56.4958,7.75,8.05,7.4958,24.15,7.8958,7.8958,7.225,7.2292,7.75,7.925,7.2292,7.2292,22.3583,8.6625,14.5,31.275,31.275,20.525,7.8292,7.225,7.775,17.4,7.75,7.8958,8.05,8.05,24.15,7.8958,21.075,7.2292,7.8542,7.75,8.05,14.5,14.4583,7.925,8.7125,8.05,8.05,7.125,7.25,7.75,24.15,0.0,7.225,7.8958,8.05,15.55,7.8958,31.275,7.05,15.5,7.75,8.05,14.4,16.1,14.4542,15.7417,7.8542,16.1,7.8958,7.7333,7.0542,27.9,7.925,39.6875,16.1,7.8542,27.9,56.4958,19.2583,7.8958,7.55,7.55,7.8958,8.4333,7.8292,6.75,7.8958,15.5,7.225,7.4958,7.925,7.775,8.05,7.775,8.05,9.8417,46.9,8.1375,9.225,46.9,39.6875,10.1708,7.7958,13.4167,56.4958,7.225,8.05,7.7333,7.65,14.4542,7.7417,7.8542,15.2458,9.4833,7.65,15.5,7.775,7.0542,8.6625,7.7375,7.925,18.7875,16.1,34.375,7.8958,7.8958,16.1,7.925,20.25,7.75,12.475,9.5,7.8958,7.7958,8.05,14.5,7.125,7.2292,7.775,7.75,24.15,8.3625,9.5,7.8542,7.225,7.75,7.75,12.475,7.7375,7.2292,23.45,7.05,7.25,7.4958,29.125,20.575,7.75,69.55,7.8958,8.6833,7.2292,24.15,8.5167,6.975,7.775,7.775,7.8875,24.15,31.275,8.05,7.925,6.45,27.9,8.6625,12.475,39.6875,6.95,56.4958,7.75,14.4542,7.2292,7.8542,8.3,8.6625,8.05,56.4958,7.925,6.4375,8.6625,7.55,69.55,7.8958,31.275,7.775,15.2458,9.35,19.2583,7.2292,14.1083,69.55,9.5,11.1333,7.8958,9.0,7.225,9.8458,7.8958,7.8958,7.8958,10.5167,7.05,29.125,23.45,7.75],\"y0\":\" \",\"yaxis\":\"y\",\"type\":\"box\"},{\"alignmentgroup\":\"True\",\"hovertemplate\":\"Pclass=1\\u003cbr\\u003eFare=%{y}\\u003cextra\\u003e\\u003c\\u002fextra\\u003e\",\"legendgroup\":\"1\",\"marker\":{\"color\":\"#EF553B\"},\"name\":\"1\",\"notched\":false,\"offsetgroup\":\"1\",\"orientation\":\"v\",\"showlegend\":true,\"x0\":\" \",\"xaxis\":\"x\",\"y\":[71.2833,53.1,51.8625,26.55,35.5,263.0,27.7208,146.5208,82.1708,52.0,76.7292,61.9792,35.5,80.0,83.475,27.7208,47.1,263.0,61.175,34.6542,63.3583,77.2875,52.0,247.5208,77.2875,26.2833,53.1,79.2,66.6,61.3792,55.0,25.925,33.5,30.6958,28.7125,50.0,26.55,27.7208,146.5208,31.0,113.275,76.2917,90.0,83.475,90.0,52.5542,26.55,79.2,86.5,512.3292,79.65,0.0,153.4625,135.6333,31.0,29.7,77.9583,26.0,78.85,91.0792,27.7208,151.55,30.5,247.5208,151.55,110.8833,108.9,56.9292,83.1583,262.375,164.8667,134.5,135.6333,57.9792,28.5,153.4625,133.65,66.6,134.5,35.5,263.0,35.0,55.0,75.25,69.3,55.4417,135.6333,82.1708,211.5,227.525,52.0,120.0,113.275,90.0,26.55,55.9,120.0,263.0,81.8583,26.55,30.5,27.75,89.1042,26.55,51.8625,26.55,38.5,26.55,52.0,91.0792,90.0,29.7,30.5,49.5042,78.2667,151.55,86.5,108.9,26.55,26.2875,59.4,34.0208,93.5,57.9792,221.7792,26.55,106.425,49.5,71.0,106.425,26.0,110.8833,26.55,39.6,227.525,79.65,51.4792,26.3875,55.9,110.8833,40.125,79.65,79.2,78.2667,56.9292,42.4,26.55,30.5,153.4625,52.5542,32.3208,77.9583,30.0,30.5,0.0,69.3,76.7292,35.5,113.275,133.65,25.5875,52.0,52.0,512.3292,76.7292,211.3375,57.0,26.55,110.8833,227.525,26.2875,26.2875,151.55,49.5042,26.55,52.0,227.525,53.1,211.3375,512.3292,30.0,78.85,262.375,71.0,53.1,86.5,120.0,77.9583,39.6,211.3375,57.0,30.0,79.2,30.6958,25.9292,120.0,0.0,53.1,0.0,93.5,0.0,80.0,83.1583,29.7,31.0,89.1042,39.4,164.8667,26.55,25.9292,50.4958,52.5542,5.0,83.1583,30.0,30.0],\"y0\":\" \",\"yaxis\":\"y\",\"type\":\"box\"},{\"alignmentgroup\":\"True\",\"hovertemplate\":\"Pclass=2\\u003cbr\\u003eFare=%{y}\\u003cextra\\u003e\\u003c\\u002fextra\\u003e\",\"legendgroup\":\"2\",\"marker\":{\"color\":\"#00cc96\"},\"name\":\"2\",\"notched\":false,\"offsetgroup\":\"2\",\"orientation\":\"v\",\"showlegend\":true,\"x0\":\" \",\"xaxis\":\"x\",\"y\":[30.0708,16.0,13.0,26.0,13.0,10.5,21.0,41.5792,26.0,10.5,27.75,10.5,10.5,73.5,29.0,10.5,23.0,26.0,21.0,73.5,30.0708,13.0,26.0,13.0,15.0458,11.5,36.75,26.0,13.0,12.525,15.75,13.0,15.05,39.0,13.0,13.0,26.0,13.0,21.0,13.0,27.0,10.5,13.0,10.5,13.0,13.5,10.5,26.0,26.25,10.5,12.275,10.5,14.5,26.0,26.0,10.5,19.5,0.0,13.0,12.875,12.35,24.0,26.0,26.25,26.0,14.0,12.35,29.0,13.0,26.0,13.0,13.0,13.0,13.0,13.0,13.0,27.7208,73.5,13.0,12.0,26.0,10.5,12.65,21.0,18.75,0.0,32.5,13.0,13.0,26.0,26.0,26.0,18.75,10.5,26.25,13.0,19.5,27.75,10.5,13.0,0.0,27.75,13.7917,21.0,0.0,26.0,10.5,26.0,10.5,11.5,26.0,26.25,26.0,26.0,13.8625,36.75,26.0,13.5,10.5,13.0,30.0,26.0,15.0,26.0,33.0,27.0,41.5792,65.0,39.0,10.5,12.35,13.0,26.25,23.0,73.5,13.0,73.5,13.0,39.0,10.5,13.0,0.0,39.0,41.5792,13.5,26.0,13.5,13.0,10.5,33.0,13.0,13.0,21.0,26.0,0.0,13.0,13.0,13.0,23.0,65.0,14.5,11.5,10.5,23.0,26.0,13.0,13.0,26.25,13.0,10.5,37.0042,37.0042,18.75,10.5,33.0,26.0,11.5,13.0,13.0,13.8583,24.0,26.0,10.5,13.0],\"y0\":\" \",\"yaxis\":\"y\",\"type\":\"box\"}],                        {\"template\":{\"data\":{\"histogram2dcontour\":[{\"type\":\"histogram2dcontour\",\"colorbar\":{\"outlinewidth\":0,\"ticks\":\"\"},\"colorscale\":[[0.0,\"#0d0887\"],[0.1111111111111111,\"#46039f\"],[0.2222222222222222,\"#7201a8\"],[0.3333333333333333,\"#9c179e\"],[0.4444444444444444,\"#bd3786\"],[0.5555555555555556,\"#d8576b\"],[0.6666666666666666,\"#ed7953\"],[0.7777777777777778,\"#fb9f3a\"],[0.8888888888888888,\"#fdca26\"],[1.0,\"#f0f921\"]]}],\"choropleth\":[{\"type\":\"choropleth\",\"colorbar\":{\"outlinewidth\":0,\"ticks\":\"\"}}],\"histogram2d\":[{\"type\":\"histogram2d\",\"colorbar\":{\"outlinewidth\":0,\"ticks\":\"\"},\"colorscale\":[[0.0,\"#0d0887\"],[0.1111111111111111,\"#46039f\"],[0.2222222222222222,\"#7201a8\"],[0.3333333333333333,\"#9c179e\"],[0.4444444444444444,\"#bd3786\"],[0.5555555555555556,\"#d8576b\"],[0.6666666666666666,\"#ed7953\"],[0.7777777777777778,\"#fb9f3a\"],[0.8888888888888888,\"#fdca26\"],[1.0,\"#f0f921\"]]}],\"heatmap\":[{\"type\":\"heatmap\",\"colorbar\":{\"outlinewidth\":0,\"ticks\":\"\"},\"colorscale\":[[0.0,\"#0d0887\"],[0.1111111111111111,\"#46039f\"],[0.2222222222222222,\"#7201a8\"],[0.3333333333333333,\"#9c179e\"],[0.4444444444444444,\"#bd3786\"],[0.5555555555555556,\"#d8576b\"],[0.6666666666666666,\"#ed7953\"],[0.7777777777777778,\"#fb9f3a\"],[0.8888888888888888,\"#fdca26\"],[1.0,\"#f0f921\"]]}],\"heatmapgl\":[{\"type\":\"heatmapgl\",\"colorbar\":{\"outlinewidth\":0,\"ticks\":\"\"},\"colorscale\":[[0.0,\"#0d0887\"],[0.1111111111111111,\"#46039f\"],[0.2222222222222222,\"#7201a8\"],[0.3333333333333333,\"#9c179e\"],[0.4444444444444444,\"#bd3786\"],[0.5555555555555556,\"#d8576b\"],[0.6666666666666666,\"#ed7953\"],[0.7777777777777778,\"#fb9f3a\"],[0.8888888888888888,\"#fdca26\"],[1.0,\"#f0f921\"]]}],\"contourcarpet\":[{\"type\":\"contourcarpet\",\"colorbar\":{\"outlinewidth\":0,\"ticks\":\"\"}}],\"contour\":[{\"type\":\"contour\",\"colorbar\":{\"outlinewidth\":0,\"ticks\":\"\"},\"colorscale\":[[0.0,\"#0d0887\"],[0.1111111111111111,\"#46039f\"],[0.2222222222222222,\"#7201a8\"],[0.3333333333333333,\"#9c179e\"],[0.4444444444444444,\"#bd3786\"],[0.5555555555555556,\"#d8576b\"],[0.6666666666666666,\"#ed7953\"],[0.7777777777777778,\"#fb9f3a\"],[0.8888888888888888,\"#fdca26\"],[1.0,\"#f0f921\"]]}],\"surface\":[{\"type\":\"surface\",\"colorbar\":{\"outlinewidth\":0,\"ticks\":\"\"},\"colorscale\":[[0.0,\"#0d0887\"],[0.1111111111111111,\"#46039f\"],[0.2222222222222222,\"#7201a8\"],[0.3333333333333333,\"#9c179e\"],[0.4444444444444444,\"#bd3786\"],[0.5555555555555556,\"#d8576b\"],[0.6666666666666666,\"#ed7953\"],[0.7777777777777778,\"#fb9f3a\"],[0.8888888888888888,\"#fdca26\"],[1.0,\"#f0f921\"]]}],\"mesh3d\":[{\"type\":\"mesh3d\",\"colorbar\":{\"outlinewidth\":0,\"ticks\":\"\"}}],\"scatter\":[{\"fillpattern\":{\"fillmode\":\"overlay\",\"size\":10,\"solidity\":0.2},\"type\":\"scatter\"}],\"parcoords\":[{\"type\":\"parcoords\",\"line\":{\"colorbar\":{\"outlinewidth\":0,\"ticks\":\"\"}}}],\"scatterpolargl\":[{\"type\":\"scatterpolargl\",\"marker\":{\"colorbar\":{\"outlinewidth\":0,\"ticks\":\"\"}}}],\"bar\":[{\"error_x\":{\"color\":\"#2a3f5f\"},\"error_y\":{\"color\":\"#2a3f5f\"},\"marker\":{\"line\":{\"color\":\"#E5ECF6\",\"width\":0.5},\"pattern\":{\"fillmode\":\"overlay\",\"size\":10,\"solidity\":0.2}},\"type\":\"bar\"}],\"scattergeo\":[{\"type\":\"scattergeo\",\"marker\":{\"colorbar\":{\"outlinewidth\":0,\"ticks\":\"\"}}}],\"scatterpolar\":[{\"type\":\"scatterpolar\",\"marker\":{\"colorbar\":{\"outlinewidth\":0,\"ticks\":\"\"}}}],\"histogram\":[{\"marker\":{\"pattern\":{\"fillmode\":\"overlay\",\"size\":10,\"solidity\":0.2}},\"type\":\"histogram\"}],\"scattergl\":[{\"type\":\"scattergl\",\"marker\":{\"colorbar\":{\"outlinewidth\":0,\"ticks\":\"\"}}}],\"scatter3d\":[{\"type\":\"scatter3d\",\"line\":{\"colorbar\":{\"outlinewidth\":0,\"ticks\":\"\"}},\"marker\":{\"colorbar\":{\"outlinewidth\":0,\"ticks\":\"\"}}}],\"scattermapbox\":[{\"type\":\"scattermapbox\",\"marker\":{\"colorbar\":{\"outlinewidth\":0,\"ticks\":\"\"}}}],\"scatterternary\":[{\"type\":\"scatterternary\",\"marker\":{\"colorbar\":{\"outlinewidth\":0,\"ticks\":\"\"}}}],\"scattercarpet\":[{\"type\":\"scattercarpet\",\"marker\":{\"colorbar\":{\"outlinewidth\":0,\"ticks\":\"\"}}}],\"carpet\":[{\"aaxis\":{\"endlinecolor\":\"#2a3f5f\",\"gridcolor\":\"white\",\"linecolor\":\"white\",\"minorgridcolor\":\"white\",\"startlinecolor\":\"#2a3f5f\"},\"baxis\":{\"endlinecolor\":\"#2a3f5f\",\"gridcolor\":\"white\",\"linecolor\":\"white\",\"minorgridcolor\":\"white\",\"startlinecolor\":\"#2a3f5f\"},\"type\":\"carpet\"}],\"table\":[{\"cells\":{\"fill\":{\"color\":\"#EBF0F8\"},\"line\":{\"color\":\"white\"}},\"header\":{\"fill\":{\"color\":\"#C8D4E3\"},\"line\":{\"color\":\"white\"}},\"type\":\"table\"}],\"barpolar\":[{\"marker\":{\"line\":{\"color\":\"#E5ECF6\",\"width\":0.5},\"pattern\":{\"fillmode\":\"overlay\",\"size\":10,\"solidity\":0.2}},\"type\":\"barpolar\"}],\"pie\":[{\"automargin\":true,\"type\":\"pie\"}]},\"layout\":{\"autotypenumbers\":\"strict\",\"colorway\":[\"#636efa\",\"#EF553B\",\"#00cc96\",\"#ab63fa\",\"#FFA15A\",\"#19d3f3\",\"#FF6692\",\"#B6E880\",\"#FF97FF\",\"#FECB52\"],\"font\":{\"color\":\"#2a3f5f\"},\"hovermode\":\"closest\",\"hoverlabel\":{\"align\":\"left\"},\"paper_bgcolor\":\"white\",\"plot_bgcolor\":\"#E5ECF6\",\"polar\":{\"bgcolor\":\"#E5ECF6\",\"angularaxis\":{\"gridcolor\":\"white\",\"linecolor\":\"white\",\"ticks\":\"\"},\"radialaxis\":{\"gridcolor\":\"white\",\"linecolor\":\"white\",\"ticks\":\"\"}},\"ternary\":{\"bgcolor\":\"#E5ECF6\",\"aaxis\":{\"gridcolor\":\"white\",\"linecolor\":\"white\",\"ticks\":\"\"},\"baxis\":{\"gridcolor\":\"white\",\"linecolor\":\"white\",\"ticks\":\"\"},\"caxis\":{\"gridcolor\":\"white\",\"linecolor\":\"white\",\"ticks\":\"\"}},\"coloraxis\":{\"colorbar\":{\"outlinewidth\":0,\"ticks\":\"\"}},\"colorscale\":{\"sequential\":[[0.0,\"#0d0887\"],[0.1111111111111111,\"#46039f\"],[0.2222222222222222,\"#7201a8\"],[0.3333333333333333,\"#9c179e\"],[0.4444444444444444,\"#bd3786\"],[0.5555555555555556,\"#d8576b\"],[0.6666666666666666,\"#ed7953\"],[0.7777777777777778,\"#fb9f3a\"],[0.8888888888888888,\"#fdca26\"],[1.0,\"#f0f921\"]],\"sequentialminus\":[[0.0,\"#0d0887\"],[0.1111111111111111,\"#46039f\"],[0.2222222222222222,\"#7201a8\"],[0.3333333333333333,\"#9c179e\"],[0.4444444444444444,\"#bd3786\"],[0.5555555555555556,\"#d8576b\"],[0.6666666666666666,\"#ed7953\"],[0.7777777777777778,\"#fb9f3a\"],[0.8888888888888888,\"#fdca26\"],[1.0,\"#f0f921\"]],\"diverging\":[[0,\"#8e0152\"],[0.1,\"#c51b7d\"],[0.2,\"#de77ae\"],[0.3,\"#f1b6da\"],[0.4,\"#fde0ef\"],[0.5,\"#f7f7f7\"],[0.6,\"#e6f5d0\"],[0.7,\"#b8e186\"],[0.8,\"#7fbc41\"],[0.9,\"#4d9221\"],[1,\"#276419\"]]},\"xaxis\":{\"gridcolor\":\"white\",\"linecolor\":\"white\",\"ticks\":\"\",\"title\":{\"standoff\":15},\"zerolinecolor\":\"white\",\"automargin\":true,\"zerolinewidth\":2},\"yaxis\":{\"gridcolor\":\"white\",\"linecolor\":\"white\",\"ticks\":\"\",\"title\":{\"standoff\":15},\"zerolinecolor\":\"white\",\"automargin\":true,\"zerolinewidth\":2},\"scene\":{\"xaxis\":{\"backgroundcolor\":\"#E5ECF6\",\"gridcolor\":\"white\",\"linecolor\":\"white\",\"showbackground\":true,\"ticks\":\"\",\"zerolinecolor\":\"white\",\"gridwidth\":2},\"yaxis\":{\"backgroundcolor\":\"#E5ECF6\",\"gridcolor\":\"white\",\"linecolor\":\"white\",\"showbackground\":true,\"ticks\":\"\",\"zerolinecolor\":\"white\",\"gridwidth\":2},\"zaxis\":{\"backgroundcolor\":\"#E5ECF6\",\"gridcolor\":\"white\",\"linecolor\":\"white\",\"showbackground\":true,\"ticks\":\"\",\"zerolinecolor\":\"white\",\"gridwidth\":2}},\"shapedefaults\":{\"line\":{\"color\":\"#2a3f5f\"}},\"annotationdefaults\":{\"arrowcolor\":\"#2a3f5f\",\"arrowhead\":0,\"arrowwidth\":1},\"geo\":{\"bgcolor\":\"white\",\"landcolor\":\"#E5ECF6\",\"subunitcolor\":\"white\",\"showland\":true,\"showlakes\":true,\"lakecolor\":\"white\"},\"title\":{\"x\":0.05},\"mapbox\":{\"style\":\"light\"}}},\"xaxis\":{\"anchor\":\"y\",\"domain\":[0.0,1.0]},\"yaxis\":{\"anchor\":\"x\",\"domain\":[0.0,1.0],\"title\":{\"text\":\"Fare\"}},\"legend\":{\"title\":{\"text\":\"Pclass\"},\"tracegroupgap\":0},\"title\":{\"text\":\"Detect Outliers of Fare\"},\"boxmode\":\"group\",\"height\":400,\"width\":700},                        {\"responsive\": true}                    ).then(function(){\n",
       "                            \n",
       "var gd = document.getElementById('cc77488d-b266-456f-b0d9-b821871ea669');\n",
       "var x = new MutationObserver(function (mutations, observer) {{\n",
       "        var display = window.getComputedStyle(gd).display;\n",
       "        if (!display || display === 'none') {{\n",
       "            console.log([gd, 'removed!']);\n",
       "            Plotly.purge(gd);\n",
       "            observer.disconnect();\n",
       "        }}\n",
       "}});\n",
       "\n",
       "// Listen for the removal of the full notebook cells\n",
       "var notebookContainer = gd.closest('#notebook-container');\n",
       "if (notebookContainer) {{\n",
       "    x.observe(notebookContainer, {childList: true});\n",
       "}}\n",
       "\n",
       "// Listen for the clearing of the current output cell\n",
       "var outputEl = gd.closest('.output');\n",
       "if (outputEl) {{\n",
       "    x.observe(outputEl, {childList: true});\n",
       "}}\n",
       "\n",
       "                        })                };                            </script>        </div>\n",
       "</body>\n",
       "</html>"
      ]
     },
     "metadata": {},
     "output_type": "display_data"
    }
   ],
   "source": [
    "# Detect the Outliers of Fare:  \n",
    "\n",
    "fig = px.box(data_frame=df,\n",
    "             y='Fare',\n",
    "             color='Pclass', \n",
    "             title='Detect Outliers of Fare', \n",
    "             width=700,\n",
    "             height=400)\n",
    "fig.show() "
   ]
  },
  {
   "cell_type": "code",
   "execution_count": 30,
   "id": "13a99236",
   "metadata": {
    "execution": {
     "iopub.execute_input": "2025-06-19T10:43:55.507428Z",
     "iopub.status.busy": "2025-06-19T10:43:55.506949Z",
     "iopub.status.idle": "2025-06-19T10:43:55.525048Z",
     "shell.execute_reply": "2025-06-19T10:43:55.523836Z"
    },
    "papermill": {
     "duration": 0.050497,
     "end_time": "2025-06-19T10:43:55.527645",
     "exception": false,
     "start_time": "2025-06-19T10:43:55.477148",
     "status": "completed"
    },
    "tags": []
   },
   "outputs": [
    {
     "data": {
      "text/html": [
       "<div>\n",
       "<style scoped>\n",
       "    .dataframe tbody tr th:only-of-type {\n",
       "        vertical-align: middle;\n",
       "    }\n",
       "\n",
       "    .dataframe tbody tr th {\n",
       "        vertical-align: top;\n",
       "    }\n",
       "\n",
       "    .dataframe thead th {\n",
       "        text-align: right;\n",
       "    }\n",
       "</style>\n",
       "<table border=\"1\" class=\"dataframe\">\n",
       "  <thead>\n",
       "    <tr style=\"text-align: right;\">\n",
       "      <th></th>\n",
       "      <th>Survived</th>\n",
       "      <th>Pclass</th>\n",
       "      <th>Name</th>\n",
       "      <th>Sex</th>\n",
       "      <th>Age</th>\n",
       "      <th>SibSp</th>\n",
       "      <th>Parch</th>\n",
       "      <th>Ticket</th>\n",
       "      <th>Fare</th>\n",
       "      <th>Cabin</th>\n",
       "      <th>Embarked</th>\n",
       "      <th>Age_pmm</th>\n",
       "      <th>Q</th>\n",
       "      <th>S</th>\n",
       "    </tr>\n",
       "  </thead>\n",
       "  <tbody>\n",
       "    <tr>\n",
       "      <th>258</th>\n",
       "      <td>1</td>\n",
       "      <td>1</td>\n",
       "      <td>Ward, Miss. Anna</td>\n",
       "      <td>1</td>\n",
       "      <td>35.0</td>\n",
       "      <td>0</td>\n",
       "      <td>0</td>\n",
       "      <td>PC 17755</td>\n",
       "      <td>512.3292</td>\n",
       "      <td>NaN</td>\n",
       "      <td>C</td>\n",
       "      <td>35.0</td>\n",
       "      <td>0</td>\n",
       "      <td>0</td>\n",
       "    </tr>\n",
       "    <tr>\n",
       "      <th>679</th>\n",
       "      <td>1</td>\n",
       "      <td>1</td>\n",
       "      <td>Cardeza, Mr. Thomas Drake Martinez</td>\n",
       "      <td>0</td>\n",
       "      <td>36.0</td>\n",
       "      <td>0</td>\n",
       "      <td>1</td>\n",
       "      <td>PC 17755</td>\n",
       "      <td>512.3292</td>\n",
       "      <td>B51 B53 B55</td>\n",
       "      <td>C</td>\n",
       "      <td>36.0</td>\n",
       "      <td>0</td>\n",
       "      <td>0</td>\n",
       "    </tr>\n",
       "    <tr>\n",
       "      <th>737</th>\n",
       "      <td>1</td>\n",
       "      <td>1</td>\n",
       "      <td>Lesurer, Mr. Gustave J</td>\n",
       "      <td>0</td>\n",
       "      <td>35.0</td>\n",
       "      <td>0</td>\n",
       "      <td>0</td>\n",
       "      <td>PC 17755</td>\n",
       "      <td>512.3292</td>\n",
       "      <td>B101</td>\n",
       "      <td>C</td>\n",
       "      <td>35.0</td>\n",
       "      <td>0</td>\n",
       "      <td>0</td>\n",
       "    </tr>\n",
       "  </tbody>\n",
       "</table>\n",
       "</div>"
      ],
      "text/plain": [
       "     Survived  Pclass                                Name  Sex   Age  SibSp  \\\n",
       "258         1       1                    Ward, Miss. Anna    1  35.0      0   \n",
       "679         1       1  Cardeza, Mr. Thomas Drake Martinez    0  36.0      0   \n",
       "737         1       1              Lesurer, Mr. Gustave J    0  35.0      0   \n",
       "\n",
       "     Parch    Ticket      Fare        Cabin Embarked  Age_pmm  Q  S  \n",
       "258      0  PC 17755  512.3292          NaN        C     35.0  0  0  \n",
       "679      1  PC 17755  512.3292  B51 B53 B55        C     36.0  0  0  \n",
       "737      0  PC 17755  512.3292         B101        C     35.0  0  0  "
      ]
     },
     "execution_count": 30,
     "metadata": {},
     "output_type": "execute_result"
    }
   ],
   "source": [
    "highest_fare = np.where(df['Fare']==df['Fare'].max())\n",
    "df.loc[highest_fare]"
   ]
  },
  {
   "cell_type": "markdown",
   "id": "ae9d8fe8",
   "metadata": {
    "papermill": {
     "duration": 0.029359,
     "end_time": "2025-06-19T10:43:55.588914",
     "exception": false,
     "start_time": "2025-06-19T10:43:55.559555",
     "status": "completed"
    },
    "tags": []
   },
   "source": [
    "### 📝 ***Note*** :  \n",
    "\n",
    "* **I found that the highest fare in Class2 and Class3 would not be more than 70.**\n",
    "* **The shape of Fare in Class2 exhibated a bimodal distribution.**\n",
    "* **The highest fares were three people from Class1 and they were all saved.**"
   ]
  },
  {
   "cell_type": "markdown",
   "id": "732f862e",
   "metadata": {
    "papermill": {
     "duration": 0.029334,
     "end_time": "2025-06-19T10:43:55.648073",
     "exception": false,
     "start_time": "2025-06-19T10:43:55.618739",
     "status": "completed"
    },
    "tags": []
   },
   "source": [
    "# 🎥   ***Feature Engineering & Statistical Analysis***   "
   ]
  },
  {
   "cell_type": "code",
   "execution_count": 31,
   "id": "b927d5a5",
   "metadata": {
    "execution": {
     "iopub.execute_input": "2025-06-19T10:43:55.708672Z",
     "iopub.status.busy": "2025-06-19T10:43:55.708133Z",
     "iopub.status.idle": "2025-06-19T10:43:55.721650Z",
     "shell.execute_reply": "2025-06-19T10:43:55.719992Z"
    },
    "papermill": {
     "duration": 0.047357,
     "end_time": "2025-06-19T10:43:55.724530",
     "exception": false,
     "start_time": "2025-06-19T10:43:55.677173",
     "status": "completed"
    },
    "tags": []
   },
   "outputs": [
    {
     "name": "stdout",
     "output_type": "stream",
     "text": [
      "<class 'pandas.core.frame.DataFrame'>\n",
      "RangeIndex: 891 entries, 0 to 890\n",
      "Data columns (total 14 columns):\n",
      " #   Column    Non-Null Count  Dtype  \n",
      "---  ------    --------------  -----  \n",
      " 0   Survived  891 non-null    int64  \n",
      " 1   Pclass    891 non-null    int64  \n",
      " 2   Name      891 non-null    object \n",
      " 3   Sex       891 non-null    int64  \n",
      " 4   Age       714 non-null    float64\n",
      " 5   SibSp     891 non-null    int64  \n",
      " 6   Parch     891 non-null    int64  \n",
      " 7   Ticket    891 non-null    object \n",
      " 8   Fare      891 non-null    float64\n",
      " 9   Cabin     204 non-null    object \n",
      " 10  Embarked  889 non-null    object \n",
      " 11  Age_pmm   891 non-null    float64\n",
      " 12  Q         891 non-null    int64  \n",
      " 13  S         891 non-null    int64  \n",
      "dtypes: float64(3), int64(7), object(4)\n",
      "memory usage: 97.6+ KB\n"
     ]
    }
   ],
   "source": [
    "df.info()  "
   ]
  },
  {
   "cell_type": "markdown",
   "id": "266e9cac",
   "metadata": {
    "papermill": {
     "duration": 0.034816,
     "end_time": "2025-06-19T10:43:55.800148",
     "exception": false,
     "start_time": "2025-06-19T10:43:55.765332",
     "status": "completed"
    },
    "tags": []
   },
   "source": [
    "### 1. 🔨 **Age Binning**  "
   ]
  },
  {
   "cell_type": "code",
   "execution_count": 32,
   "id": "863104a2",
   "metadata": {
    "execution": {
     "iopub.execute_input": "2025-06-19T10:43:55.860400Z",
     "iopub.status.busy": "2025-06-19T10:43:55.859982Z",
     "iopub.status.idle": "2025-06-19T10:43:55.882055Z",
     "shell.execute_reply": "2025-06-19T10:43:55.880853Z"
    },
    "papermill": {
     "duration": 0.054134,
     "end_time": "2025-06-19T10:43:55.883853",
     "exception": false,
     "start_time": "2025-06-19T10:43:55.829719",
     "status": "completed"
    },
    "tags": []
   },
   "outputs": [
    {
     "data": {
      "text/html": [
       "<div>\n",
       "<style scoped>\n",
       "    .dataframe tbody tr th:only-of-type {\n",
       "        vertical-align: middle;\n",
       "    }\n",
       "\n",
       "    .dataframe tbody tr th {\n",
       "        vertical-align: top;\n",
       "    }\n",
       "\n",
       "    .dataframe thead th {\n",
       "        text-align: right;\n",
       "    }\n",
       "</style>\n",
       "<table border=\"1\" class=\"dataframe\">\n",
       "  <thead>\n",
       "    <tr style=\"text-align: right;\">\n",
       "      <th></th>\n",
       "      <th>Survived</th>\n",
       "      <th>Pclass</th>\n",
       "      <th>Name</th>\n",
       "      <th>Sex</th>\n",
       "      <th>Age</th>\n",
       "      <th>SibSp</th>\n",
       "      <th>Parch</th>\n",
       "      <th>Ticket</th>\n",
       "      <th>Fare</th>\n",
       "      <th>Cabin</th>\n",
       "      <th>Embarked</th>\n",
       "      <th>Age_pmm</th>\n",
       "      <th>Q</th>\n",
       "      <th>S</th>\n",
       "      <th>Age_Band</th>\n",
       "    </tr>\n",
       "  </thead>\n",
       "  <tbody>\n",
       "    <tr>\n",
       "      <th>524</th>\n",
       "      <td>0</td>\n",
       "      <td>3</td>\n",
       "      <td>Kassem, Mr. Fared</td>\n",
       "      <td>0</td>\n",
       "      <td>NaN</td>\n",
       "      <td>0</td>\n",
       "      <td>0</td>\n",
       "      <td>2700</td>\n",
       "      <td>7.2292</td>\n",
       "      <td>NaN</td>\n",
       "      <td>C</td>\n",
       "      <td>26.553646</td>\n",
       "      <td>0</td>\n",
       "      <td>0</td>\n",
       "      <td>2</td>\n",
       "    </tr>\n",
       "    <tr>\n",
       "      <th>99</th>\n",
       "      <td>0</td>\n",
       "      <td>2</td>\n",
       "      <td>Kantor, Mr. Sinai</td>\n",
       "      <td>0</td>\n",
       "      <td>34.0</td>\n",
       "      <td>1</td>\n",
       "      <td>0</td>\n",
       "      <td>244367</td>\n",
       "      <td>26.0000</td>\n",
       "      <td>NaN</td>\n",
       "      <td>S</td>\n",
       "      <td>34.000000</td>\n",
       "      <td>0</td>\n",
       "      <td>1</td>\n",
       "      <td>2</td>\n",
       "    </tr>\n",
       "  </tbody>\n",
       "</table>\n",
       "</div>"
      ],
      "text/plain": [
       "     Survived  Pclass               Name  Sex   Age  SibSp  Parch  Ticket  \\\n",
       "524         0       3  Kassem, Mr. Fared    0   NaN      0      0    2700   \n",
       "99          0       2  Kantor, Mr. Sinai    0  34.0      1      0  244367   \n",
       "\n",
       "        Fare Cabin Embarked    Age_pmm  Q  S  Age_Band  \n",
       "524   7.2292   NaN        C  26.553646  0  0         2  \n",
       "99   26.0000   NaN        S  34.000000  0  1         2  "
      ]
     },
     "execution_count": 32,
     "metadata": {},
     "output_type": "execute_result"
    }
   ],
   "source": [
    "df['Age_Band']=0 \n",
    "df.loc[df['Age_pmm']<12, 'Age_Band'] = 0                                     # Infancy --> Late Childhood  \n",
    "df.loc[(df['Age_pmm']>=12) & (df['Age_pmm']<25), 'Age_Band'] = 1             # Late Childhood --> Emerging Adulthood \n",
    "df.loc[(df['Age_pmm']>=25) & (df['Age_pmm']<40), 'Age_Band'] = 2             # Emerging Adulthood --> Early Adulthood \n",
    "df.loc[(df['Age_pmm']>=40) & (df['Age_pmm']<60), 'Age_Band'] = 3             # Early Adulthood --> Middle Adulthood\n",
    "df.loc[df['Age_pmm']>60, 'Age_Band'] = 4                                     # Middle Adulthood --> Late Adulthood  \n",
    "\n",
    "\n",
    "# check: \n",
    "df.sample(2) "
   ]
  },
  {
   "cell_type": "code",
   "execution_count": 33,
   "id": "82c84e6f",
   "metadata": {
    "execution": {
     "iopub.execute_input": "2025-06-19T10:43:55.944788Z",
     "iopub.status.busy": "2025-06-19T10:43:55.944447Z",
     "iopub.status.idle": "2025-06-19T10:43:56.169330Z",
     "shell.execute_reply": "2025-06-19T10:43:56.168200Z"
    },
    "papermill": {
     "duration": 0.257719,
     "end_time": "2025-06-19T10:43:56.171719",
     "exception": false,
     "start_time": "2025-06-19T10:43:55.914000",
     "status": "completed"
    },
    "tags": []
   },
   "outputs": [
    {
     "data": {
      "text/plain": [
       "<Axes: xlabel='Age_Band'>"
      ]
     },
     "execution_count": 33,
     "metadata": {},
     "output_type": "execute_result"
    },
    {
     "data": {
      "image/png": "[encoded data removed]",
      "text/plain": [
       "<Figure size 640x480 with 1 Axes>"
      ]
     },
     "metadata": {},
     "output_type": "display_data"
    }
   ],
   "source": [
    "df.groupby('Age_Band')['Survived'].mean().plot(kind='bar',\n",
    "                                               width=0.7) \n"
   ]
  },
  {
   "cell_type": "markdown",
   "id": "a40fadf4",
   "metadata": {
    "papermill": {
     "duration": 0.032044,
     "end_time": "2025-06-19T10:43:56.240706",
     "exception": false,
     "start_time": "2025-06-19T10:43:56.208662",
     "status": "completed"
    },
    "tags": []
   },
   "source": [
    "### 2. 🛠️ ***Feature Engineering of Ticket*** : "
   ]
  },
  {
   "cell_type": "markdown",
   "id": "aab44e46",
   "metadata": {
    "papermill": {
     "duration": 0.029833,
     "end_time": "2025-06-19T10:43:56.302174",
     "exception": false,
     "start_time": "2025-06-19T10:43:56.272341",
     "status": "completed"
    },
    "tags": []
   },
   "source": [
    "\n",
    "        1. Extract prefix from tickets containing letters. \n",
    "        \n",
    "        2. Create a new column that transforms prefixes to numeric values according to the mean of 'Survived' group by Passenger Class and Ticket_Prefix. \n",
    "        \n",
    "        3. Create a boolean column indicating if the ticket is purely numeric.\n",
    "        \n",
    "        4. Count the frequency of each ticket.  "
   ]
  },
  {
   "cell_type": "code",
   "execution_count": 34,
   "id": "d004840b",
   "metadata": {
    "execution": {
     "iopub.execute_input": "2025-06-19T10:43:56.371829Z",
     "iopub.status.busy": "2025-06-19T10:43:56.371456Z",
     "iopub.status.idle": "2025-06-19T10:43:56.385506Z",
     "shell.execute_reply": "2025-06-19T10:43:56.384244Z"
    },
    "papermill": {
     "duration": 0.050214,
     "end_time": "2025-06-19T10:43:56.387782",
     "exception": false,
     "start_time": "2025-06-19T10:43:56.337568",
     "status": "completed"
    },
    "tags": []
   },
   "outputs": [],
   "source": [
    "def extract_prefix(ticket):\n",
    "    parts = ticket.replace('.', '').replace('/', '').split() \n",
    "    prefix = [p for p in parts if not p.isdigit()] \n",
    "    return prefix[0] if prefix else 'None' \n",
    "\n",
    "df['Ticket_Prefix'] = df['Ticket'].apply(extract_prefix) \n",
    "\n",
    "df['Pclass_Prefix_Survival_Rate']= df.groupby(['Pclass', 'Ticket_Prefix'])['Survived'].transform('mean')\n",
    "\n",
    "df['Ticket_IsNumeric'] = df['Ticket'].apply(lambda x: x.isdigit()).astype(int)\n",
    "\n",
    "ticket_counts = df['Ticket'].value_counts() \n",
    "df['Ticket_Frequency'] = df['Ticket'].map(ticket_counts)     "
   ]
  },
  {
   "cell_type": "markdown",
   "id": "79a9eeb3",
   "metadata": {
    "papermill": {
     "duration": 0.029971,
     "end_time": "2025-06-19T10:43:56.465570",
     "exception": false,
     "start_time": "2025-06-19T10:43:56.435599",
     "status": "completed"
    },
    "tags": []
   },
   "source": [
    "### 3. 🛠️ **Fare Binning**  "
   ]
  },
  {
   "cell_type": "markdown",
   "id": "bb2005e4",
   "metadata": {
    "papermill": {
     "duration": 0.030214,
     "end_time": "2025-06-19T10:43:56.526613",
     "exception": false,
     "start_time": "2025-06-19T10:43:56.496399",
     "status": "completed"
    },
    "tags": []
   },
   "source": [
    "This method of binning is from the insights from histgrams above where the distribution of fare group by class."
   ]
  },
  {
   "cell_type": "code",
   "execution_count": 35,
   "id": "50b798a1",
   "metadata": {
    "execution": {
     "iopub.execute_input": "2025-06-19T10:43:56.599340Z",
     "iopub.status.busy": "2025-06-19T10:43:56.598856Z",
     "iopub.status.idle": "2025-06-19T10:43:56.615923Z",
     "shell.execute_reply": "2025-06-19T10:43:56.614280Z"
    },
    "papermill": {
     "duration": 0.054325,
     "end_time": "2025-06-19T10:43:56.618867",
     "exception": false,
     "start_time": "2025-06-19T10:43:56.564542",
     "status": "completed"
    },
    "tags": []
   },
   "outputs": [],
   "source": [
    "df['Fare_Range'] = pd.qcut(df['Fare'],4)  "
   ]
  },
  {
   "cell_type": "code",
   "execution_count": 36,
   "id": "403988fa",
   "metadata": {
    "execution": {
     "iopub.execute_input": "2025-06-19T10:43:56.687112Z",
     "iopub.status.busy": "2025-06-19T10:43:56.686779Z",
     "iopub.status.idle": "2025-06-19T10:43:56.697061Z",
     "shell.execute_reply": "2025-06-19T10:43:56.695945Z"
    },
    "papermill": {
     "duration": 0.044753,
     "end_time": "2025-06-19T10:43:56.698853",
     "exception": false,
     "start_time": "2025-06-19T10:43:56.654100",
     "status": "completed"
    },
    "tags": []
   },
   "outputs": [],
   "source": [
    "df['Fare_Band'] = 0 \n",
    "\n",
    "df.loc[df['Fare']<=7.91, 'Fare_Band'] = 0 \n",
    "df.loc[(df['Fare']>7.91) & (df['Fare']<=14.454), 'Fare_Band'] = 1 \n",
    "df.loc[(df['Fare']>14.454) & (df['Fare']<=31.0), 'Fare_Band'] = 2\n",
    "df.loc[(df['Fare']>31.0) & (df['Fare']<=512.329), 'Fare_Band'] = 3 "
   ]
  },
  {
   "cell_type": "code",
   "execution_count": 37,
   "id": "ba238790",
   "metadata": {
    "execution": {
     "iopub.execute_input": "2025-06-19T10:43:56.763164Z",
     "iopub.status.busy": "2025-06-19T10:43:56.762809Z",
     "iopub.status.idle": "2025-06-19T10:43:56.785680Z",
     "shell.execute_reply": "2025-06-19T10:43:56.784306Z"
    },
    "papermill": {
     "duration": 0.057396,
     "end_time": "2025-06-19T10:43:56.787484",
     "exception": false,
     "start_time": "2025-06-19T10:43:56.730088",
     "status": "completed"
    },
    "tags": []
   },
   "outputs": [
    {
     "data": {
      "text/html": [
       "<div>\n",
       "<style scoped>\n",
       "    .dataframe tbody tr th:only-of-type {\n",
       "        vertical-align: middle;\n",
       "    }\n",
       "\n",
       "    .dataframe tbody tr th {\n",
       "        vertical-align: top;\n",
       "    }\n",
       "\n",
       "    .dataframe thead th {\n",
       "        text-align: right;\n",
       "    }\n",
       "</style>\n",
       "<table border=\"1\" class=\"dataframe\">\n",
       "  <thead>\n",
       "    <tr style=\"text-align: right;\">\n",
       "      <th></th>\n",
       "      <th>Survived</th>\n",
       "      <th>Pclass</th>\n",
       "      <th>Name</th>\n",
       "      <th>Sex</th>\n",
       "      <th>Age</th>\n",
       "      <th>SibSp</th>\n",
       "      <th>Parch</th>\n",
       "      <th>Ticket</th>\n",
       "      <th>Fare</th>\n",
       "      <th>Cabin</th>\n",
       "      <th>...</th>\n",
       "      <th>Age_pmm</th>\n",
       "      <th>Q</th>\n",
       "      <th>S</th>\n",
       "      <th>Age_Band</th>\n",
       "      <th>Ticket_Prefix</th>\n",
       "      <th>Pclass_Prefix_Survival_Rate</th>\n",
       "      <th>Ticket_IsNumeric</th>\n",
       "      <th>Ticket_Frequency</th>\n",
       "      <th>Fare_Range</th>\n",
       "      <th>Fare_Band</th>\n",
       "    </tr>\n",
       "  </thead>\n",
       "  <tbody>\n",
       "    <tr>\n",
       "      <th>116</th>\n",
       "      <td>0</td>\n",
       "      <td>3</td>\n",
       "      <td>Connors, Mr. Patrick</td>\n",
       "      <td>0</td>\n",
       "      <td>70.5</td>\n",
       "      <td>0</td>\n",
       "      <td>0</td>\n",
       "      <td>370369</td>\n",
       "      <td>7.750</td>\n",
       "      <td>NaN</td>\n",
       "      <td>...</td>\n",
       "      <td>70.5</td>\n",
       "      <td>1</td>\n",
       "      <td>0</td>\n",
       "      <td>4</td>\n",
       "      <td>None</td>\n",
       "      <td>0.253927</td>\n",
       "      <td>1</td>\n",
       "      <td>1</td>\n",
       "      <td>(-0.001, 7.91]</td>\n",
       "      <td>0</td>\n",
       "    </tr>\n",
       "    <tr>\n",
       "      <th>719</th>\n",
       "      <td>0</td>\n",
       "      <td>3</td>\n",
       "      <td>Johnson, Mr. Malkolm Joackim</td>\n",
       "      <td>0</td>\n",
       "      <td>33.0</td>\n",
       "      <td>0</td>\n",
       "      <td>0</td>\n",
       "      <td>347062</td>\n",
       "      <td>7.775</td>\n",
       "      <td>NaN</td>\n",
       "      <td>...</td>\n",
       "      <td>33.0</td>\n",
       "      <td>0</td>\n",
       "      <td>1</td>\n",
       "      <td>2</td>\n",
       "      <td>None</td>\n",
       "      <td>0.253927</td>\n",
       "      <td>1</td>\n",
       "      <td>1</td>\n",
       "      <td>(-0.001, 7.91]</td>\n",
       "      <td>0</td>\n",
       "    </tr>\n",
       "  </tbody>\n",
       "</table>\n",
       "<p>2 rows × 21 columns</p>\n",
       "</div>"
      ],
      "text/plain": [
       "     Survived  Pclass                          Name  Sex   Age  SibSp  Parch  \\\n",
       "116         0       3          Connors, Mr. Patrick    0  70.5      0      0   \n",
       "719         0       3  Johnson, Mr. Malkolm Joackim    0  33.0      0      0   \n",
       "\n",
       "     Ticket   Fare Cabin  ... Age_pmm  Q  S  Age_Band  Ticket_Prefix  \\\n",
       "116  370369  7.750   NaN  ...    70.5  1  0         4           None   \n",
       "719  347062  7.775   NaN  ...    33.0  0  1         2           None   \n",
       "\n",
       "    Pclass_Prefix_Survival_Rate  Ticket_IsNumeric  Ticket_Frequency  \\\n",
       "116                    0.253927                 1                 1   \n",
       "719                    0.253927                 1                 1   \n",
       "\n",
       "         Fare_Range Fare_Band  \n",
       "116  (-0.001, 7.91]         0  \n",
       "719  (-0.001, 7.91]         0  \n",
       "\n",
       "[2 rows x 21 columns]"
      ]
     },
     "execution_count": 37,
     "metadata": {},
     "output_type": "execute_result"
    }
   ],
   "source": [
    "df.sample(2)"
   ]
  },
  {
   "cell_type": "code",
   "execution_count": 38,
   "id": "f2835b7b",
   "metadata": {
    "execution": {
     "iopub.execute_input": "2025-06-19T10:43:56.852940Z",
     "iopub.status.busy": "2025-06-19T10:43:56.852489Z",
     "iopub.status.idle": "2025-06-19T10:43:57.067632Z",
     "shell.execute_reply": "2025-06-19T10:43:57.066380Z"
    },
    "papermill": {
     "duration": 0.25054,
     "end_time": "2025-06-19T10:43:57.070354",
     "exception": false,
     "start_time": "2025-06-19T10:43:56.819814",
     "status": "completed"
    },
    "tags": []
   },
   "outputs": [
    {
     "data": {
      "text/plain": [
       "<Axes: xlabel='Fare_Band'>"
      ]
     },
     "execution_count": 38,
     "metadata": {},
     "output_type": "execute_result"
    },
    {
     "data": {
      "image/png": "[encoded data removed]",
      "text/plain": [
       "<Figure size 640x480 with 1 Axes>"
      ]
     },
     "metadata": {},
     "output_type": "display_data"
    }
   ],
   "source": [
    "# the relationship between Fare Band and Survival Status: \n",
    "\n",
    "df.groupby(['Fare_Band'])['Survived'].mean().plot(kind='bar',\n",
    "                                                  width=0.7) "
   ]
  },
  {
   "cell_type": "markdown",
   "id": "001d170f",
   "metadata": {
    "papermill": {
     "duration": 0.031031,
     "end_time": "2025-06-19T10:43:57.140785",
     "exception": false,
     "start_time": "2025-06-19T10:43:57.109754",
     "status": "completed"
    },
    "tags": []
   },
   "source": [
    " ### **🛠️ 4. Create a new feature: Has_Cabin**  "
   ]
  },
  {
   "cell_type": "code",
   "execution_count": 39,
   "id": "9cd62ecb",
   "metadata": {
    "execution": {
     "iopub.execute_input": "2025-06-19T10:43:57.205102Z",
     "iopub.status.busy": "2025-06-19T10:43:57.204637Z",
     "iopub.status.idle": "2025-06-19T10:43:57.211543Z",
     "shell.execute_reply": "2025-06-19T10:43:57.210280Z"
    },
    "papermill": {
     "duration": 0.04097,
     "end_time": "2025-06-19T10:43:57.213365",
     "exception": false,
     "start_time": "2025-06-19T10:43:57.172395",
     "status": "completed"
    },
    "tags": []
   },
   "outputs": [],
   "source": [
    "df['Has_Cabin'] = df['Cabin'].notna().astype(int)         "
   ]
  },
  {
   "cell_type": "code",
   "execution_count": 40,
   "id": "f0000159",
   "metadata": {
    "execution": {
     "iopub.execute_input": "2025-06-19T10:43:57.277931Z",
     "iopub.status.busy": "2025-06-19T10:43:57.277468Z",
     "iopub.status.idle": "2025-06-19T10:43:57.538147Z",
     "shell.execute_reply": "2025-06-19T10:43:57.536868Z"
    },
    "papermill": {
     "duration": 0.295114,
     "end_time": "2025-06-19T10:43:57.539978",
     "exception": false,
     "start_time": "2025-06-19T10:43:57.244864",
     "status": "completed"
    },
    "tags": []
   },
   "outputs": [
    {
     "data": {
      "image/png": "[encoded data removed]",
      "text/plain": [
       "<Figure size 640x480 with 1 Axes>"
      ]
     },
     "metadata": {},
     "output_type": "display_data"
    }
   ],
   "source": [
    "sns.barplot(data=df,\n",
    "            x = 'Pclass', \n",
    "            y = 'Has_Cabin') \n",
    "\n",
    "plt.title('Has_Cabin vs. Pclass',\n",
    "          fontweight='bold') \n",
    "plt.show() "
   ]
  },
  {
   "cell_type": "code",
   "execution_count": 41,
   "id": "55b989e4",
   "metadata": {
    "execution": {
     "iopub.execute_input": "2025-06-19T10:43:57.604313Z",
     "iopub.status.busy": "2025-06-19T10:43:57.603931Z",
     "iopub.status.idle": "2025-06-19T10:43:57.887830Z",
     "shell.execute_reply": "2025-06-19T10:43:57.886687Z"
    },
    "papermill": {
     "duration": 0.317949,
     "end_time": "2025-06-19T10:43:57.889732",
     "exception": false,
     "start_time": "2025-06-19T10:43:57.571783",
     "status": "completed"
    },
    "tags": []
   },
   "outputs": [
    {
     "name": "stdout",
     "output_type": "stream",
     "text": [
      "\n",
      " === Contingency Table === \n",
      "\n",
      "Survived     0    1\n",
      "Has_Cabin          \n",
      "0          481  206\n",
      "1           68  136 \n",
      "\n"
     ]
    },
    {
     "data": {
      "image/png": "[encoded data removed]",
      "text/plain": [
       "<Figure size 700x500 with 2 Axes>"
      ]
     },
     "metadata": {},
     "output_type": "display_data"
    },
    {
     "name": "stdout",
     "output_type": "stream",
     "text": [
      "- Chi-square statistics:  87.9415\n",
      "- P_value: 0.0000\n",
      "- Degrees of freedom: 1\n",
      "- Expected frequency: \n",
      " [[423.3030303 263.6969697]\n",
      " [125.6969697  78.3030303]]\n"
     ]
    }
   ],
   "source": [
    "contingency_table = pd.crosstab(df['Has_Cabin'], df['Survived']) \n",
    "print('\\n === Contingency Table === \\n') \n",
    "print(contingency_table, '\\n')\n",
    "\n",
    "\n",
    "plt.figure(figsize=(7,5))  \n",
    "\n",
    "sns.heatmap(contingency_table, annot=True, fmt='d', cmap='Blues') \n",
    "\n",
    "plt.title('Has_Cabin vs. Survival Status') \n",
    "plt.show() \n",
    "\n",
    "chi2, p, dof, expected = chi2_contingency(contingency_table)\n",
    "print(f'- Chi-square statistics: {chi2: .4f}') \n",
    "print(f'- P_value: {p:.4f}') \n",
    "print(f'- Degrees of freedom: {dof}') \n",
    "print(f'- Expected frequency: \\n {expected}')  "
   ]
  },
  {
   "cell_type": "markdown",
   "id": "890e1586",
   "metadata": {
    "papermill": {
     "duration": 0.030812,
     "end_time": "2025-06-19T10:43:57.952886",
     "exception": false,
     "start_time": "2025-06-19T10:43:57.922074",
     "status": "completed"
    },
    "tags": []
   },
   "source": [
    "### **🛠️ 5. Create a new feature: Family** "
   ]
  },
  {
   "cell_type": "code",
   "execution_count": 42,
   "id": "e39f2a86",
   "metadata": {
    "execution": {
     "iopub.execute_input": "2025-06-19T10:43:58.017510Z",
     "iopub.status.busy": "2025-06-19T10:43:58.017068Z",
     "iopub.status.idle": "2025-06-19T10:43:58.031218Z",
     "shell.execute_reply": "2025-06-19T10:43:58.030125Z"
    },
    "papermill": {
     "duration": 0.048711,
     "end_time": "2025-06-19T10:43:58.033165",
     "exception": false,
     "start_time": "2025-06-19T10:43:57.984454",
     "status": "completed"
    },
    "tags": []
   },
   "outputs": [
    {
     "data": {
      "text/html": [
       "<div>\n",
       "<style scoped>\n",
       "    .dataframe tbody tr th:only-of-type {\n",
       "        vertical-align: middle;\n",
       "    }\n",
       "\n",
       "    .dataframe tbody tr th {\n",
       "        vertical-align: top;\n",
       "    }\n",
       "\n",
       "    .dataframe thead th {\n",
       "        text-align: right;\n",
       "    }\n",
       "</style>\n",
       "<table border=\"1\" class=\"dataframe\">\n",
       "  <thead>\n",
       "    <tr style=\"text-align: right;\">\n",
       "      <th></th>\n",
       "      <th>Name</th>\n",
       "      <th>Pclass</th>\n",
       "      <th>Family</th>\n",
       "      <th>Survived</th>\n",
       "    </tr>\n",
       "  </thead>\n",
       "  <tbody>\n",
       "    <tr>\n",
       "      <th>159</th>\n",
       "      <td>Sage, Master. Thomas Henry</td>\n",
       "      <td>3</td>\n",
       "      <td>11</td>\n",
       "      <td>0</td>\n",
       "    </tr>\n",
       "    <tr>\n",
       "      <th>180</th>\n",
       "      <td>Sage, Miss. Constance Gladys</td>\n",
       "      <td>3</td>\n",
       "      <td>11</td>\n",
       "      <td>0</td>\n",
       "    </tr>\n",
       "    <tr>\n",
       "      <th>201</th>\n",
       "      <td>Sage, Mr. Frederick</td>\n",
       "      <td>3</td>\n",
       "      <td>11</td>\n",
       "      <td>0</td>\n",
       "    </tr>\n",
       "    <tr>\n",
       "      <th>324</th>\n",
       "      <td>Sage, Mr. George John Jr</td>\n",
       "      <td>3</td>\n",
       "      <td>11</td>\n",
       "      <td>0</td>\n",
       "    </tr>\n",
       "    <tr>\n",
       "      <th>792</th>\n",
       "      <td>Sage, Miss. Stella Anna</td>\n",
       "      <td>3</td>\n",
       "      <td>11</td>\n",
       "      <td>0</td>\n",
       "    </tr>\n",
       "    <tr>\n",
       "      <th>846</th>\n",
       "      <td>Sage, Mr. Douglas Bullen</td>\n",
       "      <td>3</td>\n",
       "      <td>11</td>\n",
       "      <td>0</td>\n",
       "    </tr>\n",
       "    <tr>\n",
       "      <th>863</th>\n",
       "      <td>Sage, Miss. Dorothy Edith \"Dolly\"</td>\n",
       "      <td>3</td>\n",
       "      <td>11</td>\n",
       "      <td>0</td>\n",
       "    </tr>\n",
       "  </tbody>\n",
       "</table>\n",
       "</div>"
      ],
      "text/plain": [
       "                                  Name  Pclass  Family  Survived\n",
       "159         Sage, Master. Thomas Henry       3      11         0\n",
       "180       Sage, Miss. Constance Gladys       3      11         0\n",
       "201                Sage, Mr. Frederick       3      11         0\n",
       "324           Sage, Mr. George John Jr       3      11         0\n",
       "792            Sage, Miss. Stella Anna       3      11         0\n",
       "846           Sage, Mr. Douglas Bullen       3      11         0\n",
       "863  Sage, Miss. Dorothy Edith \"Dolly\"       3      11         0"
      ]
     },
     "execution_count": 42,
     "metadata": {},
     "output_type": "execute_result"
    }
   ],
   "source": [
    "df['Family'] = df['SibSp'] + df['Parch'] + 1 \n",
    "\n",
    "most_family = np.where(df['Family'] == max(df['Family'])) \n",
    "df[['Name', 'Pclass', 'Family', 'Survived']].loc[most_family]        \n"
   ]
  },
  {
   "cell_type": "code",
   "execution_count": 43,
   "id": "9fc3e7c4",
   "metadata": {
    "execution": {
     "iopub.execute_input": "2025-06-19T10:43:58.100736Z",
     "iopub.status.busy": "2025-06-19T10:43:58.100356Z",
     "iopub.status.idle": "2025-06-19T10:43:58.115385Z",
     "shell.execute_reply": "2025-06-19T10:43:58.114085Z"
    },
    "papermill": {
     "duration": 0.050236,
     "end_time": "2025-06-19T10:43:58.117066",
     "exception": false,
     "start_time": "2025-06-19T10:43:58.066830",
     "status": "completed"
    },
    "tags": []
   },
   "outputs": [
    {
     "name": "stdout",
     "output_type": "stream",
     "text": [
      "<class 'pandas.core.frame.DataFrame'>\n",
      "RangeIndex: 891 entries, 0 to 890\n",
      "Data columns (total 23 columns):\n",
      " #   Column                       Non-Null Count  Dtype   \n",
      "---  ------                       --------------  -----   \n",
      " 0   Survived                     891 non-null    int64   \n",
      " 1   Pclass                       891 non-null    int64   \n",
      " 2   Name                         891 non-null    object  \n",
      " 3   Sex                          891 non-null    int64   \n",
      " 4   Age                          714 non-null    float64 \n",
      " 5   SibSp                        891 non-null    int64   \n",
      " 6   Parch                        891 non-null    int64   \n",
      " 7   Ticket                       891 non-null    object  \n",
      " 8   Fare                         891 non-null    float64 \n",
      " 9   Cabin                        204 non-null    object  \n",
      " 10  Embarked                     889 non-null    object  \n",
      " 11  Age_pmm                      891 non-null    float64 \n",
      " 12  Q                            891 non-null    int64   \n",
      " 13  S                            891 non-null    int64   \n",
      " 14  Age_Band                     891 non-null    int64   \n",
      " 15  Ticket_Prefix                891 non-null    object  \n",
      " 16  Pclass_Prefix_Survival_Rate  891 non-null    float64 \n",
      " 17  Ticket_IsNumeric             891 non-null    int64   \n",
      " 18  Ticket_Frequency             891 non-null    int64   \n",
      " 19  Fare_Range                   891 non-null    category\n",
      " 20  Fare_Band                    891 non-null    int64   \n",
      " 21  Has_Cabin                    891 non-null    int64   \n",
      " 22  Family                       891 non-null    int64   \n",
      "dtypes: category(1), float64(4), int64(13), object(5)\n",
      "memory usage: 154.4+ KB\n"
     ]
    }
   ],
   "source": [
    "df.info() "
   ]
  },
  {
   "cell_type": "markdown",
   "id": "ab162b75",
   "metadata": {
    "papermill": {
     "duration": 0.032801,
     "end_time": "2025-06-19T10:43:58.182878",
     "exception": false,
     "start_time": "2025-06-19T10:43:58.150077",
     "status": "completed"
    },
    "tags": []
   },
   "source": [
    "### **🛠️ 6. Drop Unwanted Features** "
   ]
  },
  {
   "cell_type": "code",
   "execution_count": 44,
   "id": "723c0aac",
   "metadata": {
    "execution": {
     "iopub.execute_input": "2025-06-19T10:43:58.248920Z",
     "iopub.status.busy": "2025-06-19T10:43:58.248553Z",
     "iopub.status.idle": "2025-06-19T10:43:58.254681Z",
     "shell.execute_reply": "2025-06-19T10:43:58.253465Z"
    },
    "papermill": {
     "duration": 0.041087,
     "end_time": "2025-06-19T10:43:58.256554",
     "exception": false,
     "start_time": "2025-06-19T10:43:58.215467",
     "status": "completed"
    },
    "tags": []
   },
   "outputs": [],
   "source": [
    "df.drop(['Name','Embarked','Age','Ticket', 'Fare', 'Cabin', 'Embarked', 'Age_pmm', 'Ticket_Prefix','Fare_Range'],\n",
    "        axis=1, inplace=True)       "
   ]
  },
  {
   "cell_type": "markdown",
   "id": "b713514b",
   "metadata": {
    "papermill": {
     "duration": 0.03263,
     "end_time": "2025-06-19T10:43:58.320950",
     "exception": false,
     "start_time": "2025-06-19T10:43:58.288320",
     "status": "completed"
    },
    "tags": []
   },
   "source": [
    "# 🤖   ***Machine Learning***   "
   ]
  },
  {
   "cell_type": "code",
   "execution_count": 45,
   "id": "f3e71d6d",
   "metadata": {
    "execution": {
     "iopub.execute_input": "2025-06-19T10:43:58.387084Z",
     "iopub.status.busy": "2025-06-19T10:43:58.386691Z",
     "iopub.status.idle": "2025-06-19T10:43:58.398061Z",
     "shell.execute_reply": "2025-06-19T10:43:58.396738Z"
    },
    "papermill": {
     "duration": 0.046753,
     "end_time": "2025-06-19T10:43:58.399902",
     "exception": false,
     "start_time": "2025-06-19T10:43:58.353149",
     "status": "completed"
    },
    "tags": []
   },
   "outputs": [
    {
     "name": "stdout",
     "output_type": "stream",
     "text": [
      "<class 'pandas.core.frame.DataFrame'>\n",
      "RangeIndex: 891 entries, 0 to 890\n",
      "Data columns (total 14 columns):\n",
      " #   Column                       Non-Null Count  Dtype  \n",
      "---  ------                       --------------  -----  \n",
      " 0   Survived                     891 non-null    int64  \n",
      " 1   Pclass                       891 non-null    int64  \n",
      " 2   Sex                          891 non-null    int64  \n",
      " 3   SibSp                        891 non-null    int64  \n",
      " 4   Parch                        891 non-null    int64  \n",
      " 5   Q                            891 non-null    int64  \n",
      " 6   S                            891 non-null    int64  \n",
      " 7   Age_Band                     891 non-null    int64  \n",
      " 8   Pclass_Prefix_Survival_Rate  891 non-null    float64\n",
      " 9   Ticket_IsNumeric             891 non-null    int64  \n",
      " 10  Ticket_Frequency             891 non-null    int64  \n",
      " 11  Fare_Band                    891 non-null    int64  \n",
      " 12  Has_Cabin                    891 non-null    int64  \n",
      " 13  Family                       891 non-null    int64  \n",
      "dtypes: float64(1), int64(13)\n",
      "memory usage: 97.6 KB\n"
     ]
    }
   ],
   "source": [
    "df.info()   "
   ]
  },
  {
   "cell_type": "code",
   "execution_count": 46,
   "id": "b8200b6e",
   "metadata": {
    "execution": {
     "iopub.execute_input": "2025-06-19T10:43:58.465162Z",
     "iopub.status.busy": "2025-06-19T10:43:58.464823Z",
     "iopub.status.idle": "2025-06-19T10:43:58.471405Z",
     "shell.execute_reply": "2025-06-19T10:43:58.470133Z"
    },
    "papermill": {
     "duration": 0.041267,
     "end_time": "2025-06-19T10:43:58.473312",
     "exception": false,
     "start_time": "2025-06-19T10:43:58.432045",
     "status": "completed"
    },
    "tags": []
   },
   "outputs": [
    {
     "data": {
      "text/plain": [
       "Index(['Survived', 'Pclass', 'Sex', 'SibSp', 'Parch', 'Q', 'S', 'Age_Band',\n",
       "       'Pclass_Prefix_Survival_Rate', 'Ticket_IsNumeric', 'Ticket_Frequency',\n",
       "       'Fare_Band', 'Has_Cabin', 'Family'],\n",
       "      dtype='object')"
      ]
     },
     "execution_count": 46,
     "metadata": {},
     "output_type": "execute_result"
    }
   ],
   "source": [
    "df.columns"
   ]
  },
  {
   "cell_type": "markdown",
   "id": "01a9553b",
   "metadata": {
    "papermill": {
     "duration": 0.03207,
     "end_time": "2025-06-19T10:43:58.538758",
     "exception": false,
     "start_time": "2025-06-19T10:43:58.506688",
     "status": "completed"
    },
    "tags": []
   },
   "source": [
    "### 1. 🔍 **Modeling** "
   ]
  },
  {
   "cell_type": "code",
   "execution_count": 47,
   "id": "32141451",
   "metadata": {
    "execution": {
     "iopub.execute_input": "2025-06-19T10:43:58.607040Z",
     "iopub.status.busy": "2025-06-19T10:43:58.606683Z",
     "iopub.status.idle": "2025-06-19T10:43:58.612535Z",
     "shell.execute_reply": "2025-06-19T10:43:58.611468Z"
    },
    "papermill": {
     "duration": 0.042016,
     "end_time": "2025-06-19T10:43:58.614376",
     "exception": false,
     "start_time": "2025-06-19T10:43:58.572360",
     "status": "completed"
    },
    "tags": []
   },
   "outputs": [],
   "source": [
    "X = df.drop('Survived', axis=1)     \n",
    "y = df['Survived']"
   ]
  },
  {
   "cell_type": "code",
   "execution_count": 48,
   "id": "5d3cef1c",
   "metadata": {
    "execution": {
     "iopub.execute_input": "2025-06-19T10:43:58.682510Z",
     "iopub.status.busy": "2025-06-19T10:43:58.682109Z",
     "iopub.status.idle": "2025-06-19T10:43:58.688921Z",
     "shell.execute_reply": "2025-06-19T10:43:58.688024Z"
    },
    "papermill": {
     "duration": 0.042708,
     "end_time": "2025-06-19T10:43:58.690926",
     "exception": false,
     "start_time": "2025-06-19T10:43:58.648218",
     "status": "completed"
    },
    "tags": []
   },
   "outputs": [],
   "source": [
    "X_train, X_test, y_train, y_test = train_test_split( X, y, test_size=0.3, random_state=42)"
   ]
  },
  {
   "cell_type": "code",
   "execution_count": 49,
   "id": "e4859550",
   "metadata": {
    "execution": {
     "iopub.execute_input": "2025-06-19T10:43:58.758697Z",
     "iopub.status.busy": "2025-06-19T10:43:58.758352Z",
     "iopub.status.idle": "2025-06-19T10:43:58.793295Z",
     "shell.execute_reply": "2025-06-19T10:43:58.792121Z"
    },
    "papermill": {
     "duration": 0.071257,
     "end_time": "2025-06-19T10:43:58.795351",
     "exception": false,
     "start_time": "2025-06-19T10:43:58.724094",
     "status": "completed"
    },
    "tags": []
   },
   "outputs": [],
   "source": [
    "# Logistic Regression: \n",
    "\n",
    "log_model = LogisticRegression()   \n",
    "log_model.fit(X_train, y_train) \n",
    "predictions_log = log_model.predict(X_test) "
   ]
  },
  {
   "cell_type": "code",
   "execution_count": 50,
   "id": "57272cad",
   "metadata": {
    "execution": {
     "iopub.execute_input": "2025-06-19T10:43:58.863507Z",
     "iopub.status.busy": "2025-06-19T10:43:58.863100Z",
     "iopub.status.idle": "2025-06-19T10:43:58.890508Z",
     "shell.execute_reply": "2025-06-19T10:43:58.889249Z"
    },
    "papermill": {
     "duration": 0.06282,
     "end_time": "2025-06-19T10:43:58.892256",
     "exception": false,
     "start_time": "2025-06-19T10:43:58.829436",
     "status": "completed"
    },
    "tags": []
   },
   "outputs": [],
   "source": [
    "# K-Nearest Neighbours:\n",
    "\n",
    "knn_model=KNeighborsClassifier()  \n",
    "knn_model.fit(X_train, y_train)\n",
    "predictions_knn = knn_model.predict(X_test)   "
   ]
  },
  {
   "cell_type": "code",
   "execution_count": 51,
   "id": "26b55b76",
   "metadata": {
    "execution": {
     "iopub.execute_input": "2025-06-19T10:43:58.960144Z",
     "iopub.status.busy": "2025-06-19T10:43:58.959779Z",
     "iopub.status.idle": "2025-06-19T10:43:59.160687Z",
     "shell.execute_reply": "2025-06-19T10:43:59.159532Z"
    },
    "papermill": {
     "duration": 0.236913,
     "end_time": "2025-06-19T10:43:59.162559",
     "exception": false,
     "start_time": "2025-06-19T10:43:58.925646",
     "status": "completed"
    },
    "tags": []
   },
   "outputs": [],
   "source": [
    "# Random Forest: \n",
    "\n",
    "rfc = RandomForestClassifier(class_weight='balanced',\n",
    "                             n_estimators=100,\n",
    "                             random_state=42)   \n",
    "rfc.fit(X_train, y_train) \n",
    "predictions_rfc = rfc.predict(X_test)  "
   ]
  },
  {
   "cell_type": "markdown",
   "id": "376b63d2",
   "metadata": {
    "papermill": {
     "duration": 0.032948,
     "end_time": "2025-06-19T10:43:59.232396",
     "exception": false,
     "start_time": "2025-06-19T10:43:59.199448",
     "status": "completed"
    },
    "tags": []
   },
   "source": [
    "### 2. 🔍 **Evaluation**"
   ]
  },
  {
   "cell_type": "code",
   "execution_count": 52,
   "id": "cb6f7ab1",
   "metadata": {
    "execution": {
     "iopub.execute_input": "2025-06-19T10:43:59.300074Z",
     "iopub.status.busy": "2025-06-19T10:43:59.299699Z",
     "iopub.status.idle": "2025-06-19T10:43:59.334319Z",
     "shell.execute_reply": "2025-06-19T10:43:59.332884Z"
    },
    "papermill": {
     "duration": 0.071328,
     "end_time": "2025-06-19T10:43:59.336346",
     "exception": false,
     "start_time": "2025-06-19T10:43:59.265018",
     "status": "completed"
    },
    "tags": []
   },
   "outputs": [
    {
     "name": "stdout",
     "output_type": "stream",
     "text": [
      "\n",
      "Logistic Regression Report:\n",
      " [[137  20]\n",
      " [ 27  84]] \n",
      "               precision    recall  f1-score   support\n",
      "\n",
      "           0       0.84      0.87      0.85       157\n",
      "           1       0.81      0.76      0.78       111\n",
      "\n",
      "    accuracy                           0.82       268\n",
      "   macro avg       0.82      0.81      0.82       268\n",
      "weighted avg       0.82      0.82      0.82       268\n",
      "\n",
      "\n",
      " K-Nearest Neighbours :\n",
      " [[140  17]\n",
      " [ 39  72]] \n",
      "               precision    recall  f1-score   support\n",
      "\n",
      "           0       0.78      0.89      0.83       157\n",
      "           1       0.81      0.65      0.72       111\n",
      "\n",
      "    accuracy                           0.79       268\n",
      "   macro avg       0.80      0.77      0.78       268\n",
      "weighted avg       0.79      0.79      0.79       268\n",
      "\n",
      "\n",
      "Random Forest Report:\n",
      " [[133  24]\n",
      " [ 31  80]] \n",
      "               precision    recall  f1-score   support\n",
      "\n",
      "           0       0.81      0.85      0.83       157\n",
      "           1       0.77      0.72      0.74       111\n",
      "\n",
      "    accuracy                           0.79       268\n",
      "   macro avg       0.79      0.78      0.79       268\n",
      "weighted avg       0.79      0.79      0.79       268\n",
      "\n"
     ]
    }
   ],
   "source": [
    "print(\"\\nLogistic Regression Report:\\n\", confusion_matrix(y_test, predictions_log), '\\n', classification_report(y_test, predictions_log))\n",
    "print(\"\\n K-Nearest Neighbours :\\n\", confusion_matrix(y_test, predictions_knn),'\\n',  classification_report(y_test,predictions_knn)) \n",
    "print(\"\\nRandom Forest Report:\\n\", confusion_matrix(y_test, predictions_rfc),'\\n',  classification_report(y_test, predictions_rfc)) "
   ]
  },
  {
   "cell_type": "markdown",
   "id": "ba36b512",
   "metadata": {
    "papermill": {
     "duration": 0.03191,
     "end_time": "2025-06-19T10:43:59.401489",
     "exception": false,
     "start_time": "2025-06-19T10:43:59.369579",
     "status": "completed"
    },
    "tags": []
   },
   "source": [
    "### 3. 🔍 **k-Fold Cross Validation**"
   ]
  },
  {
   "cell_type": "code",
   "execution_count": 53,
   "id": "d44cea3e",
   "metadata": {
    "execution": {
     "iopub.execute_input": "2025-06-19T10:43:59.470319Z",
     "iopub.status.busy": "2025-06-19T10:43:59.469854Z",
     "iopub.status.idle": "2025-06-19T10:44:01.788033Z",
     "shell.execute_reply": "2025-06-19T10:44:01.787044Z"
    },
    "papermill": {
     "duration": 2.35584,
     "end_time": "2025-06-19T10:44:01.790186",
     "exception": false,
     "start_time": "2025-06-19T10:43:59.434346",
     "status": "completed"
    },
    "tags": []
   },
   "outputs": [
    {
     "data": {
      "text/html": [
       "<div>\n",
       "<style scoped>\n",
       "    .dataframe tbody tr th:only-of-type {\n",
       "        vertical-align: middle;\n",
       "    }\n",
       "\n",
       "    .dataframe tbody tr th {\n",
       "        vertical-align: top;\n",
       "    }\n",
       "\n",
       "    .dataframe thead th {\n",
       "        text-align: right;\n",
       "    }\n",
       "</style>\n",
       "<table border=\"1\" class=\"dataframe\">\n",
       "  <thead>\n",
       "    <tr style=\"text-align: right;\">\n",
       "      <th></th>\n",
       "      <th>CV Mean</th>\n",
       "      <th>Std</th>\n",
       "    </tr>\n",
       "  </thead>\n",
       "  <tbody>\n",
       "    <tr>\n",
       "      <th>Logistic Regression</th>\n",
       "      <td>0.808015</td>\n",
       "      <td>0.051768</td>\n",
       "    </tr>\n",
       "    <tr>\n",
       "      <th>K-Nearest Neighbours</th>\n",
       "      <td>0.808090</td>\n",
       "      <td>0.042723</td>\n",
       "    </tr>\n",
       "    <tr>\n",
       "      <th>Random Forest</th>\n",
       "      <td>0.813633</td>\n",
       "      <td>0.050204</td>\n",
       "    </tr>\n",
       "  </tbody>\n",
       "</table>\n",
       "</div>"
      ],
      "text/plain": [
       "                       CV Mean       Std\n",
       "Logistic Regression   0.808015  0.051768\n",
       "K-Nearest Neighbours  0.808090  0.042723\n",
       "Random Forest         0.813633  0.050204"
      ]
     },
     "execution_count": 53,
     "metadata": {},
     "output_type": "execute_result"
    }
   ],
   "source": [
    "from sklearn.model_selection import KFold \n",
    "from sklearn.model_selection import cross_val_score \n",
    "from sklearn.model_selection import cross_val_predict\n",
    "\n",
    "kfold = KFold(n_splits=10, random_state=42, shuffle=True) # k=10, split the data into 10 equal parts \n",
    "cross_val_mean=[] \n",
    "std=[]\n",
    "accuracy=[]\n",
    "\n",
    "classifiers=['Logistic Regression','K-Nearest Neighbours','Random Forest'] \n",
    "models=[LogisticRegression(),\n",
    "        KNeighborsClassifier(), \n",
    "        RandomForestClassifier(class_weight='balanced',n_estimators=100)] \n",
    "\n",
    "for i in models:\n",
    "    model = i\n",
    "    cv_result = cross_val_score(model,X,y, cv = kfold,scoring = \"accuracy\") \n",
    "    cv_result=cv_result  \n",
    "    cross_val_mean.append(cv_result.mean())\n",
    "    std.append(cv_result.std())\n",
    "    accuracy.append(cv_result) \n",
    "    \n",
    "models_df=pd.DataFrame({'CV Mean':cross_val_mean,\n",
    "                        'Std':std},\n",
    "                        index=classifiers)   \n",
    "\n",
    "models_df "
   ]
  },
  {
   "cell_type": "markdown",
   "id": "903e68b7",
   "metadata": {
    "papermill": {
     "duration": 0.034347,
     "end_time": "2025-06-19T10:44:01.858125",
     "exception": false,
     "start_time": "2025-06-19T10:44:01.823778",
     "status": "completed"
    },
    "tags": []
   },
   "source": [
    "### **Reference:**\n",
    "\n",
    "#### Thanks a lot: \n",
    "\n",
    "\n"
   ]
  }
 ],
 "metadata": {
  "kaggle": {
   "accelerator": "none",
   "dataSources": [
    {
     "datasetId": 7093056,
     "sourceId": 11338283,
     "sourceType": "datasetVersion"
    }
   ],
   "dockerImageVersionId": 30918,
   "isGpuEnabled": false,
   "isInternetEnabled": true,
   "language": "python",
   "sourceType": "notebook"
  },
  "kernelspec": {
   "display_name": "Python 3",
   "language": "python",
   "name": "python3"
  },
  "language_info": {
   "codemirror_mode": {
    "name": "ipython",
    "version": 3
   },
   "file_extension": ".py",
   "mimetype": "text/x-python",
   "name": "python",
   "nbconvert_exporter": "python",
   "pygments_lexer": "ipython3",
   "version": "3.10.12"
  },
  "papermill": {
   "default_parameters": {},
   "duration": 31.136363,
   "end_time": "2025-06-19T10:44:02.915860",
   "environment_variables": {},
   "exception": null,
   "input_path": "__notebook__.ipynb",
   "output_path": "__notebook__.ipynb",
   "parameters": {},
   "start_time": "2025-06-19T10:43:31.779497",
   "version": "2.6.0"
  }
 },
 "nbformat": 4,
 "nbformat_minor": 5
}
