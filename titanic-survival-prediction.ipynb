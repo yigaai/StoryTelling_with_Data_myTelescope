{
 "cells": [
  {
   "cell_type": "markdown",
   "id": "8ebfbdff",
   "metadata": {
    "papermill": {
     "duration": 0.025305,
     "end_time": "2025-06-21T05:45:35.960722",
     "exception": false,
     "start_time": "2025-06-21T05:45:35.935417",
     "status": "completed"
    },
    "tags": []
   },
   "source": [
    "   # 🛳️ **Titanic Survival Prediction**  \n",
    "\n",
    "   ### 👩🏻‍🔧 **By Rosy**\n",
    "\n",
    "\n"
   ]
  },
  {
   "cell_type": "markdown",
   "id": "53249720",
   "metadata": {
    "papermill": {
     "duration": 0.02255,
     "end_time": "2025-06-21T05:45:36.008908",
     "exception": false,
     "start_time": "2025-06-21T05:45:35.986358",
     "status": "completed"
    },
    "tags": []
   },
   "source": [
    "# ***🎯 Goals & Tasks*** \n",
    "\n",
    " ### 1. Provide Insights by Storytelling with Data. 📊 \n",
    "    \n",
    " ### 2. Make a Prediction through Machine Learning. 🤖\n",
    "     "
   ]
  },
  {
   "cell_type": "markdown",
   "id": "1bed47be",
   "metadata": {
    "papermill": {
     "duration": 0.019332,
     "end_time": "2025-06-21T05:45:36.046409",
     "exception": false,
     "start_time": "2025-06-21T05:45:36.027077",
     "status": "completed"
    },
    "tags": []
   },
   "source": [
    "# ***🗂️ Import Libraries*** "
   ]
  },
  {
   "cell_type": "code",
   "execution_count": 1,
   "id": "5b6105c1",
   "metadata": {
    "execution": {
     "iopub.execute_input": "2025-06-21T05:45:36.078572Z",
     "iopub.status.busy": "2025-06-21T05:45:36.078142Z",
     "iopub.status.idle": "2025-06-21T05:45:41.562264Z",
     "shell.execute_reply": "2025-06-21T05:45:41.561267Z"
    },
    "papermill": {
     "duration": 5.501929,
     "end_time": "2025-06-21T05:45:41.564338",
     "exception": false,
     "start_time": "2025-06-21T05:45:36.062409",
     "status": "completed"
    },
    "tags": []
   },
   "outputs": [],
   "source": [
    "import os\n",
    "\n",
    "import pandas as pd\n",
    "import numpy as np\n",
    "\n",
    "import scipy.stats as stats \n",
    "\n",
    "import matplotlib.pyplot as plt\n",
    "import seaborn as sns\n",
    "import plotly.express as px\n",
    "import plotly.subplots as sp \n",
    "import missingno as msno \n",
    "sns.set() \n",
    "\n",
    "from scipy.stats import chi2_contingency\n",
    "\n",
    "from sklearn.preprocessing import StandardScaler, LabelEncoder, MinMaxScaler\n",
    "\n",
    "\n",
    "from sklearn.model_selection import train_test_split, GridSearchCV, cross_val_score\n",
    "\n",
    "from sklearn.linear_model import LogisticRegression\n",
    "from sklearn.neighbors import KNeighborsClassifier\n",
    "from sklearn.svm import SVC\n",
    "from sklearn.tree import DecisionTreeClassifier\n",
    "from sklearn.ensemble import RandomForestClassifier, AdaBoostClassifier, GradientBoostingClassifier, RandomForestRegressor\n",
    "from xgboost import XGBClassifier\n",
    "\n",
    "from sklearn.metrics import classification_report\n",
    "from sklearn.metrics import confusion_matrix\n",
    "from sklearn.metrics import accuracy_score, f1_score, precision_score, recall_score \n",
    "\n",
    "import warnings  \n",
    "warnings.filterwarnings('ignore')     "
   ]
  },
  {
   "cell_type": "markdown",
   "id": "ea056dc0",
   "metadata": {
    "papermill": {
     "duration": 0.014473,
     "end_time": "2025-06-21T05:45:41.594457",
     "exception": false,
     "start_time": "2025-06-21T05:45:41.579984",
     "status": "completed"
    },
    "tags": []
   },
   "source": [
    "# ***⏳ Data Loading*** "
   ]
  },
  {
   "cell_type": "code",
   "execution_count": 2,
   "id": "5c51c583",
   "metadata": {
    "execution": {
     "iopub.execute_input": "2025-06-21T05:45:41.625609Z",
     "iopub.status.busy": "2025-06-21T05:45:41.624999Z",
     "iopub.status.idle": "2025-06-21T05:45:41.656114Z",
     "shell.execute_reply": "2025-06-21T05:45:41.655045Z"
    },
    "papermill": {
     "duration": 0.048811,
     "end_time": "2025-06-21T05:45:41.658119",
     "exception": false,
     "start_time": "2025-06-21T05:45:41.609308",
     "status": "completed"
    },
    "tags": []
   },
   "outputs": [],
   "source": [
    "os.listdir('/kaggle/input/titanic-data')  \n",
    "df = pd.read_csv('/kaggle/input/titanic-data/train.csv')    "
   ]
  },
  {
   "cell_type": "markdown",
   "id": "d68770b7",
   "metadata": {
    "papermill": {
     "duration": 0.014455,
     "end_time": "2025-06-21T05:45:41.687580",
     "exception": false,
     "start_time": "2025-06-21T05:45:41.673125",
     "status": "completed"
    },
    "tags": []
   },
   "source": [
    "# ***🔭 Data Overview***   "
   ]
  },
  {
   "cell_type": "markdown",
   "id": "465bb8cf",
   "metadata": {
    "papermill": {
     "duration": 0.014994,
     "end_time": "2025-06-21T05:45:41.717263",
     "exception": false,
     "start_time": "2025-06-21T05:45:41.702269",
     "status": "completed"
    },
    "tags": []
   },
   "source": [
    "### 1. 🔍 **Take a Glimpse of Data**"
   ]
  },
  {
   "cell_type": "code",
   "execution_count": 3,
   "id": "ab5b6810",
   "metadata": {
    "execution": {
     "iopub.execute_input": "2025-06-21T05:45:41.748696Z",
     "iopub.status.busy": "2025-06-21T05:45:41.748320Z",
     "iopub.status.idle": "2025-06-21T05:45:41.781983Z",
     "shell.execute_reply": "2025-06-21T05:45:41.780654Z"
    },
    "papermill": {
     "duration": 0.051514,
     "end_time": "2025-06-21T05:45:41.784151",
     "exception": false,
     "start_time": "2025-06-21T05:45:41.732637",
     "status": "completed"
    },
    "tags": []
   },
   "outputs": [
    {
     "data": {
      "text/html": [
       "<div>\n",
       "<style scoped>\n",
       "    .dataframe tbody tr th:only-of-type {\n",
       "        vertical-align: middle;\n",
       "    }\n",
       "\n",
       "    .dataframe tbody tr th {\n",
       "        vertical-align: top;\n",
       "    }\n",
       "\n",
       "    .dataframe thead th {\n",
       "        text-align: right;\n",
       "    }\n",
       "</style>\n",
       "<table border=\"1\" class=\"dataframe\">\n",
       "  <thead>\n",
       "    <tr style=\"text-align: right;\">\n",
       "      <th></th>\n",
       "      <th>PassengerId</th>\n",
       "      <th>Survived</th>\n",
       "      <th>Pclass</th>\n",
       "      <th>Name</th>\n",
       "      <th>Sex</th>\n",
       "      <th>Age</th>\n",
       "      <th>SibSp</th>\n",
       "      <th>Parch</th>\n",
       "      <th>Ticket</th>\n",
       "      <th>Fare</th>\n",
       "      <th>Cabin</th>\n",
       "      <th>Embarked</th>\n",
       "    </tr>\n",
       "  </thead>\n",
       "  <tbody>\n",
       "    <tr>\n",
       "      <th>0</th>\n",
       "      <td>1</td>\n",
       "      <td>0</td>\n",
       "      <td>3</td>\n",
       "      <td>Braund, Mr. Owen Harris</td>\n",
       "      <td>male</td>\n",
       "      <td>22.0</td>\n",
       "      <td>1</td>\n",
       "      <td>0</td>\n",
       "      <td>A/5 21171</td>\n",
       "      <td>7.2500</td>\n",
       "      <td>NaN</td>\n",
       "      <td>S</td>\n",
       "    </tr>\n",
       "    <tr>\n",
       "      <th>1</th>\n",
       "      <td>2</td>\n",
       "      <td>1</td>\n",
       "      <td>1</td>\n",
       "      <td>Cumings, Mrs. John Bradley (Florence Briggs Th...</td>\n",
       "      <td>female</td>\n",
       "      <td>38.0</td>\n",
       "      <td>1</td>\n",
       "      <td>0</td>\n",
       "      <td>PC 17599</td>\n",
       "      <td>71.2833</td>\n",
       "      <td>C85</td>\n",
       "      <td>C</td>\n",
       "    </tr>\n",
       "    <tr>\n",
       "      <th>2</th>\n",
       "      <td>3</td>\n",
       "      <td>1</td>\n",
       "      <td>3</td>\n",
       "      <td>Heikkinen, Miss. Laina</td>\n",
       "      <td>female</td>\n",
       "      <td>26.0</td>\n",
       "      <td>0</td>\n",
       "      <td>0</td>\n",
       "      <td>STON/O2. 3101282</td>\n",
       "      <td>7.9250</td>\n",
       "      <td>NaN</td>\n",
       "      <td>S</td>\n",
       "    </tr>\n",
       "    <tr>\n",
       "      <th>3</th>\n",
       "      <td>4</td>\n",
       "      <td>1</td>\n",
       "      <td>1</td>\n",
       "      <td>Futrelle, Mrs. Jacques Heath (Lily May Peel)</td>\n",
       "      <td>female</td>\n",
       "      <td>35.0</td>\n",
       "      <td>1</td>\n",
       "      <td>0</td>\n",
       "      <td>113803</td>\n",
       "      <td>53.1000</td>\n",
       "      <td>C123</td>\n",
       "      <td>S</td>\n",
       "    </tr>\n",
       "    <tr>\n",
       "      <th>4</th>\n",
       "      <td>5</td>\n",
       "      <td>0</td>\n",
       "      <td>3</td>\n",
       "      <td>Allen, Mr. William Henry</td>\n",
       "      <td>male</td>\n",
       "      <td>35.0</td>\n",
       "      <td>0</td>\n",
       "      <td>0</td>\n",
       "      <td>373450</td>\n",
       "      <td>8.0500</td>\n",
       "      <td>NaN</td>\n",
       "      <td>S</td>\n",
       "    </tr>\n",
       "  </tbody>\n",
       "</table>\n",
       "</div>"
      ],
      "text/plain": [
       "   PassengerId  Survived  Pclass  \\\n",
       "0            1         0       3   \n",
       "1            2         1       1   \n",
       "2            3         1       3   \n",
       "3            4         1       1   \n",
       "4            5         0       3   \n",
       "\n",
       "                                                Name     Sex   Age  SibSp  \\\n",
       "0                            Braund, Mr. Owen Harris    male  22.0      1   \n",
       "1  Cumings, Mrs. John Bradley (Florence Briggs Th...  female  38.0      1   \n",
       "2                             Heikkinen, Miss. Laina  female  26.0      0   \n",
       "3       Futrelle, Mrs. Jacques Heath (Lily May Peel)  female  35.0      1   \n",
       "4                           Allen, Mr. William Henry    male  35.0      0   \n",
       "\n",
       "   Parch            Ticket     Fare Cabin Embarked  \n",
       "0      0         A/5 21171   7.2500   NaN        S  \n",
       "1      0          PC 17599  71.2833   C85        C  \n",
       "2      0  STON/O2. 3101282   7.9250   NaN        S  \n",
       "3      0            113803  53.1000  C123        S  \n",
       "4      0            373450   8.0500   NaN        S  "
      ]
     },
     "execution_count": 3,
     "metadata": {},
     "output_type": "execute_result"
    }
   ],
   "source": [
    "df.head(5)"
   ]
  },
  {
   "cell_type": "markdown",
   "id": "340e4e29",
   "metadata": {
    "papermill": {
     "duration": 0.017405,
     "end_time": "2025-06-21T05:45:41.817922",
     "exception": false,
     "start_time": "2025-06-21T05:45:41.800517",
     "status": "completed"
    },
    "tags": []
   },
   "source": [
    "### 2. 🔍 **DataType of Each Column**"
   ]
  },
  {
   "cell_type": "code",
   "execution_count": 4,
   "id": "f1f71c3c",
   "metadata": {
    "execution": {
     "iopub.execute_input": "2025-06-21T05:45:41.852168Z",
     "iopub.status.busy": "2025-06-21T05:45:41.851831Z",
     "iopub.status.idle": "2025-06-21T05:45:41.886061Z",
     "shell.execute_reply": "2025-06-21T05:45:41.884495Z"
    },
    "papermill": {
     "duration": 0.053349,
     "end_time": "2025-06-21T05:45:41.888219",
     "exception": false,
     "start_time": "2025-06-21T05:45:41.834870",
     "status": "completed"
    },
    "tags": []
   },
   "outputs": [
    {
     "name": "stdout",
     "output_type": "stream",
     "text": [
      "<class 'pandas.core.frame.DataFrame'>\n",
      "RangeIndex: 891 entries, 0 to 890\n",
      "Data columns (total 12 columns):\n",
      " #   Column       Non-Null Count  Dtype  \n",
      "---  ------       --------------  -----  \n",
      " 0   PassengerId  891 non-null    int64  \n",
      " 1   Survived     891 non-null    int64  \n",
      " 2   Pclass       891 non-null    int64  \n",
      " 3   Name         891 non-null    object \n",
      " 4   Sex          891 non-null    object \n",
      " 5   Age          714 non-null    float64\n",
      " 6   SibSp        891 non-null    int64  \n",
      " 7   Parch        891 non-null    int64  \n",
      " 8   Ticket       891 non-null    object \n",
      " 9   Fare         891 non-null    float64\n",
      " 10  Cabin        204 non-null    object \n",
      " 11  Embarked     889 non-null    object \n",
      "dtypes: float64(2), int64(5), object(5)\n",
      "memory usage: 83.7+ KB\n"
     ]
    }
   ],
   "source": [
    "df.info() "
   ]
  },
  {
   "cell_type": "markdown",
   "id": "c843567c",
   "metadata": {
    "papermill": {
     "duration": 0.015129,
     "end_time": "2025-06-21T05:45:41.920925",
     "exception": false,
     "start_time": "2025-06-21T05:45:41.905796",
     "status": "completed"
    },
    "tags": []
   },
   "source": [
    "### 3. 🔍 **Dimensions of the DataFrame**"
   ]
  },
  {
   "cell_type": "code",
   "execution_count": 5,
   "id": "71a75438",
   "metadata": {
    "execution": {
     "iopub.execute_input": "2025-06-21T05:45:41.953642Z",
     "iopub.status.busy": "2025-06-21T05:45:41.953236Z",
     "iopub.status.idle": "2025-06-21T05:45:41.958941Z",
     "shell.execute_reply": "2025-06-21T05:45:41.957586Z"
    },
    "papermill": {
     "duration": 0.023954,
     "end_time": "2025-06-21T05:45:41.960693",
     "exception": false,
     "start_time": "2025-06-21T05:45:41.936739",
     "status": "completed"
    },
    "tags": []
   },
   "outputs": [
    {
     "name": "stdout",
     "output_type": "stream",
     "text": [
      "Rows: 891\n",
      "Columns: 12\n"
     ]
    }
   ],
   "source": [
    "print(f'Rows: {df.shape[0]}')\n",
    "print(f'Columns: {df.shape[1]}')  "
   ]
  },
  {
   "cell_type": "markdown",
   "id": "0c335682",
   "metadata": {
    "papermill": {
     "duration": 0.014787,
     "end_time": "2025-06-21T05:45:41.990947",
     "exception": false,
     "start_time": "2025-06-21T05:45:41.976160",
     "status": "completed"
    },
    "tags": []
   },
   "source": [
    "### 4. 🔍 **Descriptive Statistics for numerical & categorical variables**"
   ]
  },
  {
   "cell_type": "code",
   "execution_count": 6,
   "id": "2f2827c9",
   "metadata": {
    "execution": {
     "iopub.execute_input": "2025-06-21T05:45:42.022656Z",
     "iopub.status.busy": "2025-06-21T05:45:42.022245Z",
     "iopub.status.idle": "2025-06-21T05:45:42.053917Z",
     "shell.execute_reply": "2025-06-21T05:45:42.052814Z"
    },
    "papermill": {
     "duration": 0.05008,
     "end_time": "2025-06-21T05:45:42.056255",
     "exception": false,
     "start_time": "2025-06-21T05:45:42.006175",
     "status": "completed"
    },
    "tags": []
   },
   "outputs": [
    {
     "data": {
      "text/html": [
       "<div>\n",
       "<style scoped>\n",
       "    .dataframe tbody tr th:only-of-type {\n",
       "        vertical-align: middle;\n",
       "    }\n",
       "\n",
       "    .dataframe tbody tr th {\n",
       "        vertical-align: top;\n",
       "    }\n",
       "\n",
       "    .dataframe thead th {\n",
       "        text-align: right;\n",
       "    }\n",
       "</style>\n",
       "<table border=\"1\" class=\"dataframe\">\n",
       "  <thead>\n",
       "    <tr style=\"text-align: right;\">\n",
       "      <th></th>\n",
       "      <th>PassengerId</th>\n",
       "      <th>Survived</th>\n",
       "      <th>Pclass</th>\n",
       "      <th>Age</th>\n",
       "      <th>SibSp</th>\n",
       "      <th>Parch</th>\n",
       "      <th>Fare</th>\n",
       "    </tr>\n",
       "  </thead>\n",
       "  <tbody>\n",
       "    <tr>\n",
       "      <th>count</th>\n",
       "      <td>891.000</td>\n",
       "      <td>891.000</td>\n",
       "      <td>891.000</td>\n",
       "      <td>714.000</td>\n",
       "      <td>891.000</td>\n",
       "      <td>891.000</td>\n",
       "      <td>891.000</td>\n",
       "    </tr>\n",
       "    <tr>\n",
       "      <th>mean</th>\n",
       "      <td>446.000</td>\n",
       "      <td>0.384</td>\n",
       "      <td>2.309</td>\n",
       "      <td>29.699</td>\n",
       "      <td>0.523</td>\n",
       "      <td>0.382</td>\n",
       "      <td>32.204</td>\n",
       "    </tr>\n",
       "    <tr>\n",
       "      <th>std</th>\n",
       "      <td>257.354</td>\n",
       "      <td>0.487</td>\n",
       "      <td>0.836</td>\n",
       "      <td>14.526</td>\n",
       "      <td>1.103</td>\n",
       "      <td>0.806</td>\n",
       "      <td>49.693</td>\n",
       "    </tr>\n",
       "    <tr>\n",
       "      <th>min</th>\n",
       "      <td>1.000</td>\n",
       "      <td>0.000</td>\n",
       "      <td>1.000</td>\n",
       "      <td>0.420</td>\n",
       "      <td>0.000</td>\n",
       "      <td>0.000</td>\n",
       "      <td>0.000</td>\n",
       "    </tr>\n",
       "    <tr>\n",
       "      <th>25%</th>\n",
       "      <td>223.500</td>\n",
       "      <td>0.000</td>\n",
       "      <td>2.000</td>\n",
       "      <td>20.125</td>\n",
       "      <td>0.000</td>\n",
       "      <td>0.000</td>\n",
       "      <td>7.910</td>\n",
       "    </tr>\n",
       "    <tr>\n",
       "      <th>50%</th>\n",
       "      <td>446.000</td>\n",
       "      <td>0.000</td>\n",
       "      <td>3.000</td>\n",
       "      <td>28.000</td>\n",
       "      <td>0.000</td>\n",
       "      <td>0.000</td>\n",
       "      <td>14.454</td>\n",
       "    </tr>\n",
       "    <tr>\n",
       "      <th>75%</th>\n",
       "      <td>668.500</td>\n",
       "      <td>1.000</td>\n",
       "      <td>3.000</td>\n",
       "      <td>38.000</td>\n",
       "      <td>1.000</td>\n",
       "      <td>0.000</td>\n",
       "      <td>31.000</td>\n",
       "    </tr>\n",
       "    <tr>\n",
       "      <th>max</th>\n",
       "      <td>891.000</td>\n",
       "      <td>1.000</td>\n",
       "      <td>3.000</td>\n",
       "      <td>80.000</td>\n",
       "      <td>8.000</td>\n",
       "      <td>6.000</td>\n",
       "      <td>512.329</td>\n",
       "    </tr>\n",
       "  </tbody>\n",
       "</table>\n",
       "</div>"
      ],
      "text/plain": [
       "       PassengerId  Survived   Pclass      Age    SibSp    Parch     Fare\n",
       "count      891.000   891.000  891.000  714.000  891.000  891.000  891.000\n",
       "mean       446.000     0.384    2.309   29.699    0.523    0.382   32.204\n",
       "std        257.354     0.487    0.836   14.526    1.103    0.806   49.693\n",
       "min          1.000     0.000    1.000    0.420    0.000    0.000    0.000\n",
       "25%        223.500     0.000    2.000   20.125    0.000    0.000    7.910\n",
       "50%        446.000     0.000    3.000   28.000    0.000    0.000   14.454\n",
       "75%        668.500     1.000    3.000   38.000    1.000    0.000   31.000\n",
       "max        891.000     1.000    3.000   80.000    8.000    6.000  512.329"
      ]
     },
     "execution_count": 6,
     "metadata": {},
     "output_type": "execute_result"
    }
   ],
   "source": [
    "round(df.describe(), 3)   "
   ]
  },
  {
   "cell_type": "code",
   "execution_count": 7,
   "id": "91834257",
   "metadata": {
    "execution": {
     "iopub.execute_input": "2025-06-21T05:45:42.090137Z",
     "iopub.status.busy": "2025-06-21T05:45:42.089719Z",
     "iopub.status.idle": "2025-06-21T05:45:42.111968Z",
     "shell.execute_reply": "2025-06-21T05:45:42.110896Z"
    },
    "papermill": {
     "duration": 0.041425,
     "end_time": "2025-06-21T05:45:42.113960",
     "exception": false,
     "start_time": "2025-06-21T05:45:42.072535",
     "status": "completed"
    },
    "tags": []
   },
   "outputs": [
    {
     "data": {
      "text/html": [
       "<div>\n",
       "<style scoped>\n",
       "    .dataframe tbody tr th:only-of-type {\n",
       "        vertical-align: middle;\n",
       "    }\n",
       "\n",
       "    .dataframe tbody tr th {\n",
       "        vertical-align: top;\n",
       "    }\n",
       "\n",
       "    .dataframe thead th {\n",
       "        text-align: right;\n",
       "    }\n",
       "</style>\n",
       "<table border=\"1\" class=\"dataframe\">\n",
       "  <thead>\n",
       "    <tr style=\"text-align: right;\">\n",
       "      <th></th>\n",
       "      <th>Name</th>\n",
       "      <th>Sex</th>\n",
       "      <th>Ticket</th>\n",
       "      <th>Cabin</th>\n",
       "      <th>Embarked</th>\n",
       "    </tr>\n",
       "  </thead>\n",
       "  <tbody>\n",
       "    <tr>\n",
       "      <th>count</th>\n",
       "      <td>891</td>\n",
       "      <td>891</td>\n",
       "      <td>891</td>\n",
       "      <td>204</td>\n",
       "      <td>889</td>\n",
       "    </tr>\n",
       "    <tr>\n",
       "      <th>unique</th>\n",
       "      <td>891</td>\n",
       "      <td>2</td>\n",
       "      <td>681</td>\n",
       "      <td>147</td>\n",
       "      <td>3</td>\n",
       "    </tr>\n",
       "    <tr>\n",
       "      <th>top</th>\n",
       "      <td>Braund, Mr. Owen Harris</td>\n",
       "      <td>male</td>\n",
       "      <td>347082</td>\n",
       "      <td>B96 B98</td>\n",
       "      <td>S</td>\n",
       "    </tr>\n",
       "    <tr>\n",
       "      <th>freq</th>\n",
       "      <td>1</td>\n",
       "      <td>577</td>\n",
       "      <td>7</td>\n",
       "      <td>4</td>\n",
       "      <td>644</td>\n",
       "    </tr>\n",
       "  </tbody>\n",
       "</table>\n",
       "</div>"
      ],
      "text/plain": [
       "                           Name   Sex  Ticket    Cabin Embarked\n",
       "count                       891   891     891      204      889\n",
       "unique                      891     2     681      147        3\n",
       "top     Braund, Mr. Owen Harris  male  347082  B96 B98        S\n",
       "freq                          1   577       7        4      644"
      ]
     },
     "execution_count": 7,
     "metadata": {},
     "output_type": "execute_result"
    }
   ],
   "source": [
    "categorical_var = df.dtypes[df.dtypes=='object'].index \n",
    "df[categorical_var].describe() "
   ]
  },
  {
   "cell_type": "markdown",
   "id": "e37c4b68",
   "metadata": {
    "papermill": {
     "duration": 0.015449,
     "end_time": "2025-06-21T05:45:42.146760",
     "exception": false,
     "start_time": "2025-06-21T05:45:42.131311",
     "status": "completed"
    },
    "tags": []
   },
   "source": [
    "### 5. 🔍 **Missing & Duplicated Values**"
   ]
  },
  {
   "cell_type": "code",
   "execution_count": 8,
   "id": "28a98bcd",
   "metadata": {
    "execution": {
     "iopub.execute_input": "2025-06-21T05:45:42.181975Z",
     "iopub.status.busy": "2025-06-21T05:45:42.181474Z",
     "iopub.status.idle": "2025-06-21T05:45:42.336672Z",
     "shell.execute_reply": "2025-06-21T05:45:42.335586Z"
    },
    "papermill": {
     "duration": 0.173753,
     "end_time": "2025-06-21T05:45:42.338458",
     "exception": false,
     "start_time": "2025-06-21T05:45:42.164705",
     "status": "completed"
    },
    "tags": []
   },
   "outputs": [
    {
     "data": {
      "text/html": [
       "<style type=\"text/css\">\n",
       "#T_3920b_row0_col0, #T_3920b_row0_col1 {\n",
       "  background-color: #fcfdbf;\n",
       "  color: #000000;\n",
       "}\n",
       "#T_3920b_row1_col0, #T_3920b_row1_col1 {\n",
       "  background-color: #52137c;\n",
       "  color: #f1f1f1;\n",
       "}\n",
       "#T_3920b_row2_col0, #T_3920b_row2_col1, #T_3920b_row3_col0, #T_3920b_row3_col1, #T_3920b_row4_col0, #T_3920b_row4_col1, #T_3920b_row5_col0, #T_3920b_row5_col1, #T_3920b_row6_col0, #T_3920b_row6_col1, #T_3920b_row7_col0, #T_3920b_row7_col1, #T_3920b_row8_col0, #T_3920b_row8_col1, #T_3920b_row9_col0, #T_3920b_row9_col1, #T_3920b_row10_col0, #T_3920b_row10_col1, #T_3920b_row11_col0, #T_3920b_row11_col1 {\n",
       "  background-color: #000004;\n",
       "  color: #f1f1f1;\n",
       "}\n",
       "</style>\n",
       "<table id=\"T_3920b\">\n",
       "  <thead>\n",
       "    <tr>\n",
       "      <th class=\"blank level0\" >&nbsp;</th>\n",
       "      <th id=\"T_3920b_level0_col0\" class=\"col_heading level0 col0\" >No. of Missing Values</th>\n",
       "      <th id=\"T_3920b_level0_col1\" class=\"col_heading level0 col1\" >% of Missing Values</th>\n",
       "    </tr>\n",
       "  </thead>\n",
       "  <tbody>\n",
       "    <tr>\n",
       "      <th id=\"T_3920b_level0_row0\" class=\"row_heading level0 row0\" >Cabin</th>\n",
       "      <td id=\"T_3920b_row0_col0\" class=\"data row0 col0\" >687</td>\n",
       "      <td id=\"T_3920b_row0_col1\" class=\"data row0 col1\" >77.104000</td>\n",
       "    </tr>\n",
       "    <tr>\n",
       "      <th id=\"T_3920b_level0_row1\" class=\"row_heading level0 row1\" >Age</th>\n",
       "      <td id=\"T_3920b_row1_col0\" class=\"data row1 col0\" >177</td>\n",
       "      <td id=\"T_3920b_row1_col1\" class=\"data row1 col1\" >19.865000</td>\n",
       "    </tr>\n",
       "    <tr>\n",
       "      <th id=\"T_3920b_level0_row2\" class=\"row_heading level0 row2\" >Embarked</th>\n",
       "      <td id=\"T_3920b_row2_col0\" class=\"data row2 col0\" >2</td>\n",
       "      <td id=\"T_3920b_row2_col1\" class=\"data row2 col1\" >0.224000</td>\n",
       "    </tr>\n",
       "    <tr>\n",
       "      <th id=\"T_3920b_level0_row3\" class=\"row_heading level0 row3\" >PassengerId</th>\n",
       "      <td id=\"T_3920b_row3_col0\" class=\"data row3 col0\" >0</td>\n",
       "      <td id=\"T_3920b_row3_col1\" class=\"data row3 col1\" >0.000000</td>\n",
       "    </tr>\n",
       "    <tr>\n",
       "      <th id=\"T_3920b_level0_row4\" class=\"row_heading level0 row4\" >Survived</th>\n",
       "      <td id=\"T_3920b_row4_col0\" class=\"data row4 col0\" >0</td>\n",
       "      <td id=\"T_3920b_row4_col1\" class=\"data row4 col1\" >0.000000</td>\n",
       "    </tr>\n",
       "    <tr>\n",
       "      <th id=\"T_3920b_level0_row5\" class=\"row_heading level0 row5\" >Pclass</th>\n",
       "      <td id=\"T_3920b_row5_col0\" class=\"data row5 col0\" >0</td>\n",
       "      <td id=\"T_3920b_row5_col1\" class=\"data row5 col1\" >0.000000</td>\n",
       "    </tr>\n",
       "    <tr>\n",
       "      <th id=\"T_3920b_level0_row6\" class=\"row_heading level0 row6\" >Name</th>\n",
       "      <td id=\"T_3920b_row6_col0\" class=\"data row6 col0\" >0</td>\n",
       "      <td id=\"T_3920b_row6_col1\" class=\"data row6 col1\" >0.000000</td>\n",
       "    </tr>\n",
       "    <tr>\n",
       "      <th id=\"T_3920b_level0_row7\" class=\"row_heading level0 row7\" >Sex</th>\n",
       "      <td id=\"T_3920b_row7_col0\" class=\"data row7 col0\" >0</td>\n",
       "      <td id=\"T_3920b_row7_col1\" class=\"data row7 col1\" >0.000000</td>\n",
       "    </tr>\n",
       "    <tr>\n",
       "      <th id=\"T_3920b_level0_row8\" class=\"row_heading level0 row8\" >SibSp</th>\n",
       "      <td id=\"T_3920b_row8_col0\" class=\"data row8 col0\" >0</td>\n",
       "      <td id=\"T_3920b_row8_col1\" class=\"data row8 col1\" >0.000000</td>\n",
       "    </tr>\n",
       "    <tr>\n",
       "      <th id=\"T_3920b_level0_row9\" class=\"row_heading level0 row9\" >Parch</th>\n",
       "      <td id=\"T_3920b_row9_col0\" class=\"data row9 col0\" >0</td>\n",
       "      <td id=\"T_3920b_row9_col1\" class=\"data row9 col1\" >0.000000</td>\n",
       "    </tr>\n",
       "    <tr>\n",
       "      <th id=\"T_3920b_level0_row10\" class=\"row_heading level0 row10\" >Ticket</th>\n",
       "      <td id=\"T_3920b_row10_col0\" class=\"data row10 col0\" >0</td>\n",
       "      <td id=\"T_3920b_row10_col1\" class=\"data row10 col1\" >0.000000</td>\n",
       "    </tr>\n",
       "    <tr>\n",
       "      <th id=\"T_3920b_level0_row11\" class=\"row_heading level0 row11\" >Fare</th>\n",
       "      <td id=\"T_3920b_row11_col0\" class=\"data row11 col0\" >0</td>\n",
       "      <td id=\"T_3920b_row11_col1\" class=\"data row11 col1\" >0.000000</td>\n",
       "    </tr>\n",
       "  </tbody>\n",
       "</table>\n"
      ],
      "text/plain": [
       "<pandas.io.formats.style.Styler at 0x7ca6063534f0>"
      ]
     },
     "execution_count": 8,
     "metadata": {},
     "output_type": "execute_result"
    }
   ],
   "source": [
    "missing_counts = df.isnull().sum().sort_values(ascending=False) \n",
    "\n",
    "missing_df = pd.DataFrame({\n",
    "    'No. of Missing Values': missing_counts,\n",
    "    '% of Missing Values': round(missing_counts/len(df)*100, 3)  \n",
    "}) \n",
    "\n",
    "missing_df.style.background_gradient('magma')  "
   ]
  },
  {
   "cell_type": "code",
   "execution_count": 9,
   "id": "0b0a2d21",
   "metadata": {
    "execution": {
     "iopub.execute_input": "2025-06-21T05:45:42.372127Z",
     "iopub.status.busy": "2025-06-21T05:45:42.371566Z",
     "iopub.status.idle": "2025-06-21T05:45:42.765216Z",
     "shell.execute_reply": "2025-06-21T05:45:42.763853Z"
    },
    "papermill": {
     "duration": 0.412781,
     "end_time": "2025-06-21T05:45:42.767362",
     "exception": false,
     "start_time": "2025-06-21T05:45:42.354581",
     "status": "completed"
    },
    "tags": []
   },
   "outputs": [
    {
     "data": {
      "text/plain": [
       "<Axes: >"
      ]
     },
     "execution_count": 9,
     "metadata": {},
     "output_type": "execute_result"
    },
    {
     "data": {
      "image/png": "[encoded data removed]",
      "text/plain": [
       "<Figure size 640x480 with 1 Axes>"
      ]
     },
     "metadata": {},
     "output_type": "display_data"
    }
   ],
   "source": [
    "sns.heatmap(df.isnull(), yticklabels=False, cbar=False)   "
   ]
  },
  {
   "cell_type": "code",
   "execution_count": 10,
   "id": "eec67ade",
   "metadata": {
    "execution": {
     "iopub.execute_input": "2025-06-21T05:45:42.864052Z",
     "iopub.status.busy": "2025-06-21T05:45:42.863575Z",
     "iopub.status.idle": "2025-06-21T05:45:42.873517Z",
     "shell.execute_reply": "2025-06-21T05:45:42.872370Z"
    },
    "papermill": {
     "duration": 0.029685,
     "end_time": "2025-06-21T05:45:42.875484",
     "exception": false,
     "start_time": "2025-06-21T05:45:42.845799",
     "status": "completed"
    },
    "tags": []
   },
   "outputs": [
    {
     "data": {
      "text/plain": [
       "0"
      ]
     },
     "execution_count": 10,
     "metadata": {},
     "output_type": "execute_result"
    }
   ],
   "source": [
    "df.duplicated().sum() "
   ]
  },
  {
   "cell_type": "markdown",
   "id": "3c7abc29",
   "metadata": {
    "papermill": {
     "duration": 0.016536,
     "end_time": "2025-06-21T05:45:42.909900",
     "exception": false,
     "start_time": "2025-06-21T05:45:42.893364",
     "status": "completed"
    },
    "tags": []
   },
   "source": [
    "###  📝 ***Conclusions from Data Exploration***"
   ]
  },
  {
   "cell_type": "markdown",
   "id": "38e8e54a",
   "metadata": {
    "papermill": {
     "duration": 0.016383,
     "end_time": "2025-06-21T05:45:42.942717",
     "exception": false,
     "start_time": "2025-06-21T05:45:42.926334",
     "status": "completed"
    },
    "tags": []
   },
   "source": [
    "1. The columns have float datatypes are 2, integer datatype are 5, object datatype are 5. \n",
    "\n",
    "2. There are 891 rows and 12 columns in the DataFrame.\n",
    "\n",
    "3. Column Cabin has 687 missing values, Column Age has 177 and Column Embarked has 2 missing values.\n",
    "\n",
    "4. For Column Age, the maximum age is 80, and the minimum is 0.42 years old.\n",
    "\n",
    "5. The maximum fare is 512.329.  "
   ]
  },
  {
   "cell_type": "markdown",
   "id": "d92e8aba",
   "metadata": {
    "papermill": {
     "duration": 0.016051,
     "end_time": "2025-06-21T05:45:42.975901",
     "exception": false,
     "start_time": "2025-06-21T05:45:42.959850",
     "status": "completed"
    },
    "tags": []
   },
   "source": [
    "# 🔨  ***EDA with Visualization & Data Cleaning***  "
   ]
  },
  {
   "cell_type": "markdown",
   "id": "dbd04f83",
   "metadata": {
    "papermill": {
     "duration": 0.016985,
     "end_time": "2025-06-21T05:45:43.009325",
     "exception": false,
     "start_time": "2025-06-21T05:45:42.992340",
     "status": "completed"
    },
    "tags": []
   },
   "source": [
    "### 1.1 🔍 **Col: PassengerId**\n",
    "\n",
    "*  \"PassengerId\" is an arbitrary identifier assigned to each passenger, so I decide to delete it."
   ]
  },
  {
   "cell_type": "code",
   "execution_count": 11,
   "id": "820e98b4",
   "metadata": {
    "execution": {
     "iopub.execute_input": "2025-06-21T05:45:43.044137Z",
     "iopub.status.busy": "2025-06-21T05:45:43.043733Z",
     "iopub.status.idle": "2025-06-21T05:45:43.049942Z",
     "shell.execute_reply": "2025-06-21T05:45:43.048652Z"
    },
    "papermill": {
     "duration": 0.026428,
     "end_time": "2025-06-21T05:45:43.052439",
     "exception": false,
     "start_time": "2025-06-21T05:45:43.026011",
     "status": "completed"
    },
    "tags": []
   },
   "outputs": [],
   "source": [
    "df.drop(['PassengerId'], axis=1, inplace=True)        "
   ]
  },
  {
   "cell_type": "markdown",
   "id": "90181282",
   "metadata": {
    "papermill": {
     "duration": 0.018411,
     "end_time": "2025-06-21T05:45:43.088974",
     "exception": false,
     "start_time": "2025-06-21T05:45:43.070563",
     "status": "completed"
    },
    "tags": []
   },
   "source": [
    "###  **1.2 Survivial Distribution for Passengers**"
   ]
  },
  {
   "cell_type": "code",
   "execution_count": 12,
   "id": "ac85cd89",
   "metadata": {
    "execution": {
     "iopub.execute_input": "2025-06-21T05:45:43.124255Z",
     "iopub.status.busy": "2025-06-21T05:45:43.123908Z",
     "iopub.status.idle": "2025-06-21T05:45:43.129192Z",
     "shell.execute_reply": "2025-06-21T05:45:43.127958Z"
    },
    "papermill": {
     "duration": 0.025,
     "end_time": "2025-06-21T05:45:43.131195",
     "exception": false,
     "start_time": "2025-06-21T05:45:43.106195",
     "status": "completed"
    },
    "tags": []
   },
   "outputs": [],
   "source": [
    "sns.set_palette('Dark2')  "
   ]
  },
  {
   "cell_type": "code",
   "execution_count": 13,
   "id": "1740b639",
   "metadata": {
    "execution": {
     "iopub.execute_input": "2025-06-21T05:45:43.168094Z",
     "iopub.status.busy": "2025-06-21T05:45:43.167651Z",
     "iopub.status.idle": "2025-06-21T05:45:43.731615Z",
     "shell.execute_reply": "2025-06-21T05:45:43.730434Z"
    },
    "papermill": {
     "duration": 0.585136,
     "end_time": "2025-06-21T05:45:43.733561",
     "exception": false,
     "start_time": "2025-06-21T05:45:43.148425",
     "status": "completed"
    },
    "tags": []
   },
   "outputs": [
    {
     "data": {
      "text/plain": [
       "Text(0.5, 1.0, 'Countplot of Survival Status')"
      ]
     },
     "execution_count": 13,
     "metadata": {},
     "output_type": "execute_result"
    },
    {
     "data": {
      "image/png": "[encoded data removed]",
      "text/plain": [
       "<Figure size 1200x500 with 2 Axes>"
      ]
     },
     "metadata": {},
     "output_type": "display_data"
    }
   ],
   "source": [
    "fig, axes = plt.subplots(1,2,figsize=(12,5)) \n",
    "\n",
    "df['Survived'].value_counts().plot(kind='pie',\n",
    "                                   startangle= 90, \n",
    "                                   autopct = '%1.1f%%',\n",
    "                                   explode = [0.1,0],\n",
    "                                   shadow=True,\n",
    "                                   ax=axes[0])  \n",
    "\n",
    "axes[0].set(ylabel='') \n",
    "axes[0].set_title('Survival Rate', fontweight='bold') \n",
    "legend_map = {0:'0: Perished',\n",
    "              1: '1: Survived'} \n",
    "axes[0].legend(labels=[legend_map[0],legend_map[1]])\n",
    "plt.tight_layout() \n",
    "\n",
    "sns.countplot(data=df,\n",
    "              x='Survived', \n",
    "              ax=axes[1]) \n",
    "\n",
    "axes[1].set(ylabel='',\n",
    "            xlabel='Survival Status')    \n",
    "axes[1].set_title('Countplot of Survival Status',\n",
    "                 fontweight='bold')"
   ]
  },
  {
   "cell_type": "markdown",
   "id": "180b9523",
   "metadata": {
    "papermill": {
     "duration": 0.019863,
     "end_time": "2025-06-21T05:45:43.772163",
     "exception": false,
     "start_time": "2025-06-21T05:45:43.752300",
     "status": "completed"
    },
    "tags": []
   },
   "source": [
    "### 📝 ***Note*** :  \n",
    "\n",
    "* **The dataset is imbalanced with 38.4% survivors and 61.6% non-survivors.** "
   ]
  },
  {
   "cell_type": "markdown",
   "id": "4c564dd2",
   "metadata": {
    "papermill": {
     "duration": 0.017701,
     "end_time": "2025-06-21T05:45:43.808557",
     "exception": false,
     "start_time": "2025-06-21T05:45:43.790856",
     "status": "completed"
    },
    "tags": []
   },
   "source": [
    "### 2.1 🔍  **Col: Sex (Categorical Variables)**"
   ]
  },
  {
   "cell_type": "code",
   "execution_count": 14,
   "id": "bfbe16a9",
   "metadata": {
    "execution": {
     "iopub.execute_input": "2025-06-21T05:45:43.848895Z",
     "iopub.status.busy": "2025-06-21T05:45:43.848536Z",
     "iopub.status.idle": "2025-06-21T05:45:44.465604Z",
     "shell.execute_reply": "2025-06-21T05:45:44.464352Z"
    },
    "papermill": {
     "duration": 0.640302,
     "end_time": "2025-06-21T05:45:44.467428",
     "exception": false,
     "start_time": "2025-06-21T05:45:43.827126",
     "status": "completed"
    },
    "tags": []
   },
   "outputs": [
    {
     "data": {
      "text/plain": [
       "Text(0.5, 1.0, 'Countplot of Survival Status by Sex')"
      ]
     },
     "execution_count": 14,
     "metadata": {},
     "output_type": "execute_result"
    },
    {
     "data": {
      "image/png": "[encoded data removed]",
      "text/plain": [
       "<Figure size 1500x500 with 3 Axes>"
      ]
     },
     "metadata": {},
     "output_type": "display_data"
    }
   ],
   "source": [
    "fig, axes = plt.subplots(1,3, figsize=(15,5)) \n",
    "\n",
    "df['Sex'].value_counts().plot(kind='pie',\n",
    "                              autopct='%1.1f%%',\n",
    "                              startangle=90,\n",
    "                              explode=[0.1,0],\n",
    "                              shadow=True,\n",
    "                               ax=axes[0])\n",
    "\n",
    "axes[0].set(ylabel='')\n",
    "axes[0].set_title('Distribution of Sex', fontweight='bold', fontfamily='monospace')\n",
    "\n",
    "\n",
    "\n",
    "df.groupby('Sex')['Survived'].mean().plot(kind='bar',\n",
    "                                          width=0.7,\n",
    "                                          color=['#1b9e77', '#d95f02'],\n",
    "                                          ax=axes[1]) \n",
    "axes[1].set_title('Survival Rates by Sex', fontweight='bold', fontfamily='monospace' )\n",
    "\n",
    "\n",
    "\n",
    "sns.countplot(data=df, \n",
    "              x='Survived', \n",
    "              hue='Sex',\n",
    "              ax=axes[2]) \n",
    "axes[2].set(ylabel='')  \n",
    "axes[2].set_title('Countplot of Survival Status by Sex', fontweight='bold', fontfamily='monospace' )"
   ]
  },
  {
   "cell_type": "markdown",
   "id": "eed8598f",
   "metadata": {
    "papermill": {
     "duration": 0.01959,
     "end_time": "2025-06-21T05:45:44.507036",
     "exception": false,
     "start_time": "2025-06-21T05:45:44.487446",
     "status": "completed"
    },
    "tags": []
   },
   "source": [
    "### 📝 ***Note*** :  \n",
    "\n",
    "* **The pie chart reveals a notable gender disparity among Passengers, with males comprising a substantial majority(64.8%) compared to females(35.2%).**\n",
    "\n",
    "* **However, male passengers exhibited a drastically lower survival rate which was below 20%(over 450 perished), while females demonstrated a higher survival patteren at nearly 75%.**  "
   ]
  },
  {
   "cell_type": "markdown",
   "id": "031d160d",
   "metadata": {
    "papermill": {
     "duration": 0.018877,
     "end_time": "2025-06-21T05:45:44.545898",
     "exception": false,
     "start_time": "2025-06-21T05:45:44.527021",
     "status": "completed"
    },
    "tags": []
   },
   "source": [
    "### **2.2 Binary Encoding for Sex**"
   ]
  },
  {
   "cell_type": "code",
   "execution_count": 15,
   "id": "e14c7da2",
   "metadata": {
    "execution": {
     "iopub.execute_input": "2025-06-21T05:45:44.586427Z",
     "iopub.status.busy": "2025-06-21T05:45:44.585984Z",
     "iopub.status.idle": "2025-06-21T05:45:44.592590Z",
     "shell.execute_reply": "2025-06-21T05:45:44.591382Z"
    },
    "papermill": {
     "duration": 0.028749,
     "end_time": "2025-06-21T05:45:44.594313",
     "exception": false,
     "start_time": "2025-06-21T05:45:44.565564",
     "status": "completed"
    },
    "tags": []
   },
   "outputs": [],
   "source": [
    "df['Sex'] = df['Sex'].map({'male':0,\n",
    "                           'female':1})     "
   ]
  },
  {
   "cell_type": "markdown",
   "id": "04e24585",
   "metadata": {
    "papermill": {
     "duration": 0.020527,
     "end_time": "2025-06-21T05:45:44.634957",
     "exception": false,
     "start_time": "2025-06-21T05:45:44.614430",
     "status": "completed"
    },
    "tags": []
   },
   "source": [
    "### 3.1 🔍 **Col: Age (Continuous Variables)** "
   ]
  },
  {
   "cell_type": "code",
   "execution_count": 16,
   "id": "b6343c7b",
   "metadata": {
    "execution": {
     "iopub.execute_input": "2025-06-21T05:45:44.675572Z",
     "iopub.status.busy": "2025-06-21T05:45:44.675164Z",
     "iopub.status.idle": "2025-06-21T05:45:44.686480Z",
     "shell.execute_reply": "2025-06-21T05:45:44.685089Z"
    },
    "papermill": {
     "duration": 0.033824,
     "end_time": "2025-06-21T05:45:44.688463",
     "exception": false,
     "start_time": "2025-06-21T05:45:44.654639",
     "status": "completed"
    },
    "tags": []
   },
   "outputs": [
    {
     "data": {
      "text/plain": [
       "count    714.000000\n",
       "mean      29.699118\n",
       "std       14.526497\n",
       "min        0.420000\n",
       "25%       20.125000\n",
       "50%       28.000000\n",
       "75%       38.000000\n",
       "max       80.000000\n",
       "Name: Age, dtype: float64"
      ]
     },
     "execution_count": 16,
     "metadata": {},
     "output_type": "execute_result"
    }
   ],
   "source": [
    "df['Age'].describe()  "
   ]
  },
  {
   "cell_type": "code",
   "execution_count": 17,
   "id": "7c558e43",
   "metadata": {
    "execution": {
     "iopub.execute_input": "2025-06-21T05:45:44.731128Z",
     "iopub.status.busy": "2025-06-21T05:45:44.730721Z",
     "iopub.status.idle": "2025-06-21T05:45:45.130524Z",
     "shell.execute_reply": "2025-06-21T05:45:45.129155Z"
    },
    "papermill": {
     "duration": 0.424402,
     "end_time": "2025-06-21T05:45:45.132420",
     "exception": false,
     "start_time": "2025-06-21T05:45:44.708018",
     "status": "completed"
    },
    "tags": []
   },
   "outputs": [
    {
     "data": {
      "image/png": "[encoded data removed]",
      "text/plain": [
       "<Figure size 640x480 with 1 Axes>"
      ]
     },
     "metadata": {},
     "output_type": "display_data"
    }
   ],
   "source": [
    "sns.histplot(data=df, \n",
    "            x=df['Age'].dropna(),\n",
    "            bins=30, \n",
    "            kde=True) \n",
    "\n",
    "plt.ylabel('')\n",
    "plt.title('Distribution of Age without Missing Values')\n",
    "plt.show() "
   ]
  },
  {
   "cell_type": "markdown",
   "id": "dd45535a",
   "metadata": {
    "papermill": {
     "duration": 0.020011,
     "end_time": "2025-06-21T05:45:45.173858",
     "exception": false,
     "start_time": "2025-06-21T05:45:45.153847",
     "status": "completed"
    },
    "tags": []
   },
   "source": [
    "### **3.2 Predictive Mean Matching for Imputing Ages:**"
   ]
  },
  {
   "cell_type": "code",
   "execution_count": 18,
   "id": "91cdf55d",
   "metadata": {
    "execution": {
     "iopub.execute_input": "2025-06-21T05:45:45.217168Z",
     "iopub.status.busy": "2025-06-21T05:45:45.216816Z",
     "iopub.status.idle": "2025-06-21T05:45:45.230749Z",
     "shell.execute_reply": "2025-06-21T05:45:45.229640Z"
    },
    "papermill": {
     "duration": 0.037685,
     "end_time": "2025-06-21T05:45:45.232750",
     "exception": false,
     "start_time": "2025-06-21T05:45:45.195065",
     "status": "completed"
    },
    "tags": []
   },
   "outputs": [
    {
     "data": {
      "text/html": [
       "<div>\n",
       "<style scoped>\n",
       "    .dataframe tbody tr th:only-of-type {\n",
       "        vertical-align: middle;\n",
       "    }\n",
       "\n",
       "    .dataframe tbody tr th {\n",
       "        vertical-align: top;\n",
       "    }\n",
       "\n",
       "    .dataframe thead th {\n",
       "        text-align: right;\n",
       "    }\n",
       "</style>\n",
       "<table border=\"1\" class=\"dataframe\">\n",
       "  <thead>\n",
       "    <tr style=\"text-align: right;\">\n",
       "      <th></th>\n",
       "      <th>Pclass</th>\n",
       "      <th>Sex</th>\n",
       "      <th>Age</th>\n",
       "    </tr>\n",
       "  </thead>\n",
       "  <tbody>\n",
       "    <tr>\n",
       "      <th>0</th>\n",
       "      <td>1</td>\n",
       "      <td>0</td>\n",
       "      <td>21</td>\n",
       "    </tr>\n",
       "    <tr>\n",
       "      <th>1</th>\n",
       "      <td>1</td>\n",
       "      <td>1</td>\n",
       "      <td>9</td>\n",
       "    </tr>\n",
       "    <tr>\n",
       "      <th>2</th>\n",
       "      <td>2</td>\n",
       "      <td>0</td>\n",
       "      <td>9</td>\n",
       "    </tr>\n",
       "    <tr>\n",
       "      <th>3</th>\n",
       "      <td>2</td>\n",
       "      <td>1</td>\n",
       "      <td>2</td>\n",
       "    </tr>\n",
       "    <tr>\n",
       "      <th>4</th>\n",
       "      <td>3</td>\n",
       "      <td>0</td>\n",
       "      <td>94</td>\n",
       "    </tr>\n",
       "    <tr>\n",
       "      <th>5</th>\n",
       "      <td>3</td>\n",
       "      <td>1</td>\n",
       "      <td>42</td>\n",
       "    </tr>\n",
       "  </tbody>\n",
       "</table>\n",
       "</div>"
      ],
      "text/plain": [
       "   Pclass  Sex  Age\n",
       "0       1    0   21\n",
       "1       1    1    9\n",
       "2       2    0    9\n",
       "3       2    1    2\n",
       "4       3    0   94\n",
       "5       3    1   42"
      ]
     },
     "execution_count": 18,
     "metadata": {},
     "output_type": "execute_result"
    }
   ],
   "source": [
    "# Figure out the missing pattern of age: \n",
    "\n",
    "missing_age = df.groupby(['Pclass','Sex'], as_index=False)['Age'].apply(lambda x: x.isnull().sum())\n",
    " \n",
    "missing_age "
   ]
  },
  {
   "cell_type": "markdown",
   "id": "d01214d0",
   "metadata": {
    "papermill": {
     "duration": 0.020778,
     "end_time": "2025-06-21T05:45:45.277531",
     "exception": false,
     "start_time": "2025-06-21T05:45:45.256753",
     "status": "completed"
    },
    "tags": []
   },
   "source": [
    "### 📝 ***Note*** :  \n",
    "\n",
    "*  **Ages are numerical features, which is suitable for Predictive Mean Matching(PMM).**\n",
    "   \n",
    "*  **It's not normally distributed, a skewness towards younger passengers between 20-30 years old. --> PMM will preserve the original distribution of observed data.**\n",
    "\n",
    "   \n",
    "*  **I identified a patteren where missing ages are related to Passenger Class (the total count of missing ages in Class 3 is 136/177), and particularly higher among males among three classes. --> This suggests the data is not Missing Completely At Random(MCAR), but rather Missing At Random(MAR).** "
   ]
  },
  {
   "cell_type": "code",
   "execution_count": 19,
   "id": "f5aaf90f",
   "metadata": {
    "execution": {
     "iopub.execute_input": "2025-06-21T05:45:45.321081Z",
     "iopub.status.busy": "2025-06-21T05:45:45.320728Z",
     "iopub.status.idle": "2025-06-21T05:45:49.709610Z",
     "shell.execute_reply": "2025-06-21T05:45:49.708446Z"
    },
    "papermill": {
     "duration": 4.412984,
     "end_time": "2025-06-21T05:45:49.711768",
     "exception": false,
     "start_time": "2025-06-21T05:45:45.298784",
     "status": "completed"
    },
    "tags": []
   },
   "outputs": [],
   "source": [
    "# Apply Predictive Mean Matching to Impute Ages:  \n",
    "\n",
    "from sklearn.experimental import enable_iterative_imputer\n",
    "from sklearn.impute import IterativeImputer\n",
    "from sklearn.ensemble import RandomForestRegressor \n",
    "\n",
    "\n",
    "features = ['Pclass', 'Sex']   \n",
    "df_pmm = df[features+['Age']].copy()  \n",
    "\n",
    "imputer = IterativeImputer(estimator=RandomForestRegressor(min_samples_leaf=10), \n",
    "                           initial_strategy='mean', \n",
    "                           imputation_order='random',\n",
    "                           random_state=42)    \n",
    " \n",
    "df_pm_imputed = imputer.fit_transform(df_pmm)   \n",
    "df['Age_pmm'] = df_pm_imputed[:, -1]      "
   ]
  },
  {
   "cell_type": "code",
   "execution_count": 20,
   "id": "b15fbdd8",
   "metadata": {
    "execution": {
     "iopub.execute_input": "2025-06-21T05:45:49.755135Z",
     "iopub.status.busy": "2025-06-21T05:45:49.754779Z",
     "iopub.status.idle": "2025-06-21T05:45:50.139807Z",
     "shell.execute_reply": "2025-06-21T05:45:50.138187Z"
    },
    "papermill": {
     "duration": 0.409292,
     "end_time": "2025-06-21T05:45:50.142121",
     "exception": false,
     "start_time": "2025-06-21T05:45:49.732829",
     "status": "completed"
    },
    "tags": []
   },
   "outputs": [
    {
     "data": {
      "image/png": "[encoded data removed]",
      "text/plain": [
       "<Figure size 640x480 with 1 Axes>"
      ]
     },
     "metadata": {},
     "output_type": "display_data"
    }
   ],
   "source": [
    "# check distribution after PMM: \n",
    "\n",
    "sns.histplot(data=df, \n",
    "            x='Age_pmm',\n",
    "            bins=30, \n",
    "            kde=True) \n",
    "\n",
    "\n",
    "plt.ylabel('')\n",
    "plt.title('Distribution of Age after Predictive Mean Matching')\n",
    "plt.show()   "
   ]
  },
  {
   "cell_type": "markdown",
   "id": "4f72aa60",
   "metadata": {
    "papermill": {
     "duration": 0.022722,
     "end_time": "2025-06-21T05:45:50.187401",
     "exception": false,
     "start_time": "2025-06-21T05:45:50.164679",
     "status": "completed"
    },
    "tags": []
   },
   "source": [
    "### 4. 🔍 **Col: Ticket**\n"
   ]
  },
  {
   "cell_type": "code",
   "execution_count": 21,
   "id": "53e76b36",
   "metadata": {
    "execution": {
     "iopub.execute_input": "2025-06-21T05:45:50.235397Z",
     "iopub.status.busy": "2025-06-21T05:45:50.234986Z",
     "iopub.status.idle": "2025-06-21T05:45:50.242780Z",
     "shell.execute_reply": "2025-06-21T05:45:50.241584Z"
    },
    "papermill": {
     "duration": 0.034022,
     "end_time": "2025-06-21T05:45:50.244741",
     "exception": false,
     "start_time": "2025-06-21T05:45:50.210719",
     "status": "completed"
    },
    "tags": []
   },
   "outputs": [
    {
     "data": {
      "text/plain": [
       "0           A/5 21171\n",
       "1            PC 17599\n",
       "2    STON/O2. 3101282\n",
       "3              113803\n",
       "4              373450\n",
       "5              330877\n",
       "6               17463\n",
       "7              349909\n",
       "8              347742\n",
       "9              237736\n",
       "Name: Ticket, dtype: object"
      ]
     },
     "execution_count": 21,
     "metadata": {},
     "output_type": "execute_result"
    }
   ],
   "source": [
    "df['Ticket'][0:10] "
   ]
  },
  {
   "cell_type": "code",
   "execution_count": 22,
   "id": "5f49736f",
   "metadata": {
    "execution": {
     "iopub.execute_input": "2025-06-21T05:45:50.293167Z",
     "iopub.status.busy": "2025-06-21T05:45:50.292800Z",
     "iopub.status.idle": "2025-06-21T05:45:50.303064Z",
     "shell.execute_reply": "2025-06-21T05:45:50.301817Z"
    },
    "papermill": {
     "duration": 0.036817,
     "end_time": "2025-06-21T05:45:50.305033",
     "exception": false,
     "start_time": "2025-06-21T05:45:50.268216",
     "status": "completed"
    },
    "tags": []
   },
   "outputs": [
    {
     "data": {
      "text/plain": [
       "count        891\n",
       "unique       681\n",
       "top       347082\n",
       "freq           7\n",
       "Name: Ticket, dtype: object"
      ]
     },
     "execution_count": 22,
     "metadata": {},
     "output_type": "execute_result"
    }
   ],
   "source": [
    "df['Ticket'].describe()  "
   ]
  },
  {
   "cell_type": "markdown",
   "id": "1bbabd2e",
   "metadata": {
    "papermill": {
     "duration": 0.023912,
     "end_time": "2025-06-21T05:45:50.352643",
     "exception": false,
     "start_time": "2025-06-21T05:45:50.328731",
     "status": "completed"
    },
    "tags": []
   },
   "source": [
    "### 📝 ***Note*** : \n",
    "\n",
    "* **Ticket is a categorical variable that has **681 unique** values**.\n",
    "   \n",
    "* **Categorical variables with nearly as many levels as records are often not useful for prediction**."
   ]
  },
  {
   "cell_type": "markdown",
   "id": "8fda79b7",
   "metadata": {
    "papermill": {
     "duration": 0.023418,
     "end_time": "2025-06-21T05:45:50.399982",
     "exception": false,
     "start_time": "2025-06-21T05:45:50.376564",
     "status": "completed"
    },
    "tags": []
   },
   "source": [
    "### 5. 🔍 **Col: Cabin**  "
   ]
  },
  {
   "cell_type": "code",
   "execution_count": 23,
   "id": "1b2392de",
   "metadata": {
    "execution": {
     "iopub.execute_input": "2025-06-21T05:45:50.448121Z",
     "iopub.status.busy": "2025-06-21T05:45:50.447771Z",
     "iopub.status.idle": "2025-06-21T05:45:50.454916Z",
     "shell.execute_reply": "2025-06-21T05:45:50.453769Z"
    },
    "papermill": {
     "duration": 0.033017,
     "end_time": "2025-06-21T05:45:50.456750",
     "exception": false,
     "start_time": "2025-06-21T05:45:50.423733",
     "status": "completed"
    },
    "tags": []
   },
   "outputs": [
    {
     "data": {
      "text/plain": [
       "0     NaN\n",
       "1     C85\n",
       "2     NaN\n",
       "3    C123\n",
       "4     NaN\n",
       "5     NaN\n",
       "6     E46\n",
       "7     NaN\n",
       "8     NaN\n",
       "9     NaN\n",
       "Name: Cabin, dtype: object"
      ]
     },
     "execution_count": 23,
     "metadata": {},
     "output_type": "execute_result"
    }
   ],
   "source": [
    "df['Cabin'][0:10] "
   ]
  },
  {
   "cell_type": "code",
   "execution_count": 24,
   "id": "8ffe2c9b",
   "metadata": {
    "execution": {
     "iopub.execute_input": "2025-06-21T05:45:50.505604Z",
     "iopub.status.busy": "2025-06-21T05:45:50.505169Z",
     "iopub.status.idle": "2025-06-21T05:45:50.514922Z",
     "shell.execute_reply": "2025-06-21T05:45:50.513700Z"
    },
    "papermill": {
     "duration": 0.036186,
     "end_time": "2025-06-21T05:45:50.516729",
     "exception": false,
     "start_time": "2025-06-21T05:45:50.480543",
     "status": "completed"
    },
    "tags": []
   },
   "outputs": [
    {
     "data": {
      "text/plain": [
       "count         204\n",
       "unique        147\n",
       "top       B96 B98\n",
       "freq            4\n",
       "Name: Cabin, dtype: object"
      ]
     },
     "execution_count": 24,
     "metadata": {},
     "output_type": "execute_result"
    }
   ],
   "source": [
    "df['Cabin'].describe()  "
   ]
  },
  {
   "cell_type": "markdown",
   "id": "6ea696b8",
   "metadata": {
    "papermill": {
     "duration": 0.02376,
     "end_time": "2025-06-21T05:45:50.563912",
     "exception": false,
     "start_time": "2025-06-21T05:45:50.540152",
     "status": "completed"
    },
    "tags": []
   },
   "source": [
    "### 📝 ***Note*** : \n",
    "\n",
    "* **Column Cabin has 147 unique values, which may not be particularly useful for prediction.**\n",
    "\n",
    "* **Create a boolean column that indicates if the cabin is missing.**"
   ]
  },
  {
   "cell_type": "markdown",
   "id": "ea015aa1",
   "metadata": {
    "papermill": {
     "duration": 0.024103,
     "end_time": "2025-06-21T05:45:50.612588",
     "exception": false,
     "start_time": "2025-06-21T05:45:50.588485",
     "status": "completed"
    },
    "tags": []
   },
   "source": [
    "### 6. 🔍 **Passenger Class (Pclass)**  "
   ]
  },
  {
   "cell_type": "code",
   "execution_count": 25,
   "id": "b586ce1a",
   "metadata": {
    "execution": {
     "iopub.execute_input": "2025-06-21T05:45:50.661466Z",
     "iopub.status.busy": "2025-06-21T05:45:50.661025Z",
     "iopub.status.idle": "2025-06-21T05:45:51.461085Z",
     "shell.execute_reply": "2025-06-21T05:45:51.459746Z"
    },
    "papermill": {
     "duration": 0.827085,
     "end_time": "2025-06-21T05:45:51.463235",
     "exception": false,
     "start_time": "2025-06-21T05:45:50.636150",
     "status": "completed"
    },
    "tags": []
   },
   "outputs": [
    {
     "data": {
      "text/plain": [
       "Text(0.5, 1.0, 'Count of Survival Status in Three Classes')"
      ]
     },
     "execution_count": 25,
     "metadata": {},
     "output_type": "execute_result"
    },
    {
     "data": {
      "image/png": "[encoded data removed]",
      "text/plain": [
       "<Figure size 1600x500 with 3 Axes>"
      ]
     },
     "metadata": {},
     "output_type": "display_data"
    }
   ],
   "source": [
    "fig, axes = plt.subplots(1,3, figsize=(16,5)) \n",
    "\n",
    "df['Pclass'].value_counts().plot(kind='pie',\n",
    "                                 autopct='%1.1f%%',\n",
    "                                 startangle=90,\n",
    "                                 explode=[0.1,0,0],\n",
    "                                 shadow=True,\n",
    "                                 ax=axes[0])\n",
    "axes[0].set_ylabel('')\n",
    "axes[0].set_title('Distribution of Passengers in Three Classes',\n",
    "                  fontweight='bold')  \n",
    "\n",
    "\n",
    "df.groupby('Pclass')['Survived'].mean().plot(kind='bar',\n",
    "                                             width=0.7,\n",
    "                                             ax=axes[1]) \n",
    "\n",
    "axes[1].set_title('Survival Rates in Three Classes',\n",
    "                  fontweight='bold')\n",
    "\n",
    "\n",
    "sns.countplot(data=df,\n",
    "             x='Pclass', \n",
    "             hue='Survived',\n",
    "             ax=axes[2])\n",
    "axes[2].set_title('Count of Survival Status in Three Classes',\n",
    "                  fontweight='bold')  "
   ]
  },
  {
   "cell_type": "markdown",
   "id": "e24072e3",
   "metadata": {
    "papermill": {
     "duration": 0.025618,
     "end_time": "2025-06-21T05:45:51.515077",
     "exception": false,
     "start_time": "2025-06-21T05:45:51.489459",
     "status": "completed"
    },
    "tags": []
   },
   "source": [
    "### 7.1 🔍 **Embarked**  "
   ]
  },
  {
   "cell_type": "code",
   "execution_count": 26,
   "id": "2472dd1f",
   "metadata": {
    "execution": {
     "iopub.execute_input": "2025-06-21T05:45:51.567163Z",
     "iopub.status.busy": "2025-06-21T05:45:51.566830Z",
     "iopub.status.idle": "2025-06-21T05:45:52.261038Z",
     "shell.execute_reply": "2025-06-21T05:45:52.259799Z"
    },
    "papermill": {
     "duration": 0.722848,
     "end_time": "2025-06-21T05:45:52.263311",
     "exception": false,
     "start_time": "2025-06-21T05:45:51.540463",
     "status": "completed"
    },
    "tags": []
   },
   "outputs": [
    {
     "data": {
      "text/plain": [
       "Text(0.5, 1.0, 'Embarked vs. Pclass')"
      ]
     },
     "execution_count": 26,
     "metadata": {},
     "output_type": "execute_result"
    },
    {
     "data": {
      "image/png": "[encoded data removed]",
      "text/plain": [
       "<Figure size 1700x500 with 3 Axes>"
      ]
     },
     "metadata": {},
     "output_type": "display_data"
    }
   ],
   "source": [
    "fig, axes = plt.subplots(1,3, figsize=(17,5)) \n",
    "\n",
    "df['Embarked'].value_counts().plot(kind='pie',\n",
    "                                   startangle=90,\n",
    "                                   autopct='%1.1f%%',\n",
    "                                   explode=[0.1,0,0],\n",
    "                                   shadow=True,\n",
    "                                   ax=axes[0]) \n",
    "axes[0].set_ylabel('')\n",
    "axes[0].set_title('Distribution of Passengers at Three Embarkation Points',\n",
    "                    fontweight='bold') \n",
    "\n",
    "\n",
    "\n",
    "df.groupby('Embarked')['Survived'].mean().plot(kind='bar',\n",
    "                                               ax=axes[1]) \n",
    "axes[1].set_ylabel('Survival Rates')\n",
    "axes[1].set_title('Survival Rates at Three Boarding Locations',\n",
    "                    fontweight='bold')   \n",
    "\n",
    "\n",
    "\n",
    "\n",
    "sns.countplot(data=df,\n",
    "             x='Embarked',\n",
    "             hue='Pclass',\n",
    "             ax=axes[2]) \n",
    "axes[2].set_title('Embarked vs. Pclass',\n",
    "                  fontweight='bold') "
   ]
  },
  {
   "cell_type": "markdown",
   "id": "a69e6a8e",
   "metadata": {
    "papermill": {
     "duration": 0.027436,
     "end_time": "2025-06-21T05:45:52.319066",
     "exception": false,
     "start_time": "2025-06-21T05:45:52.291630",
     "status": "completed"
    },
    "tags": []
   },
   "source": [
    "### **7.2 One-Hot Coding for Embarked**"
   ]
  },
  {
   "cell_type": "code",
   "execution_count": 27,
   "id": "15e6b84f",
   "metadata": {
    "execution": {
     "iopub.execute_input": "2025-06-21T05:45:52.377222Z",
     "iopub.status.busy": "2025-06-21T05:45:52.376873Z",
     "iopub.status.idle": "2025-06-21T05:45:52.384872Z",
     "shell.execute_reply": "2025-06-21T05:45:52.383614Z"
    },
    "papermill": {
     "duration": 0.039755,
     "end_time": "2025-06-21T05:45:52.386810",
     "exception": false,
     "start_time": "2025-06-21T05:45:52.347055",
     "status": "completed"
    },
    "tags": []
   },
   "outputs": [],
   "source": [
    "embark = pd.get_dummies(df['Embarked'], drop_first=True, dtype=int) \n",
    "df = pd.concat([df, embark], axis=1)   "
   ]
  },
  {
   "cell_type": "markdown",
   "id": "c40dc18e",
   "metadata": {
    "papermill": {
     "duration": 0.027217,
     "end_time": "2025-06-21T05:45:52.442648",
     "exception": false,
     "start_time": "2025-06-21T05:45:52.415431",
     "status": "completed"
    },
    "tags": []
   },
   "source": [
    "### 8.1 🔍 **Col: Fare**  "
   ]
  },
  {
   "cell_type": "code",
   "execution_count": 28,
   "id": "689e4487",
   "metadata": {
    "execution": {
     "iopub.execute_input": "2025-06-21T05:45:52.501578Z",
     "iopub.status.busy": "2025-06-21T05:45:52.501090Z",
     "iopub.status.idle": "2025-06-21T05:45:53.712162Z",
     "shell.execute_reply": "2025-06-21T05:45:53.710999Z"
    },
    "papermill": {
     "duration": 1.24239,
     "end_time": "2025-06-21T05:45:53.713990",
     "exception": false,
     "start_time": "2025-06-21T05:45:52.471600",
     "status": "completed"
    },
    "tags": []
   },
   "outputs": [
    {
     "data": {
      "text/plain": [
       "Text(0.5, 1.0, 'Distribution of Fares in Third Class')"
      ]
     },
     "execution_count": 28,
     "metadata": {},
     "output_type": "execute_result"
    },
    {
     "data": {
      "image/png": "[encoded data removed]",
      "text/plain": [
       "<Figure size 2000x500 with 3 Axes>"
      ]
     },
     "metadata": {},
     "output_type": "display_data"
    }
   ],
   "source": [
    "fig, axes = plt.subplots(1,3, figsize=(20,5))\n",
    "\n",
    "sns.histplot(data = df[df['Pclass']==1]['Fare'],  \n",
    "             kde=True,\n",
    "             bins=30,\n",
    "             ax=axes[0])\n",
    "axes[0].set_title('Distribution of Fares in First Class',\n",
    "                  fontweight='bold') \n",
    "\n",
    "\n",
    "\n",
    "sns.histplot(data = df[df['Pclass']==2]['Fare'], \n",
    "             kde=True,\n",
    "             bins=30,\n",
    "             ax=axes[1])\n",
    "axes[1].set_title('Distribution of Fares in Second Class',\n",
    "                  fontweight='bold') \n",
    "\n",
    "\n",
    "\n",
    "sns.histplot(data = df[df['Pclass']==3]['Fare'], \n",
    "             kde=True, \n",
    "             bins=30,\n",
    "             ax=axes[2]) \n",
    "axes[2].set_title('Distribution of Fares in Third Class',\n",
    "                  fontweight='bold')  "
   ]
  },
  {
   "cell_type": "markdown",
   "id": "af3166be",
   "metadata": {
    "papermill": {
     "duration": 0.029485,
     "end_time": "2025-06-21T05:45:53.772650",
     "exception": false,
     "start_time": "2025-06-21T05:45:53.743165",
     "status": "completed"
    },
    "tags": []
   },
   "source": [
    "### **8.2 Detect the Outliers in Fare**    "
   ]
  },
  {
   "cell_type": "code",
   "execution_count": 29,
   "id": "7104f9dc",
   "metadata": {
    "execution": {
     "iopub.execute_input": "2025-06-21T05:45:53.836698Z",
     "iopub.status.busy": "2025-06-21T05:45:53.836210Z",
     "iopub.status.idle": "2025-06-21T05:45:56.326656Z",
     "shell.execute_reply": "2025-06-21T05:45:56.325545Z"
    },
    "papermill": {
     "duration": 2.524854,
     "end_time": "2025-06-21T05:45:56.328576",
     "exception": false,
     "start_time": "2025-06-21T05:45:53.803722",
     "status": "completed"
    },
    "tags": []
   },
   "outputs": [
    {
     "data": {
      "text/html": [
       "<html>\n",
       "<head><meta charset=\"utf-8\" /></head>\n",
       "<body>\n",
       "    <div>            <script src=\"https://cdnjs.cloudflare.com/ajax/libs/mathjax/2.7.5/MathJax.js?config=TeX-AMS-MML_SVG\"></script><script type=\"text/javascript\">if (window.MathJax && window.MathJax.Hub && window.MathJax.Hub.Config) {window.MathJax.Hub.Config({SVG: {font: \"STIX-Web\"}});}</script>                <script type=\"text/javascript\">window.PlotlyConfig = {MathJaxConfig: 'local'};</script>\n",
       "        <script charset=\"utf-8\" src=\"https://cdn.plot.ly/plotly-2.35.2.min.js\"></script>                <div id=\"4a0ecebd-69c5-45b6-a7f0-db861421c141\" class=\"plotly-graph-div\" style=\"height:400px; width:700px;\"></div>            <script type=\"text/javascript\">                                    window.PLOTLYENV=window.PLOTLYENV || {};                                    if (document.getElementById(\"4a0ecebd-69c5-45b6-a7f0-db861421c141\")) {                    Plotly.newPlot(                        \"4a0ecebd-69c5-45b6-a7f0-db861421c141\",                        [{\"alignmentgroup\":\"True\",\"hovertemplate\":\"Pclass=3\\u003cbr\\u003eFare=%{y}\\u003cextra\\u003e\\u003c\\u002fextra\\u003e\",\"legendgroup\":\"3\",\"marker\":{\"color\":\"#636efa\"},\"name\":\"3\",\"notched\":false,\"offsetgroup\":\"3\",\"orientation\":\"v\",\"showlegend\":true,\"x0\":\" \",\"xaxis\":\"x\",\"y\":[7.25,7.925,8.05,8.4583,21.075,11.1333,16.7,8.05,31.275,7.8542,29.125,18.0,7.225,8.0292,21.075,31.3875,7.225,7.8792,7.8958,7.75,7.2292,8.05,18.0,11.2417,9.475,7.8958,7.8792,8.05,15.5,7.75,21.6792,17.8,39.6875,7.8,7.2292,46.9,7.2292,27.9,15.2458,8.1583,7.925,8.6625,46.9,14.4542,56.4958,7.65,7.8958,8.05,12.475,9.0,9.5,7.7875,15.85,34.375,8.05,8.05,8.05,7.8542,20.575,7.25,8.05,7.8958,7.8958,8.6542,7.925,7.8958,7.65,7.775,7.8958,24.15,14.4542,8.05,9.825,14.4583,7.925,7.75,31.275,8.05,11.2417,7.75,7.1417,22.3583,6.975,7.8958,7.05,14.5,9.2167,15.2458,7.75,15.85,6.75,7.7958,34.375,8.05,14.5,7.3125,7.7333,8.05,8.6625,69.55,16.1,7.775,8.6625,39.6875,20.525,27.9,56.4958,29.125,11.1333,7.925,7.8542,25.4667,0.0,69.55,31.3875,22.025,15.5,15.5,7.8958,7.8542,7.75,8.4042,7.75,9.5,69.55,6.4958,7.225,8.05,10.4625,15.85,18.7875,7.75,7.05,7.25,7.75,7.925,8.05,8.05,7.8958,9.35,7.25,25.4667,7.775,31.3875,7.55,14.4542,15.5,7.125,7.225,7.775,7.25,10.4625,16.1,20.2125,15.2458,7.75,31.3875,7.75,39.6875,7.775,0.0,7.75,7.75,29.125,20.25,7.75,7.8542,9.5,8.05,8.6625,9.5,7.8958,7.75,8.85,7.8958,7.2292,7.75,23.25,0.0,8.05,7.8958,7.8542,7.25,7.8958,69.55,6.2375,20.525,23.25,18.0,7.8958,8.05,16.1,15.9,8.6625,9.225,7.2292,17.8,7.225,9.5,7.8792,7.8792,27.9,14.4542,7.05,15.5,7.25,7.2292,7.75,6.4958,8.05,21.075,7.25,4.0125,7.775,15.7417,7.925,7.8958,46.9,7.7292,7.7958,7.925,16.7,7.7958,7.8542,7.925,8.05,9.825,15.85,8.6625,7.75,7.775,25.4667,7.8958,6.8583,7.925,8.05,24.15,7.8958,7.7333,7.875,14.4,20.2125,7.25,7.75,8.05,16.1,7.125,34.375,9.5,7.775,8.1125,19.2583,19.9667,8.05,7.8958,7.75,8.05,8.05,7.05,7.725,19.2583,7.25,8.6625,9.8375,7.0458,7.5208,12.2875,46.9,8.05,9.5875,25.4667,8.05,15.9,19.9667,7.25,8.05,14.4583,15.1,7.7958,8.6625,7.75,7.6292,9.5875,22.525,56.4958,7.75,8.05,7.4958,24.15,7.8958,7.8958,7.225,7.2292,7.75,7.925,7.2292,7.2292,22.3583,8.6625,14.5,31.275,31.275,20.525,7.8292,7.225,7.775,17.4,7.75,7.8958,8.05,8.05,24.15,7.8958,21.075,7.2292,7.8542,7.75,8.05,14.5,14.4583,7.925,8.7125,8.05,8.05,7.125,7.25,7.75,24.15,0.0,7.225,7.8958,8.05,15.55,7.8958,31.275,7.05,15.5,7.75,8.05,14.4,16.1,14.4542,15.7417,7.8542,16.1,7.8958,7.7333,7.0542,27.9,7.925,39.6875,16.1,7.8542,27.9,56.4958,19.2583,7.8958,7.55,7.55,7.8958,8.4333,7.8292,6.75,7.8958,15.5,7.225,7.4958,7.925,7.775,8.05,7.775,8.05,9.8417,46.9,8.1375,9.225,46.9,39.6875,10.1708,7.7958,13.4167,56.4958,7.225,8.05,7.7333,7.65,14.4542,7.7417,7.8542,15.2458,9.4833,7.65,15.5,7.775,7.0542,8.6625,7.7375,7.925,18.7875,16.1,34.375,7.8958,7.8958,16.1,7.925,20.25,7.75,12.475,9.5,7.8958,7.7958,8.05,14.5,7.125,7.2292,7.775,7.75,24.15,8.3625,9.5,7.8542,7.225,7.75,7.75,12.475,7.7375,7.2292,23.45,7.05,7.25,7.4958,29.125,20.575,7.75,69.55,7.8958,8.6833,7.2292,24.15,8.5167,6.975,7.775,7.775,7.8875,24.15,31.275,8.05,7.925,6.45,27.9,8.6625,12.475,39.6875,6.95,56.4958,7.75,14.4542,7.2292,7.8542,8.3,8.6625,8.05,56.4958,7.925,6.4375,8.6625,7.55,69.55,7.8958,31.275,7.775,15.2458,9.35,19.2583,7.2292,14.1083,69.55,9.5,11.1333,7.8958,9.0,7.225,9.8458,7.8958,7.8958,7.8958,10.5167,7.05,29.125,23.45,7.75],\"y0\":\" \",\"yaxis\":\"y\",\"type\":\"box\"},{\"alignmentgroup\":\"True\",\"hovertemplate\":\"Pclass=1\\u003cbr\\u003eFare=%{y}\\u003cextra\\u003e\\u003c\\u002fextra\\u003e\",\"legendgroup\":\"1\",\"marker\":{\"color\":\"#EF553B\"},\"name\":\"1\",\"notched\":false,\"offsetgroup\":\"1\",\"orientation\":\"v\",\"showlegend\":true,\"x0\":\" \",\"xaxis\":\"x\",\"y\":[71.2833,53.1,51.8625,26.55,35.5,263.0,27.7208,146.5208,82.1708,52.0,76.7292,61.9792,35.5,80.0,83.475,27.7208,47.1,263.0,61.175,34.6542,63.3583,77.2875,52.0,247.5208,77.2875,26.2833,53.1,79.2,66.6,61.3792,55.0,25.925,33.5,30.6958,28.7125,50.0,26.55,27.7208,146.5208,31.0,113.275,76.2917,90.0,83.475,90.0,52.5542,26.55,79.2,86.5,512.3292,79.65,0.0,153.4625,135.6333,31.0,29.7,77.9583,26.0,78.85,91.0792,27.7208,151.55,30.5,247.5208,151.55,110.8833,108.9,56.9292,83.1583,262.375,164.8667,134.5,135.6333,57.9792,28.5,153.4625,133.65,66.6,134.5,35.5,263.0,35.0,55.0,75.25,69.3,55.4417,135.6333,82.1708,211.5,227.525,52.0,120.0,113.275,90.0,26.55,55.9,120.0,263.0,81.8583,26.55,30.5,27.75,89.1042,26.55,51.8625,26.55,38.5,26.55,52.0,91.0792,90.0,29.7,30.5,49.5042,78.2667,151.55,86.5,108.9,26.55,26.2875,59.4,34.0208,93.5,57.9792,221.7792,26.55,106.425,49.5,71.0,106.425,26.0,110.8833,26.55,39.6,227.525,79.65,51.4792,26.3875,55.9,110.8833,40.125,79.65,79.2,78.2667,56.9292,42.4,26.55,30.5,153.4625,52.5542,32.3208,77.9583,30.0,30.5,0.0,69.3,76.7292,35.5,113.275,133.65,25.5875,52.0,52.0,512.3292,76.7292,211.3375,57.0,26.55,110.8833,227.525,26.2875,26.2875,151.55,49.5042,26.55,52.0,227.525,53.1,211.3375,512.3292,30.0,78.85,262.375,71.0,53.1,86.5,120.0,77.9583,39.6,211.3375,57.0,30.0,79.2,30.6958,25.9292,120.0,0.0,53.1,0.0,93.5,0.0,80.0,83.1583,29.7,31.0,89.1042,39.4,164.8667,26.55,25.9292,50.4958,52.5542,5.0,83.1583,30.0,30.0],\"y0\":\" \",\"yaxis\":\"y\",\"type\":\"box\"},{\"alignmentgroup\":\"True\",\"hovertemplate\":\"Pclass=2\\u003cbr\\u003eFare=%{y}\\u003cextra\\u003e\\u003c\\u002fextra\\u003e\",\"legendgroup\":\"2\",\"marker\":{\"color\":\"#00cc96\"},\"name\":\"2\",\"notched\":false,\"offsetgroup\":\"2\",\"orientation\":\"v\",\"showlegend\":true,\"x0\":\" \",\"xaxis\":\"x\",\"y\":[30.0708,16.0,13.0,26.0,13.0,10.5,21.0,41.5792,26.0,10.5,27.75,10.5,10.5,73.5,29.0,10.5,23.0,26.0,21.0,73.5,30.0708,13.0,26.0,13.0,15.0458,11.5,36.75,26.0,13.0,12.525,15.75,13.0,15.05,39.0,13.0,13.0,26.0,13.0,21.0,13.0,27.0,10.5,13.0,10.5,13.0,13.5,10.5,26.0,26.25,10.5,12.275,10.5,14.5,26.0,26.0,10.5,19.5,0.0,13.0,12.875,12.35,24.0,26.0,26.25,26.0,14.0,12.35,29.0,13.0,26.0,13.0,13.0,13.0,13.0,13.0,13.0,27.7208,73.5,13.0,12.0,26.0,10.5,12.65,21.0,18.75,0.0,32.5,13.0,13.0,26.0,26.0,26.0,18.75,10.5,26.25,13.0,19.5,27.75,10.5,13.0,0.0,27.75,13.7917,21.0,0.0,26.0,10.5,26.0,10.5,11.5,26.0,26.25,26.0,26.0,13.8625,36.75,26.0,13.5,10.5,13.0,30.0,26.0,15.0,26.0,33.0,27.0,41.5792,65.0,39.0,10.5,12.35,13.0,26.25,23.0,73.5,13.0,73.5,13.0,39.0,10.5,13.0,0.0,39.0,41.5792,13.5,26.0,13.5,13.0,10.5,33.0,13.0,13.0,21.0,26.0,0.0,13.0,13.0,13.0,23.0,65.0,14.5,11.5,10.5,23.0,26.0,13.0,13.0,26.25,13.0,10.5,37.0042,37.0042,18.75,10.5,33.0,26.0,11.5,13.0,13.0,13.8583,24.0,26.0,10.5,13.0],\"y0\":\" \",\"yaxis\":\"y\",\"type\":\"box\"}],                        {\"template\":{\"data\":{\"histogram2dcontour\":[{\"type\":\"histogram2dcontour\",\"colorbar\":{\"outlinewidth\":0,\"ticks\":\"\"},\"colorscale\":[[0.0,\"#0d0887\"],[0.1111111111111111,\"#46039f\"],[0.2222222222222222,\"#7201a8\"],[0.3333333333333333,\"#9c179e\"],[0.4444444444444444,\"#bd3786\"],[0.5555555555555556,\"#d8576b\"],[0.6666666666666666,\"#ed7953\"],[0.7777777777777778,\"#fb9f3a\"],[0.8888888888888888,\"#fdca26\"],[1.0,\"#f0f921\"]]}],\"choropleth\":[{\"type\":\"choropleth\",\"colorbar\":{\"outlinewidth\":0,\"ticks\":\"\"}}],\"histogram2d\":[{\"type\":\"histogram2d\",\"colorbar\":{\"outlinewidth\":0,\"ticks\":\"\"},\"colorscale\":[[0.0,\"#0d0887\"],[0.1111111111111111,\"#46039f\"],[0.2222222222222222,\"#7201a8\"],[0.3333333333333333,\"#9c179e\"],[0.4444444444444444,\"#bd3786\"],[0.5555555555555556,\"#d8576b\"],[0.6666666666666666,\"#ed7953\"],[0.7777777777777778,\"#fb9f3a\"],[0.8888888888888888,\"#fdca26\"],[1.0,\"#f0f921\"]]}],\"heatmap\":[{\"type\":\"heatmap\",\"colorbar\":{\"outlinewidth\":0,\"ticks\":\"\"},\"colorscale\":[[0.0,\"#0d0887\"],[0.1111111111111111,\"#46039f\"],[0.2222222222222222,\"#7201a8\"],[0.3333333333333333,\"#9c179e\"],[0.4444444444444444,\"#bd3786\"],[0.5555555555555556,\"#d8576b\"],[0.6666666666666666,\"#ed7953\"],[0.7777777777777778,\"#fb9f3a\"],[0.8888888888888888,\"#fdca26\"],[1.0,\"#f0f921\"]]}],\"heatmapgl\":[{\"type\":\"heatmapgl\",\"colorbar\":{\"outlinewidth\":0,\"ticks\":\"\"},\"colorscale\":[[0.0,\"#0d0887\"],[0.1111111111111111,\"#46039f\"],[0.2222222222222222,\"#7201a8\"],[0.3333333333333333,\"#9c179e\"],[0.4444444444444444,\"#bd3786\"],[0.5555555555555556,\"#d8576b\"],[0.6666666666666666,\"#ed7953\"],[0.7777777777777778,\"#fb9f3a\"],[0.8888888888888888,\"#fdca26\"],[1.0,\"#f0f921\"]]}],\"contourcarpet\":[{\"type\":\"contourcarpet\",\"colorbar\":{\"outlinewidth\":0,\"ticks\":\"\"}}],\"contour\":[{\"type\":\"contour\",\"colorbar\":{\"outlinewidth\":0,\"ticks\":\"\"},\"colorscale\":[[0.0,\"#0d0887\"],[0.1111111111111111,\"#46039f\"],[0.2222222222222222,\"#7201a8\"],[0.3333333333333333,\"#9c179e\"],[0.4444444444444444,\"#bd3786\"],[0.5555555555555556,\"#d8576b\"],[0.6666666666666666,\"#ed7953\"],[0.7777777777777778,\"#fb9f3a\"],[0.8888888888888888,\"#fdca26\"],[1.0,\"#f0f921\"]]}],\"surface\":[{\"type\":\"surface\",\"colorbar\":{\"outlinewidth\":0,\"ticks\":\"\"},\"colorscale\":[[0.0,\"#0d0887\"],[0.1111111111111111,\"#46039f\"],[0.2222222222222222,\"#7201a8\"],[0.3333333333333333,\"#9c179e\"],[0.4444444444444444,\"#bd3786\"],[0.5555555555555556,\"#d8576b\"],[0.6666666666666666,\"#ed7953\"],[0.7777777777777778,\"#fb9f3a\"],[0.8888888888888888,\"#fdca26\"],[1.0,\"#f0f921\"]]}],\"mesh3d\":[{\"type\":\"mesh3d\",\"colorbar\":{\"outlinewidth\":0,\"ticks\":\"\"}}],\"scatter\":[{\"fillpattern\":{\"fillmode\":\"overlay\",\"size\":10,\"solidity\":0.2},\"type\":\"scatter\"}],\"parcoords\":[{\"type\":\"parcoords\",\"line\":{\"colorbar\":{\"outlinewidth\":0,\"ticks\":\"\"}}}],\"scatterpolargl\":[{\"type\":\"scatterpolargl\",\"marker\":{\"colorbar\":{\"outlinewidth\":0,\"ticks\":\"\"}}}],\"bar\":[{\"error_x\":{\"color\":\"#2a3f5f\"},\"error_y\":{\"color\":\"#2a3f5f\"},\"marker\":{\"line\":{\"color\":\"#E5ECF6\",\"width\":0.5},\"pattern\":{\"fillmode\":\"overlay\",\"size\":10,\"solidity\":0.2}},\"type\":\"bar\"}],\"scattergeo\":[{\"type\":\"scattergeo\",\"marker\":{\"colorbar\":{\"outlinewidth\":0,\"ticks\":\"\"}}}],\"scatterpolar\":[{\"type\":\"scatterpolar\",\"marker\":{\"colorbar\":{\"outlinewidth\":0,\"ticks\":\"\"}}}],\"histogram\":[{\"marker\":{\"pattern\":{\"fillmode\":\"overlay\",\"size\":10,\"solidity\":0.2}},\"type\":\"histogram\"}],\"scattergl\":[{\"type\":\"scattergl\",\"marker\":{\"colorbar\":{\"outlinewidth\":0,\"ticks\":\"\"}}}],\"scatter3d\":[{\"type\":\"scatter3d\",\"line\":{\"colorbar\":{\"outlinewidth\":0,\"ticks\":\"\"}},\"marker\":{\"colorbar\":{\"outlinewidth\":0,\"ticks\":\"\"}}}],\"scattermapbox\":[{\"type\":\"scattermapbox\",\"marker\":{\"colorbar\":{\"outlinewidth\":0,\"ticks\":\"\"}}}],\"scatterternary\":[{\"type\":\"scatterternary\",\"marker\":{\"colorbar\":{\"outlinewidth\":0,\"ticks\":\"\"}}}],\"scattercarpet\":[{\"type\":\"scattercarpet\",\"marker\":{\"colorbar\":{\"outlinewidth\":0,\"ticks\":\"\"}}}],\"carpet\":[{\"aaxis\":{\"endlinecolor\":\"#2a3f5f\",\"gridcolor\":\"white\",\"linecolor\":\"white\",\"minorgridcolor\":\"white\",\"startlinecolor\":\"#2a3f5f\"},\"baxis\":{\"endlinecolor\":\"#2a3f5f\",\"gridcolor\":\"white\",\"linecolor\":\"white\",\"minorgridcolor\":\"white\",\"startlinecolor\":\"#2a3f5f\"},\"type\":\"carpet\"}],\"table\":[{\"cells\":{\"fill\":{\"color\":\"#EBF0F8\"},\"line\":{\"color\":\"white\"}},\"header\":{\"fill\":{\"color\":\"#C8D4E3\"},\"line\":{\"color\":\"white\"}},\"type\":\"table\"}],\"barpolar\":[{\"marker\":{\"line\":{\"color\":\"#E5ECF6\",\"width\":0.5},\"pattern\":{\"fillmode\":\"overlay\",\"size\":10,\"solidity\":0.2}},\"type\":\"barpolar\"}],\"pie\":[{\"automargin\":true,\"type\":\"pie\"}]},\"layout\":{\"autotypenumbers\":\"strict\",\"colorway\":[\"#636efa\",\"#EF553B\",\"#00cc96\",\"#ab63fa\",\"#FFA15A\",\"#19d3f3\",\"#FF6692\",\"#B6E880\",\"#FF97FF\",\"#FECB52\"],\"font\":{\"color\":\"#2a3f5f\"},\"hovermode\":\"closest\",\"hoverlabel\":{\"align\":\"left\"},\"paper_bgcolor\":\"white\",\"plot_bgcolor\":\"#E5ECF6\",\"polar\":{\"bgcolor\":\"#E5ECF6\",\"angularaxis\":{\"gridcolor\":\"white\",\"linecolor\":\"white\",\"ticks\":\"\"},\"radialaxis\":{\"gridcolor\":\"white\",\"linecolor\":\"white\",\"ticks\":\"\"}},\"ternary\":{\"bgcolor\":\"#E5ECF6\",\"aaxis\":{\"gridcolor\":\"white\",\"linecolor\":\"white\",\"ticks\":\"\"},\"baxis\":{\"gridcolor\":\"white\",\"linecolor\":\"white\",\"ticks\":\"\"},\"caxis\":{\"gridcolor\":\"white\",\"linecolor\":\"white\",\"ticks\":\"\"}},\"coloraxis\":{\"colorbar\":{\"outlinewidth\":0,\"ticks\":\"\"}},\"colorscale\":{\"sequential\":[[0.0,\"#0d0887\"],[0.1111111111111111,\"#46039f\"],[0.2222222222222222,\"#7201a8\"],[0.3333333333333333,\"#9c179e\"],[0.4444444444444444,\"#bd3786\"],[0.5555555555555556,\"#d8576b\"],[0.6666666666666666,\"#ed7953\"],[0.7777777777777778,\"#fb9f3a\"],[0.8888888888888888,\"#fdca26\"],[1.0,\"#f0f921\"]],\"sequentialminus\":[[0.0,\"#0d0887\"],[0.1111111111111111,\"#46039f\"],[0.2222222222222222,\"#7201a8\"],[0.3333333333333333,\"#9c179e\"],[0.4444444444444444,\"#bd3786\"],[0.5555555555555556,\"#d8576b\"],[0.6666666666666666,\"#ed7953\"],[0.7777777777777778,\"#fb9f3a\"],[0.8888888888888888,\"#fdca26\"],[1.0,\"#f0f921\"]],\"diverging\":[[0,\"#8e0152\"],[0.1,\"#c51b7d\"],[0.2,\"#de77ae\"],[0.3,\"#f1b6da\"],[0.4,\"#fde0ef\"],[0.5,\"#f7f7f7\"],[0.6,\"#e6f5d0\"],[0.7,\"#b8e186\"],[0.8,\"#7fbc41\"],[0.9,\"#4d9221\"],[1,\"#276419\"]]},\"xaxis\":{\"gridcolor\":\"white\",\"linecolor\":\"white\",\"ticks\":\"\",\"title\":{\"standoff\":15},\"zerolinecolor\":\"white\",\"automargin\":true,\"zerolinewidth\":2},\"yaxis\":{\"gridcolor\":\"white\",\"linecolor\":\"white\",\"ticks\":\"\",\"title\":{\"standoff\":15},\"zerolinecolor\":\"white\",\"automargin\":true,\"zerolinewidth\":2},\"scene\":{\"xaxis\":{\"backgroundcolor\":\"#E5ECF6\",\"gridcolor\":\"white\",\"linecolor\":\"white\",\"showbackground\":true,\"ticks\":\"\",\"zerolinecolor\":\"white\",\"gridwidth\":2},\"yaxis\":{\"backgroundcolor\":\"#E5ECF6\",\"gridcolor\":\"white\",\"linecolor\":\"white\",\"showbackground\":true,\"ticks\":\"\",\"zerolinecolor\":\"white\",\"gridwidth\":2},\"zaxis\":{\"backgroundcolor\":\"#E5ECF6\",\"gridcolor\":\"white\",\"linecolor\":\"white\",\"showbackground\":true,\"ticks\":\"\",\"zerolinecolor\":\"white\",\"gridwidth\":2}},\"shapedefaults\":{\"line\":{\"color\":\"#2a3f5f\"}},\"annotationdefaults\":{\"arrowcolor\":\"#2a3f5f\",\"arrowhead\":0,\"arrowwidth\":1},\"geo\":{\"bgcolor\":\"white\",\"landcolor\":\"#E5ECF6\",\"subunitcolor\":\"white\",\"showland\":true,\"showlakes\":true,\"lakecolor\":\"white\"},\"title\":{\"x\":0.05},\"mapbox\":{\"style\":\"light\"}}},\"xaxis\":{\"anchor\":\"y\",\"domain\":[0.0,1.0]},\"yaxis\":{\"anchor\":\"x\",\"domain\":[0.0,1.0],\"title\":{\"text\":\"Fare\"}},\"legend\":{\"title\":{\"text\":\"Pclass\"},\"tracegroupgap\":0},\"title\":{\"text\":\"Detect Outliers of Fare\"},\"boxmode\":\"group\",\"height\":400,\"width\":700},                        {\"responsive\": true}                    ).then(function(){\n",
       "                            \n",
       "var gd = document.getElementById('4a0ecebd-69c5-45b6-a7f0-db861421c141');\n",
       "var x = new MutationObserver(function (mutations, observer) {{\n",
       "        var display = window.getComputedStyle(gd).display;\n",
       "        if (!display || display === 'none') {{\n",
       "            console.log([gd, 'removed!']);\n",
       "            Plotly.purge(gd);\n",
       "            observer.disconnect();\n",
       "        }}\n",
       "}});\n",
       "\n",
       "// Listen for the removal of the full notebook cells\n",
       "var notebookContainer = gd.closest('#notebook-container');\n",
       "if (notebookContainer) {{\n",
       "    x.observe(notebookContainer, {childList: true});\n",
       "}}\n",
       "\n",
       "// Listen for the clearing of the current output cell\n",
       "var outputEl = gd.closest('.output');\n",
       "if (outputEl) {{\n",
       "    x.observe(outputEl, {childList: true});\n",
       "}}\n",
       "\n",
       "                        })                };                            </script>        </div>\n",
       "</body>\n",
       "</html>"
      ]
     },
     "metadata": {},
     "output_type": "display_data"
    }
   ],
   "source": [
    "# Detect the Outliers of Fare:  \n",
    "\n",
    "fig = px.box(data_frame=df,\n",
    "             y='Fare',\n",
    "             color='Pclass', \n",
    "             title='Detect Outliers of Fare', \n",
    "             width=700,\n",
    "             height=400)\n",
    "fig.show() "
   ]
  },
  {
   "cell_type": "code",
   "execution_count": 30,
   "id": "08d2bc18",
   "metadata": {
    "execution": {
     "iopub.execute_input": "2025-06-21T05:45:56.395983Z",
     "iopub.status.busy": "2025-06-21T05:45:56.395569Z",
     "iopub.status.idle": "2025-06-21T05:45:56.412822Z",
     "shell.execute_reply": "2025-06-21T05:45:56.411494Z"
    },
    "papermill": {
     "duration": 0.051726,
     "end_time": "2025-06-21T05:45:56.414844",
     "exception": false,
     "start_time": "2025-06-21T05:45:56.363118",
     "status": "completed"
    },
    "tags": []
   },
   "outputs": [
    {
     "data": {
      "text/html": [
       "<div>\n",
       "<style scoped>\n",
       "    .dataframe tbody tr th:only-of-type {\n",
       "        vertical-align: middle;\n",
       "    }\n",
       "\n",
       "    .dataframe tbody tr th {\n",
       "        vertical-align: top;\n",
       "    }\n",
       "\n",
       "    .dataframe thead th {\n",
       "        text-align: right;\n",
       "    }\n",
       "</style>\n",
       "<table border=\"1\" class=\"dataframe\">\n",
       "  <thead>\n",
       "    <tr style=\"text-align: right;\">\n",
       "      <th></th>\n",
       "      <th>Survived</th>\n",
       "      <th>Pclass</th>\n",
       "      <th>Name</th>\n",
       "      <th>Sex</th>\n",
       "      <th>Age</th>\n",
       "      <th>SibSp</th>\n",
       "      <th>Parch</th>\n",
       "      <th>Ticket</th>\n",
       "      <th>Fare</th>\n",
       "      <th>Cabin</th>\n",
       "      <th>Embarked</th>\n",
       "      <th>Age_pmm</th>\n",
       "      <th>Q</th>\n",
       "      <th>S</th>\n",
       "    </tr>\n",
       "  </thead>\n",
       "  <tbody>\n",
       "    <tr>\n",
       "      <th>258</th>\n",
       "      <td>1</td>\n",
       "      <td>1</td>\n",
       "      <td>Ward, Miss. Anna</td>\n",
       "      <td>1</td>\n",
       "      <td>35.0</td>\n",
       "      <td>0</td>\n",
       "      <td>0</td>\n",
       "      <td>PC 17755</td>\n",
       "      <td>512.3292</td>\n",
       "      <td>NaN</td>\n",
       "      <td>C</td>\n",
       "      <td>35.0</td>\n",
       "      <td>0</td>\n",
       "      <td>0</td>\n",
       "    </tr>\n",
       "    <tr>\n",
       "      <th>679</th>\n",
       "      <td>1</td>\n",
       "      <td>1</td>\n",
       "      <td>Cardeza, Mr. Thomas Drake Martinez</td>\n",
       "      <td>0</td>\n",
       "      <td>36.0</td>\n",
       "      <td>0</td>\n",
       "      <td>1</td>\n",
       "      <td>PC 17755</td>\n",
       "      <td>512.3292</td>\n",
       "      <td>B51 B53 B55</td>\n",
       "      <td>C</td>\n",
       "      <td>36.0</td>\n",
       "      <td>0</td>\n",
       "      <td>0</td>\n",
       "    </tr>\n",
       "    <tr>\n",
       "      <th>737</th>\n",
       "      <td>1</td>\n",
       "      <td>1</td>\n",
       "      <td>Lesurer, Mr. Gustave J</td>\n",
       "      <td>0</td>\n",
       "      <td>35.0</td>\n",
       "      <td>0</td>\n",
       "      <td>0</td>\n",
       "      <td>PC 17755</td>\n",
       "      <td>512.3292</td>\n",
       "      <td>B101</td>\n",
       "      <td>C</td>\n",
       "      <td>35.0</td>\n",
       "      <td>0</td>\n",
       "      <td>0</td>\n",
       "    </tr>\n",
       "  </tbody>\n",
       "</table>\n",
       "</div>"
      ],
      "text/plain": [
       "     Survived  Pclass                                Name  Sex   Age  SibSp  \\\n",
       "258         1       1                    Ward, Miss. Anna    1  35.0      0   \n",
       "679         1       1  Cardeza, Mr. Thomas Drake Martinez    0  36.0      0   \n",
       "737         1       1              Lesurer, Mr. Gustave J    0  35.0      0   \n",
       "\n",
       "     Parch    Ticket      Fare        Cabin Embarked  Age_pmm  Q  S  \n",
       "258      0  PC 17755  512.3292          NaN        C     35.0  0  0  \n",
       "679      1  PC 17755  512.3292  B51 B53 B55        C     36.0  0  0  \n",
       "737      0  PC 17755  512.3292         B101        C     35.0  0  0  "
      ]
     },
     "execution_count": 30,
     "metadata": {},
     "output_type": "execute_result"
    }
   ],
   "source": [
    "highest_fare = np.where(df['Fare']==df['Fare'].max())\n",
    "df.loc[highest_fare]"
   ]
  },
  {
   "cell_type": "markdown",
   "id": "ab086095",
   "metadata": {
    "papermill": {
     "duration": 0.02971,
     "end_time": "2025-06-21T05:45:56.474906",
     "exception": false,
     "start_time": "2025-06-21T05:45:56.445196",
     "status": "completed"
    },
    "tags": []
   },
   "source": [
    "### 📝 ***Note*** :  \n",
    "\n",
    "* **I found that the highest fare in Class2 and Class3 would not be more than 70.**\n",
    "* **The shape of histogram in Class2 exhibated a bimodal distribution.** \n",
    "* **The three highest fares belonged to people from Class1 and they were all saved.** "
   ]
  },
  {
   "cell_type": "markdown",
   "id": "0314db06",
   "metadata": {
    "papermill": {
     "duration": 0.029493,
     "end_time": "2025-06-21T05:45:56.534201",
     "exception": false,
     "start_time": "2025-06-21T05:45:56.504708",
     "status": "completed"
    },
    "tags": []
   },
   "source": [
    "# 🎥   ***Feature Engineering & Statistical Analysis***   "
   ]
  },
  {
   "cell_type": "code",
   "execution_count": 31,
   "id": "420d12b4",
   "metadata": {
    "execution": {
     "iopub.execute_input": "2025-06-21T05:45:56.598522Z",
     "iopub.status.busy": "2025-06-21T05:45:56.598111Z",
     "iopub.status.idle": "2025-06-21T05:45:56.611756Z",
     "shell.execute_reply": "2025-06-21T05:45:56.609885Z"
    },
    "papermill": {
     "duration": 0.048318,
     "end_time": "2025-06-21T05:45:56.613936",
     "exception": false,
     "start_time": "2025-06-21T05:45:56.565618",
     "status": "completed"
    },
    "tags": []
   },
   "outputs": [
    {
     "name": "stdout",
     "output_type": "stream",
     "text": [
      "<class 'pandas.core.frame.DataFrame'>\n",
      "RangeIndex: 891 entries, 0 to 890\n",
      "Data columns (total 14 columns):\n",
      " #   Column    Non-Null Count  Dtype  \n",
      "---  ------    --------------  -----  \n",
      " 0   Survived  891 non-null    int64  \n",
      " 1   Pclass    891 non-null    int64  \n",
      " 2   Name      891 non-null    object \n",
      " 3   Sex       891 non-null    int64  \n",
      " 4   Age       714 non-null    float64\n",
      " 5   SibSp     891 non-null    int64  \n",
      " 6   Parch     891 non-null    int64  \n",
      " 7   Ticket    891 non-null    object \n",
      " 8   Fare      891 non-null    float64\n",
      " 9   Cabin     204 non-null    object \n",
      " 10  Embarked  889 non-null    object \n",
      " 11  Age_pmm   891 non-null    float64\n",
      " 12  Q         891 non-null    int64  \n",
      " 13  S         891 non-null    int64  \n",
      "dtypes: float64(3), int64(7), object(4)\n",
      "memory usage: 97.6+ KB\n"
     ]
    }
   ],
   "source": [
    "df.info()  "
   ]
  },
  {
   "cell_type": "markdown",
   "id": "511dc2d8",
   "metadata": {
    "papermill": {
     "duration": 0.030374,
     "end_time": "2025-06-21T05:45:56.677188",
     "exception": false,
     "start_time": "2025-06-21T05:45:56.646814",
     "status": "completed"
    },
    "tags": []
   },
   "source": [
    "### 1. 🔨 **Age Binning**  \n",
    "\n",
    "###  📊 **Data Science Perspective:** \n",
    "* **The Feature Age is a continuous variable that is not beneficial for machine learning modeling, so I decided to categorize them into different stages according to Developmental Psychology.** \n",
    "\n",
    "### 🧕🏾 **Social Psychology Perspective:** \n",
    "\n",
    " * **Social Norms in Altruism: social expectations and responsibilities --> Children and the Elderly first.** \n",
    "   "
   ]
  },
  {
   "cell_type": "code",
   "execution_count": 32,
   "id": "411637a9",
   "metadata": {
    "execution": {
     "iopub.execute_input": "2025-06-21T05:45:56.743490Z",
     "iopub.status.busy": "2025-06-21T05:45:56.743006Z",
     "iopub.status.idle": "2025-06-21T05:45:56.768032Z",
     "shell.execute_reply": "2025-06-21T05:45:56.766611Z"
    },
    "papermill": {
     "duration": 0.061019,
     "end_time": "2025-06-21T05:45:56.770106",
     "exception": false,
     "start_time": "2025-06-21T05:45:56.709087",
     "status": "completed"
    },
    "tags": []
   },
   "outputs": [
    {
     "data": {
      "text/html": [
       "<div>\n",
       "<style scoped>\n",
       "    .dataframe tbody tr th:only-of-type {\n",
       "        vertical-align: middle;\n",
       "    }\n",
       "\n",
       "    .dataframe tbody tr th {\n",
       "        vertical-align: top;\n",
       "    }\n",
       "\n",
       "    .dataframe thead th {\n",
       "        text-align: right;\n",
       "    }\n",
       "</style>\n",
       "<table border=\"1\" class=\"dataframe\">\n",
       "  <thead>\n",
       "    <tr style=\"text-align: right;\">\n",
       "      <th></th>\n",
       "      <th>Survived</th>\n",
       "      <th>Pclass</th>\n",
       "      <th>Name</th>\n",
       "      <th>Sex</th>\n",
       "      <th>Age</th>\n",
       "      <th>SibSp</th>\n",
       "      <th>Parch</th>\n",
       "      <th>Ticket</th>\n",
       "      <th>Fare</th>\n",
       "      <th>Cabin</th>\n",
       "      <th>Embarked</th>\n",
       "      <th>Age_pmm</th>\n",
       "      <th>Q</th>\n",
       "      <th>S</th>\n",
       "      <th>Age_Band</th>\n",
       "    </tr>\n",
       "  </thead>\n",
       "  <tbody>\n",
       "    <tr>\n",
       "      <th>89</th>\n",
       "      <td>0</td>\n",
       "      <td>3</td>\n",
       "      <td>Celotti, Mr. Francesco</td>\n",
       "      <td>0</td>\n",
       "      <td>24.0</td>\n",
       "      <td>0</td>\n",
       "      <td>0</td>\n",
       "      <td>343275</td>\n",
       "      <td>8.05</td>\n",
       "      <td>NaN</td>\n",
       "      <td>S</td>\n",
       "      <td>24.0</td>\n",
       "      <td>0</td>\n",
       "      <td>1</td>\n",
       "      <td>1</td>\n",
       "    </tr>\n",
       "    <tr>\n",
       "      <th>363</th>\n",
       "      <td>0</td>\n",
       "      <td>3</td>\n",
       "      <td>Asim, Mr. Adola</td>\n",
       "      <td>0</td>\n",
       "      <td>35.0</td>\n",
       "      <td>0</td>\n",
       "      <td>0</td>\n",
       "      <td>SOTON/O.Q. 3101310</td>\n",
       "      <td>7.05</td>\n",
       "      <td>NaN</td>\n",
       "      <td>S</td>\n",
       "      <td>35.0</td>\n",
       "      <td>0</td>\n",
       "      <td>1</td>\n",
       "      <td>2</td>\n",
       "    </tr>\n",
       "  </tbody>\n",
       "</table>\n",
       "</div>"
      ],
      "text/plain": [
       "     Survived  Pclass                    Name  Sex   Age  SibSp  Parch  \\\n",
       "89          0       3  Celotti, Mr. Francesco    0  24.0      0      0   \n",
       "363         0       3         Asim, Mr. Adola    0  35.0      0      0   \n",
       "\n",
       "                 Ticket  Fare Cabin Embarked  Age_pmm  Q  S  Age_Band  \n",
       "89               343275  8.05   NaN        S     24.0  0  1         1  \n",
       "363  SOTON/O.Q. 3101310  7.05   NaN        S     35.0  0  1         2  "
      ]
     },
     "execution_count": 32,
     "metadata": {},
     "output_type": "execute_result"
    }
   ],
   "source": [
    "df['Age_Band']=0 \n",
    "df.loc[df['Age_pmm']<12, 'Age_Band'] = 0                                     # Infancy --> Late Childhood  \n",
    "df.loc[(df['Age_pmm']>=12) & (df['Age_pmm']<25), 'Age_Band'] = 1             # Late Childhood --> Emerging Adulthood \n",
    "df.loc[(df['Age_pmm']>=25) & (df['Age_pmm']<40), 'Age_Band'] = 2             # Emerging Adulthood --> Early Adulthood \n",
    "df.loc[(df['Age_pmm']>=40) & (df['Age_pmm']<60), 'Age_Band'] = 3             # Early Adulthood --> Middle Adulthood\n",
    "df.loc[df['Age_pmm']>60, 'Age_Band'] = 4                                     # Middle Adulthood --> Late Adulthood  \n",
    "\n",
    "\n",
    "# check: \n",
    "df.sample(2) "
   ]
  },
  {
   "cell_type": "code",
   "execution_count": 33,
   "id": "ba0fa048",
   "metadata": {
    "execution": {
     "iopub.execute_input": "2025-06-21T05:45:56.835475Z",
     "iopub.status.busy": "2025-06-21T05:45:56.835048Z",
     "iopub.status.idle": "2025-06-21T05:45:57.099581Z",
     "shell.execute_reply": "2025-06-21T05:45:57.098406Z"
    },
    "papermill": {
     "duration": 0.30026,
     "end_time": "2025-06-21T05:45:57.101526",
     "exception": false,
     "start_time": "2025-06-21T05:45:56.801266",
     "status": "completed"
    },
    "tags": []
   },
   "outputs": [
    {
     "data": {
      "text/plain": [
       "<Axes: title={'center': 'Survival Rates vs. Age Groups'}, xlabel='Age_Band'>"
      ]
     },
     "execution_count": 33,
     "metadata": {},
     "output_type": "execute_result"
    },
    {
     "data": {
      "image/png": "[encoded data removed]",
      "text/plain": [
       "<Figure size 640x480 with 1 Axes>"
      ]
     },
     "metadata": {},
     "output_type": "display_data"
    }
   ],
   "source": [
    "df.groupby('Age_Band')['Survived'].mean().plot(kind='bar',\n",
    "                                               width=0.7,\n",
    "                                               title='Survival Rates vs. Age Groups')   "
   ]
  },
  {
   "cell_type": "markdown",
   "id": "b98f232d",
   "metadata": {
    "papermill": {
     "duration": 0.030638,
     "end_time": "2025-06-21T05:45:57.164627",
     "exception": false,
     "start_time": "2025-06-21T05:45:57.133989",
     "status": "completed"
    },
    "tags": []
   },
   "source": [
    "### 2. 🛠️ ***Feature Engineering of Ticket*** : "
   ]
  },
  {
   "cell_type": "markdown",
   "id": "80202502",
   "metadata": {
    "papermill": {
     "duration": 0.031255,
     "end_time": "2025-06-21T05:45:57.227695",
     "exception": false,
     "start_time": "2025-06-21T05:45:57.196440",
     "status": "completed"
    },
    "tags": []
   },
   "source": [
    "\n",
    "        1. Extract prefix from tickets containing letters. \n",
    "        \n",
    "        2. Create a new column that transforms prefixes to numeric values according to the mean of 'Survived' group by Passenger Class and Ticket_Prefix. \n",
    "        \n",
    "        3. Create a boolean column indicating if the ticket is purely numeric.\n",
    "        \n",
    "        4. Count the frequency of each ticket.  "
   ]
  },
  {
   "cell_type": "code",
   "execution_count": 34,
   "id": "67b4500b",
   "metadata": {
    "execution": {
     "iopub.execute_input": "2025-06-21T05:45:57.293894Z",
     "iopub.status.busy": "2025-06-21T05:45:57.293521Z",
     "iopub.status.idle": "2025-06-21T05:45:57.307393Z",
     "shell.execute_reply": "2025-06-21T05:45:57.305983Z"
    },
    "papermill": {
     "duration": 0.050718,
     "end_time": "2025-06-21T05:45:57.309509",
     "exception": false,
     "start_time": "2025-06-21T05:45:57.258791",
     "status": "completed"
    },
    "tags": []
   },
   "outputs": [],
   "source": [
    "def extract_prefix(ticket):\n",
    "    parts = ticket.replace('.', '').replace('/', '').split() \n",
    "    prefix = [p for p in parts if not p.isdigit()] \n",
    "    return prefix[0] if prefix else 'None' \n",
    "\n",
    "df['Ticket_Prefix'] = df['Ticket'].apply(extract_prefix) \n",
    "\n",
    "df['Pclass_Prefix_Survival_Rate']= df.groupby(['Pclass', 'Ticket_Prefix'])['Survived'].transform('mean')\n",
    "\n",
    "df['Ticket_IsNumeric'] = df['Ticket'].apply(lambda x: x.isdigit()).astype(int)\n",
    "\n",
    "ticket_counts = df['Ticket'].value_counts() \n",
    "df['Ticket_Frequency'] = df['Ticket'].map(ticket_counts)     "
   ]
  },
  {
   "cell_type": "markdown",
   "id": "6284a966",
   "metadata": {
    "papermill": {
     "duration": 0.032004,
     "end_time": "2025-06-21T05:45:57.373694",
     "exception": false,
     "start_time": "2025-06-21T05:45:57.341690",
     "status": "completed"
    },
    "tags": []
   },
   "source": [
    "### 3. 🛠️ **Fare Binning**  \n",
    "\n",
    "###  📊 **Data Science Perspective:** \n",
    "\n",
    "* **Fare is also a continuous feature; categorizing them into ordinal values through binning would be more suitable for modeling.**  \n",
    "\n",
    "### 🧕🏾 **Social Psychology Perspective:** \n",
    "\n",
    "  1. **Social Stratification describes how society categorizes people in different hierarchies and groups them in one society based on factors like their wealth, income, and social power/status. It will create unequal access to opportunities and resources.**\n",
    "  2. **Application on Titanic: As evidenced by the histograms of fare distribution across the three classes, higher fares represent a higher class. Consequently, passengers who paid more (predominantly those in first and second class) gained disproportionate access to survival resources and opportunities during the disaster.** "
   ]
  },
  {
   "cell_type": "code",
   "execution_count": 35,
   "id": "c43c5c44",
   "metadata": {
    "execution": {
     "iopub.execute_input": "2025-06-21T05:45:57.442667Z",
     "iopub.status.busy": "2025-06-21T05:45:57.442208Z",
     "iopub.status.idle": "2025-06-21T05:45:57.457971Z",
     "shell.execute_reply": "2025-06-21T05:45:57.456584Z"
    },
    "papermill": {
     "duration": 0.051486,
     "end_time": "2025-06-21T05:45:57.460065",
     "exception": false,
     "start_time": "2025-06-21T05:45:57.408579",
     "status": "completed"
    },
    "tags": []
   },
   "outputs": [],
   "source": [
    "df['Fare_Range'] = pd.qcut(df['Fare'],4)  "
   ]
  },
  {
   "cell_type": "code",
   "execution_count": 36,
   "id": "5c98897e",
   "metadata": {
    "execution": {
     "iopub.execute_input": "2025-06-21T05:45:57.525269Z",
     "iopub.status.busy": "2025-06-21T05:45:57.524914Z",
     "iopub.status.idle": "2025-06-21T05:45:57.535183Z",
     "shell.execute_reply": "2025-06-21T05:45:57.534103Z"
    },
    "papermill": {
     "duration": 0.044652,
     "end_time": "2025-06-21T05:45:57.536981",
     "exception": false,
     "start_time": "2025-06-21T05:45:57.492329",
     "status": "completed"
    },
    "tags": []
   },
   "outputs": [],
   "source": [
    "df['Fare_Band'] = 0 \n",
    "\n",
    "df.loc[df['Fare']<=7.91, 'Fare_Band'] = 0 \n",
    "df.loc[(df['Fare']>7.91) & (df['Fare']<=14.454), 'Fare_Band'] = 1 \n",
    "df.loc[(df['Fare']>14.454) & (df['Fare']<=31.0), 'Fare_Band'] = 2\n",
    "df.loc[(df['Fare']>31.0) & (df['Fare']<=512.329), 'Fare_Band'] = 3 "
   ]
  },
  {
   "cell_type": "code",
   "execution_count": 37,
   "id": "2d2088e1",
   "metadata": {
    "execution": {
     "iopub.execute_input": "2025-06-21T05:45:57.602156Z",
     "iopub.status.busy": "2025-06-21T05:45:57.601773Z",
     "iopub.status.idle": "2025-06-21T05:45:57.624499Z",
     "shell.execute_reply": "2025-06-21T05:45:57.623410Z"
    },
    "papermill": {
     "duration": 0.056619,
     "end_time": "2025-06-21T05:45:57.626359",
     "exception": false,
     "start_time": "2025-06-21T05:45:57.569740",
     "status": "completed"
    },
    "tags": []
   },
   "outputs": [
    {
     "data": {
      "text/html": [
       "<div>\n",
       "<style scoped>\n",
       "    .dataframe tbody tr th:only-of-type {\n",
       "        vertical-align: middle;\n",
       "    }\n",
       "\n",
       "    .dataframe tbody tr th {\n",
       "        vertical-align: top;\n",
       "    }\n",
       "\n",
       "    .dataframe thead th {\n",
       "        text-align: right;\n",
       "    }\n",
       "</style>\n",
       "<table border=\"1\" class=\"dataframe\">\n",
       "  <thead>\n",
       "    <tr style=\"text-align: right;\">\n",
       "      <th></th>\n",
       "      <th>Survived</th>\n",
       "      <th>Pclass</th>\n",
       "      <th>Name</th>\n",
       "      <th>Sex</th>\n",
       "      <th>Age</th>\n",
       "      <th>SibSp</th>\n",
       "      <th>Parch</th>\n",
       "      <th>Ticket</th>\n",
       "      <th>Fare</th>\n",
       "      <th>Cabin</th>\n",
       "      <th>...</th>\n",
       "      <th>Age_pmm</th>\n",
       "      <th>Q</th>\n",
       "      <th>S</th>\n",
       "      <th>Age_Band</th>\n",
       "      <th>Ticket_Prefix</th>\n",
       "      <th>Pclass_Prefix_Survival_Rate</th>\n",
       "      <th>Ticket_IsNumeric</th>\n",
       "      <th>Ticket_Frequency</th>\n",
       "      <th>Fare_Range</th>\n",
       "      <th>Fare_Band</th>\n",
       "    </tr>\n",
       "  </thead>\n",
       "  <tbody>\n",
       "    <tr>\n",
       "      <th>854</th>\n",
       "      <td>0</td>\n",
       "      <td>2</td>\n",
       "      <td>Carter, Mrs. Ernest Courtenay (Lilian Hughes)</td>\n",
       "      <td>1</td>\n",
       "      <td>44.0</td>\n",
       "      <td>1</td>\n",
       "      <td>0</td>\n",
       "      <td>244252</td>\n",
       "      <td>26.0</td>\n",
       "      <td>NaN</td>\n",
       "      <td>...</td>\n",
       "      <td>44.0</td>\n",
       "      <td>0</td>\n",
       "      <td>1</td>\n",
       "      <td>3</td>\n",
       "      <td>None</td>\n",
       "      <td>0.480315</td>\n",
       "      <td>1</td>\n",
       "      <td>2</td>\n",
       "      <td>(14.454, 31.0]</td>\n",
       "      <td>2</td>\n",
       "    </tr>\n",
       "    <tr>\n",
       "      <th>520</th>\n",
       "      <td>1</td>\n",
       "      <td>1</td>\n",
       "      <td>Perreault, Miss. Anne</td>\n",
       "      <td>1</td>\n",
       "      <td>30.0</td>\n",
       "      <td>0</td>\n",
       "      <td>0</td>\n",
       "      <td>12749</td>\n",
       "      <td>93.5</td>\n",
       "      <td>B73</td>\n",
       "      <td>...</td>\n",
       "      <td>30.0</td>\n",
       "      <td>0</td>\n",
       "      <td>1</td>\n",
       "      <td>2</td>\n",
       "      <td>None</td>\n",
       "      <td>0.631579</td>\n",
       "      <td>1</td>\n",
       "      <td>2</td>\n",
       "      <td>(31.0, 512.329]</td>\n",
       "      <td>3</td>\n",
       "    </tr>\n",
       "  </tbody>\n",
       "</table>\n",
       "<p>2 rows × 21 columns</p>\n",
       "</div>"
      ],
      "text/plain": [
       "     Survived  Pclass                                           Name  Sex  \\\n",
       "854         0       2  Carter, Mrs. Ernest Courtenay (Lilian Hughes)    1   \n",
       "520         1       1                          Perreault, Miss. Anne    1   \n",
       "\n",
       "      Age  SibSp  Parch  Ticket  Fare Cabin  ... Age_pmm  Q  S  Age_Band  \\\n",
       "854  44.0      1      0  244252  26.0   NaN  ...    44.0  0  1         3   \n",
       "520  30.0      0      0   12749  93.5   B73  ...    30.0  0  1         2   \n",
       "\n",
       "     Ticket_Prefix Pclass_Prefix_Survival_Rate  Ticket_IsNumeric  \\\n",
       "854           None                    0.480315                 1   \n",
       "520           None                    0.631579                 1   \n",
       "\n",
       "     Ticket_Frequency       Fare_Range Fare_Band  \n",
       "854                 2   (14.454, 31.0]         2  \n",
       "520                 2  (31.0, 512.329]         3  \n",
       "\n",
       "[2 rows x 21 columns]"
      ]
     },
     "execution_count": 37,
     "metadata": {},
     "output_type": "execute_result"
    }
   ],
   "source": [
    "df.sample(2)"
   ]
  },
  {
   "cell_type": "code",
   "execution_count": 38,
   "id": "af9d953f",
   "metadata": {
    "execution": {
     "iopub.execute_input": "2025-06-21T05:45:57.692422Z",
     "iopub.status.busy": "2025-06-21T05:45:57.692039Z",
     "iopub.status.idle": "2025-06-21T05:45:57.949854Z",
     "shell.execute_reply": "2025-06-21T05:45:57.948643Z"
    },
    "papermill": {
     "duration": 0.292813,
     "end_time": "2025-06-21T05:45:57.951861",
     "exception": false,
     "start_time": "2025-06-21T05:45:57.659048",
     "status": "completed"
    },
    "tags": []
   },
   "outputs": [
    {
     "data": {
      "text/plain": [
       "<Axes: title={'center': 'Survival Rates vs. Fare Groups'}, xlabel='Fare_Band'>"
      ]
     },
     "execution_count": 38,
     "metadata": {},
     "output_type": "execute_result"
    },
    {
     "data": {
      "image/png": "[encoded data removed]",
      "text/plain": [
       "<Figure size 640x480 with 1 Axes>"
      ]
     },
     "metadata": {},
     "output_type": "display_data"
    }
   ],
   "source": [
    "# the relationship between Fare Band and Survival Status: \n",
    "\n",
    "df.groupby(['Fare_Band'])['Survived'].mean().plot(kind='bar',\n",
    "                                                  width=0.7,\n",
    "                                                  title='Survival Rates vs. Fare Groups')  "
   ]
  },
  {
   "cell_type": "markdown",
   "id": "51d4437e",
   "metadata": {
    "papermill": {
     "duration": 0.031774,
     "end_time": "2025-06-21T05:45:58.016820",
     "exception": false,
     "start_time": "2025-06-21T05:45:57.985046",
     "status": "completed"
    },
    "tags": []
   },
   "source": [
    " ### **🛠️ 4. Create a new feature: Has_Cabin**  "
   ]
  },
  {
   "cell_type": "code",
   "execution_count": 39,
   "id": "d5cf78f7",
   "metadata": {
    "execution": {
     "iopub.execute_input": "2025-06-21T05:45:58.082778Z",
     "iopub.status.busy": "2025-06-21T05:45:58.082379Z",
     "iopub.status.idle": "2025-06-21T05:45:58.088241Z",
     "shell.execute_reply": "2025-06-21T05:45:58.087011Z"
    },
    "papermill": {
     "duration": 0.040583,
     "end_time": "2025-06-21T05:45:58.090061",
     "exception": false,
     "start_time": "2025-06-21T05:45:58.049478",
     "status": "completed"
    },
    "tags": []
   },
   "outputs": [],
   "source": [
    "df['Has_Cabin'] = df['Cabin'].notna().astype(int)         "
   ]
  },
  {
   "cell_type": "code",
   "execution_count": 40,
   "id": "2c80501a",
   "metadata": {
    "execution": {
     "iopub.execute_input": "2025-06-21T05:45:58.157986Z",
     "iopub.status.busy": "2025-06-21T05:45:58.157493Z",
     "iopub.status.idle": "2025-06-21T05:45:58.412785Z",
     "shell.execute_reply": "2025-06-21T05:45:58.411586Z"
    },
    "papermill": {
     "duration": 0.292189,
     "end_time": "2025-06-21T05:45:58.414817",
     "exception": false,
     "start_time": "2025-06-21T05:45:58.122628",
     "status": "completed"
    },
    "tags": []
   },
   "outputs": [
    {
     "data": {
      "image/png": "[encoded data removed]",
      "text/plain": [
       "<Figure size 640x480 with 1 Axes>"
      ]
     },
     "metadata": {},
     "output_type": "display_data"
    }
   ],
   "source": [
    "sns.barplot(data=df,\n",
    "            x = 'Pclass', \n",
    "            y = 'Has_Cabin') \n",
    "\n",
    "plt.title('Has_Cabin vs. Pclass',\n",
    "          fontweight='bold') \n",
    "plt.show() "
   ]
  },
  {
   "cell_type": "code",
   "execution_count": 41,
   "id": "acaf83c6",
   "metadata": {
    "execution": {
     "iopub.execute_input": "2025-06-21T05:45:58.482024Z",
     "iopub.status.busy": "2025-06-21T05:45:58.481649Z",
     "iopub.status.idle": "2025-06-21T05:45:58.767852Z",
     "shell.execute_reply": "2025-06-21T05:45:58.766545Z"
    },
    "papermill": {
     "duration": 0.322186,
     "end_time": "2025-06-21T05:45:58.769828",
     "exception": false,
     "start_time": "2025-06-21T05:45:58.447642",
     "status": "completed"
    },
    "tags": []
   },
   "outputs": [
    {
     "name": "stdout",
     "output_type": "stream",
     "text": [
      "\n",
      " === Contingency Table === \n",
      "\n",
      "Survived     0    1\n",
      "Has_Cabin          \n",
      "0          481  206\n",
      "1           68  136 \n",
      "\n"
     ]
    },
    {
     "data": {
      "image/png": "[encoded data removed]",
      "text/plain": [
       "<Figure size 700x500 with 2 Axes>"
      ]
     },
     "metadata": {},
     "output_type": "display_data"
    },
    {
     "name": "stdout",
     "output_type": "stream",
     "text": [
      "- Chi-square statistics:  87.9415\n",
      "- P_value: 0.0000\n",
      "- Degrees of freedom: 1\n",
      "- Expected frequency: \n",
      " [[423.3030303 263.6969697]\n",
      " [125.6969697  78.3030303]]\n"
     ]
    }
   ],
   "source": [
    "contingency_table = pd.crosstab(df['Has_Cabin'], df['Survived']) \n",
    "print('\\n === Contingency Table === \\n') \n",
    "print(contingency_table, '\\n')\n",
    "\n",
    "\n",
    "plt.figure(figsize=(7,5))  \n",
    "\n",
    "sns.heatmap(contingency_table, annot=True, fmt='d', cmap='Blues') \n",
    "\n",
    "plt.title('Has_Cabin vs. Survival Status') \n",
    "plt.show() \n",
    "\n",
    "chi2, p, dof, expected = chi2_contingency(contingency_table)\n",
    "print(f'- Chi-square statistics: {chi2: .4f}') \n",
    "print(f'- P_value: {p:.4f}') \n",
    "print(f'- Degrees of freedom: {dof}') \n",
    "print(f'- Expected frequency: \\n {expected}')  "
   ]
  },
  {
   "cell_type": "markdown",
   "id": "4eb78a3b",
   "metadata": {
    "papermill": {
     "duration": 0.03495,
     "end_time": "2025-06-21T05:45:58.839000",
     "exception": false,
     "start_time": "2025-06-21T05:45:58.804050",
     "status": "completed"
    },
    "tags": []
   },
   "source": [
    "### **🛠️ 5. Create a new feature: Family** \n",
    "\n",
    "### 🧕🏾 **Evolutionary Psychology Perspective:** \n",
    "\n",
    "  1. **Keen Selection: People help close relatives to enhance the survival of mutually shared genes.**\n",
    "\n",
    "  2. **Applied to Titanic: Based on the idea of Keen Selection, this predicts the prioritization of genetic relatives over non-kin strangers in behaviors.**\n",
    "\n",
    "  3. **I introduce a 'Family' variable to model this survival hierarchy, hypothesizing that individuals would prioritize:** \n",
    "\n",
    "     **(1) immediate family over extended kin**\n",
    "\n",
    "     **(2) younger relatives over the elders**\n",
    "\n",
    "     **(3) kin over non-related passengers**  "
   ]
  },
  {
   "cell_type": "code",
   "execution_count": 42,
   "id": "98d6a61d",
   "metadata": {
    "execution": {
     "iopub.execute_input": "2025-06-21T05:45:58.907168Z",
     "iopub.status.busy": "2025-06-21T05:45:58.906811Z",
     "iopub.status.idle": "2025-06-21T05:45:58.921198Z",
     "shell.execute_reply": "2025-06-21T05:45:58.920054Z"
    },
    "papermill": {
     "duration": 0.050964,
     "end_time": "2025-06-21T05:45:58.923191",
     "exception": false,
     "start_time": "2025-06-21T05:45:58.872227",
     "status": "completed"
    },
    "tags": []
   },
   "outputs": [
    {
     "data": {
      "text/html": [
       "<div>\n",
       "<style scoped>\n",
       "    .dataframe tbody tr th:only-of-type {\n",
       "        vertical-align: middle;\n",
       "    }\n",
       "\n",
       "    .dataframe tbody tr th {\n",
       "        vertical-align: top;\n",
       "    }\n",
       "\n",
       "    .dataframe thead th {\n",
       "        text-align: right;\n",
       "    }\n",
       "</style>\n",
       "<table border=\"1\" class=\"dataframe\">\n",
       "  <thead>\n",
       "    <tr style=\"text-align: right;\">\n",
       "      <th></th>\n",
       "      <th>Name</th>\n",
       "      <th>Pclass</th>\n",
       "      <th>Family</th>\n",
       "      <th>Survived</th>\n",
       "    </tr>\n",
       "  </thead>\n",
       "  <tbody>\n",
       "    <tr>\n",
       "      <th>159</th>\n",
       "      <td>Sage, Master. Thomas Henry</td>\n",
       "      <td>3</td>\n",
       "      <td>11</td>\n",
       "      <td>0</td>\n",
       "    </tr>\n",
       "    <tr>\n",
       "      <th>180</th>\n",
       "      <td>Sage, Miss. Constance Gladys</td>\n",
       "      <td>3</td>\n",
       "      <td>11</td>\n",
       "      <td>0</td>\n",
       "    </tr>\n",
       "    <tr>\n",
       "      <th>201</th>\n",
       "      <td>Sage, Mr. Frederick</td>\n",
       "      <td>3</td>\n",
       "      <td>11</td>\n",
       "      <td>0</td>\n",
       "    </tr>\n",
       "    <tr>\n",
       "      <th>324</th>\n",
       "      <td>Sage, Mr. George John Jr</td>\n",
       "      <td>3</td>\n",
       "      <td>11</td>\n",
       "      <td>0</td>\n",
       "    </tr>\n",
       "    <tr>\n",
       "      <th>792</th>\n",
       "      <td>Sage, Miss. Stella Anna</td>\n",
       "      <td>3</td>\n",
       "      <td>11</td>\n",
       "      <td>0</td>\n",
       "    </tr>\n",
       "    <tr>\n",
       "      <th>846</th>\n",
       "      <td>Sage, Mr. Douglas Bullen</td>\n",
       "      <td>3</td>\n",
       "      <td>11</td>\n",
       "      <td>0</td>\n",
       "    </tr>\n",
       "    <tr>\n",
       "      <th>863</th>\n",
       "      <td>Sage, Miss. Dorothy Edith \"Dolly\"</td>\n",
       "      <td>3</td>\n",
       "      <td>11</td>\n",
       "      <td>0</td>\n",
       "    </tr>\n",
       "  </tbody>\n",
       "</table>\n",
       "</div>"
      ],
      "text/plain": [
       "                                  Name  Pclass  Family  Survived\n",
       "159         Sage, Master. Thomas Henry       3      11         0\n",
       "180       Sage, Miss. Constance Gladys       3      11         0\n",
       "201                Sage, Mr. Frederick       3      11         0\n",
       "324           Sage, Mr. George John Jr       3      11         0\n",
       "792            Sage, Miss. Stella Anna       3      11         0\n",
       "846           Sage, Mr. Douglas Bullen       3      11         0\n",
       "863  Sage, Miss. Dorothy Edith \"Dolly\"       3      11         0"
      ]
     },
     "execution_count": 42,
     "metadata": {},
     "output_type": "execute_result"
    }
   ],
   "source": [
    "df['Family'] = df['SibSp'] + df['Parch'] + 1 \n",
    "\n",
    "most_family = np.where(df['Family'] == max(df['Family'])) \n",
    "df[['Name', 'Pclass', 'Family', 'Survived']].loc[most_family]        "
   ]
  },
  {
   "cell_type": "markdown",
   "id": "d00a1ee8",
   "metadata": {
    "papermill": {
     "duration": 0.033057,
     "end_time": "2025-06-21T05:45:58.991422",
     "exception": false,
     "start_time": "2025-06-21T05:45:58.958365",
     "status": "completed"
    },
    "tags": []
   },
   "source": [
    "### **🛠️ 6. Drop Unwanted Features** "
   ]
  },
  {
   "cell_type": "code",
   "execution_count": 43,
   "id": "7bb145c4",
   "metadata": {
    "execution": {
     "iopub.execute_input": "2025-06-21T05:45:59.059945Z",
     "iopub.status.busy": "2025-06-21T05:45:59.059577Z",
     "iopub.status.idle": "2025-06-21T05:45:59.066081Z",
     "shell.execute_reply": "2025-06-21T05:45:59.064931Z"
    },
    "papermill": {
     "duration": 0.043329,
     "end_time": "2025-06-21T05:45:59.068355",
     "exception": false,
     "start_time": "2025-06-21T05:45:59.025026",
     "status": "completed"
    },
    "tags": []
   },
   "outputs": [],
   "source": [
    "df.drop(['Name','Embarked','Age','Ticket', 'Fare', 'Cabin', 'Embarked', 'Age_pmm', 'Ticket_Prefix','Fare_Range'],\n",
    "        axis=1, inplace=True)       "
   ]
  },
  {
   "cell_type": "markdown",
   "id": "b8c57cfc",
   "metadata": {
    "papermill": {
     "duration": 0.034813,
     "end_time": "2025-06-21T05:45:59.139920",
     "exception": false,
     "start_time": "2025-06-21T05:45:59.105107",
     "status": "completed"
    },
    "tags": []
   },
   "source": [
    "# 🤖   ***Machine Learning***   "
   ]
  },
  {
   "cell_type": "code",
   "execution_count": 44,
   "id": "96dc2efc",
   "metadata": {
    "execution": {
     "iopub.execute_input": "2025-06-21T05:45:59.209912Z",
     "iopub.status.busy": "2025-06-21T05:45:59.209511Z",
     "iopub.status.idle": "2025-06-21T05:45:59.221969Z",
     "shell.execute_reply": "2025-06-21T05:45:59.220801Z"
    },
    "papermill": {
     "duration": 0.048982,
     "end_time": "2025-06-21T05:45:59.223407",
     "exception": false,
     "start_time": "2025-06-21T05:45:59.174425",
     "status": "completed"
    },
    "tags": []
   },
   "outputs": [
    {
     "name": "stdout",
     "output_type": "stream",
     "text": [
      "<class 'pandas.core.frame.DataFrame'>\n",
      "RangeIndex: 891 entries, 0 to 890\n",
      "Data columns (total 14 columns):\n",
      " #   Column                       Non-Null Count  Dtype  \n",
      "---  ------                       --------------  -----  \n",
      " 0   Survived                     891 non-null    int64  \n",
      " 1   Pclass                       891 non-null    int64  \n",
      " 2   Sex                          891 non-null    int64  \n",
      " 3   SibSp                        891 non-null    int64  \n",
      " 4   Parch                        891 non-null    int64  \n",
      " 5   Q                            891 non-null    int64  \n",
      " 6   S                            891 non-null    int64  \n",
      " 7   Age_Band                     891 non-null    int64  \n",
      " 8   Pclass_Prefix_Survival_Rate  891 non-null    float64\n",
      " 9   Ticket_IsNumeric             891 non-null    int64  \n",
      " 10  Ticket_Frequency             891 non-null    int64  \n",
      " 11  Fare_Band                    891 non-null    int64  \n",
      " 12  Has_Cabin                    891 non-null    int64  \n",
      " 13  Family                       891 non-null    int64  \n",
      "dtypes: float64(1), int64(13)\n",
      "memory usage: 97.6 KB\n"
     ]
    }
   ],
   "source": [
    "df.info()   "
   ]
  },
  {
   "cell_type": "code",
   "execution_count": 45,
   "id": "9698b9af",
   "metadata": {
    "execution": {
     "iopub.execute_input": "2025-06-21T05:45:59.291988Z",
     "iopub.status.busy": "2025-06-21T05:45:59.291605Z",
     "iopub.status.idle": "2025-06-21T05:45:59.298509Z",
     "shell.execute_reply": "2025-06-21T05:45:59.297309Z"
    },
    "papermill": {
     "duration": 0.043253,
     "end_time": "2025-06-21T05:45:59.300476",
     "exception": false,
     "start_time": "2025-06-21T05:45:59.257223",
     "status": "completed"
    },
    "tags": []
   },
   "outputs": [
    {
     "data": {
      "text/plain": [
       "Index(['Survived', 'Pclass', 'Sex', 'SibSp', 'Parch', 'Q', 'S', 'Age_Band',\n",
       "       'Pclass_Prefix_Survival_Rate', 'Ticket_IsNumeric', 'Ticket_Frequency',\n",
       "       'Fare_Band', 'Has_Cabin', 'Family'],\n",
       "      dtype='object')"
      ]
     },
     "execution_count": 45,
     "metadata": {},
     "output_type": "execute_result"
    }
   ],
   "source": [
    "df.columns"
   ]
  },
  {
   "cell_type": "markdown",
   "id": "d547adcf",
   "metadata": {
    "papermill": {
     "duration": 0.033879,
     "end_time": "2025-06-21T05:45:59.369134",
     "exception": false,
     "start_time": "2025-06-21T05:45:59.335255",
     "status": "completed"
    },
    "tags": []
   },
   "source": [
    "### 1. 🔍 **Building Models** "
   ]
  },
  {
   "cell_type": "code",
   "execution_count": 46,
   "id": "6a11aeb6",
   "metadata": {
    "execution": {
     "iopub.execute_input": "2025-06-21T05:45:59.440078Z",
     "iopub.status.busy": "2025-06-21T05:45:59.439666Z",
     "iopub.status.idle": "2025-06-21T05:45:59.445603Z",
     "shell.execute_reply": "2025-06-21T05:45:59.444345Z"
    },
    "papermill": {
     "duration": 0.044856,
     "end_time": "2025-06-21T05:45:59.447737",
     "exception": false,
     "start_time": "2025-06-21T05:45:59.402881",
     "status": "completed"
    },
    "tags": []
   },
   "outputs": [],
   "source": [
    "X = df.drop('Survived', axis=1)     \n",
    "y = df['Survived']"
   ]
  },
  {
   "cell_type": "code",
   "execution_count": 47,
   "id": "f4c7235e",
   "metadata": {
    "execution": {
     "iopub.execute_input": "2025-06-21T05:45:59.519133Z",
     "iopub.status.busy": "2025-06-21T05:45:59.518740Z",
     "iopub.status.idle": "2025-06-21T05:45:59.526879Z",
     "shell.execute_reply": "2025-06-21T05:45:59.525418Z"
    },
    "papermill": {
     "duration": 0.044845,
     "end_time": "2025-06-21T05:45:59.528965",
     "exception": false,
     "start_time": "2025-06-21T05:45:59.484120",
     "status": "completed"
    },
    "tags": []
   },
   "outputs": [],
   "source": [
    "X_train, X_test, y_train, y_test = train_test_split( X, y, test_size=0.3, random_state=42)"
   ]
  },
  {
   "cell_type": "code",
   "execution_count": 48,
   "id": "dde44546",
   "metadata": {
    "execution": {
     "iopub.execute_input": "2025-06-21T05:45:59.599378Z",
     "iopub.status.busy": "2025-06-21T05:45:59.598982Z",
     "iopub.status.idle": "2025-06-21T05:45:59.637181Z",
     "shell.execute_reply": "2025-06-21T05:45:59.636072Z"
    },
    "papermill": {
     "duration": 0.0757,
     "end_time": "2025-06-21T05:45:59.639198",
     "exception": false,
     "start_time": "2025-06-21T05:45:59.563498",
     "status": "completed"
    },
    "tags": []
   },
   "outputs": [],
   "source": [
    "# Logistic Regression: \n",
    "\n",
    "log_model = LogisticRegression()   \n",
    "log_model.fit(X_train, y_train) \n",
    "predictions_log = log_model.predict(X_test) "
   ]
  },
  {
   "cell_type": "code",
   "execution_count": 49,
   "id": "3a8344ca",
   "metadata": {
    "execution": {
     "iopub.execute_input": "2025-06-21T05:45:59.709700Z",
     "iopub.status.busy": "2025-06-21T05:45:59.709262Z",
     "iopub.status.idle": "2025-06-21T05:45:59.737001Z",
     "shell.execute_reply": "2025-06-21T05:45:59.735478Z"
    },
    "papermill": {
     "duration": 0.065113,
     "end_time": "2025-06-21T05:45:59.739066",
     "exception": false,
     "start_time": "2025-06-21T05:45:59.673953",
     "status": "completed"
    },
    "tags": []
   },
   "outputs": [],
   "source": [
    "# K-Nearest Neighbours:\n",
    "\n",
    "knn_model=KNeighborsClassifier()  \n",
    "knn_model.fit(X_train, y_train)\n",
    "predictions_knn = knn_model.predict(X_test)   "
   ]
  },
  {
   "cell_type": "code",
   "execution_count": 50,
   "id": "b0acf301",
   "metadata": {
    "execution": {
     "iopub.execute_input": "2025-06-21T05:45:59.813261Z",
     "iopub.status.busy": "2025-06-21T05:45:59.812759Z",
     "iopub.status.idle": "2025-06-21T05:46:00.006495Z",
     "shell.execute_reply": "2025-06-21T05:46:00.005069Z"
    },
    "papermill": {
     "duration": 0.230932,
     "end_time": "2025-06-21T05:46:00.008619",
     "exception": false,
     "start_time": "2025-06-21T05:45:59.777687",
     "status": "completed"
    },
    "tags": []
   },
   "outputs": [],
   "source": [
    "# Random Forest: \n",
    "\n",
    "rfc = RandomForestClassifier(class_weight='balanced',\n",
    "                             n_estimators=100,\n",
    "                             random_state=42)   \n",
    "rfc.fit(X_train, y_train) \n",
    "predictions_rfc = rfc.predict(X_test)  "
   ]
  },
  {
   "cell_type": "markdown",
   "id": "9da38257",
   "metadata": {
    "papermill": {
     "duration": 0.034337,
     "end_time": "2025-06-21T05:46:00.077217",
     "exception": false,
     "start_time": "2025-06-21T05:46:00.042880",
     "status": "completed"
    },
    "tags": []
   },
   "source": [
    "### 2. 🔍 **Evaluation**"
   ]
  },
  {
   "cell_type": "code",
   "execution_count": 51,
   "id": "07911c35",
   "metadata": {
    "execution": {
     "iopub.execute_input": "2025-06-21T05:46:00.147670Z",
     "iopub.status.busy": "2025-06-21T05:46:00.147220Z",
     "iopub.status.idle": "2025-06-21T05:46:00.184568Z",
     "shell.execute_reply": "2025-06-21T05:46:00.183161Z"
    },
    "papermill": {
     "duration": 0.075121,
     "end_time": "2025-06-21T05:46:00.186655",
     "exception": false,
     "start_time": "2025-06-21T05:46:00.111534",
     "status": "completed"
    },
    "tags": []
   },
   "outputs": [
    {
     "name": "stdout",
     "output_type": "stream",
     "text": [
      "\n",
      "Logistic Regression Report:\n",
      " [[137  20]\n",
      " [ 27  84]] \n",
      "               precision    recall  f1-score   support\n",
      "\n",
      "           0       0.84      0.87      0.85       157\n",
      "           1       0.81      0.76      0.78       111\n",
      "\n",
      "    accuracy                           0.82       268\n",
      "   macro avg       0.82      0.81      0.82       268\n",
      "weighted avg       0.82      0.82      0.82       268\n",
      "\n",
      "\n",
      " K-Nearest Neighbours :\n",
      " [[140  17]\n",
      " [ 39  72]] \n",
      "               precision    recall  f1-score   support\n",
      "\n",
      "           0       0.78      0.89      0.83       157\n",
      "           1       0.81      0.65      0.72       111\n",
      "\n",
      "    accuracy                           0.79       268\n",
      "   macro avg       0.80      0.77      0.78       268\n",
      "weighted avg       0.79      0.79      0.79       268\n",
      "\n",
      "\n",
      "Random Forest Report:\n",
      " [[133  24]\n",
      " [ 31  80]] \n",
      "               precision    recall  f1-score   support\n",
      "\n",
      "           0       0.81      0.85      0.83       157\n",
      "           1       0.77      0.72      0.74       111\n",
      "\n",
      "    accuracy                           0.79       268\n",
      "   macro avg       0.79      0.78      0.79       268\n",
      "weighted avg       0.79      0.79      0.79       268\n",
      "\n"
     ]
    }
   ],
   "source": [
    "print(\"\\nLogistic Regression Report:\\n\", confusion_matrix(y_test, predictions_log), '\\n', classification_report(y_test, predictions_log))\n",
    "print(\"\\n K-Nearest Neighbours :\\n\", confusion_matrix(y_test, predictions_knn),'\\n',  classification_report(y_test,predictions_knn)) \n",
    "print(\"\\nRandom Forest Report:\\n\", confusion_matrix(y_test, predictions_rfc),'\\n',  classification_report(y_test, predictions_rfc)) "
   ]
  },
  {
   "cell_type": "markdown",
   "id": "bb98a1de",
   "metadata": {
    "papermill": {
     "duration": 0.033444,
     "end_time": "2025-06-21T05:46:00.255378",
     "exception": false,
     "start_time": "2025-06-21T05:46:00.221934",
     "status": "completed"
    },
    "tags": []
   },
   "source": [
    "### 3. 🔍 **k-Fold Cross Validation**"
   ]
  },
  {
   "cell_type": "code",
   "execution_count": 52,
   "id": "d4c4efb7",
   "metadata": {
    "execution": {
     "iopub.execute_input": "2025-06-21T05:46:00.324913Z",
     "iopub.status.busy": "2025-06-21T05:46:00.324552Z",
     "iopub.status.idle": "2025-06-21T05:46:02.851229Z",
     "shell.execute_reply": "2025-06-21T05:46:02.850091Z"
    },
    "papermill": {
     "duration": 2.564065,
     "end_time": "2025-06-21T05:46:02.853383",
     "exception": false,
     "start_time": "2025-06-21T05:46:00.289318",
     "status": "completed"
    },
    "tags": []
   },
   "outputs": [
    {
     "data": {
      "text/html": [
       "<div>\n",
       "<style scoped>\n",
       "    .dataframe tbody tr th:only-of-type {\n",
       "        vertical-align: middle;\n",
       "    }\n",
       "\n",
       "    .dataframe tbody tr th {\n",
       "        vertical-align: top;\n",
       "    }\n",
       "\n",
       "    .dataframe thead th {\n",
       "        text-align: right;\n",
       "    }\n",
       "</style>\n",
       "<table border=\"1\" class=\"dataframe\">\n",
       "  <thead>\n",
       "    <tr style=\"text-align: right;\">\n",
       "      <th></th>\n",
       "      <th>CV Mean</th>\n",
       "      <th>Std</th>\n",
       "    </tr>\n",
       "  </thead>\n",
       "  <tbody>\n",
       "    <tr>\n",
       "      <th>Logistic Regression</th>\n",
       "      <td>0.808015</td>\n",
       "      <td>0.051768</td>\n",
       "    </tr>\n",
       "    <tr>\n",
       "      <th>K-Nearest Neighbours</th>\n",
       "      <td>0.808090</td>\n",
       "      <td>0.042723</td>\n",
       "    </tr>\n",
       "    <tr>\n",
       "      <th>Random Forest</th>\n",
       "      <td>0.813633</td>\n",
       "      <td>0.053609</td>\n",
       "    </tr>\n",
       "  </tbody>\n",
       "</table>\n",
       "</div>"
      ],
      "text/plain": [
       "                       CV Mean       Std\n",
       "Logistic Regression   0.808015  0.051768\n",
       "K-Nearest Neighbours  0.808090  0.042723\n",
       "Random Forest         0.813633  0.053609"
      ]
     },
     "execution_count": 52,
     "metadata": {},
     "output_type": "execute_result"
    }
   ],
   "source": [
    "from sklearn.model_selection import KFold \n",
    "from sklearn.model_selection import cross_val_score \n",
    "from sklearn.model_selection import cross_val_predict\n",
    "\n",
    "kfold = KFold(n_splits=10, random_state=42, shuffle=True) # k=10, split the data into 10 equal parts \n",
    "cross_val_mean=[] \n",
    "std=[]\n",
    "accuracy=[]\n",
    "\n",
    "classifiers=['Logistic Regression','K-Nearest Neighbours','Random Forest'] \n",
    "models=[LogisticRegression(),\n",
    "        KNeighborsClassifier(), \n",
    "        RandomForestClassifier(class_weight='balanced',n_estimators=100)] \n",
    "\n",
    "for i in models:\n",
    "    model = i\n",
    "    cv_result = cross_val_score(model,X,y, cv = kfold,scoring = \"accuracy\") \n",
    "    cv_result=cv_result  \n",
    "    cross_val_mean.append(cv_result.mean())\n",
    "    std.append(cv_result.std())\n",
    "    accuracy.append(cv_result) \n",
    "    \n",
    "models_df=pd.DataFrame({'CV Mean':cross_val_mean,\n",
    "                        'Std':std},\n",
    "                        index=classifiers)   \n",
    "\n",
    "models_df "
   ]
  },
  {
   "cell_type": "markdown",
   "id": "bea8fac0",
   "metadata": {
    "papermill": {
     "duration": 0.035773,
     "end_time": "2025-06-21T05:46:02.926097",
     "exception": false,
     "start_time": "2025-06-21T05:46:02.890324",
     "status": "completed"
    },
    "tags": []
   },
   "source": [
    "### **💡 Thanks a Lot:** \n",
    "\n",
    "* **PANNMIE’s Notebook: Provided critical insights on handling missing data that transformed my approach to data preprocessing.**\n",
    "\n",
    "* **Ashwini Swain’s Notebook: For masterful demonstrations of binning techniques, advanced data visualization, and cross-validation, which became foundational to my analysis.** \n",
    "\n",
    "* **Khalil & Boltzmann: Whose lights continue to illuminate my path.** "
   ]
  }
 ],
 "metadata": {
  "kaggle": {
   "accelerator": "none",
   "dataSources": [
    {
     "datasetId": 7093056,
     "sourceId": 11338283,
     "sourceType": "datasetVersion"
    }
   ],
   "dockerImageVersionId": 30918,
   "isGpuEnabled": false,
   "isInternetEnabled": true,
   "language": "python",
   "sourceType": "notebook"
  },
  "kernelspec": {
   "display_name": "Python 3",
   "language": "python",
   "name": "python3"
  },
  "language_info": {
   "codemirror_mode": {
    "name": "ipython",
    "version": 3
   },
   "file_extension": ".py",
   "mimetype": "text/x-python",
   "name": "python",
   "nbconvert_exporter": "python",
   "pygments_lexer": "ipython3",
   "version": "3.10.12"
  },
  "papermill": {
   "default_parameters": {},
   "duration": 31.875711,
   "end_time": "2025-06-21T05:46:03.987783",
   "environment_variables": {},
   "exception": null,
   "input_path": "__notebook__.ipynb",
   "output_path": "__notebook__.ipynb",
   "parameters": {},
   "start_time": "2025-06-21T05:45:32.112072",
   "version": "2.6.0"
  }
 },
 "nbformat": 4,
 "nbformat_minor": 5
}
